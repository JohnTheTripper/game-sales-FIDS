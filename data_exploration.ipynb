{
 "cells": [
  {
   "cell_type": "markdown",
   "metadata": {},
   "source": [
    "# Load Data"
   ]
  },
  {
   "cell_type": "code",
   "execution_count": 15,
   "metadata": {},
   "outputs": [],
   "source": [
    "import pandas as pd\n",
    "import numpy as np\n",
    "from matplotlib import pyplot as plt\n",
    "%matplotlib inline\n",
    "import seaborn as sns\n",
    "import calendar\n",
    "import scipy.stats as stats\n",
    "pd.set_option('display.max_columns', None)"
   ]
  },
  {
   "cell_type": "code",
   "execution_count": 2,
   "metadata": {},
   "outputs": [],
   "source": [
    "sales_df = pd.read_csv('/Users/timlee/Desktop/ds021720/game-sales-FIDS/downloads/games_clean_df.csv')"
   ]
  },
  {
   "cell_type": "code",
   "execution_count": 3,
   "metadata": {},
   "outputs": [
    {
     "data": {
      "text/plain": [
       "(6242, 16)"
      ]
     },
     "execution_count": 3,
     "metadata": {},
     "output_type": "execute_result"
    }
   ],
   "source": [
    "sales_df.shape"
   ]
  },
  {
   "cell_type": "code",
   "execution_count": 161,
   "metadata": {},
   "outputs": [
    {
     "data": {
      "text/plain": [
       "2008.035405318808"
      ]
     },
     "execution_count": 161,
     "metadata": {},
     "output_type": "execute_result"
    }
   ],
   "source": [
    "np.array(sales_df.Year).mean()"
   ]
  },
  {
   "cell_type": "code",
   "execution_count": 4,
   "metadata": {
    "scrolled": true
   },
   "outputs": [
    {
     "name": "stdout",
     "output_type": "stream",
     "text": [
      "6242\n",
      "5824\n",
      "5699\n",
      "1929\n",
      "6141\n"
     ]
    }
   ],
   "source": [
    "print(sum(sales_df['Global_Sales'].notnull()))\n",
    "print(sum(sales_df['NA_Sales'].notnull()))\n",
    "print(sum(sales_df['PAL_Sales'].notnull()))\n",
    "print(sum(sales_df['JP_Sales'].notnull()))\n",
    "print(sum(sales_df['Other_Sales'].notnull()))"
   ]
  },
  {
   "cell_type": "code",
   "execution_count": null,
   "metadata": {},
   "outputs": [],
   "source": [
    "# PS - PS2 - PS3 - PS4\n",
    "# XBOX - X360 - XONE\n",
    "# N64 - GC - WII - WIIU - Switch\n",
    "# GBA - DS - 3DS\n",
    "# PSP - VITA\n",
    "# Orphans: DC, PC"
   ]
  },
  {
   "cell_type": "markdown",
   "metadata": {},
   "source": [
    "# Add Own Data and Shape Dates"
   ]
  },
  {
   "cell_type": "code",
   "execution_count": 5,
   "metadata": {},
   "outputs": [],
   "source": [
    "consoles = {\n",
    "    'N64': {'Family': 'Nintendo', 'Launch': 285, 'Successor': 'GC'},\n",
    "    'GC': {'Family': 'Nintendo', 'Launch': 222, 'Successor': 'WII'},\n",
    "    'WII': {'Family': 'Nintendo', 'Launch': 160, 'Successor': 'WIIU'},\n",
    "    'WIIU': {'Family': 'Nintendo', 'Launch': 88, 'Successor': 'Switch'},\n",
    "    'Switch': {'Family': 'Nintendo', 'Launch': 36, 'Successor': 'current'},\n",
    "    'PS': {'Family': 'Sony', 'Launch': 303, 'Successor': 'PS2'},\n",
    "    'PS2': {'Family': 'Sony', 'Launch': 240, 'Successor': 'PS3'},\n",
    "    'PS3': {'Family': 'Sony', 'Launch': 160, 'Successor': 'PS4'},\n",
    "    'PS4': {'Family': 'Sony', 'Launch': 77, 'Successor': 'PS5'},\n",
    "    'PS5': {'Family': 'Sony', 'Launch': -7, 'Successor': 'current'},\n",
    "    'XBOX': {'Family': 'Microsoft', 'Launch': 220, 'Successor': 'X360'},\n",
    "    'X360': {'Family': 'Microsoft', 'Launch': 172, 'Successor': 'XONE'},\n",
    "    'XONE': {'Family': 'Microsoft', 'Launch': 77, 'Successor': 'XBS'},\n",
    "    'XBS': {'Family': 'Microsoft', 'Launch': -7, 'Successor': 'current'},\n",
    "    'GBA': {'Family': 'Nintendo_Handheld', 'Launch': 228, 'Successor': 'DS'},\n",
    "    'DS': {'Family': 'Nintendo_Handheld', 'Launch': 184, 'Successor': '3DS'},\n",
    "    '3DS': {'Family': 'Nintendo_Handheld', 'Launch': 109, 'Successor': 'current'},\n",
    "    'PSP': {'Family': 'Sony_Handheld', 'Launch': 183, 'Successor': 'VITA'},\n",
    "    'VITA': {'Family': 'Sony_Handheld', 'Launch': 99, 'Successor': 'current'},\n",
    "    'DC': {'Family': 'Sega', 'Launch': 256, 'Successor': 'current'},\n",
    "    'PC': {'Family': 'PC', 'Launch': 0, 'Successor': 'current'},\n",
    "}"
   ]
  },
  {
   "cell_type": "code",
   "execution_count": 6,
   "metadata": {},
   "outputs": [],
   "source": [
    "# Modification for dates and building timeline of \"months ago\"\n",
    "\n",
    "# new column for years ago\n",
    "sales_df['years_ago'] = 2020 - sales_df['date'].str[-4:].astype(int)\n",
    "\n",
    "# take first 3 characters of date for month abbreviation\n",
    "sales_df['month_abbrev'] = sales_df['date'].str[:3]\n",
    "\n",
    "\n",
    "def month_numerize(abbrev):\n",
    "    for k, v in enumerate(calendar.month_abbr):\n",
    "        if abbrev == v:\n",
    "            return k\n",
    "        \n",
    "# column for numerical representations of month (Jan is 01, Feb is 02, etc.)\n",
    "sales_df['month_num'] = sales_df['month_abbrev'].apply(month_numerize)\n",
    "\n",
    "# months ago from April 2020\n",
    "sales_df['months_ago'] = (sales_df['years_ago'] * 12) + (12 - sales_df['month_num']) + 4 - 12\n",
    "\n",
    "# dummy categories for months, haven't put this into the dataframe yet\n",
    "month_dummies = pd.get_dummies(sales_df['month_abbrev'], drop_first=True)"
   ]
  },
  {
   "cell_type": "code",
   "execution_count": 7,
   "metadata": {},
   "outputs": [],
   "source": [
    "# return a percentage of when a game was released in a console's lifespan\n",
    "\n",
    "# GTAV (PS3) was released right before the PS4 launched, so it has a 98% value\n",
    "# God of War 2 (PS2) was released after the PS3 launched, so it has a value over 100%\n",
    "# (game_release - console_launch) / (console_launch - successor_launch)\n",
    "def generation_lifespan(console, months_ago):\n",
    "    successor = consoles[console]['Successor']\n",
    "    if successor == 'current':\n",
    "        return successor\n",
    "    else:\n",
    "        successor_launch = consoles[successor]['Launch']\n",
    "        console_launch = consoles[console]['Launch']\n",
    "        return abs((months_ago - console_launch) / (console_launch - successor_launch))"
   ]
  },
  {
   "cell_type": "code",
   "execution_count": 13,
   "metadata": {
    "scrolled": true
   },
   "outputs": [
    {
     "data": {
      "text/plain": [
       "0.14285714285714285"
      ]
     },
     "execution_count": 13,
     "metadata": {},
     "output_type": "execute_result"
    }
   ],
   "source": [
    "# testing of generation_lifespan function\n",
    "test_console = 'PS4'\n",
    "test_months_ago = 65\n",
    "generation_lifespan(test_console, test_months_ago)"
   ]
  },
  {
   "cell_type": "code",
   "execution_count": 8,
   "metadata": {
    "scrolled": true
   },
   "outputs": [],
   "source": [
    "# create new column for generation_lifespan\n",
    "sales_df['generation_lifespan'] = sales_df.apply(lambda x: generation_lifespan(x['Platform'], x['months_ago']), axis=1)"
   ]
  },
  {
   "cell_type": "code",
   "execution_count": 22,
   "metadata": {},
   "outputs": [],
   "source": [
    "console_family = {\n",
    "    'Nintendo' : ['N64', 'GC', 'WII', 'WIIU', 'Switch'],\n",
    "    'Sony' : ['PS', 'PS2', 'PS3', 'PS4'],\n",
    "    'Microsoft' : ['XBOX', 'X360', 'XONE'],\n",
    "    'Nintendo_Handheld' : ['GBA', 'DS', '3DS'],\n",
    "    'Sony_Handheld' : ['PSP', 'VITA'],\n",
    "    'Sega' : ['DC'],\n",
    "    'PC' : ['PC']\n",
    "}"
   ]
  },
  {
   "cell_type": "code",
   "execution_count": 12,
   "metadata": {
    "scrolled": true
   },
   "outputs": [
    {
     "data": {
      "text/plain": [
       "PS2       1041\n",
       "X360       753\n",
       "PS3        653\n",
       "XBOX       540\n",
       "PC         490\n",
       "PS4        400\n",
       "WII        394\n",
       "DS         388\n",
       "PSP        343\n",
       "GC         312\n",
       "XONE       236\n",
       "GBA        215\n",
       "3DS        146\n",
       "Switch      95\n",
       "VITA        85\n",
       "PS          78\n",
       "WIIU        44\n",
       "N64         17\n",
       "DC          12\n",
       "Name: Platform, dtype: int64"
      ]
     },
     "execution_count": 12,
     "metadata": {},
     "output_type": "execute_result"
    }
   ],
   "source": [
    "# PS - PS2 - PS3 - PS4\n",
    "# XBOX - X360 - XONE\n",
    "# N64 - GC - WII - WIIU - Switch\n",
    "# GBA - DS - 3DS\n",
    "# PSP - VITA\n",
    "# Orphans: DC, PC\n",
    "sales_df.Platform.value_counts()"
   ]
  },
  {
   "cell_type": "code",
   "execution_count": 11,
   "metadata": {},
   "outputs": [],
   "source": [
    "# we lack any sort of \"epoch\", or reference date to start counting months\n",
    "# so we'll count backwards from April 1 2020\n",
    "\n",
    "# \"months ago\" calculation performed at:\n",
    "# https://www.timeanddate.com/date/durationresult.html\n",
    "# set \"State Date\" to the Release date (game) or Launch date (console)\n",
    "# set \"End Date\" to April 1 2020\n",
    "# record ~months ago~, and discard any additional days\n",
    "\n",
    "# Switch launch in March 2017, 36 months ago\n",
    "# PS4 launch in November 2013, 77 months ago\n",
    "# XONE launch in November 2013, 77 months ago\n",
    "# Wii U launch in November 2012, 88 months ago\n",
    "# VITA launch in December 2011, 99 months ago\n",
    "# 3DS launch in February 2011, 109 months ago\n",
    "# PS3 launch in November 2006, 160 months ago\n",
    "# Wii launch in November 2006, 160 months ago\n",
    "# X360 launch in November 2005, 172 months ago\n",
    "# PSP launch in December 2004, 183 months ago\n",
    "# NDS launch in November 2004, 184 months ago\n",
    "# XBOX launch in November 2001, 220 months ago\n",
    "# GC launch in September 2001, 222 months ago\n",
    "# GBA launch in March 2001, 228 months ago\n",
    "# PS2 launch in March 2000, 240 months ago\n",
    "# DC launch in November 1998, 256 months ago\n",
    "# N64 launch in June 1996, 285 months ago\n",
    "# PS1 launch in December 1994, 303 months ago\n"
   ]
  },
  {
   "cell_type": "code",
   "execution_count": 21,
   "metadata": {
    "scrolled": true
   },
   "outputs": [
    {
     "data": {
      "text/plain": [
       "79"
      ]
     },
     "execution_count": 21,
     "metadata": {},
     "output_type": "execute_result"
    }
   ],
   "source": [
    "#testing for months_ago\n",
    "test_years_ago = 7\n",
    "test_month = 9\n",
    "(test_years_ago * 12) + (12 - test_month) + 4 - 12"
   ]
  },
  {
   "cell_type": "markdown",
   "metadata": {},
   "source": [
    "# DataFrame only containing games in a console generation"
   ]
  },
  {
   "cell_type": "code",
   "execution_count": 10,
   "metadata": {},
   "outputs": [],
   "source": [
    "generation_df = sales_df[sales_df.generation_lifespan != 'current']"
   ]
  },
  {
   "cell_type": "code",
   "execution_count": 73,
   "metadata": {},
   "outputs": [
    {
     "data": {
      "text/plain": [
       "(5414, 21)"
      ]
     },
     "execution_count": 73,
     "metadata": {},
     "output_type": "execute_result"
    }
   ],
   "source": [
    "generation_df.shape"
   ]
  },
  {
   "cell_type": "markdown",
   "metadata": {},
   "source": [
    "# Hypothesis Testing: Games Released in Relation to a Console's Lifespan"
   ]
  },
  {
   "cell_type": "markdown",
   "metadata": {},
   "source": [
    "We'll be examining the sales of games and any possible correlation with their corresponding console's lifespan. \n",
    "For the following hypothesis testing, we will be using this function to conduct two-sample independent t-tests and print various statistics."
   ]
  },
  {
   "cell_type": "code",
   "execution_count": 149,
   "metadata": {
    "scrolled": true
   },
   "outputs": [],
   "source": [
    "def conduct_2samp_t(experiment, control):\n",
    "    test_statistic, p_value = stats.ttest_ind(experiment, control)\n",
    "    print('There are ' + str(len(experiment)) + ' data points in the experimental group.')\n",
    "    print('There are ' + str(len(control)) + ' data points in the control group.')\n",
    "    print('The experimental mean is: ' + str(round(experiment.mean(), 4)))\n",
    "    print('The control mean is: ' + str(round(control.mean(), 4)))\n",
    "    print('The t-statistic is: ' + str(round(test_statistic.mean(), 4)))\n",
    "    print('The p-value is: ' + str(round(p_value.mean(), 4)))"
   ]
  },
  {
   "cell_type": "markdown",
   "metadata": {},
   "source": [
    "We were able to detect a signfigant difference in sales when considering games that were launched on a console after that console's successor had launched. For example, releasing a PS2 game after the PS3 was launched.\n",
    "\n",
    "We were able to **reject** the null hypothesis and **support** the alternative hypothesis:\n",
    "\n",
    "**H0**: Releasing a game on a console whose successor has launched does not have an effect on sales\n",
    "\n",
    "**H1**: Releasing a game on a console whose successor has launched has an effect on sales"
   ]
  },
  {
   "cell_type": "code",
   "execution_count": 142,
   "metadata": {
    "scrolled": true
   },
   "outputs": [
    {
     "name": "stdout",
     "output_type": "stream",
     "text": [
      "Results for the t-test on games released for a console in the first 10% of the console's lifespan\n",
      "These games are sometimes called 'launch titles'\n",
      "\n",
      "There are 361 data points in observation\n",
      "There are 5053 data points in control\n",
      "The observation mean is: 0.6401\n",
      "The control mean is: 0.7035\n",
      "The t-statistic is: -0.9031\n",
      "The p-value is: 0.3665\n"
     ]
    }
   ],
   "source": [
    "print(\"Results for the t-test on games released for a console in the first 10% of the console's lifespan\")\n",
    "print(\"These games are sometimes called 'launch titles'\\n\")\n",
    "\n",
    "released_in_first_10 = np.array(generation_df[(generation_df.generation_lifespan >= 0) & (generation_df.generation_lifespan < .1)].Global_Sales)\n",
    "control = np.array(generation_df[generation_df.generation_lifespan >= .1].Global_Sales)\n",
    "conduct_2samp_t(released_in_first_10, control)"
   ]
  },
  {
   "cell_type": "code",
   "execution_count": 150,
   "metadata": {
    "scrolled": false
   },
   "outputs": [
    {
     "name": "stdout",
     "output_type": "stream",
     "text": [
      "Results for the t-test on games released for a console after the console's successor was launched\n",
      "In other words, releasing a game on an obsolete console, like a PS2 game released after the PS3 launched\n",
      "\n",
      "There are 331 data points in the experimental group.\n",
      "There are 5083 data points in the control group.\n",
      "The experimental mean is: 0.5605\n",
      "The control mean is: 0.7083\n",
      "The t-statistic is: -2.0226\n",
      "The p-value is: 0.0432\n"
     ]
    }
   ],
   "source": [
    "print(\"Results for the t-test on games released for a console after the console's successor was launched\")\n",
    "print(\"In other words, releasing a game on an obsolete console, like a PS2 game released after the PS3 launched\\n\")\n",
    "\n",
    "released_in_next_gen = np.array(generation_df[generation_df.generation_lifespan >= 1].Global_Sales)\n",
    "control = np.array(generation_df[generation_df.generation_lifespan < 1].Global_Sales)\n",
    "conduct_2samp_t(released_in_next_gen, control)"
   ]
  },
  {
   "cell_type": "markdown",
   "metadata": {},
   "source": [
    "## Launch Titles and Swan Songs"
   ]
  },
  {
   "cell_type": "markdown",
   "metadata": {},
   "source": [
    "We conducted additional testing to seek significant differences in sales among groups of games released near the beginning or end of a console's lifespan, specifically shortly after a console's launch or right before the console's successor's launch.\n",
    "\n",
    "We were unable to reject the null hypothesis for any of these situations.\n",
    "\n",
    "**H0**: Releasing a game on a console at the (beginning or end) of a console's lifespan has no effect on sales\n",
    "\n",
    "**H1**: Releasing a game on a console at the (beginning or end) of a console's lifespan has an effect on sales"
   ]
  },
  {
   "cell_type": "markdown",
   "metadata": {},
   "source": [
    "### Launch Titles"
   ]
  },
  {
   "cell_type": "code",
   "execution_count": 143,
   "metadata": {
    "scrolled": true
   },
   "outputs": [
    {
     "name": "stdout",
     "output_type": "stream",
     "text": [
      "Results for the t-test on games released for a console in the first 20% of the console's lifespan\n",
      "These are again launch titles, but with a less-stringent requirement\n",
      "\n",
      "There are 805 data points in observation\n",
      "There are 4575 data points in control\n",
      "The observation mean is: 0.6851\n",
      "The control mean is: 0.6992\n",
      "The t-statistic is: -0.2868\n",
      "The p-value is: 0.7743\n"
     ]
    }
   ],
   "source": [
    "print(\"Results for the t-test on games released for a console in the first 20% of the console's lifespan\")\n",
    "print(\"These are again launch titles, but with a less-stringent requirement\\n\")\n",
    "\n",
    "released_in_first_20 = np.array(generation_df[(generation_df.generation_lifespan > 0) & (generation_df.generation_lifespan < .2)].Global_Sales)\n",
    "control = np.array(generation_df[generation_df.generation_lifespan >= .2].Global_Sales)\n",
    "\n",
    "conduct_2samp_t(released_in_first_20, control)"
   ]
  },
  {
   "cell_type": "markdown",
   "metadata": {},
   "source": [
    "### Swan Songs"
   ]
  },
  {
   "cell_type": "code",
   "execution_count": 156,
   "metadata": {
    "scrolled": false
   },
   "outputs": [
    {
     "name": "stdout",
     "output_type": "stream",
     "text": [
      "Results for the t-test on games released for a console in the final 10% of the console's lifespan\n",
      "In simpler terms, a game released on a console right before the console's successor was launched\n",
      "\n",
      "There are 288 data points in the experimental group.\n",
      "There are 5126 data points in the control group.\n",
      "The experimental mean is: 0.7899\n",
      "The control mean is: 0.6942\n",
      "The t-statistic is: 1.2274\n",
      "The p-value is: 0.2197\n"
     ]
    }
   ],
   "source": [
    "print(\"Results for the t-test on games released for a console in the final 10% of the console's lifespan\")\n",
    "print(\"In simpler terms, a game released on a console right before the console's successor was launched\\n\")\n",
    "released_in_final_90 = np.array(generation_df[(generation_df.generation_lifespan >= .9) & (generation_df.generation_lifespan < 1)].Global_Sales)\n",
    "control = np.array(generation_df[(generation_df.generation_lifespan < .9) | (generation_df.generation_lifespan >= 1)].Global_Sales)\n",
    "conduct_2samp_t(released_in_final_90, control)"
   ]
  },
  {
   "cell_type": "code",
   "execution_count": 157,
   "metadata": {},
   "outputs": [
    {
     "name": "stdout",
     "output_type": "stream",
     "text": [
      "Results for the t-test on games released for a console in the final 20% of the console's lifespan\n",
      "Again, this deals with a game released on a console right before the console's successor was launched\n",
      "\n",
      "There are 651 data points in the experimental group.\n",
      "There are 4763 data points in the control group.\n",
      "The experimental mean is: 0.7562\n",
      "The control mean is: 0.6915\n",
      "The t-statistic is: 1.2027\n",
      "The p-value is: 0.2291\n"
     ]
    }
   ],
   "source": [
    "print(\"Results for the t-test on games released for a console in the final 20% of the console's lifespan\")\n",
    "print(\"Again, this deals with a game released on a console right before the console's successor was launched\\n\")\n",
    "released_in_final_80 = np.array(generation_df[(generation_df.generation_lifespan >= .8) & (generation_df.generation_lifespan < 1)].Global_Sales)\n",
    "control = np.array(generation_df[(generation_df.generation_lifespan < .8) | (generation_df.generation_lifespan >= 1)].Global_Sales)\n",
    "\n",
    "conduct_2samp_t(released_in_final_80, control)"
   ]
  },
  {
   "cell_type": "markdown",
   "metadata": {},
   "source": [
    "# Hypothesis Testing: Games Re-released on a Successor Platform"
   ]
  },
  {
   "cell_type": "markdown",
   "metadata": {},
   "source": [
    "When examining games that were released toward the end of a console's lifespan, we found many games were launched near the end of a console's lifespan, then re-released on the console's successor.\n",
    "\n",
    "We decided to track these 131 games' sales on the predecessor platform and the successor platform. With two data points per re-released game, we're able to conduct a two sample paired t-test.\n",
    "\n",
    "We were able to **reject** the null hypothesis and **support** the alternative hypothesis:\n",
    "\n",
    "**H0**: A game released on two consoles, one a predecessor and one a successor, will have equal sales for each release\n",
    "\n",
    "**H1**: A game released on two consoles, one a predecessor and one a successor, will NOT have equal sales for each release"
   ]
  },
  {
   "cell_type": "code",
   "execution_count": 155,
   "metadata": {},
   "outputs": [],
   "source": [
    "predecessor_sales = []\n",
    "successor_sales = []\n",
    "rereleased_games = []\n",
    "\n",
    "for index, row in sales_df.iterrows():\n",
    "    game = row['Name']\n",
    "    platform = row['Platform']\n",
    "\n",
    "    successor = consoles[platform]['Successor']\n",
    "    if successor !='current':\n",
    "        predecessor_sale = (sales_df[(sales_df.Name == game) & (sales_df.Platform == platform)]).iloc[0]['Global_Sales']\n",
    "        try:\n",
    "            successor_sale = (sales_df[(sales_df.Name == game) & (sales_df.Platform == successor)]).iloc[0]['Global_Sales']\n",
    "            predecessor_sales.append(predecessor_sale)\n",
    "            successor_sales.append(successor_sale)\n",
    "            rereleased_games.append(game)\n",
    "        except IndexError:\n",
    "            pass\n",
    "\n",
    "predecessor_sales = np.array(predecessor_sales)\n",
    "successor_sales = np.array(successor_sales)"
   ]
  },
  {
   "cell_type": "code",
   "execution_count": 121,
   "metadata": {
    "scrolled": true
   },
   "outputs": [
    {
     "name": "stdout",
     "output_type": "stream",
     "text": [
      "There are 131 data points in predecessor.\n",
      "There are 131 data points in successor.\n",
      "The mean of predecessor sales is: 1.533\n",
      "The mean of successor sales is: 1.005\n",
      "The t-statistic is: 3.874\n",
      "The p-value is: 0.00017\n"
     ]
    }
   ],
   "source": [
    "test_statistic, p_value = stats.ttest_rel(predecessor_sales, successor_sales)\n",
    "print('There are ' + str(len(predecessor_sales)) + ' data points in predecessor.')\n",
    "print('There are ' + str(len(successor_sales)) + ' data points in successor.')\n",
    "print('The mean of predecessor sales is: ' + str(round(predecessor_sales.mean(), 3)))\n",
    "print('The mean of successor sales is: ' + str(round(successor_sales.mean(), 3)))\n",
    "print('The t-statistic is: ' + str(round(test_statistic.mean(), 3)))\n",
    "print('The p-value is: ' + str(round(p_value.mean(), 5)))"
   ]
  }
 ],
 "metadata": {
  "kernelspec": {
   "display_name": "Python 3",
   "language": "python",
   "name": "python3"
  },
  "language_info": {
   "codemirror_mode": {
    "name": "ipython",
    "version": 3
   },
   "file_extension": ".py",
   "mimetype": "text/x-python",
   "name": "python",
   "nbconvert_exporter": "python",
   "pygments_lexer": "ipython3",
   "version": "3.7.4"
  }
 },
 "nbformat": 4,
 "nbformat_minor": 2
}
