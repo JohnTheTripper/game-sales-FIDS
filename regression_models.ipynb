{
 "cells": [
  {
   "cell_type": "markdown",
   "metadata": {},
   "source": [
    "# Multiple Linear Regression"
   ]
  },
  {
   "cell_type": "markdown",
   "metadata": {},
   "source": [
    "## Import the relevant libraries"
   ]
  },
  {
   "cell_type": "code",
   "execution_count": 76,
   "metadata": {},
   "outputs": [],
   "source": [
    "import numpy as np\n",
    "import pandas as pd \n",
    "from sklearn.model_selection import train_test_split\n",
    "from sklearn.linear_model import LinearRegression\n",
    "from sklearn import metrics\n",
    "from sklearn.model_selection import cross_val_score\n",
    "from sklearn.feature_selection import f_regression\n",
    "from sklearn.preprocessing import PolynomialFeatures\n",
    "from sklearn.metrics import mean_squared_error, r2_score\n",
    "from sklearn.linear_model import Ridge\n",
    "from sklearn.linear_model import ElasticNet\n",
    "from sklearn.linear_model import ElasticNetCV\n",
    "from sklearn.model_selection import GridSearchCV\n",
    "\n",
    "import matplotlib.pyplot as plt\n",
    "import seaborn as sns\n",
    "sns.set()\n",
    "from sklearn.preprocessing import StandardScaler\n",
    "from sklearn.linear_model import Lasso\n",
    "\n",
    "import statsmodels.api as sm\n",
    "from statsmodels.formula.api import ols\n",
    "\n",
    "%matplotlib inline\n",
    "\n",
    "import warnings\n",
    "warnings.filterwarnings('ignore')\n",
    "#pd.set_option('display.float_format', lambda x: '%.3f' % x)"
   ]
  },
  {
   "cell_type": "markdown",
   "metadata": {},
   "source": [
    "## Load the data"
   ]
  },
  {
   "cell_type": "code",
   "execution_count": 77,
   "metadata": {},
   "outputs": [
    {
     "data": {
      "text/html": [
       "<div>\n",
       "<style scoped>\n",
       "    .dataframe tbody tr th:only-of-type {\n",
       "        vertical-align: middle;\n",
       "    }\n",
       "\n",
       "    .dataframe tbody tr th {\n",
       "        vertical-align: top;\n",
       "    }\n",
       "\n",
       "    .dataframe thead th {\n",
       "        text-align: right;\n",
       "    }\n",
       "</style>\n",
       "<table border=\"1\" class=\"dataframe\">\n",
       "  <thead>\n",
       "    <tr style=\"text-align: right;\">\n",
       "      <th></th>\n",
       "      <th>Rank</th>\n",
       "      <th>Name</th>\n",
       "      <th>Genre</th>\n",
       "      <th>ESRB_Rating</th>\n",
       "      <th>Platform</th>\n",
       "      <th>Publisher</th>\n",
       "      <th>Developer</th>\n",
       "      <th>Global_Sales</th>\n",
       "      <th>NA_Sales</th>\n",
       "      <th>PAL_Sales</th>\n",
       "      <th>...</th>\n",
       "      <th>Company</th>\n",
       "      <th>Units_Sold</th>\n",
       "      <th>generation_lifespan</th>\n",
       "      <th>generation_flag</th>\n",
       "      <th>Publisher_Metascore</th>\n",
       "      <th>Publisher_Userscore</th>\n",
       "      <th>Developer_Metascore</th>\n",
       "      <th>Developer_Userscore</th>\n",
       "      <th>Genre_Metascore</th>\n",
       "      <th>Genre_Userscore</th>\n",
       "    </tr>\n",
       "  </thead>\n",
       "  <tbody>\n",
       "    <tr>\n",
       "      <td>0</td>\n",
       "      <td>20</td>\n",
       "      <td>Grand Theft Auto V</td>\n",
       "      <td>Action</td>\n",
       "      <td>M</td>\n",
       "      <td>PS3</td>\n",
       "      <td>Rockstar Games</td>\n",
       "      <td>Others</td>\n",
       "      <td>20.32</td>\n",
       "      <td>6.37</td>\n",
       "      <td>9.85</td>\n",
       "      <td>...</td>\n",
       "      <td>Sony</td>\n",
       "      <td>87.4</td>\n",
       "      <td>0.975904</td>\n",
       "      <td>0.0</td>\n",
       "      <td>82.900000</td>\n",
       "      <td>7.860000</td>\n",
       "      <td>69.102153</td>\n",
       "      <td>7.097440</td>\n",
       "      <td>66.628349</td>\n",
       "      <td>7.088764</td>\n",
       "    </tr>\n",
       "    <tr>\n",
       "      <td>1</td>\n",
       "      <td>21</td>\n",
       "      <td>Grand Theft Auto V</td>\n",
       "      <td>Action</td>\n",
       "      <td>M</td>\n",
       "      <td>PS4</td>\n",
       "      <td>Rockstar Games</td>\n",
       "      <td>Others</td>\n",
       "      <td>19.39</td>\n",
       "      <td>6.06</td>\n",
       "      <td>9.71</td>\n",
       "      <td>...</td>\n",
       "      <td>Sony</td>\n",
       "      <td>108.9</td>\n",
       "      <td>0.142857</td>\n",
       "      <td>0.0</td>\n",
       "      <td>82.900000</td>\n",
       "      <td>7.860000</td>\n",
       "      <td>69.102153</td>\n",
       "      <td>7.097440</td>\n",
       "      <td>66.628349</td>\n",
       "      <td>7.088764</td>\n",
       "    </tr>\n",
       "    <tr>\n",
       "      <td>2</td>\n",
       "      <td>31</td>\n",
       "      <td>Grand Theft Auto: Vice City</td>\n",
       "      <td>Action</td>\n",
       "      <td>M</td>\n",
       "      <td>PS2</td>\n",
       "      <td>Rockstar Games</td>\n",
       "      <td>Others</td>\n",
       "      <td>16.15</td>\n",
       "      <td>8.41</td>\n",
       "      <td>5.49</td>\n",
       "      <td>...</td>\n",
       "      <td>Sony</td>\n",
       "      <td>155.0</td>\n",
       "      <td>0.375000</td>\n",
       "      <td>0.0</td>\n",
       "      <td>82.900000</td>\n",
       "      <td>7.860000</td>\n",
       "      <td>69.102153</td>\n",
       "      <td>7.097440</td>\n",
       "      <td>66.628349</td>\n",
       "      <td>7.088764</td>\n",
       "    </tr>\n",
       "    <tr>\n",
       "      <td>3</td>\n",
       "      <td>33</td>\n",
       "      <td>Grand Theft Auto V</td>\n",
       "      <td>Action</td>\n",
       "      <td>M</td>\n",
       "      <td>X360</td>\n",
       "      <td>Rockstar Games</td>\n",
       "      <td>Others</td>\n",
       "      <td>15.86</td>\n",
       "      <td>9.06</td>\n",
       "      <td>5.33</td>\n",
       "      <td>...</td>\n",
       "      <td>Microsoft</td>\n",
       "      <td>84.0</td>\n",
       "      <td>0.978947</td>\n",
       "      <td>0.0</td>\n",
       "      <td>82.900000</td>\n",
       "      <td>7.860000</td>\n",
       "      <td>69.102153</td>\n",
       "      <td>7.097440</td>\n",
       "      <td>66.628349</td>\n",
       "      <td>7.088764</td>\n",
       "    </tr>\n",
       "    <tr>\n",
       "      <td>4</td>\n",
       "      <td>41</td>\n",
       "      <td>Call of Duty: Modern Warfare 3</td>\n",
       "      <td>Shooter</td>\n",
       "      <td>M</td>\n",
       "      <td>X360</td>\n",
       "      <td>Activision</td>\n",
       "      <td>Infinity Ward</td>\n",
       "      <td>14.82</td>\n",
       "      <td>9.07</td>\n",
       "      <td>4.29</td>\n",
       "      <td>...</td>\n",
       "      <td>Microsoft</td>\n",
       "      <td>84.0</td>\n",
       "      <td>0.747368</td>\n",
       "      <td>0.0</td>\n",
       "      <td>70.563107</td>\n",
       "      <td>6.830097</td>\n",
       "      <td>82.863636</td>\n",
       "      <td>5.077273</td>\n",
       "      <td>70.479064</td>\n",
       "      <td>6.974507</td>\n",
       "    </tr>\n",
       "    <tr>\n",
       "      <td>5</td>\n",
       "      <td>42</td>\n",
       "      <td>Call of Duty: Black Ops</td>\n",
       "      <td>Shooter</td>\n",
       "      <td>M</td>\n",
       "      <td>X360</td>\n",
       "      <td>Activision</td>\n",
       "      <td>Treyarch</td>\n",
       "      <td>14.74</td>\n",
       "      <td>9.76</td>\n",
       "      <td>3.73</td>\n",
       "      <td>...</td>\n",
       "      <td>Microsoft</td>\n",
       "      <td>84.0</td>\n",
       "      <td>0.621053</td>\n",
       "      <td>0.0</td>\n",
       "      <td>70.563107</td>\n",
       "      <td>6.830097</td>\n",
       "      <td>76.789474</td>\n",
       "      <td>7.107895</td>\n",
       "      <td>70.479064</td>\n",
       "      <td>6.974507</td>\n",
       "    </tr>\n",
       "    <tr>\n",
       "      <td>6</td>\n",
       "      <td>46</td>\n",
       "      <td>Red Dead Redemption 2</td>\n",
       "      <td>Action-Adventure</td>\n",
       "      <td>M</td>\n",
       "      <td>PS4</td>\n",
       "      <td>Rockstar Games</td>\n",
       "      <td>Others</td>\n",
       "      <td>13.94</td>\n",
       "      <td>5.26</td>\n",
       "      <td>6.21</td>\n",
       "      <td>...</td>\n",
       "      <td>Sony</td>\n",
       "      <td>108.9</td>\n",
       "      <td>0.702381</td>\n",
       "      <td>0.0</td>\n",
       "      <td>82.900000</td>\n",
       "      <td>7.860000</td>\n",
       "      <td>69.102153</td>\n",
       "      <td>7.097440</td>\n",
       "      <td>73.584071</td>\n",
       "      <td>6.911504</td>\n",
       "    </tr>\n",
       "    <tr>\n",
       "      <td>7</td>\n",
       "      <td>47</td>\n",
       "      <td>Call of Duty: Black Ops II</td>\n",
       "      <td>Shooter</td>\n",
       "      <td>M</td>\n",
       "      <td>X360</td>\n",
       "      <td>Activision</td>\n",
       "      <td>Treyarch</td>\n",
       "      <td>13.86</td>\n",
       "      <td>8.27</td>\n",
       "      <td>4.32</td>\n",
       "      <td>...</td>\n",
       "      <td>Microsoft</td>\n",
       "      <td>84.0</td>\n",
       "      <td>0.873684</td>\n",
       "      <td>0.0</td>\n",
       "      <td>70.563107</td>\n",
       "      <td>6.830097</td>\n",
       "      <td>76.789474</td>\n",
       "      <td>7.107895</td>\n",
       "      <td>70.479064</td>\n",
       "      <td>6.974507</td>\n",
       "    </tr>\n",
       "    <tr>\n",
       "      <td>8</td>\n",
       "      <td>48</td>\n",
       "      <td>Call of Duty: Black Ops II</td>\n",
       "      <td>Shooter</td>\n",
       "      <td>M</td>\n",
       "      <td>PS3</td>\n",
       "      <td>Activision</td>\n",
       "      <td>Treyarch</td>\n",
       "      <td>13.80</td>\n",
       "      <td>4.99</td>\n",
       "      <td>5.88</td>\n",
       "      <td>...</td>\n",
       "      <td>Sony</td>\n",
       "      <td>87.4</td>\n",
       "      <td>0.855422</td>\n",
       "      <td>0.0</td>\n",
       "      <td>70.563107</td>\n",
       "      <td>6.830097</td>\n",
       "      <td>76.789474</td>\n",
       "      <td>7.107895</td>\n",
       "      <td>70.479064</td>\n",
       "      <td>6.974507</td>\n",
       "    </tr>\n",
       "    <tr>\n",
       "      <td>9</td>\n",
       "      <td>50</td>\n",
       "      <td>Call of Duty: Modern Warfare 2</td>\n",
       "      <td>Shooter</td>\n",
       "      <td>M</td>\n",
       "      <td>X360</td>\n",
       "      <td>Activision</td>\n",
       "      <td>Infinity Ward</td>\n",
       "      <td>13.53</td>\n",
       "      <td>8.54</td>\n",
       "      <td>3.63</td>\n",
       "      <td>...</td>\n",
       "      <td>Microsoft</td>\n",
       "      <td>84.0</td>\n",
       "      <td>0.494737</td>\n",
       "      <td>0.0</td>\n",
       "      <td>70.563107</td>\n",
       "      <td>6.830097</td>\n",
       "      <td>82.863636</td>\n",
       "      <td>5.077273</td>\n",
       "      <td>70.479064</td>\n",
       "      <td>6.974507</td>\n",
       "    </tr>\n",
       "  </tbody>\n",
       "</table>\n",
       "<p>10 rows × 30 columns</p>\n",
       "</div>"
      ],
      "text/plain": [
       "   Rank                            Name             Genre ESRB_Rating  \\\n",
       "0    20              Grand Theft Auto V            Action           M   \n",
       "1    21              Grand Theft Auto V            Action           M   \n",
       "2    31     Grand Theft Auto: Vice City            Action           M   \n",
       "3    33              Grand Theft Auto V            Action           M   \n",
       "4    41  Call of Duty: Modern Warfare 3           Shooter           M   \n",
       "5    42         Call of Duty: Black Ops           Shooter           M   \n",
       "6    46           Red Dead Redemption 2  Action-Adventure           M   \n",
       "7    47      Call of Duty: Black Ops II           Shooter           M   \n",
       "8    48      Call of Duty: Black Ops II           Shooter           M   \n",
       "9    50  Call of Duty: Modern Warfare 2           Shooter           M   \n",
       "\n",
       "  Platform       Publisher      Developer  Global_Sales  NA_Sales  PAL_Sales  \\\n",
       "0      PS3  Rockstar Games         Others         20.32      6.37       9.85   \n",
       "1      PS4  Rockstar Games         Others         19.39      6.06       9.71   \n",
       "2      PS2  Rockstar Games         Others         16.15      8.41       5.49   \n",
       "3     X360  Rockstar Games         Others         15.86      9.06       5.33   \n",
       "4     X360      Activision  Infinity Ward         14.82      9.07       4.29   \n",
       "5     X360      Activision       Treyarch         14.74      9.76       3.73   \n",
       "6      PS4  Rockstar Games         Others         13.94      5.26       6.21   \n",
       "7     X360      Activision       Treyarch         13.86      8.27       4.32   \n",
       "8      PS3      Activision       Treyarch         13.80      4.99       5.88   \n",
       "9     X360      Activision  Infinity Ward         13.53      8.54       3.63   \n",
       "\n",
       "   ...    Company  Units_Sold  generation_lifespan  generation_flag  \\\n",
       "0  ...       Sony        87.4             0.975904              0.0   \n",
       "1  ...       Sony       108.9             0.142857              0.0   \n",
       "2  ...       Sony       155.0             0.375000              0.0   \n",
       "3  ...  Microsoft        84.0             0.978947              0.0   \n",
       "4  ...  Microsoft        84.0             0.747368              0.0   \n",
       "5  ...  Microsoft        84.0             0.621053              0.0   \n",
       "6  ...       Sony       108.9             0.702381              0.0   \n",
       "7  ...  Microsoft        84.0             0.873684              0.0   \n",
       "8  ...       Sony        87.4             0.855422              0.0   \n",
       "9  ...  Microsoft        84.0             0.494737              0.0   \n",
       "\n",
       "   Publisher_Metascore Publisher_Userscore  Developer_Metascore  \\\n",
       "0            82.900000            7.860000            69.102153   \n",
       "1            82.900000            7.860000            69.102153   \n",
       "2            82.900000            7.860000            69.102153   \n",
       "3            82.900000            7.860000            69.102153   \n",
       "4            70.563107            6.830097            82.863636   \n",
       "5            70.563107            6.830097            76.789474   \n",
       "6            82.900000            7.860000            69.102153   \n",
       "7            70.563107            6.830097            76.789474   \n",
       "8            70.563107            6.830097            76.789474   \n",
       "9            70.563107            6.830097            82.863636   \n",
       "\n",
       "  Developer_Userscore  Genre_Metascore  Genre_Userscore  \n",
       "0            7.097440        66.628349         7.088764  \n",
       "1            7.097440        66.628349         7.088764  \n",
       "2            7.097440        66.628349         7.088764  \n",
       "3            7.097440        66.628349         7.088764  \n",
       "4            5.077273        70.479064         6.974507  \n",
       "5            7.107895        70.479064         6.974507  \n",
       "6            7.097440        73.584071         6.911504  \n",
       "7            7.107895        70.479064         6.974507  \n",
       "8            7.107895        70.479064         6.974507  \n",
       "9            5.077273        70.479064         6.974507  \n",
       "\n",
       "[10 rows x 30 columns]"
      ]
     },
     "execution_count": 77,
     "metadata": {},
     "output_type": "execute_result"
    }
   ],
   "source": [
    "df = pd.read_csv('games_df.csv')\n",
    "\n",
    "del df[\"Unnamed: 0\"]\n",
    "df.head(10)"
   ]
  },
  {
   "cell_type": "code",
   "execution_count": 78,
   "metadata": {},
   "outputs": [
    {
     "data": {
      "text/html": [
       "<div>\n",
       "<style scoped>\n",
       "    .dataframe tbody tr th:only-of-type {\n",
       "        vertical-align: middle;\n",
       "    }\n",
       "\n",
       "    .dataframe tbody tr th {\n",
       "        vertical-align: top;\n",
       "    }\n",
       "\n",
       "    .dataframe thead th {\n",
       "        text-align: right;\n",
       "    }\n",
       "</style>\n",
       "<table border=\"1\" class=\"dataframe\">\n",
       "  <thead>\n",
       "    <tr style=\"text-align: right;\">\n",
       "      <th></th>\n",
       "      <th>Rank</th>\n",
       "      <th>Global_Sales</th>\n",
       "      <th>NA_Sales</th>\n",
       "      <th>PAL_Sales</th>\n",
       "      <th>JP_Sales</th>\n",
       "      <th>Other_Sales</th>\n",
       "      <th>Year</th>\n",
       "      <th>metascore</th>\n",
       "      <th>userscore</th>\n",
       "      <th>years_ago</th>\n",
       "      <th>...</th>\n",
       "      <th>months_ago</th>\n",
       "      <th>Units_Sold</th>\n",
       "      <th>generation_lifespan</th>\n",
       "      <th>generation_flag</th>\n",
       "      <th>Publisher_Metascore</th>\n",
       "      <th>Publisher_Userscore</th>\n",
       "      <th>Developer_Metascore</th>\n",
       "      <th>Developer_Userscore</th>\n",
       "      <th>Genre_Metascore</th>\n",
       "      <th>Genre_Userscore</th>\n",
       "    </tr>\n",
       "  </thead>\n",
       "  <tbody>\n",
       "    <tr>\n",
       "      <td>count</td>\n",
       "      <td>6242.000000</td>\n",
       "      <td>6242.000000</td>\n",
       "      <td>5824.000000</td>\n",
       "      <td>5699.000000</td>\n",
       "      <td>1929.000000</td>\n",
       "      <td>6141.000000</td>\n",
       "      <td>6242.000000</td>\n",
       "      <td>6242.000000</td>\n",
       "      <td>6242.000000</td>\n",
       "      <td>6242.000000</td>\n",
       "      <td>...</td>\n",
       "      <td>6242.000000</td>\n",
       "      <td>6242.000000</td>\n",
       "      <td>6242.000000</td>\n",
       "      <td>6242.000000</td>\n",
       "      <td>6242.000000</td>\n",
       "      <td>6242.000000</td>\n",
       "      <td>6242.000000</td>\n",
       "      <td>6242.000000</td>\n",
       "      <td>6242.000000</td>\n",
       "      <td>6242.000000</td>\n",
       "    </tr>\n",
       "    <tr>\n",
       "      <td>mean</td>\n",
       "      <td>7960.043896</td>\n",
       "      <td>0.642241</td>\n",
       "      <td>0.358480</td>\n",
       "      <td>0.223746</td>\n",
       "      <td>0.102234</td>\n",
       "      <td>0.072872</td>\n",
       "      <td>2008.035405</td>\n",
       "      <td>70.595002</td>\n",
       "      <td>7.135421</td>\n",
       "      <td>11.971804</td>\n",
       "      <td>...</td>\n",
       "      <td>140.328741</td>\n",
       "      <td>84.540019</td>\n",
       "      <td>0.516602</td>\n",
       "      <td>0.132650</td>\n",
       "      <td>70.595002</td>\n",
       "      <td>7.135421</td>\n",
       "      <td>70.595002</td>\n",
       "      <td>7.135421</td>\n",
       "      <td>70.595002</td>\n",
       "      <td>7.135421</td>\n",
       "    </tr>\n",
       "    <tr>\n",
       "      <td>std</td>\n",
       "      <td>5214.566423</td>\n",
       "      <td>1.223215</td>\n",
       "      <td>0.643239</td>\n",
       "      <td>0.525887</td>\n",
       "      <td>0.162095</td>\n",
       "      <td>0.174725</td>\n",
       "      <td>4.676991</td>\n",
       "      <td>13.100307</td>\n",
       "      <td>1.381198</td>\n",
       "      <td>4.663883</td>\n",
       "      <td>...</td>\n",
       "      <td>55.695882</td>\n",
       "      <td>49.666334</td>\n",
       "      <td>0.277226</td>\n",
       "      <td>0.339223</td>\n",
       "      <td>4.151322</td>\n",
       "      <td>0.326779</td>\n",
       "      <td>4.076497</td>\n",
       "      <td>0.249686</td>\n",
       "      <td>2.794023</td>\n",
       "      <td>0.150820</td>\n",
       "    </tr>\n",
       "    <tr>\n",
       "      <td>min</td>\n",
       "      <td>20.000000</td>\n",
       "      <td>0.010000</td>\n",
       "      <td>0.000000</td>\n",
       "      <td>0.000000</td>\n",
       "      <td>0.000000</td>\n",
       "      <td>0.000000</td>\n",
       "      <td>1996.000000</td>\n",
       "      <td>17.000000</td>\n",
       "      <td>0.400000</td>\n",
       "      <td>2.000000</td>\n",
       "      <td>...</td>\n",
       "      <td>18.000000</td>\n",
       "      <td>0.000000</td>\n",
       "      <td>0.000000</td>\n",
       "      <td>0.000000</td>\n",
       "      <td>59.920000</td>\n",
       "      <td>6.204167</td>\n",
       "      <td>57.185185</td>\n",
       "      <td>5.077273</td>\n",
       "      <td>66.628349</td>\n",
       "      <td>6.911504</td>\n",
       "    </tr>\n",
       "    <tr>\n",
       "      <td>25%</td>\n",
       "      <td>3501.500000</td>\n",
       "      <td>0.110000</td>\n",
       "      <td>0.070000</td>\n",
       "      <td>0.020000</td>\n",
       "      <td>0.020000</td>\n",
       "      <td>0.010000</td>\n",
       "      <td>2004.000000</td>\n",
       "      <td>63.000000</td>\n",
       "      <td>6.500000</td>\n",
       "      <td>9.000000</td>\n",
       "      <td>...</td>\n",
       "      <td>106.000000</td>\n",
       "      <td>46.900000</td>\n",
       "      <td>0.312500</td>\n",
       "      <td>0.000000</td>\n",
       "      <td>67.160000</td>\n",
       "      <td>6.876464</td>\n",
       "      <td>69.102153</td>\n",
       "      <td>7.097440</td>\n",
       "      <td>68.475410</td>\n",
       "      <td>7.045746</td>\n",
       "    </tr>\n",
       "    <tr>\n",
       "      <td>50%</td>\n",
       "      <td>7200.000000</td>\n",
       "      <td>0.270000</td>\n",
       "      <td>0.160000</td>\n",
       "      <td>0.070000</td>\n",
       "      <td>0.050000</td>\n",
       "      <td>0.020000</td>\n",
       "      <td>2008.000000</td>\n",
       "      <td>73.000000</td>\n",
       "      <td>7.500000</td>\n",
       "      <td>12.000000</td>\n",
       "      <td>...</td>\n",
       "      <td>147.000000</td>\n",
       "      <td>85.100000</td>\n",
       "      <td>0.516602</td>\n",
       "      <td>0.000000</td>\n",
       "      <td>70.222222</td>\n",
       "      <td>7.060317</td>\n",
       "      <td>69.102153</td>\n",
       "      <td>7.097440</td>\n",
       "      <td>70.479064</td>\n",
       "      <td>7.088764</td>\n",
       "    </tr>\n",
       "    <tr>\n",
       "      <td>75%</td>\n",
       "      <td>12018.500000</td>\n",
       "      <td>0.670000</td>\n",
       "      <td>0.370000</td>\n",
       "      <td>0.210000</td>\n",
       "      <td>0.120000</td>\n",
       "      <td>0.070000</td>\n",
       "      <td>2011.000000</td>\n",
       "      <td>80.000000</td>\n",
       "      <td>8.100000</td>\n",
       "      <td>16.000000</td>\n",
       "      <td>...</td>\n",
       "      <td>185.000000</td>\n",
       "      <td>108.900000</td>\n",
       "      <td>0.686747</td>\n",
       "      <td>0.000000</td>\n",
       "      <td>73.655773</td>\n",
       "      <td>7.321359</td>\n",
       "      <td>69.102153</td>\n",
       "      <td>7.097440</td>\n",
       "      <td>72.519939</td>\n",
       "      <td>7.250746</td>\n",
       "    </tr>\n",
       "    <tr>\n",
       "      <td>max</td>\n",
       "      <td>19859.000000</td>\n",
       "      <td>20.320000</td>\n",
       "      <td>9.760000</td>\n",
       "      <td>9.850000</td>\n",
       "      <td>2.170000</td>\n",
       "      <td>3.120000</td>\n",
       "      <td>2020.000000</td>\n",
       "      <td>98.000000</td>\n",
       "      <td>9.400000</td>\n",
       "      <td>24.000000</td>\n",
       "      <td>...</td>\n",
       "      <td>289.000000</td>\n",
       "      <td>155.000000</td>\n",
       "      <td>1.590909</td>\n",
       "      <td>1.000000</td>\n",
       "      <td>82.900000</td>\n",
       "      <td>8.064000</td>\n",
       "      <td>84.838710</td>\n",
       "      <td>8.104545</td>\n",
       "      <td>75.491713</td>\n",
       "      <td>7.450460</td>\n",
       "    </tr>\n",
       "  </tbody>\n",
       "</table>\n",
       "<p>8 rows × 21 columns</p>\n",
       "</div>"
      ],
      "text/plain": [
       "               Rank  Global_Sales     NA_Sales    PAL_Sales     JP_Sales  \\\n",
       "count   6242.000000   6242.000000  5824.000000  5699.000000  1929.000000   \n",
       "mean    7960.043896      0.642241     0.358480     0.223746     0.102234   \n",
       "std     5214.566423      1.223215     0.643239     0.525887     0.162095   \n",
       "min       20.000000      0.010000     0.000000     0.000000     0.000000   \n",
       "25%     3501.500000      0.110000     0.070000     0.020000     0.020000   \n",
       "50%     7200.000000      0.270000     0.160000     0.070000     0.050000   \n",
       "75%    12018.500000      0.670000     0.370000     0.210000     0.120000   \n",
       "max    19859.000000     20.320000     9.760000     9.850000     2.170000   \n",
       "\n",
       "       Other_Sales         Year    metascore    userscore    years_ago  ...  \\\n",
       "count  6141.000000  6242.000000  6242.000000  6242.000000  6242.000000  ...   \n",
       "mean      0.072872  2008.035405    70.595002     7.135421    11.971804  ...   \n",
       "std       0.174725     4.676991    13.100307     1.381198     4.663883  ...   \n",
       "min       0.000000  1996.000000    17.000000     0.400000     2.000000  ...   \n",
       "25%       0.010000  2004.000000    63.000000     6.500000     9.000000  ...   \n",
       "50%       0.020000  2008.000000    73.000000     7.500000    12.000000  ...   \n",
       "75%       0.070000  2011.000000    80.000000     8.100000    16.000000  ...   \n",
       "max       3.120000  2020.000000    98.000000     9.400000    24.000000  ...   \n",
       "\n",
       "        months_ago   Units_Sold  generation_lifespan  generation_flag  \\\n",
       "count  6242.000000  6242.000000          6242.000000      6242.000000   \n",
       "mean    140.328741    84.540019             0.516602         0.132650   \n",
       "std      55.695882    49.666334             0.277226         0.339223   \n",
       "min      18.000000     0.000000             0.000000         0.000000   \n",
       "25%     106.000000    46.900000             0.312500         0.000000   \n",
       "50%     147.000000    85.100000             0.516602         0.000000   \n",
       "75%     185.000000   108.900000             0.686747         0.000000   \n",
       "max     289.000000   155.000000             1.590909         1.000000   \n",
       "\n",
       "       Publisher_Metascore  Publisher_Userscore  Developer_Metascore  \\\n",
       "count          6242.000000          6242.000000          6242.000000   \n",
       "mean             70.595002             7.135421            70.595002   \n",
       "std               4.151322             0.326779             4.076497   \n",
       "min              59.920000             6.204167            57.185185   \n",
       "25%              67.160000             6.876464            69.102153   \n",
       "50%              70.222222             7.060317            69.102153   \n",
       "75%              73.655773             7.321359            69.102153   \n",
       "max              82.900000             8.064000            84.838710   \n",
       "\n",
       "       Developer_Userscore  Genre_Metascore  Genre_Userscore  \n",
       "count          6242.000000      6242.000000      6242.000000  \n",
       "mean              7.135421        70.595002         7.135421  \n",
       "std               0.249686         2.794023         0.150820  \n",
       "min               5.077273        66.628349         6.911504  \n",
       "25%               7.097440        68.475410         7.045746  \n",
       "50%               7.097440        70.479064         7.088764  \n",
       "75%               7.097440        72.519939         7.250746  \n",
       "max               8.104545        75.491713         7.450460  \n",
       "\n",
       "[8 rows x 21 columns]"
      ]
     },
     "execution_count": 78,
     "metadata": {},
     "output_type": "execute_result"
    }
   ],
   "source": [
    "df.describe()"
   ]
  },
  {
   "cell_type": "code",
   "execution_count": 79,
   "metadata": {},
   "outputs": [
    {
     "data": {
      "text/plain": [
       "(6242, 30)"
      ]
     },
     "execution_count": 79,
     "metadata": {},
     "output_type": "execute_result"
    }
   ],
   "source": [
    "df.shape"
   ]
  },
  {
   "cell_type": "code",
   "execution_count": 80,
   "metadata": {
    "scrolled": true
   },
   "outputs": [
    {
     "data": {
      "text/plain": [
       "Index(['Rank', 'Name', 'Genre', 'ESRB_Rating', 'Platform', 'Publisher',\n",
       "       'Developer', 'Global_Sales', 'NA_Sales', 'PAL_Sales', 'JP_Sales',\n",
       "       'Other_Sales', 'Year', 'metascore', 'userscore', 'date', 'years_ago',\n",
       "       'month_abbrev', 'month_num', 'months_ago', 'Company', 'Units_Sold',\n",
       "       'generation_lifespan', 'generation_flag', 'Publisher_Metascore',\n",
       "       'Publisher_Userscore', 'Developer_Metascore', 'Developer_Userscore',\n",
       "       'Genre_Metascore', 'Genre_Userscore'],\n",
       "      dtype='object')"
      ]
     },
     "execution_count": 80,
     "metadata": {},
     "output_type": "execute_result"
    }
   ],
   "source": [
    "df.columns"
   ]
  },
  {
   "cell_type": "markdown",
   "metadata": {},
   "source": [
    "## Manage Categorical Variables"
   ]
  },
  {
   "cell_type": "code",
   "execution_count": 81,
   "metadata": {},
   "outputs": [],
   "source": [
    "categorical = df[['Genre','ESRB_Rating','Company','Publisher']]"
   ]
  },
  {
   "cell_type": "code",
   "execution_count": 82,
   "metadata": {},
   "outputs": [],
   "source": [
    "categorical_df = pd.get_dummies(data=categorical, drop_first=True)"
   ]
  },
  {
   "cell_type": "code",
   "execution_count": 83,
   "metadata": {
    "scrolled": true
   },
   "outputs": [
    {
     "data": {
      "text/html": [
       "<div>\n",
       "<style scoped>\n",
       "    .dataframe tbody tr th:only-of-type {\n",
       "        vertical-align: middle;\n",
       "    }\n",
       "\n",
       "    .dataframe tbody tr th {\n",
       "        vertical-align: top;\n",
       "    }\n",
       "\n",
       "    .dataframe thead th {\n",
       "        text-align: right;\n",
       "    }\n",
       "</style>\n",
       "<table border=\"1\" class=\"dataframe\">\n",
       "  <thead>\n",
       "    <tr style=\"text-align: right;\">\n",
       "      <th></th>\n",
       "      <th>Genre_Action-Adventure</th>\n",
       "      <th>Genre_Adventure</th>\n",
       "      <th>Genre_Fighting</th>\n",
       "      <th>Genre_Misc</th>\n",
       "      <th>Genre_Others</th>\n",
       "      <th>Genre_Platform</th>\n",
       "      <th>Genre_Puzzle</th>\n",
       "      <th>Genre_Racing</th>\n",
       "      <th>Genre_Role-Playing</th>\n",
       "      <th>Genre_Shooter</th>\n",
       "      <th>...</th>\n",
       "      <th>Publisher_SouthPeak Interactive</th>\n",
       "      <th>Publisher_Square Enix</th>\n",
       "      <th>Publisher_THQ</th>\n",
       "      <th>Publisher_Tecmo</th>\n",
       "      <th>Publisher_Tecmo Koei</th>\n",
       "      <th>Publisher_Ubisoft</th>\n",
       "      <th>Publisher_VU Games</th>\n",
       "      <th>Publisher_Warner Bros. Interactive</th>\n",
       "      <th>Publisher_Warner Bros. Interactive Entertainment</th>\n",
       "      <th>Publisher_Xseed Games</th>\n",
       "    </tr>\n",
       "  </thead>\n",
       "  <tbody>\n",
       "    <tr>\n",
       "      <td>count</td>\n",
       "      <td>6242.000000</td>\n",
       "      <td>6242.000000</td>\n",
       "      <td>6242.000000</td>\n",
       "      <td>6242.000000</td>\n",
       "      <td>6242.000000</td>\n",
       "      <td>6242.000000</td>\n",
       "      <td>6242.000000</td>\n",
       "      <td>6242.000000</td>\n",
       "      <td>6242.000000</td>\n",
       "      <td>6242.000000</td>\n",
       "      <td>...</td>\n",
       "      <td>6242.000000</td>\n",
       "      <td>6242.000000</td>\n",
       "      <td>6242.000000</td>\n",
       "      <td>6242.000000</td>\n",
       "      <td>6242.000000</td>\n",
       "      <td>6242.000000</td>\n",
       "      <td>6242.000000</td>\n",
       "      <td>6242.000000</td>\n",
       "      <td>6242.000000</td>\n",
       "      <td>6242.000000</td>\n",
       "    </tr>\n",
       "    <tr>\n",
       "      <td>mean</td>\n",
       "      <td>0.018103</td>\n",
       "      <td>0.059276</td>\n",
       "      <td>0.053669</td>\n",
       "      <td>0.048863</td>\n",
       "      <td>0.011375</td>\n",
       "      <td>0.059596</td>\n",
       "      <td>0.021147</td>\n",
       "      <td>0.078500</td>\n",
       "      <td>0.104454</td>\n",
       "      <td>0.130087</td>\n",
       "      <td>...</td>\n",
       "      <td>0.004005</td>\n",
       "      <td>0.016661</td>\n",
       "      <td>0.038930</td>\n",
       "      <td>0.004326</td>\n",
       "      <td>0.010093</td>\n",
       "      <td>0.062961</td>\n",
       "      <td>0.008491</td>\n",
       "      <td>0.009933</td>\n",
       "      <td>0.007850</td>\n",
       "      <td>0.007369</td>\n",
       "    </tr>\n",
       "    <tr>\n",
       "      <td>std</td>\n",
       "      <td>0.133335</td>\n",
       "      <td>0.236159</td>\n",
       "      <td>0.225381</td>\n",
       "      <td>0.215598</td>\n",
       "      <td>0.106052</td>\n",
       "      <td>0.236756</td>\n",
       "      <td>0.143886</td>\n",
       "      <td>0.268979</td>\n",
       "      <td>0.305873</td>\n",
       "      <td>0.336426</td>\n",
       "      <td>...</td>\n",
       "      <td>0.063164</td>\n",
       "      <td>0.128009</td>\n",
       "      <td>0.193443</td>\n",
       "      <td>0.065632</td>\n",
       "      <td>0.099963</td>\n",
       "      <td>0.242912</td>\n",
       "      <td>0.091761</td>\n",
       "      <td>0.099175</td>\n",
       "      <td>0.088259</td>\n",
       "      <td>0.085535</td>\n",
       "    </tr>\n",
       "    <tr>\n",
       "      <td>min</td>\n",
       "      <td>0.000000</td>\n",
       "      <td>0.000000</td>\n",
       "      <td>0.000000</td>\n",
       "      <td>0.000000</td>\n",
       "      <td>0.000000</td>\n",
       "      <td>0.000000</td>\n",
       "      <td>0.000000</td>\n",
       "      <td>0.000000</td>\n",
       "      <td>0.000000</td>\n",
       "      <td>0.000000</td>\n",
       "      <td>...</td>\n",
       "      <td>0.000000</td>\n",
       "      <td>0.000000</td>\n",
       "      <td>0.000000</td>\n",
       "      <td>0.000000</td>\n",
       "      <td>0.000000</td>\n",
       "      <td>0.000000</td>\n",
       "      <td>0.000000</td>\n",
       "      <td>0.000000</td>\n",
       "      <td>0.000000</td>\n",
       "      <td>0.000000</td>\n",
       "    </tr>\n",
       "    <tr>\n",
       "      <td>25%</td>\n",
       "      <td>0.000000</td>\n",
       "      <td>0.000000</td>\n",
       "      <td>0.000000</td>\n",
       "      <td>0.000000</td>\n",
       "      <td>0.000000</td>\n",
       "      <td>0.000000</td>\n",
       "      <td>0.000000</td>\n",
       "      <td>0.000000</td>\n",
       "      <td>0.000000</td>\n",
       "      <td>0.000000</td>\n",
       "      <td>...</td>\n",
       "      <td>0.000000</td>\n",
       "      <td>0.000000</td>\n",
       "      <td>0.000000</td>\n",
       "      <td>0.000000</td>\n",
       "      <td>0.000000</td>\n",
       "      <td>0.000000</td>\n",
       "      <td>0.000000</td>\n",
       "      <td>0.000000</td>\n",
       "      <td>0.000000</td>\n",
       "      <td>0.000000</td>\n",
       "    </tr>\n",
       "    <tr>\n",
       "      <td>50%</td>\n",
       "      <td>0.000000</td>\n",
       "      <td>0.000000</td>\n",
       "      <td>0.000000</td>\n",
       "      <td>0.000000</td>\n",
       "      <td>0.000000</td>\n",
       "      <td>0.000000</td>\n",
       "      <td>0.000000</td>\n",
       "      <td>0.000000</td>\n",
       "      <td>0.000000</td>\n",
       "      <td>0.000000</td>\n",
       "      <td>...</td>\n",
       "      <td>0.000000</td>\n",
       "      <td>0.000000</td>\n",
       "      <td>0.000000</td>\n",
       "      <td>0.000000</td>\n",
       "      <td>0.000000</td>\n",
       "      <td>0.000000</td>\n",
       "      <td>0.000000</td>\n",
       "      <td>0.000000</td>\n",
       "      <td>0.000000</td>\n",
       "      <td>0.000000</td>\n",
       "    </tr>\n",
       "    <tr>\n",
       "      <td>75%</td>\n",
       "      <td>0.000000</td>\n",
       "      <td>0.000000</td>\n",
       "      <td>0.000000</td>\n",
       "      <td>0.000000</td>\n",
       "      <td>0.000000</td>\n",
       "      <td>0.000000</td>\n",
       "      <td>0.000000</td>\n",
       "      <td>0.000000</td>\n",
       "      <td>0.000000</td>\n",
       "      <td>0.000000</td>\n",
       "      <td>...</td>\n",
       "      <td>0.000000</td>\n",
       "      <td>0.000000</td>\n",
       "      <td>0.000000</td>\n",
       "      <td>0.000000</td>\n",
       "      <td>0.000000</td>\n",
       "      <td>0.000000</td>\n",
       "      <td>0.000000</td>\n",
       "      <td>0.000000</td>\n",
       "      <td>0.000000</td>\n",
       "      <td>0.000000</td>\n",
       "    </tr>\n",
       "    <tr>\n",
       "      <td>max</td>\n",
       "      <td>1.000000</td>\n",
       "      <td>1.000000</td>\n",
       "      <td>1.000000</td>\n",
       "      <td>1.000000</td>\n",
       "      <td>1.000000</td>\n",
       "      <td>1.000000</td>\n",
       "      <td>1.000000</td>\n",
       "      <td>1.000000</td>\n",
       "      <td>1.000000</td>\n",
       "      <td>1.000000</td>\n",
       "      <td>...</td>\n",
       "      <td>1.000000</td>\n",
       "      <td>1.000000</td>\n",
       "      <td>1.000000</td>\n",
       "      <td>1.000000</td>\n",
       "      <td>1.000000</td>\n",
       "      <td>1.000000</td>\n",
       "      <td>1.000000</td>\n",
       "      <td>1.000000</td>\n",
       "      <td>1.000000</td>\n",
       "      <td>1.000000</td>\n",
       "    </tr>\n",
       "  </tbody>\n",
       "</table>\n",
       "<p>8 rows × 68 columns</p>\n",
       "</div>"
      ],
      "text/plain": [
       "       Genre_Action-Adventure  Genre_Adventure  Genre_Fighting   Genre_Misc  \\\n",
       "count             6242.000000      6242.000000     6242.000000  6242.000000   \n",
       "mean                 0.018103         0.059276        0.053669     0.048863   \n",
       "std                  0.133335         0.236159        0.225381     0.215598   \n",
       "min                  0.000000         0.000000        0.000000     0.000000   \n",
       "25%                  0.000000         0.000000        0.000000     0.000000   \n",
       "50%                  0.000000         0.000000        0.000000     0.000000   \n",
       "75%                  0.000000         0.000000        0.000000     0.000000   \n",
       "max                  1.000000         1.000000        1.000000     1.000000   \n",
       "\n",
       "       Genre_Others  Genre_Platform  Genre_Puzzle  Genre_Racing  \\\n",
       "count   6242.000000     6242.000000   6242.000000   6242.000000   \n",
       "mean       0.011375        0.059596      0.021147      0.078500   \n",
       "std        0.106052        0.236756      0.143886      0.268979   \n",
       "min        0.000000        0.000000      0.000000      0.000000   \n",
       "25%        0.000000        0.000000      0.000000      0.000000   \n",
       "50%        0.000000        0.000000      0.000000      0.000000   \n",
       "75%        0.000000        0.000000      0.000000      0.000000   \n",
       "max        1.000000        1.000000      1.000000      1.000000   \n",
       "\n",
       "       Genre_Role-Playing  Genre_Shooter  ...  \\\n",
       "count         6242.000000    6242.000000  ...   \n",
       "mean             0.104454       0.130087  ...   \n",
       "std              0.305873       0.336426  ...   \n",
       "min              0.000000       0.000000  ...   \n",
       "25%              0.000000       0.000000  ...   \n",
       "50%              0.000000       0.000000  ...   \n",
       "75%              0.000000       0.000000  ...   \n",
       "max              1.000000       1.000000  ...   \n",
       "\n",
       "       Publisher_SouthPeak Interactive  Publisher_Square Enix  Publisher_THQ  \\\n",
       "count                      6242.000000            6242.000000    6242.000000   \n",
       "mean                          0.004005               0.016661       0.038930   \n",
       "std                           0.063164               0.128009       0.193443   \n",
       "min                           0.000000               0.000000       0.000000   \n",
       "25%                           0.000000               0.000000       0.000000   \n",
       "50%                           0.000000               0.000000       0.000000   \n",
       "75%                           0.000000               0.000000       0.000000   \n",
       "max                           1.000000               1.000000       1.000000   \n",
       "\n",
       "       Publisher_Tecmo  Publisher_Tecmo Koei  Publisher_Ubisoft  \\\n",
       "count      6242.000000           6242.000000        6242.000000   \n",
       "mean          0.004326              0.010093           0.062961   \n",
       "std           0.065632              0.099963           0.242912   \n",
       "min           0.000000              0.000000           0.000000   \n",
       "25%           0.000000              0.000000           0.000000   \n",
       "50%           0.000000              0.000000           0.000000   \n",
       "75%           0.000000              0.000000           0.000000   \n",
       "max           1.000000              1.000000           1.000000   \n",
       "\n",
       "       Publisher_VU Games  Publisher_Warner Bros. Interactive  \\\n",
       "count         6242.000000                         6242.000000   \n",
       "mean             0.008491                            0.009933   \n",
       "std              0.091761                            0.099175   \n",
       "min              0.000000                            0.000000   \n",
       "25%              0.000000                            0.000000   \n",
       "50%              0.000000                            0.000000   \n",
       "75%              0.000000                            0.000000   \n",
       "max              1.000000                            1.000000   \n",
       "\n",
       "       Publisher_Warner Bros. Interactive Entertainment  Publisher_Xseed Games  \n",
       "count                                       6242.000000            6242.000000  \n",
       "mean                                           0.007850               0.007369  \n",
       "std                                            0.088259               0.085535  \n",
       "min                                            0.000000               0.000000  \n",
       "25%                                            0.000000               0.000000  \n",
       "50%                                            0.000000               0.000000  \n",
       "75%                                            0.000000               0.000000  \n",
       "max                                            1.000000               1.000000  \n",
       "\n",
       "[8 rows x 68 columns]"
      ]
     },
     "execution_count": 83,
     "metadata": {},
     "output_type": "execute_result"
    }
   ],
   "source": [
    "categorical_df.describe()"
   ]
  },
  {
   "cell_type": "markdown",
   "metadata": {},
   "source": [
    "## Declare the dependent and independent variables"
   ]
  },
  {
   "cell_type": "code",
   "execution_count": 84,
   "metadata": {},
   "outputs": [
    {
     "data": {
      "text/plain": [
       "Index(['Rank', 'Name', 'Genre', 'ESRB_Rating', 'Platform', 'Publisher',\n",
       "       'Developer', 'Global_Sales', 'NA_Sales', 'PAL_Sales', 'JP_Sales',\n",
       "       'Other_Sales', 'Year', 'metascore', 'userscore', 'date', 'years_ago',\n",
       "       'month_abbrev', 'month_num', 'months_ago', 'Company', 'Units_Sold',\n",
       "       'generation_lifespan', 'generation_flag', 'Publisher_Metascore',\n",
       "       'Publisher_Userscore', 'Developer_Metascore', 'Developer_Userscore',\n",
       "       'Genre_Metascore', 'Genre_Userscore'],\n",
       "      dtype='object')"
      ]
     },
     "execution_count": 84,
     "metadata": {},
     "output_type": "execute_result"
    }
   ],
   "source": [
    "df.columns"
   ]
  },
  {
   "cell_type": "code",
   "execution_count": 89,
   "metadata": {},
   "outputs": [],
   "source": [
    "target = df['Global_Sales']\n",
    "features = df[['metascore', 'userscore', 'years_ago', 'generation_lifespan', 'generation_flag', 'Units_Sold']]\n",
    "categorical = df[['Genre','ESRB_Rating','Company','Publisher']]\n",
    "categorical_df = pd.get_dummies(data=categorical, drop_first=True)\n",
    "#features = pd.concat([features, categorical], axis=1)"
   ]
  },
  {
   "cell_type": "markdown",
   "metadata": {},
   "source": [
    "## Standardization / Scaling and Comparing Weights"
   ]
  },
  {
   "cell_type": "code",
   "execution_count": 90,
   "metadata": {},
   "outputs": [],
   "source": [
    "scaler = StandardScaler()"
   ]
  },
  {
   "cell_type": "code",
   "execution_count": 91,
   "metadata": {},
   "outputs": [],
   "source": [
    "features_scaled = []\n",
    "for var in features:\n",
    "    new_col = var +\"_scaled\"\n",
    "    df[new_col] = scaler.fit_transform(df[[var]])\n",
    "    features_scaled.append(new_col)"
   ]
  },
  {
   "cell_type": "code",
   "execution_count": 92,
   "metadata": {},
   "outputs": [
    {
     "data": {
      "text/plain": [
       "['metascore_scaled',\n",
       " 'userscore_scaled',\n",
       " 'years_ago_scaled',\n",
       " 'generation_lifespan_scaled',\n",
       " 'generation_flag_scaled',\n",
       " 'Units_Sold_scaled']"
      ]
     },
     "execution_count": 92,
     "metadata": {},
     "output_type": "execute_result"
    }
   ],
   "source": [
    "features_scaled"
   ]
  },
  {
   "cell_type": "code",
   "execution_count": 93,
   "metadata": {},
   "outputs": [],
   "source": [
    "categorical = df[['Genre','ESRB_Rating','Company','Publisher']]\n",
    "categorical_df = pd.get_dummies(data=categorical, drop_first=True)"
   ]
  },
  {
   "cell_type": "code",
   "execution_count": 94,
   "metadata": {
    "scrolled": false
   },
   "outputs": [
    {
     "data": {
      "text/html": [
       "<table class=\"simpletable\">\n",
       "<caption>OLS Regression Results</caption>\n",
       "<tr>\n",
       "  <th>Dep. Variable:</th>      <td>Global_Sales</td>   <th>  R-squared:         </th> <td>   0.256</td> \n",
       "</tr>\n",
       "<tr>\n",
       "  <th>Model:</th>                   <td>OLS</td>       <th>  Adj. R-squared:    </th> <td>   0.247</td> \n",
       "</tr>\n",
       "<tr>\n",
       "  <th>Method:</th>             <td>Least Squares</td>  <th>  F-statistic:       </th> <td>   28.69</td> \n",
       "</tr>\n",
       "<tr>\n",
       "  <th>Date:</th>             <td>Thu, 26 Mar 2020</td> <th>  Prob (F-statistic):</th>  <td>  0.00</td>  \n",
       "</tr>\n",
       "<tr>\n",
       "  <th>Time:</th>                 <td>10:28:38</td>     <th>  Log-Likelihood:    </th> <td> -9190.7</td> \n",
       "</tr>\n",
       "<tr>\n",
       "  <th>No. Observations:</th>      <td>  6242</td>      <th>  AIC:               </th> <td>1.853e+04</td>\n",
       "</tr>\n",
       "<tr>\n",
       "  <th>Df Residuals:</th>          <td>  6167</td>      <th>  BIC:               </th> <td>1.904e+04</td>\n",
       "</tr>\n",
       "<tr>\n",
       "  <th>Df Model:</th>              <td>    74</td>      <th>                     </th>     <td> </td>    \n",
       "</tr>\n",
       "<tr>\n",
       "  <th>Covariance Type:</th>      <td>nonrobust</td>    <th>                     </th>     <td> </td>    \n",
       "</tr>\n",
       "</table>\n",
       "<table class=\"simpletable\">\n",
       "<tr>\n",
       "                             <td></td>                               <th>coef</th>     <th>std err</th>      <th>t</th>      <th>P>|t|</th>  <th>[0.025</th>    <th>0.975]</th>  \n",
       "</tr>\n",
       "<tr>\n",
       "  <th>Intercept</th>                                              <td>    0.3290</td> <td>    0.139</td> <td>    2.373</td> <td> 0.018</td> <td>    0.057</td> <td>    0.601</td>\n",
       "</tr>\n",
       "<tr>\n",
       "  <th>C(Genre)[T.Action-Adventure]</th>                           <td>    0.0430</td> <td>    0.110</td> <td>    0.393</td> <td> 0.695</td> <td>   -0.172</td> <td>    0.258</td>\n",
       "</tr>\n",
       "<tr>\n",
       "  <th>C(Genre)[T.Adventure]</th>                                  <td>   -0.1916</td> <td>    0.065</td> <td>   -2.946</td> <td> 0.003</td> <td>   -0.319</td> <td>   -0.064</td>\n",
       "</tr>\n",
       "<tr>\n",
       "  <th>C(Genre)[T.Fighting]</th>                                   <td>    0.0010</td> <td>    0.070</td> <td>    0.014</td> <td> 0.989</td> <td>   -0.137</td> <td>    0.139</td>\n",
       "</tr>\n",
       "<tr>\n",
       "  <th>C(Genre)[T.Misc]</th>                                       <td>   -0.0111</td> <td>    0.072</td> <td>   -0.156</td> <td> 0.876</td> <td>   -0.152</td> <td>    0.129</td>\n",
       "</tr>\n",
       "<tr>\n",
       "  <th>C(Genre)[T.Others]</th>                                     <td>   -0.2295</td> <td>    0.134</td> <td>   -1.708</td> <td> 0.088</td> <td>   -0.493</td> <td>    0.034</td>\n",
       "</tr>\n",
       "<tr>\n",
       "  <th>C(Genre)[T.Platform]</th>                                   <td>   -0.0750</td> <td>    0.069</td> <td>   -1.086</td> <td> 0.278</td> <td>   -0.210</td> <td>    0.060</td>\n",
       "</tr>\n",
       "<tr>\n",
       "  <th>C(Genre)[T.Puzzle]</th>                                     <td>   -0.3492</td> <td>    0.105</td> <td>   -3.340</td> <td> 0.001</td> <td>   -0.554</td> <td>   -0.144</td>\n",
       "</tr>\n",
       "<tr>\n",
       "  <th>C(Genre)[T.Racing]</th>                                     <td>   -0.1387</td> <td>    0.065</td> <td>   -2.130</td> <td> 0.033</td> <td>   -0.266</td> <td>   -0.011</td>\n",
       "</tr>\n",
       "<tr>\n",
       "  <th>C(Genre)[T.Role-Playing]</th>                               <td>   -0.0870</td> <td>    0.058</td> <td>   -1.504</td> <td> 0.133</td> <td>   -0.200</td> <td>    0.026</td>\n",
       "</tr>\n",
       "<tr>\n",
       "  <th>C(Genre)[T.Shooter]</th>                                    <td>    0.0506</td> <td>    0.051</td> <td>    0.983</td> <td> 0.326</td> <td>   -0.050</td> <td>    0.151</td>\n",
       "</tr>\n",
       "<tr>\n",
       "  <th>C(Genre)[T.Simulation]</th>                                 <td>   -0.0021</td> <td>    0.077</td> <td>   -0.027</td> <td> 0.978</td> <td>   -0.153</td> <td>    0.148</td>\n",
       "</tr>\n",
       "<tr>\n",
       "  <th>C(Genre)[T.Sports]</th>                                     <td>   -0.1756</td> <td>    0.066</td> <td>   -2.655</td> <td> 0.008</td> <td>   -0.305</td> <td>   -0.046</td>\n",
       "</tr>\n",
       "<tr>\n",
       "  <th>C(Genre)[T.Strategy]</th>                                   <td>   -0.2161</td> <td>    0.077</td> <td>   -2.792</td> <td> 0.005</td> <td>   -0.368</td> <td>   -0.064</td>\n",
       "</tr>\n",
       "<tr>\n",
       "  <th>C(ESRB_Rating)[T.E10]</th>                                  <td>   -0.1696</td> <td>    0.051</td> <td>   -3.326</td> <td> 0.001</td> <td>   -0.270</td> <td>   -0.070</td>\n",
       "</tr>\n",
       "<tr>\n",
       "  <th>C(ESRB_Rating)[T.M]</th>                                    <td>    0.1969</td> <td>    0.056</td> <td>    3.529</td> <td> 0.000</td> <td>    0.088</td> <td>    0.306</td>\n",
       "</tr>\n",
       "<tr>\n",
       "  <th>C(ESRB_Rating)[T.RP]</th>                                   <td>   -0.2414</td> <td>    0.312</td> <td>   -0.773</td> <td> 0.439</td> <td>   -0.853</td> <td>    0.371</td>\n",
       "</tr>\n",
       "<tr>\n",
       "  <th>C(ESRB_Rating)[T.T]</th>                                    <td>   -0.0922</td> <td>    0.045</td> <td>   -2.056</td> <td> 0.040</td> <td>   -0.180</td> <td>   -0.004</td>\n",
       "</tr>\n",
       "<tr>\n",
       "  <th>C(Company)[T.Nintendo]</th>                                 <td>   -0.0648</td> <td>    0.046</td> <td>   -1.414</td> <td> 0.157</td> <td>   -0.155</td> <td>    0.025</td>\n",
       "</tr>\n",
       "<tr>\n",
       "  <th>C(Company)[T.PC]</th>                                       <td>   -0.3088</td> <td>    0.091</td> <td>   -3.402</td> <td> 0.001</td> <td>   -0.487</td> <td>   -0.131</td>\n",
       "</tr>\n",
       "<tr>\n",
       "  <th>C(Company)[T.Sega]</th>                                     <td>   -0.1543</td> <td>    0.323</td> <td>   -0.478</td> <td> 0.633</td> <td>   -0.788</td> <td>    0.479</td>\n",
       "</tr>\n",
       "<tr>\n",
       "  <th>C(Company)[T.Sony]</th>                                     <td>    0.0835</td> <td>    0.043</td> <td>    1.938</td> <td> 0.053</td> <td>   -0.001</td> <td>    0.168</td>\n",
       "</tr>\n",
       "<tr>\n",
       "  <th>C(Publisher)[T.2K Sports]</th>                              <td>    0.0568</td> <td>    0.171</td> <td>    0.332</td> <td> 0.740</td> <td>   -0.278</td> <td>    0.391</td>\n",
       "</tr>\n",
       "<tr>\n",
       "  <th>C(Publisher)[T.505 Games]</th>                              <td>   -0.3123</td> <td>    0.199</td> <td>   -1.573</td> <td> 0.116</td> <td>   -0.701</td> <td>    0.077</td>\n",
       "</tr>\n",
       "<tr>\n",
       "  <th>C(Publisher)[T.Acclaim Entertainment]</th>                  <td>   -0.0091</td> <td>    0.181</td> <td>   -0.050</td> <td> 0.960</td> <td>   -0.364</td> <td>    0.346</td>\n",
       "</tr>\n",
       "<tr>\n",
       "  <th>C(Publisher)[T.Activision]</th>                             <td>    0.5851</td> <td>    0.134</td> <td>    4.366</td> <td> 0.000</td> <td>    0.322</td> <td>    0.848</td>\n",
       "</tr>\n",
       "<tr>\n",
       "  <th>C(Publisher)[T.Agetec]</th>                                 <td>   -0.2443</td> <td>    0.248</td> <td>   -0.984</td> <td> 0.325</td> <td>   -0.731</td> <td>    0.242</td>\n",
       "</tr>\n",
       "<tr>\n",
       "  <th>C(Publisher)[T.Aksys Games]</th>                            <td>   -0.4267</td> <td>    0.228</td> <td>   -1.873</td> <td> 0.061</td> <td>   -0.873</td> <td>    0.020</td>\n",
       "</tr>\n",
       "<tr>\n",
       "  <th>C(Publisher)[T.Atari]</th>                                  <td>    0.0765</td> <td>    0.156</td> <td>    0.490</td> <td> 0.624</td> <td>   -0.230</td> <td>    0.383</td>\n",
       "</tr>\n",
       "<tr>\n",
       "  <th>C(Publisher)[T.Atlus]</th>                                  <td>   -0.3821</td> <td>    0.158</td> <td>   -2.420</td> <td> 0.016</td> <td>   -0.692</td> <td>   -0.073</td>\n",
       "</tr>\n",
       "<tr>\n",
       "  <th>C(Publisher)[T.Bethesda Softworks]</th>                     <td>    0.5165</td> <td>    0.180</td> <td>    2.873</td> <td> 0.004</td> <td>    0.164</td> <td>    0.869</td>\n",
       "</tr>\n",
       "<tr>\n",
       "  <th>C(Publisher)[T.Capcom]</th>                                 <td>   -0.1957</td> <td>    0.144</td> <td>   -1.355</td> <td> 0.175</td> <td>   -0.479</td> <td>    0.087</td>\n",
       "</tr>\n",
       "<tr>\n",
       "  <th>C(Publisher)[T.Codemasters]</th>                            <td>   -0.1310</td> <td>    0.166</td> <td>   -0.787</td> <td> 0.431</td> <td>   -0.457</td> <td>    0.195</td>\n",
       "</tr>\n",
       "<tr>\n",
       "  <th>C(Publisher)[T.D3 Publisher]</th>                           <td>   -0.0560</td> <td>    0.219</td> <td>   -0.256</td> <td> 0.798</td> <td>   -0.486</td> <td>    0.374</td>\n",
       "</tr>\n",
       "<tr>\n",
       "  <th>C(Publisher)[T.Deep Silver]</th>                            <td>   -0.1810</td> <td>    0.197</td> <td>   -0.917</td> <td> 0.359</td> <td>   -0.568</td> <td>    0.206</td>\n",
       "</tr>\n",
       "<tr>\n",
       "  <th>C(Publisher)[T.Disney Interactive Studios]</th>             <td>    0.2302</td> <td>    0.197</td> <td>    1.169</td> <td> 0.242</td> <td>   -0.156</td> <td>    0.616</td>\n",
       "</tr>\n",
       "<tr>\n",
       "  <th>C(Publisher)[T.EA Sports]</th>                              <td>    0.2968</td> <td>    0.143</td> <td>    2.079</td> <td> 0.038</td> <td>    0.017</td> <td>    0.577</td>\n",
       "</tr>\n",
       "<tr>\n",
       "  <th>C(Publisher)[T.EA Sports BIG]</th>                          <td>    0.1326</td> <td>    0.213</td> <td>    0.622</td> <td> 0.534</td> <td>   -0.286</td> <td>    0.551</td>\n",
       "</tr>\n",
       "<tr>\n",
       "  <th>C(Publisher)[T.Eidos Interactive]</th>                      <td>   -0.1247</td> <td>    0.159</td> <td>   -0.782</td> <td> 0.434</td> <td>   -0.437</td> <td>    0.188</td>\n",
       "</tr>\n",
       "<tr>\n",
       "  <th>C(Publisher)[T.Electronic Arts]</th>                        <td>    0.4089</td> <td>    0.133</td> <td>    3.086</td> <td> 0.002</td> <td>    0.149</td> <td>    0.669</td>\n",
       "</tr>\n",
       "<tr>\n",
       "  <th>C(Publisher)[T.KOEI]</th>                                   <td>   -0.0876</td> <td>    0.187</td> <td>   -0.470</td> <td> 0.638</td> <td>   -0.453</td> <td>    0.278</td>\n",
       "</tr>\n",
       "<tr>\n",
       "  <th>C(Publisher)[T.Konami]</th>                                 <td>    0.0204</td> <td>    0.144</td> <td>    0.141</td> <td> 0.888</td> <td>   -0.263</td> <td>    0.304</td>\n",
       "</tr>\n",
       "<tr>\n",
       "  <th>C(Publisher)[T.Konami Digital Entertainment]</th>           <td>   -0.4392</td> <td>    0.200</td> <td>   -2.199</td> <td> 0.028</td> <td>   -0.831</td> <td>   -0.048</td>\n",
       "</tr>\n",
       "<tr>\n",
       "  <th>C(Publisher)[T.LucasArts]</th>                              <td>    0.5426</td> <td>    0.170</td> <td>    3.192</td> <td> 0.001</td> <td>    0.209</td> <td>    0.876</td>\n",
       "</tr>\n",
       "<tr>\n",
       "  <th>C(Publisher)[T.Majesco]</th>                                <td>    0.0016</td> <td>    0.186</td> <td>    0.009</td> <td> 0.993</td> <td>   -0.364</td> <td>    0.367</td>\n",
       "</tr>\n",
       "<tr>\n",
       "  <th>C(Publisher)[T.Microsoft Game Studios]</th>                 <td>    0.5426</td> <td>    0.179</td> <td>    3.026</td> <td> 0.002</td> <td>    0.191</td> <td>    0.894</td>\n",
       "</tr>\n",
       "<tr>\n",
       "  <th>C(Publisher)[T.Microsoft Studios]</th>                      <td>    0.6844</td> <td>    0.220</td> <td>    3.118</td> <td> 0.002</td> <td>    0.254</td> <td>    1.115</td>\n",
       "</tr>\n",
       "<tr>\n",
       "  <th>C(Publisher)[T.Midway Games]</th>                           <td>   -0.0614</td> <td>    0.163</td> <td>   -0.377</td> <td> 0.706</td> <td>   -0.381</td> <td>    0.258</td>\n",
       "</tr>\n",
       "<tr>\n",
       "  <th>C(Publisher)[T.NIS America]</th>                            <td>   -0.3751</td> <td>    0.173</td> <td>   -2.170</td> <td> 0.030</td> <td>   -0.714</td> <td>   -0.036</td>\n",
       "</tr>\n",
       "<tr>\n",
       "  <th>C(Publisher)[T.Namco]</th>                                  <td>    0.0780</td> <td>    0.173</td> <td>    0.450</td> <td> 0.653</td> <td>   -0.262</td> <td>    0.418</td>\n",
       "</tr>\n",
       "<tr>\n",
       "  <th>C(Publisher)[T.Namco Bandai]</th>                           <td>    0.0675</td> <td>    0.165</td> <td>    0.409</td> <td> 0.682</td> <td>   -0.256</td> <td>    0.391</td>\n",
       "</tr>\n",
       "<tr>\n",
       "  <th>C(Publisher)[T.Namco Bandai Games]</th>                     <td>   -0.2049</td> <td>    0.193</td> <td>   -1.061</td> <td> 0.289</td> <td>   -0.584</td> <td>    0.174</td>\n",
       "</tr>\n",
       "<tr>\n",
       "  <th>C(Publisher)[T.Nintendo]</th>                               <td>    0.1039</td> <td>    0.152</td> <td>    0.684</td> <td> 0.494</td> <td>   -0.194</td> <td>    0.402</td>\n",
       "</tr>\n",
       "<tr>\n",
       "  <th>C(Publisher)[T.Others]</th>                                 <td>   -0.0820</td> <td>    0.128</td> <td>   -0.642</td> <td> 0.521</td> <td>   -0.332</td> <td>    0.168</td>\n",
       "</tr>\n",
       "<tr>\n",
       "  <th>C(Publisher)[T.Rockstar Games]</th>                         <td>    2.1410</td> <td>    0.178</td> <td>   12.017</td> <td> 0.000</td> <td>    1.792</td> <td>    2.490</td>\n",
       "</tr>\n",
       "<tr>\n",
       "  <th>C(Publisher)[T.Sega]</th>                                   <td>    0.0211</td> <td>    0.140</td> <td>    0.151</td> <td> 0.880</td> <td>   -0.253</td> <td>    0.295</td>\n",
       "</tr>\n",
       "<tr>\n",
       "  <th>C(Publisher)[T.Sierra Entertainment]</th>                   <td>   -0.1052</td> <td>    0.214</td> <td>   -0.492</td> <td> 0.622</td> <td>   -0.524</td> <td>    0.314</td>\n",
       "</tr>\n",
       "<tr>\n",
       "  <th>C(Publisher)[T.Sony Computer Entertainment]</th>            <td>    0.2365</td> <td>    0.143</td> <td>    1.657</td> <td> 0.098</td> <td>   -0.043</td> <td>    0.516</td>\n",
       "</tr>\n",
       "<tr>\n",
       "  <th>C(Publisher)[T.Sony Interactive Entertainment]</th>         <td>   -0.3570</td> <td>    0.245</td> <td>   -1.456</td> <td> 0.145</td> <td>   -0.838</td> <td>    0.124</td>\n",
       "</tr>\n",
       "<tr>\n",
       "  <th>C(Publisher)[T.SouthPeak Interactive]</th>                  <td>   -0.0595</td> <td>    0.245</td> <td>   -0.242</td> <td> 0.808</td> <td>   -0.540</td> <td>    0.421</td>\n",
       "</tr>\n",
       "<tr>\n",
       "  <th>C(Publisher)[T.Square Enix]</th>                            <td>    0.0300</td> <td>    0.163</td> <td>    0.184</td> <td> 0.854</td> <td>   -0.290</td> <td>    0.350</td>\n",
       "</tr>\n",
       "<tr>\n",
       "  <th>C(Publisher)[T.THQ]</th>                                    <td>    0.1424</td> <td>    0.141</td> <td>    1.008</td> <td> 0.314</td> <td>   -0.135</td> <td>    0.419</td>\n",
       "</tr>\n",
       "<tr>\n",
       "  <th>C(Publisher)[T.Tecmo]</th>                                  <td>   -0.3672</td> <td>    0.240</td> <td>   -1.532</td> <td> 0.126</td> <td>   -0.837</td> <td>    0.103</td>\n",
       "</tr>\n",
       "<tr>\n",
       "  <th>C(Publisher)[T.Tecmo Koei]</th>                             <td>   -0.3348</td> <td>    0.184</td> <td>   -1.821</td> <td> 0.069</td> <td>   -0.695</td> <td>    0.026</td>\n",
       "</tr>\n",
       "<tr>\n",
       "  <th>C(Publisher)[T.Ubisoft]</th>                                <td>    0.2262</td> <td>    0.134</td> <td>    1.688</td> <td> 0.091</td> <td>   -0.036</td> <td>    0.489</td>\n",
       "</tr>\n",
       "<tr>\n",
       "  <th>C(Publisher)[T.VU Games]</th>                               <td>    0.1392</td> <td>    0.192</td> <td>    0.725</td> <td> 0.469</td> <td>   -0.237</td> <td>    0.516</td>\n",
       "</tr>\n",
       "<tr>\n",
       "  <th>C(Publisher)[T.Warner Bros. Interactive]</th>               <td>    0.5718</td> <td>    0.183</td> <td>    3.127</td> <td> 0.002</td> <td>    0.213</td> <td>    0.930</td>\n",
       "</tr>\n",
       "<tr>\n",
       "  <th>C(Publisher)[T.Warner Bros. Interactive Entertainment]</th> <td>    0.2547</td> <td>    0.199</td> <td>    1.280</td> <td> 0.201</td> <td>   -0.135</td> <td>    0.645</td>\n",
       "</tr>\n",
       "<tr>\n",
       "  <th>C(Publisher)[T.Xseed Games]</th>                            <td>   -0.2952</td> <td>    0.201</td> <td>   -1.467</td> <td> 0.142</td> <td>   -0.690</td> <td>    0.099</td>\n",
       "</tr>\n",
       "<tr>\n",
       "  <th>metascore_scaled</th>                                       <td>    0.4600</td> <td>    0.018</td> <td>   25.162</td> <td> 0.000</td> <td>    0.424</td> <td>    0.496</td>\n",
       "</tr>\n",
       "<tr>\n",
       "  <th>userscore_scaled</th>                                       <td>   -0.1924</td> <td>    0.018</td> <td>  -10.697</td> <td> 0.000</td> <td>   -0.228</td> <td>   -0.157</td>\n",
       "</tr>\n",
       "<tr>\n",
       "  <th>years_ago_scaled</th>                                       <td>   -0.0815</td> <td>    0.018</td> <td>   -4.456</td> <td> 0.000</td> <td>   -0.117</td> <td>   -0.046</td>\n",
       "</tr>\n",
       "<tr>\n",
       "  <th>generation_lifespan_scaled</th>                             <td>   -0.0215</td> <td>    0.014</td> <td>   -1.543</td> <td> 0.123</td> <td>   -0.049</td> <td>    0.006</td>\n",
       "</tr>\n",
       "<tr>\n",
       "  <th>generation_flag_scaled</th>                                 <td>   -0.0462</td> <td>    0.024</td> <td>   -1.900</td> <td> 0.057</td> <td>   -0.094</td> <td>    0.001</td>\n",
       "</tr>\n",
       "<tr>\n",
       "  <th>Units_Sold</th>                                             <td>    0.0034</td> <td>    0.000</td> <td>    8.447</td> <td> 0.000</td> <td>    0.003</td> <td>    0.004</td>\n",
       "</tr>\n",
       "</table>\n",
       "<table class=\"simpletable\">\n",
       "<tr>\n",
       "  <th>Omnibus:</th>       <td>6751.643</td> <th>  Durbin-Watson:     </th>  <td>   0.438</td> \n",
       "</tr>\n",
       "<tr>\n",
       "  <th>Prob(Omnibus):</th>  <td> 0.000</td>  <th>  Jarque-Bera (JB):  </th> <td>717696.851</td>\n",
       "</tr>\n",
       "<tr>\n",
       "  <th>Skew:</th>           <td> 5.373</td>  <th>  Prob(JB):          </th>  <td>    0.00</td> \n",
       "</tr>\n",
       "<tr>\n",
       "  <th>Kurtosis:</th>       <td>54.420</td>  <th>  Cond. No.          </th>  <td>6.29e+03</td> \n",
       "</tr>\n",
       "</table><br/><br/>Warnings:<br/>[1] Standard Errors assume that the covariance matrix of the errors is correctly specified.<br/>[2] The condition number is large, 6.29e+03. This might indicate that there are<br/>strong multicollinearity or other numerical problems."
      ],
      "text/plain": [
       "<class 'statsmodels.iolib.summary.Summary'>\n",
       "\"\"\"\n",
       "                            OLS Regression Results                            \n",
       "==============================================================================\n",
       "Dep. Variable:           Global_Sales   R-squared:                       0.256\n",
       "Model:                            OLS   Adj. R-squared:                  0.247\n",
       "Method:                 Least Squares   F-statistic:                     28.69\n",
       "Date:                Thu, 26 Mar 2020   Prob (F-statistic):               0.00\n",
       "Time:                        10:28:38   Log-Likelihood:                -9190.7\n",
       "No. Observations:                6242   AIC:                         1.853e+04\n",
       "Df Residuals:                    6167   BIC:                         1.904e+04\n",
       "Df Model:                          74                                         \n",
       "Covariance Type:            nonrobust                                         \n",
       "==========================================================================================================================\n",
       "                                                             coef    std err          t      P>|t|      [0.025      0.975]\n",
       "--------------------------------------------------------------------------------------------------------------------------\n",
       "Intercept                                                  0.3290      0.139      2.373      0.018       0.057       0.601\n",
       "C(Genre)[T.Action-Adventure]                               0.0430      0.110      0.393      0.695      -0.172       0.258\n",
       "C(Genre)[T.Adventure]                                     -0.1916      0.065     -2.946      0.003      -0.319      -0.064\n",
       "C(Genre)[T.Fighting]                                       0.0010      0.070      0.014      0.989      -0.137       0.139\n",
       "C(Genre)[T.Misc]                                          -0.0111      0.072     -0.156      0.876      -0.152       0.129\n",
       "C(Genre)[T.Others]                                        -0.2295      0.134     -1.708      0.088      -0.493       0.034\n",
       "C(Genre)[T.Platform]                                      -0.0750      0.069     -1.086      0.278      -0.210       0.060\n",
       "C(Genre)[T.Puzzle]                                        -0.3492      0.105     -3.340      0.001      -0.554      -0.144\n",
       "C(Genre)[T.Racing]                                        -0.1387      0.065     -2.130      0.033      -0.266      -0.011\n",
       "C(Genre)[T.Role-Playing]                                  -0.0870      0.058     -1.504      0.133      -0.200       0.026\n",
       "C(Genre)[T.Shooter]                                        0.0506      0.051      0.983      0.326      -0.050       0.151\n",
       "C(Genre)[T.Simulation]                                    -0.0021      0.077     -0.027      0.978      -0.153       0.148\n",
       "C(Genre)[T.Sports]                                        -0.1756      0.066     -2.655      0.008      -0.305      -0.046\n",
       "C(Genre)[T.Strategy]                                      -0.2161      0.077     -2.792      0.005      -0.368      -0.064\n",
       "C(ESRB_Rating)[T.E10]                                     -0.1696      0.051     -3.326      0.001      -0.270      -0.070\n",
       "C(ESRB_Rating)[T.M]                                        0.1969      0.056      3.529      0.000       0.088       0.306\n",
       "C(ESRB_Rating)[T.RP]                                      -0.2414      0.312     -0.773      0.439      -0.853       0.371\n",
       "C(ESRB_Rating)[T.T]                                       -0.0922      0.045     -2.056      0.040      -0.180      -0.004\n",
       "C(Company)[T.Nintendo]                                    -0.0648      0.046     -1.414      0.157      -0.155       0.025\n",
       "C(Company)[T.PC]                                          -0.3088      0.091     -3.402      0.001      -0.487      -0.131\n",
       "C(Company)[T.Sega]                                        -0.1543      0.323     -0.478      0.633      -0.788       0.479\n",
       "C(Company)[T.Sony]                                         0.0835      0.043      1.938      0.053      -0.001       0.168\n",
       "C(Publisher)[T.2K Sports]                                  0.0568      0.171      0.332      0.740      -0.278       0.391\n",
       "C(Publisher)[T.505 Games]                                 -0.3123      0.199     -1.573      0.116      -0.701       0.077\n",
       "C(Publisher)[T.Acclaim Entertainment]                     -0.0091      0.181     -0.050      0.960      -0.364       0.346\n",
       "C(Publisher)[T.Activision]                                 0.5851      0.134      4.366      0.000       0.322       0.848\n",
       "C(Publisher)[T.Agetec]                                    -0.2443      0.248     -0.984      0.325      -0.731       0.242\n",
       "C(Publisher)[T.Aksys Games]                               -0.4267      0.228     -1.873      0.061      -0.873       0.020\n",
       "C(Publisher)[T.Atari]                                      0.0765      0.156      0.490      0.624      -0.230       0.383\n",
       "C(Publisher)[T.Atlus]                                     -0.3821      0.158     -2.420      0.016      -0.692      -0.073\n",
       "C(Publisher)[T.Bethesda Softworks]                         0.5165      0.180      2.873      0.004       0.164       0.869\n",
       "C(Publisher)[T.Capcom]                                    -0.1957      0.144     -1.355      0.175      -0.479       0.087\n",
       "C(Publisher)[T.Codemasters]                               -0.1310      0.166     -0.787      0.431      -0.457       0.195\n",
       "C(Publisher)[T.D3 Publisher]                              -0.0560      0.219     -0.256      0.798      -0.486       0.374\n",
       "C(Publisher)[T.Deep Silver]                               -0.1810      0.197     -0.917      0.359      -0.568       0.206\n",
       "C(Publisher)[T.Disney Interactive Studios]                 0.2302      0.197      1.169      0.242      -0.156       0.616\n",
       "C(Publisher)[T.EA Sports]                                  0.2968      0.143      2.079      0.038       0.017       0.577\n",
       "C(Publisher)[T.EA Sports BIG]                              0.1326      0.213      0.622      0.534      -0.286       0.551\n",
       "C(Publisher)[T.Eidos Interactive]                         -0.1247      0.159     -0.782      0.434      -0.437       0.188\n",
       "C(Publisher)[T.Electronic Arts]                            0.4089      0.133      3.086      0.002       0.149       0.669\n",
       "C(Publisher)[T.KOEI]                                      -0.0876      0.187     -0.470      0.638      -0.453       0.278\n",
       "C(Publisher)[T.Konami]                                     0.0204      0.144      0.141      0.888      -0.263       0.304\n",
       "C(Publisher)[T.Konami Digital Entertainment]              -0.4392      0.200     -2.199      0.028      -0.831      -0.048\n",
       "C(Publisher)[T.LucasArts]                                  0.5426      0.170      3.192      0.001       0.209       0.876\n",
       "C(Publisher)[T.Majesco]                                    0.0016      0.186      0.009      0.993      -0.364       0.367\n",
       "C(Publisher)[T.Microsoft Game Studios]                     0.5426      0.179      3.026      0.002       0.191       0.894\n",
       "C(Publisher)[T.Microsoft Studios]                          0.6844      0.220      3.118      0.002       0.254       1.115\n",
       "C(Publisher)[T.Midway Games]                              -0.0614      0.163     -0.377      0.706      -0.381       0.258\n",
       "C(Publisher)[T.NIS America]                               -0.3751      0.173     -2.170      0.030      -0.714      -0.036\n",
       "C(Publisher)[T.Namco]                                      0.0780      0.173      0.450      0.653      -0.262       0.418\n",
       "C(Publisher)[T.Namco Bandai]                               0.0675      0.165      0.409      0.682      -0.256       0.391\n",
       "C(Publisher)[T.Namco Bandai Games]                        -0.2049      0.193     -1.061      0.289      -0.584       0.174\n",
       "C(Publisher)[T.Nintendo]                                   0.1039      0.152      0.684      0.494      -0.194       0.402\n",
       "C(Publisher)[T.Others]                                    -0.0820      0.128     -0.642      0.521      -0.332       0.168\n",
       "C(Publisher)[T.Rockstar Games]                             2.1410      0.178     12.017      0.000       1.792       2.490\n",
       "C(Publisher)[T.Sega]                                       0.0211      0.140      0.151      0.880      -0.253       0.295\n",
       "C(Publisher)[T.Sierra Entertainment]                      -0.1052      0.214     -0.492      0.622      -0.524       0.314\n",
       "C(Publisher)[T.Sony Computer Entertainment]                0.2365      0.143      1.657      0.098      -0.043       0.516\n",
       "C(Publisher)[T.Sony Interactive Entertainment]            -0.3570      0.245     -1.456      0.145      -0.838       0.124\n",
       "C(Publisher)[T.SouthPeak Interactive]                     -0.0595      0.245     -0.242      0.808      -0.540       0.421\n",
       "C(Publisher)[T.Square Enix]                                0.0300      0.163      0.184      0.854      -0.290       0.350\n",
       "C(Publisher)[T.THQ]                                        0.1424      0.141      1.008      0.314      -0.135       0.419\n",
       "C(Publisher)[T.Tecmo]                                     -0.3672      0.240     -1.532      0.126      -0.837       0.103\n",
       "C(Publisher)[T.Tecmo Koei]                                -0.3348      0.184     -1.821      0.069      -0.695       0.026\n",
       "C(Publisher)[T.Ubisoft]                                    0.2262      0.134      1.688      0.091      -0.036       0.489\n",
       "C(Publisher)[T.VU Games]                                   0.1392      0.192      0.725      0.469      -0.237       0.516\n",
       "C(Publisher)[T.Warner Bros. Interactive]                   0.5718      0.183      3.127      0.002       0.213       0.930\n",
       "C(Publisher)[T.Warner Bros. Interactive Entertainment]     0.2547      0.199      1.280      0.201      -0.135       0.645\n",
       "C(Publisher)[T.Xseed Games]                               -0.2952      0.201     -1.467      0.142      -0.690       0.099\n",
       "metascore_scaled                                           0.4600      0.018     25.162      0.000       0.424       0.496\n",
       "userscore_scaled                                          -0.1924      0.018    -10.697      0.000      -0.228      -0.157\n",
       "years_ago_scaled                                          -0.0815      0.018     -4.456      0.000      -0.117      -0.046\n",
       "generation_lifespan_scaled                                -0.0215      0.014     -1.543      0.123      -0.049       0.006\n",
       "generation_flag_scaled                                    -0.0462      0.024     -1.900      0.057      -0.094       0.001\n",
       "Units_Sold                                                 0.0034      0.000      8.447      0.000       0.003       0.004\n",
       "==============================================================================\n",
       "Omnibus:                     6751.643   Durbin-Watson:                   0.438\n",
       "Prob(Omnibus):                  0.000   Jarque-Bera (JB):           717696.851\n",
       "Skew:                           5.373   Prob(JB):                         0.00\n",
       "Kurtosis:                      54.420   Cond. No.                     6.29e+03\n",
       "==============================================================================\n",
       "\n",
       "Warnings:\n",
       "[1] Standard Errors assume that the covariance matrix of the errors is correctly specified.\n",
       "[2] The condition number is large, 6.29e+03. This might indicate that there are\n",
       "strong multicollinearity or other numerical problems.\n",
       "\"\"\""
      ]
     },
     "execution_count": 94,
     "metadata": {},
     "output_type": "execute_result"
    }
   ],
   "source": [
    "fit = ols('Global_Sales ~ metascore_scaled + userscore_scaled + years_ago_scaled + generation_lifespan_scaled + generation_flag_scaled + Units_Sold + C(Genre) + C(ESRB_Rating) + C(Company) + C(Publisher)', data=df).fit() \n",
    "fit.summary()"
   ]
  },
  {
   "cell_type": "code",
   "execution_count": 97,
   "metadata": {},
   "outputs": [
    {
     "data": {
      "text/plain": [
       "array([ 0.033489  , -0.11707039, -0.00966921, -0.        , -0.        ,\n",
       "        0.04172051, -0.        ,  0.01163286, -0.        , -0.03623295,\n",
       "       -0.        ,  0.00424422])"
      ]
     },
     "execution_count": 97,
     "metadata": {},
     "output_type": "execute_result"
    }
   ],
   "source": [
    "target = df['Global_Sales']\n",
    "features = df[['metascore', 'userscore','years_ago', 'generation_lifespan', 'generation_flag', 'Publisher_Metascore', 'Publisher_Userscore', 'Developer_Metascore', 'Developer_Userscore', 'Genre_Metascore', 'Genre_Userscore', 'Units_Sold']]\n",
    "# categorical = df[['Genre','ESRB_Rating','Company','Publisher']]\n",
    "# categorical = pd.get_dummies(data=categorical, drop_first=True)\n",
    "# features = pd.concat([features, categorical], axis=1)\n",
    "lasso = Lasso(alpha = 0.05).fit(features,target)\n",
    "lasso.coef_"
   ]
  },
  {
   "cell_type": "markdown",
   "metadata": {},
   "source": [
    "## Functions for reuse"
   ]
  },
  {
   "cell_type": "code",
   "execution_count": 98,
   "metadata": {},
   "outputs": [],
   "source": [
    "def run_regression(target, features, degree, ridge):\n",
    "    \n",
    "    '''\n",
    "    This function automatically runs a multiple regression test based on the\n",
    "    inputted target and features. This automatically splits train and test \n",
    "    data. The function also automatically does polynomial regression based\n",
    "    on degree inputted. This also automatically does Ridge Regression if set\n",
    "    to True. This function can output the following values based on the test:\n",
    "    \n",
    "    - Coefficients and Intercept values\n",
    "    - P values\n",
    "    - R2 score for test and train data\n",
    "    - Adjusted R2 score for test and train data\n",
    "    - Different error metrics: MAE, MSE and RMSE\n",
    "    - Cross-validation score\n",
    "    \n",
    "    Parameters: \n",
    "        Target: The dependent variable that the user wishes to predict\n",
    "        Features: The independent variables to be used to predict target\n",
    "          \n",
    "    Returns: \n",
    "        This returns a dictionary of the values discussed above\n",
    "    \n",
    "    '''\n",
    "    if degree > 0:\n",
    "\n",
    "    \n",
    "        ### Train, Test Split of all observations ###\n",
    "        X_train, X_test, y_train, y_test = train_test_split(features, target, random_state=42,test_size=0.2)\n",
    "\n",
    "\n",
    "        ### Polynomial regression ###\n",
    "        poly = PolynomialFeatures(degree=degree)\n",
    "        X_train = poly.fit_transform(X_train)\n",
    "        X_test = poly.fit_transform(X_test)\n",
    "\n",
    "        ### Run linear regression on the training data ###\n",
    "        reg = LinearRegression()\n",
    "        reg.fit(X_train,y_train)\n",
    "        coef_train = reg.coef_\n",
    "        intercept_train = reg.intercept_\n",
    "        p_values = f_regression(X_train,y_train)[1]\n",
    "\n",
    "        ### Get r2 and adjusted r2 score of training ###\n",
    "        r2_train = reg.score(X_train, y_train)\n",
    "\n",
    "        n = X_train.shape[0]\n",
    "        p = X_train.shape[1]\n",
    "        adjusted_r2_train = 1-(1-r2_train)*(n-1)/(n-p-1)\n",
    "\n",
    "        ### Get error values for training ###\n",
    "        y_train_pred = reg.predict(X_train)\n",
    "\n",
    "        train_mae = metrics.mean_absolute_error(y_train, y_train_pred)\n",
    "        train_mse = metrics.mean_squared_error(y_train, y_train_pred)\n",
    "        train_rmse = np.sqrt(metrics.mean_squared_error(y_train, y_train_pred))\n",
    "\n",
    "        ### Run linear regression on the testing data ###\n",
    "        reg.score(X_test, y_test)\n",
    "\n",
    "        ### Get r2 and adjusted r2 score of testing ###\n",
    "        r2_test = reg.score(X_test, y_test)\n",
    "        n = X_test.shape[0]\n",
    "        p = X_test.shape[1]\n",
    "\n",
    "        adjusted_r2_test = 1-(1-r2_test)*(n-1)/(n-p-1)\n",
    "\n",
    "        ### Get error values for testing ###\n",
    "        y_test_pred = reg.predict(X_test)\n",
    "\n",
    "        test_mae = metrics.mean_absolute_error(y_test, y_test_pred)\n",
    "        test_mse = metrics.mean_squared_error(y_test, y_test_pred)\n",
    "        test_rmse = np.sqrt(metrics.mean_squared_error(y_test, y_test_pred))\n",
    "\n",
    "        ### Get five-fold cross-validation score ###\n",
    "        cv = float(format(cross_val_score(reg,features,target,cv=5).mean(),'.3f'))\n",
    "\n",
    "        return {'coef_train': coef_train, 'intercept_train': intercept_train, 'p_values': p_values, 'r2_train': r2_train, 'adjusted_r2_train': adjusted_r2_train ,'train_rmse': train_rmse, 'r2_test': r2_test, 'adjusted_r2_test': adjusted_r2_test ,'test_rmse': test_rmse, 'cv': cv, 'X_train': X_train, 'X_test': X_test, 'y_train': y_train, 'y_test': y_test, 'y_test_pred': y_test_pred}\n",
    "    \n",
    "    else:\n",
    "        \n",
    "        if ridge == False:\n",
    "            ### Train, Test Split of all observations ###\n",
    "            X_train, X_test, y_train, y_test = train_test_split(features, target, random_state=42,test_size=0.2)\n",
    "\n",
    "            ### Run linear regression on the training data ###\n",
    "            reg = LinearRegression()\n",
    "            reg.fit(X_train,y_train)\n",
    "            coef_train = reg.coef_\n",
    "            intercept_train = reg.intercept_\n",
    "            p_values = f_regression(X_train,y_train)[1]\n",
    "\n",
    "            ### Get r2 and adjusted r2 score of training ###\n",
    "            r2_train = reg.score(X_train, y_train)\n",
    "\n",
    "            n = X_train.shape[0]\n",
    "            p = X_train.shape[1]\n",
    "            adjusted_r2_train = 1-(1-r2_train)*(n-1)/(n-p-1)\n",
    "\n",
    "            ### Get error values for training ###\n",
    "            y_train_pred = reg.predict(X_train)\n",
    "\n",
    "            train_mae = metrics.mean_absolute_error(y_train, y_train_pred)\n",
    "            train_mse = metrics.mean_squared_error(y_train, y_train_pred)\n",
    "            train_rmse = np.sqrt(metrics.mean_squared_error(y_train, y_train_pred))\n",
    "\n",
    "            ### Run linear regression on the testing data ###\n",
    "            reg.score(X_test, y_test)\n",
    "\n",
    "            ### Get r2 and adjusted r2 score of testing ###\n",
    "            r2_test = reg.score(X_test, y_test)\n",
    "            n = X_test.shape[0]\n",
    "            p = X_test.shape[1]\n",
    "\n",
    "            adjusted_r2_test = 1-(1-r2_test)*(n-1)/(n-p-1)\n",
    "\n",
    "            ### Get error values for testing ###\n",
    "            y_test_pred = reg.predict(X_test)\n",
    "\n",
    "            test_mae = metrics.mean_absolute_error(y_test, y_test_pred)\n",
    "            test_mse = metrics.mean_squared_error(y_test, y_test_pred)\n",
    "            test_rmse = np.sqrt(metrics.mean_squared_error(y_test, y_test_pred))\n",
    "\n",
    "            ### Get five-fold cross-validation score ###\n",
    "            cv = float(format(cross_val_score(reg,features,target,cv=5).mean(),'.3f'))\n",
    "\n",
    "            return {'coef_train': coef_train, 'intercept_train': intercept_train, 'p_values': p_values, 'r2_train': r2_train, 'adjusted_r2_train': adjusted_r2_train ,'train_rmse': train_rmse, 'r2_test': r2_test, 'adjusted_r2_test': adjusted_r2_test ,'test_rmse': test_rmse, 'cv': cv, 'X_train': X_train, 'X_test': X_test, 'y_train': y_train, 'y_test': y_test, 'y_test_pred': y_test_pred}\n",
    "        else:\n",
    "\n",
    "            ### Train, Test Split of all observations ###\n",
    "            X_train, X_test, y_train, y_test = train_test_split(features, target, random_state=42,test_size=0.2)\n",
    "\n",
    "            ### Run Ridge ###\n",
    "            alpha = [1e-15, 1e-10, 1e-8, 1e-4, 1e-3,1e-2, 1, 5, 10, 20]\n",
    "\n",
    "            ridge = Ridge()\n",
    "\n",
    "            parameters = {'alpha': [1e-15, 1e-10, 1e-8, 1e-4, 1e-3,1e-2, 1, 5, 10, 20]}\n",
    "\n",
    "            ridge_regressor = GridSearchCV(ridge, parameters,scoring='neg_mean_squared_error', cv=5)\n",
    "            ridge_regressor.fit(X_train, y_train)\n",
    "            ridge_regressor.best_params_\n",
    "            \n",
    "            lr_ridge = Ridge(alpha = ridge_regressor.best_params_['alpha'], normalize = True, max_iter= 1000)\n",
    "\n",
    "            \n",
    "            ### Run linear regression on the training data ###\n",
    "            reg = LinearRegression()\n",
    "            lr_ridge.fit(X_train,y_train)\n",
    "            coef_train = lr_ridge.coef_\n",
    "            intercept_train = lr_ridge.intercept_\n",
    "            p_values = f_regression(X_train,y_train)[1]\n",
    "\n",
    "            ### Get r2 and adjusted r2 score of training ###\n",
    "            r2_train = lr_ridge.score(X_train, y_train)\n",
    "\n",
    "            n = X_train.shape[0]\n",
    "            p = X_train.shape[1]\n",
    "            adjusted_r2_train = 1-(1-r2_train)*(n-1)/(n-p-1)\n",
    "\n",
    "            ### Get error values for training ###\n",
    "            y_train_pred = lr_ridge.predict(X_train)\n",
    "\n",
    "            train_mae = metrics.mean_absolute_error(y_train, y_train_pred)\n",
    "            train_mse = metrics.mean_squared_error(y_train, y_train_pred)\n",
    "            train_rmse = np.sqrt(metrics.mean_squared_error(y_train, y_train_pred))\n",
    "\n",
    "            ### Run linear regression on the testing data ###\n",
    "            lr_ridge.score(X_test, y_test)\n",
    "\n",
    "            ### Get r2 and adjusted r2 score of testing ###\n",
    "            r2_test = lr_ridge.score(X_test, y_test)\n",
    "            n = X_test.shape[0]\n",
    "            p = X_test.shape[1]\n",
    "\n",
    "            adjusted_r2_test = 1-(1-r2_test)*(n-1)/(n-p-1)\n",
    "\n",
    "            ### Get error values for testing ###\n",
    "            y_test_pred = lr_ridge.predict(X_test)\n",
    "\n",
    "            test_mae = metrics.mean_absolute_error(y_test, y_test_pred)\n",
    "            test_mse = metrics.mean_squared_error(y_test, y_test_pred)\n",
    "            test_rmse = np.sqrt(metrics.mean_squared_error(y_test, y_test_pred))\n",
    "\n",
    "            ### Get five-fold cross-validation score ###\n",
    "            cv = float(format(cross_val_score(reg,features,target,cv=5).mean(),'.3f'))\n",
    "\n",
    "            return {'coef_train': coef_train, 'intercept_train': intercept_train, 'p_values': p_values, 'r2_train': r2_train, 'adjusted_r2_train': adjusted_r2_train ,'train_rmse': train_rmse, 'r2_test': r2_test, 'adjusted_r2_test': adjusted_r2_test ,'test_rmse': test_rmse, 'cv': cv, 'X_train': X_train, 'X_test': X_test, 'y_train': y_train, 'y_test': y_test, 'y_test_pred': y_test_pred}"
   ]
  },
  {
   "cell_type": "markdown",
   "metadata": {},
   "source": [
    "## Create summary table"
   ]
  },
  {
   "cell_type": "code",
   "execution_count": 99,
   "metadata": {},
   "outputs": [
    {
     "data": {
      "text/html": [
       "<div>\n",
       "<style scoped>\n",
       "    .dataframe tbody tr th:only-of-type {\n",
       "        vertical-align: middle;\n",
       "    }\n",
       "\n",
       "    .dataframe tbody tr th {\n",
       "        vertical-align: top;\n",
       "    }\n",
       "\n",
       "    .dataframe thead th {\n",
       "        text-align: right;\n",
       "    }\n",
       "</style>\n",
       "<table border=\"1\" class=\"dataframe\">\n",
       "  <thead>\n",
       "    <tr style=\"text-align: right;\">\n",
       "      <th></th>\n",
       "      <th>Model</th>\n",
       "      <th>Description</th>\n",
       "      <th>Root Mean Squared Error (RMSE)</th>\n",
       "      <th>R-squared (training)</th>\n",
       "      <th>Adjusted R-squared (training)</th>\n",
       "      <th>R-squared (test)</th>\n",
       "      <th>Adjusted R-squared (test)</th>\n",
       "      <th>5-fold Cross Validation</th>\n",
       "    </tr>\n",
       "  </thead>\n",
       "  <tbody>\n",
       "  </tbody>\n",
       "</table>\n",
       "</div>"
      ],
      "text/plain": [
       "Empty DataFrame\n",
       "Columns: [Model, Description, Root Mean Squared Error (RMSE), R-squared (training), Adjusted R-squared (training), R-squared (test), Adjusted R-squared (test), 5-fold Cross Validation]\n",
       "Index: []"
      ]
     },
     "execution_count": 99,
     "metadata": {},
     "output_type": "execute_result"
    }
   ],
   "source": [
    "summary_df = pd.DataFrame(columns=['Model', 'Description','Root Mean Squared Error (RMSE)', 'R-squared (training)', 'Adjusted R-squared (training)','R-squared (test)', 'Adjusted R-squared (test)', '5-fold Cross Validation'])\n",
    "summary_df"
   ]
  },
  {
   "cell_type": "markdown",
   "metadata": {},
   "source": [
    "## Multiple Linear Regression Models"
   ]
  },
  {
   "cell_type": "markdown",
   "metadata": {},
   "source": [
    "### Multiple Regression - 1 (all features, dummy data)"
   ]
  },
  {
   "cell_type": "markdown",
   "metadata": {},
   "source": [
    "#### Set Target and Features"
   ]
  },
  {
   "cell_type": "code",
   "execution_count": 100,
   "metadata": {},
   "outputs": [],
   "source": [
    "target = df['Global_Sales']\n",
    "features = df[['metascore', 'userscore', 'years_ago', 'generation_lifespan', 'generation_flag', 'Units_Sold']]\n",
    "categorical = df[['Genre','ESRB_Rating','Company','Publisher']]\n",
    "categorical = pd.get_dummies(data=categorical, drop_first=True)\n",
    "features = pd.concat([features, categorical], axis=1)"
   ]
  },
  {
   "cell_type": "markdown",
   "metadata": {},
   "source": [
    "#### Run regression"
   ]
  },
  {
   "cell_type": "code",
   "execution_count": 103,
   "metadata": {
    "scrolled": false
   },
   "outputs": [],
   "source": [
    "result = run_regression(target, features, 0, False)"
   ]
  },
  {
   "cell_type": "markdown",
   "metadata": {},
   "source": [
    "#### Scatter and residual plots"
   ]
  },
  {
   "cell_type": "code",
   "execution_count": 104,
   "metadata": {},
   "outputs": [
    {
     "data": {
      "text/plain": [
       "Text(0, 0.5, 'Predictions')"
      ]
     },
     "execution_count": 104,
     "metadata": {},
     "output_type": "execute_result"
    },
    {
     "data": {
      "image/png": "[encoded data removed]",
      "text/plain": [
       "<Figure size 432x288 with 1 Axes>"
      ]
     },
     "metadata": {
      "needs_background": "light"
     },
     "output_type": "display_data"
    }
   ],
   "source": [
    "plt.scatter(result['y_test'], result['y_test_pred'], alpha=0.3)\n",
    "\n",
    "plt.xlabel(\"True Values\")\n",
    "plt.ylabel(\"Predictions\")"
   ]
  },
  {
   "cell_type": "code",
   "execution_count": 105,
   "metadata": {},
   "outputs": [
    {
     "data": {
      "text/plain": [
       "<matplotlib.axes._subplots.AxesSubplot at 0x1c288c9310>"
      ]
     },
     "execution_count": 105,
     "metadata": {},
     "output_type": "execute_result"
    },
    {
     "data": {
      "image/png": "[encoded data removed]",
      "text/plain": [
       "<Figure size 432x288 with 1 Axes>"
      ]
     },
     "metadata": {
      "needs_background": "light"
     },
     "output_type": "display_data"
    }
   ],
   "source": [
    "sns.residplot(result['y_test_pred'], result['y_test'], lowess=True, color=\"g\")"
   ]
  },
  {
   "cell_type": "code",
   "execution_count": 106,
   "metadata": {},
   "outputs": [
    {
     "data": {
      "image/png": "[encoded data removed]",
      "text/plain": [
       "<Figure size 432x288 with 1 Axes>"
      ]
     },
     "metadata": {
      "needs_background": "light"
     },
     "output_type": "display_data"
    }
   ],
   "source": [
    "sns.kdeplot(result['y_test_pred'], label = \"Predictions\")\n",
    "sns.kdeplot(result['y_test'], label = \"Test\")\n",
    "sns.kdeplot(result['y_train'], label = \"Train\")\n",
    "\n",
    "plt.xlabel(\"Global Sales\"); plt.ylabel(\"Density\");\n",
    "plt.title(\"Test, Train Values and Predictions\");"
   ]
  },
  {
   "cell_type": "markdown",
   "metadata": {},
   "source": [
    "#### Updated summary table of all models"
   ]
  },
  {
   "cell_type": "code",
   "execution_count": 107,
   "metadata": {
    "scrolled": true
   },
   "outputs": [
    {
     "data": {
      "text/html": [
       "<div>\n",
       "<style scoped>\n",
       "    .dataframe tbody tr th:only-of-type {\n",
       "        vertical-align: middle;\n",
       "    }\n",
       "\n",
       "    .dataframe tbody tr th {\n",
       "        vertical-align: top;\n",
       "    }\n",
       "\n",
       "    .dataframe thead th {\n",
       "        text-align: right;\n",
       "    }\n",
       "</style>\n",
       "<table border=\"1\" class=\"dataframe\">\n",
       "  <thead>\n",
       "    <tr style=\"text-align: right;\">\n",
       "      <th></th>\n",
       "      <th>Model</th>\n",
       "      <th>Description</th>\n",
       "      <th>Root Mean Squared Error (RMSE)</th>\n",
       "      <th>R-squared (training)</th>\n",
       "      <th>Adjusted R-squared (training)</th>\n",
       "      <th>R-squared (test)</th>\n",
       "      <th>Adjusted R-squared (test)</th>\n",
       "      <th>5-fold Cross Validation</th>\n",
       "    </tr>\n",
       "  </thead>\n",
       "  <tbody>\n",
       "    <tr>\n",
       "      <td>0</td>\n",
       "      <td>Model 1</td>\n",
       "      <td>All features, dummy data</td>\n",
       "      <td>1.048626</td>\n",
       "      <td>0.258145</td>\n",
       "      <td>0.246983</td>\n",
       "      <td>0.229392</td>\n",
       "      <td>0.180818</td>\n",
       "      <td>-257.559</td>\n",
       "    </tr>\n",
       "  </tbody>\n",
       "</table>\n",
       "</div>"
      ],
      "text/plain": [
       "     Model               Description  Root Mean Squared Error (RMSE)  \\\n",
       "0  Model 1  All features, dummy data                        1.048626   \n",
       "\n",
       "   R-squared (training)  Adjusted R-squared (training)  R-squared (test)  \\\n",
       "0              0.258145                       0.246983          0.229392   \n",
       "\n",
       "   Adjusted R-squared (test)  5-fold Cross Validation  \n",
       "0                   0.180818                 -257.559  "
      ]
     },
     "execution_count": 107,
     "metadata": {},
     "output_type": "execute_result"
    }
   ],
   "source": [
    "summary_df = summary_df.append({'Model' : 'Model 1', 'Description' : 'All features, dummy data' , 'Root Mean Squared Error (RMSE)' : result['train_rmse'], 'R-squared (training)' : result['r2_train'], 'Adjusted R-squared (training)': result['adjusted_r2_train'], 'R-squared (test)' : result['r2_test'], 'Adjusted R-squared (test)' : result['adjusted_r2_test'], '5-fold Cross Validation' : result['cv']} , ignore_index=True)\n",
    "summary_df"
   ]
  },
  {
   "cell_type": "markdown",
   "metadata": {},
   "source": [
    "### Multiple Regression - 2 (all features, aggregated categorical data)"
   ]
  },
  {
   "cell_type": "markdown",
   "metadata": {},
   "source": [
    "#### Set Target and Features"
   ]
  },
  {
   "cell_type": "code",
   "execution_count": 109,
   "metadata": {},
   "outputs": [],
   "source": [
    "target = df['Global_Sales']\n",
    "features = df[['metascore', 'userscore','years_ago', 'generation_lifespan', 'generation_flag', 'Units_Sold', 'Publisher_Metascore', 'Publisher_Userscore', 'Developer_Metascore', 'Developer_Userscore', 'Genre_Metascore', 'Genre_Userscore']]"
   ]
  },
  {
   "cell_type": "markdown",
   "metadata": {},
   "source": [
    "#### Run regression"
   ]
  },
  {
   "cell_type": "code",
   "execution_count": 110,
   "metadata": {
    "scrolled": false
   },
   "outputs": [],
   "source": [
    "result = run_regression(target, features, 0, False)"
   ]
  },
  {
   "cell_type": "markdown",
   "metadata": {},
   "source": [
    "#### Scatter and residual plots"
   ]
  },
  {
   "cell_type": "code",
   "execution_count": 111,
   "metadata": {},
   "outputs": [
    {
     "data": {
      "text/plain": [
       "Text(0, 0.5, 'Predictions')"
      ]
     },
     "execution_count": 111,
     "metadata": {},
     "output_type": "execute_result"
    },
    {
     "data": {
      "image/png": "[encoded data removed]",
      "text/plain": [
       "<Figure size 432x288 with 1 Axes>"
      ]
     },
     "metadata": {
      "needs_background": "light"
     },
     "output_type": "display_data"
    }
   ],
   "source": [
    "plt.scatter(result['y_test'], result['y_test_pred'], alpha=0.3)\n",
    "\n",
    "plt.xlabel(\"True Values\")\n",
    "plt.ylabel(\"Predictions\")"
   ]
  },
  {
   "cell_type": "code",
   "execution_count": 112,
   "metadata": {},
   "outputs": [
    {
     "data": {
      "text/plain": [
       "<matplotlib.axes._subplots.AxesSubplot at 0x1c29f8d150>"
      ]
     },
     "execution_count": 112,
     "metadata": {},
     "output_type": "execute_result"
    },
    {
     "data": {
      "image/png": "[encoded data removed]",
      "text/plain": [
       "<Figure size 432x288 with 1 Axes>"
      ]
     },
     "metadata": {
      "needs_background": "light"
     },
     "output_type": "display_data"
    }
   ],
   "source": [
    "sns.residplot(result['y_test_pred'], result['y_test'], lowess=True, color=\"g\")"
   ]
  },
  {
   "cell_type": "code",
   "execution_count": 113,
   "metadata": {},
   "outputs": [
    {
     "data": {
      "image/png": "[encoded data removed]",
      "text/plain": [
       "<Figure size 432x288 with 1 Axes>"
      ]
     },
     "metadata": {
      "needs_background": "light"
     },
     "output_type": "display_data"
    }
   ],
   "source": [
    "sns.kdeplot(result['y_test_pred'], label = \"Predictions\")\n",
    "sns.kdeplot(result['y_test'], label = \"Test\")\n",
    "sns.kdeplot(result['y_train'], label = \"Train\")\n",
    "\n",
    "plt.xlabel(\"Global Sales\"); plt.ylabel(\"Density\");\n",
    "plt.title(\"Test, Train Values and Predictions\");"
   ]
  },
  {
   "cell_type": "markdown",
   "metadata": {},
   "source": [
    "#### Updated summary table of all models"
   ]
  },
  {
   "cell_type": "code",
   "execution_count": 114,
   "metadata": {
    "scrolled": true
   },
   "outputs": [
    {
     "data": {
      "text/html": [
       "<div>\n",
       "<style scoped>\n",
       "    .dataframe tbody tr th:only-of-type {\n",
       "        vertical-align: middle;\n",
       "    }\n",
       "\n",
       "    .dataframe tbody tr th {\n",
       "        vertical-align: top;\n",
       "    }\n",
       "\n",
       "    .dataframe thead th {\n",
       "        text-align: right;\n",
       "    }\n",
       "</style>\n",
       "<table border=\"1\" class=\"dataframe\">\n",
       "  <thead>\n",
       "    <tr style=\"text-align: right;\">\n",
       "      <th></th>\n",
       "      <th>Model</th>\n",
       "      <th>Description</th>\n",
       "      <th>Root Mean Squared Error (RMSE)</th>\n",
       "      <th>R-squared (training)</th>\n",
       "      <th>Adjusted R-squared (training)</th>\n",
       "      <th>R-squared (test)</th>\n",
       "      <th>Adjusted R-squared (test)</th>\n",
       "      <th>5-fold Cross Validation</th>\n",
       "    </tr>\n",
       "  </thead>\n",
       "  <tbody>\n",
       "    <tr>\n",
       "      <td>0</td>\n",
       "      <td>Model 1</td>\n",
       "      <td>All features, dummy data</td>\n",
       "      <td>1.048626</td>\n",
       "      <td>0.258145</td>\n",
       "      <td>0.246983</td>\n",
       "      <td>0.229392</td>\n",
       "      <td>0.180818</td>\n",
       "      <td>-257.559</td>\n",
       "    </tr>\n",
       "    <tr>\n",
       "      <td>1</td>\n",
       "      <td>Model 2</td>\n",
       "      <td>All features, aggregated categorical data</td>\n",
       "      <td>1.094879</td>\n",
       "      <td>0.191257</td>\n",
       "      <td>0.189309</td>\n",
       "      <td>0.227612</td>\n",
       "      <td>0.220113</td>\n",
       "      <td>-256.925</td>\n",
       "    </tr>\n",
       "  </tbody>\n",
       "</table>\n",
       "</div>"
      ],
      "text/plain": [
       "     Model                                Description  \\\n",
       "0  Model 1                   All features, dummy data   \n",
       "1  Model 2  All features, aggregated categorical data   \n",
       "\n",
       "   Root Mean Squared Error (RMSE)  R-squared (training)  \\\n",
       "0                        1.048626              0.258145   \n",
       "1                        1.094879              0.191257   \n",
       "\n",
       "   Adjusted R-squared (training)  R-squared (test)  Adjusted R-squared (test)  \\\n",
       "0                       0.246983          0.229392                   0.180818   \n",
       "1                       0.189309          0.227612                   0.220113   \n",
       "\n",
       "   5-fold Cross Validation  \n",
       "0                 -257.559  \n",
       "1                 -256.925  "
      ]
     },
     "execution_count": 114,
     "metadata": {},
     "output_type": "execute_result"
    }
   ],
   "source": [
    "summary_df = summary_df.append({'Model' : 'Model 2', 'Description' : 'All features, aggregated categorical data' , 'Root Mean Squared Error (RMSE)' : result['train_rmse'], 'R-squared (training)' : result['r2_train'], 'Adjusted R-squared (training)': result['adjusted_r2_train'], 'R-squared (test)' : result['r2_test'], 'Adjusted R-squared (test)' : result['adjusted_r2_test'], '5-fold Cross Validation' : result['cv']} , ignore_index=True)\n",
    "summary_df"
   ]
  },
  {
   "cell_type": "code",
   "execution_count": null,
   "metadata": {},
   "outputs": [],
   "source": []
  },
  {
   "cell_type": "markdown",
   "metadata": {},
   "source": [
    "### Multiple Regression - 3 (features based on Lasso, aggregated categorical data)"
   ]
  },
  {
   "cell_type": "markdown",
   "metadata": {},
   "source": [
    "#### Set Target and Features"
   ]
  },
  {
   "cell_type": "code",
   "execution_count": 115,
   "metadata": {},
   "outputs": [],
   "source": [
    "target = df['Global_Sales']\n",
    "features = df[['metascore','years_ago', 'generation_lifespan', 'Units_Sold', 'Publisher_Metascore', 'Publisher_Userscore', 'Developer_Metascore', 'Developer_Userscore', 'Genre_Metascore', 'Genre_Userscore']]"
   ]
  },
  {
   "cell_type": "markdown",
   "metadata": {},
   "source": [
    "#### Run regression"
   ]
  },
  {
   "cell_type": "code",
   "execution_count": 116,
   "metadata": {
    "scrolled": false
   },
   "outputs": [],
   "source": [
    "result = run_regression(target, features, 0, False)"
   ]
  },
  {
   "cell_type": "markdown",
   "metadata": {},
   "source": [
    "#### Scatter and residual plots"
   ]
  },
  {
   "cell_type": "code",
   "execution_count": 117,
   "metadata": {},
   "outputs": [
    {
     "data": {
      "text/plain": [
       "Text(0, 0.5, 'Predictions')"
      ]
     },
     "execution_count": 117,
     "metadata": {},
     "output_type": "execute_result"
    },
    {
     "data": {
      "image/png": "[encoded data removed]",
      "text/plain": [
       "<Figure size 432x288 with 1 Axes>"
      ]
     },
     "metadata": {
      "needs_background": "light"
     },
     "output_type": "display_data"
    }
   ],
   "source": [
    "plt.scatter(result['y_test'], result['y_test_pred'], alpha=0.3)\n",
    "\n",
    "plt.xlabel(\"True Values\")\n",
    "plt.ylabel(\"Predictions\")"
   ]
  },
  {
   "cell_type": "code",
   "execution_count": 118,
   "metadata": {},
   "outputs": [
    {
     "data": {
      "text/plain": [
       "<matplotlib.axes._subplots.AxesSubplot at 0x1c2806d6d0>"
      ]
     },
     "execution_count": 118,
     "metadata": {},
     "output_type": "execute_result"
    },
    {
     "data": {
      "image/png": "[encoded data removed]",
      "text/plain": [
       "<Figure size 432x288 with 1 Axes>"
      ]
     },
     "metadata": {
      "needs_background": "light"
     },
     "output_type": "display_data"
    }
   ],
   "source": [
    "sns.residplot(result['y_test_pred'], result['y_test'], lowess=True, color=\"g\")"
   ]
  },
  {
   "cell_type": "code",
   "execution_count": 119,
   "metadata": {},
   "outputs": [
    {
     "data": {
      "image/png": "[encoded data removed]",
      "text/plain": [
       "<Figure size 432x288 with 1 Axes>"
      ]
     },
     "metadata": {
      "needs_background": "light"
     },
     "output_type": "display_data"
    }
   ],
   "source": [
    "sns.kdeplot(result['y_test_pred'], label = \"Predictions\")\n",
    "sns.kdeplot(result['y_test'], label = \"Test\")\n",
    "sns.kdeplot(result['y_train'], label = \"Train\")\n",
    "\n",
    "plt.xlabel(\"Global Sales\"); plt.ylabel(\"Density\");\n",
    "plt.title(\"Test, Train Values and Predictions\");"
   ]
  },
  {
   "cell_type": "markdown",
   "metadata": {},
   "source": [
    "#### Updated summary table of all models"
   ]
  },
  {
   "cell_type": "code",
   "execution_count": 120,
   "metadata": {
    "scrolled": true
   },
   "outputs": [
    {
     "data": {
      "text/html": [
       "<div>\n",
       "<style scoped>\n",
       "    .dataframe tbody tr th:only-of-type {\n",
       "        vertical-align: middle;\n",
       "    }\n",
       "\n",
       "    .dataframe tbody tr th {\n",
       "        vertical-align: top;\n",
       "    }\n",
       "\n",
       "    .dataframe thead th {\n",
       "        text-align: right;\n",
       "    }\n",
       "</style>\n",
       "<table border=\"1\" class=\"dataframe\">\n",
       "  <thead>\n",
       "    <tr style=\"text-align: right;\">\n",
       "      <th></th>\n",
       "      <th>Model</th>\n",
       "      <th>Description</th>\n",
       "      <th>Root Mean Squared Error (RMSE)</th>\n",
       "      <th>R-squared (training)</th>\n",
       "      <th>Adjusted R-squared (training)</th>\n",
       "      <th>R-squared (test)</th>\n",
       "      <th>Adjusted R-squared (test)</th>\n",
       "      <th>5-fold Cross Validation</th>\n",
       "    </tr>\n",
       "  </thead>\n",
       "  <tbody>\n",
       "    <tr>\n",
       "      <td>0</td>\n",
       "      <td>Model 1</td>\n",
       "      <td>All features, dummy data</td>\n",
       "      <td>1.048626</td>\n",
       "      <td>0.258145</td>\n",
       "      <td>0.246983</td>\n",
       "      <td>0.229392</td>\n",
       "      <td>0.180818</td>\n",
       "      <td>-257.559</td>\n",
       "    </tr>\n",
       "    <tr>\n",
       "      <td>1</td>\n",
       "      <td>Model 2</td>\n",
       "      <td>All features, aggregated categorical data</td>\n",
       "      <td>1.094879</td>\n",
       "      <td>0.191257</td>\n",
       "      <td>0.189309</td>\n",
       "      <td>0.227612</td>\n",
       "      <td>0.220113</td>\n",
       "      <td>-256.925</td>\n",
       "    </tr>\n",
       "    <tr>\n",
       "      <td>2</td>\n",
       "      <td>Model 3</td>\n",
       "      <td>Features based on Lasso, aggregated categorica...</td>\n",
       "      <td>1.105894</td>\n",
       "      <td>0.174903</td>\n",
       "      <td>0.173247</td>\n",
       "      <td>0.201822</td>\n",
       "      <td>0.195375</td>\n",
       "      <td>-263.460</td>\n",
       "    </tr>\n",
       "  </tbody>\n",
       "</table>\n",
       "</div>"
      ],
      "text/plain": [
       "     Model                                        Description  \\\n",
       "0  Model 1                           All features, dummy data   \n",
       "1  Model 2          All features, aggregated categorical data   \n",
       "2  Model 3  Features based on Lasso, aggregated categorica...   \n",
       "\n",
       "   Root Mean Squared Error (RMSE)  R-squared (training)  \\\n",
       "0                        1.048626              0.258145   \n",
       "1                        1.094879              0.191257   \n",
       "2                        1.105894              0.174903   \n",
       "\n",
       "   Adjusted R-squared (training)  R-squared (test)  Adjusted R-squared (test)  \\\n",
       "0                       0.246983          0.229392                   0.180818   \n",
       "1                       0.189309          0.227612                   0.220113   \n",
       "2                       0.173247          0.201822                   0.195375   \n",
       "\n",
       "   5-fold Cross Validation  \n",
       "0                 -257.559  \n",
       "1                 -256.925  \n",
       "2                 -263.460  "
      ]
     },
     "execution_count": 120,
     "metadata": {},
     "output_type": "execute_result"
    }
   ],
   "source": [
    "summary_df = summary_df.append({'Model' : 'Model 3', 'Description' : 'Features based on Lasso, aggregated categorical data' , 'Root Mean Squared Error (RMSE)' : result['train_rmse'], 'R-squared (training)' : result['r2_train'], 'Adjusted R-squared (training)': result['adjusted_r2_train'], 'R-squared (test)' : result['r2_test'], 'Adjusted R-squared (test)' : result['adjusted_r2_test'], '5-fold Cross Validation' : result['cv']} , ignore_index=True)\n",
    "summary_df"
   ]
  },
  {
   "cell_type": "code",
   "execution_count": null,
   "metadata": {},
   "outputs": [],
   "source": []
  },
  {
   "cell_type": "markdown",
   "metadata": {},
   "source": [
    "### Multiple Regression - 4 (all features, dummy data, polynomial 1st degree)"
   ]
  },
  {
   "cell_type": "markdown",
   "metadata": {},
   "source": [
    "#### Set Target and Features"
   ]
  },
  {
   "cell_type": "code",
   "execution_count": 121,
   "metadata": {},
   "outputs": [],
   "source": [
    "target = df['Global_Sales']\n",
    "features = df[['metascore', 'userscore', 'years_ago', 'generation_lifespan', 'generation_flag', 'Units_Sold']]\n",
    "categorical = df[['Genre','ESRB_Rating','Company','Publisher']]\n",
    "categorical = pd.get_dummies(data=categorical, drop_first=True)\n",
    "features = pd.concat([features, categorical], axis=1)"
   ]
  },
  {
   "cell_type": "markdown",
   "metadata": {},
   "source": [
    "#### Run regression"
   ]
  },
  {
   "cell_type": "code",
   "execution_count": 122,
   "metadata": {
    "scrolled": false
   },
   "outputs": [],
   "source": [
    "result = run_regression(target, features, 1, False)"
   ]
  },
  {
   "cell_type": "markdown",
   "metadata": {},
   "source": [
    "#### Scatter and residual plots"
   ]
  },
  {
   "cell_type": "code",
   "execution_count": 123,
   "metadata": {},
   "outputs": [
    {
     "data": {
      "text/plain": [
       "Text(0, 0.5, 'Predictions')"
      ]
     },
     "execution_count": 123,
     "metadata": {},
     "output_type": "execute_result"
    },
    {
     "data": {
      "image/png": "[encoded data removed]",
      "text/plain": [
       "<Figure size 432x288 with 1 Axes>"
      ]
     },
     "metadata": {
      "needs_background": "light"
     },
     "output_type": "display_data"
    }
   ],
   "source": [
    "plt.scatter(result['y_test'], result['y_test_pred'], alpha=0.3)\n",
    "\n",
    "plt.xlabel(\"True Values\")\n",
    "plt.ylabel(\"Predictions\")"
   ]
  },
  {
   "cell_type": "code",
   "execution_count": 124,
   "metadata": {},
   "outputs": [
    {
     "data": {
      "text/plain": [
       "<matplotlib.axes._subplots.AxesSubplot at 0x1c2aaf2bd0>"
      ]
     },
     "execution_count": 124,
     "metadata": {},
     "output_type": "execute_result"
    },
    {
     "data": {
      "image/png": "[encoded data removed]",
      "text/plain": [
       "<Figure size 432x288 with 1 Axes>"
      ]
     },
     "metadata": {
      "needs_background": "light"
     },
     "output_type": "display_data"
    }
   ],
   "source": [
    "sns.residplot(result['y_test_pred'], result['y_test'], lowess=True, color=\"g\")"
   ]
  },
  {
   "cell_type": "code",
   "execution_count": 125,
   "metadata": {},
   "outputs": [
    {
     "data": {
      "image/png": "[encoded data removed]",
      "text/plain": [
       "<Figure size 432x288 with 1 Axes>"
      ]
     },
     "metadata": {
      "needs_background": "light"
     },
     "output_type": "display_data"
    }
   ],
   "source": [
    "sns.kdeplot(result['y_test_pred'], label = \"Predictions\")\n",
    "sns.kdeplot(result['y_test'], label = \"Test\")\n",
    "sns.kdeplot(result['y_train'], label = \"Train\")\n",
    "\n",
    "plt.xlabel(\"Global Sales\"); plt.ylabel(\"Density\");\n",
    "plt.title(\"Test, Train Values and Predictions\");"
   ]
  },
  {
   "cell_type": "markdown",
   "metadata": {},
   "source": [
    "#### Updated summary table of all models"
   ]
  },
  {
   "cell_type": "code",
   "execution_count": 126,
   "metadata": {
    "scrolled": true
   },
   "outputs": [
    {
     "data": {
      "text/html": [
       "<div>\n",
       "<style scoped>\n",
       "    .dataframe tbody tr th:only-of-type {\n",
       "        vertical-align: middle;\n",
       "    }\n",
       "\n",
       "    .dataframe tbody tr th {\n",
       "        vertical-align: top;\n",
       "    }\n",
       "\n",
       "    .dataframe thead th {\n",
       "        text-align: right;\n",
       "    }\n",
       "</style>\n",
       "<table border=\"1\" class=\"dataframe\">\n",
       "  <thead>\n",
       "    <tr style=\"text-align: right;\">\n",
       "      <th></th>\n",
       "      <th>Model</th>\n",
       "      <th>Description</th>\n",
       "      <th>Root Mean Squared Error (RMSE)</th>\n",
       "      <th>R-squared (training)</th>\n",
       "      <th>Adjusted R-squared (training)</th>\n",
       "      <th>R-squared (test)</th>\n",
       "      <th>Adjusted R-squared (test)</th>\n",
       "      <th>5-fold Cross Validation</th>\n",
       "    </tr>\n",
       "  </thead>\n",
       "  <tbody>\n",
       "    <tr>\n",
       "      <td>0</td>\n",
       "      <td>Model 1</td>\n",
       "      <td>All features, dummy data</td>\n",
       "      <td>1.048626</td>\n",
       "      <td>0.258145</td>\n",
       "      <td>0.246983</td>\n",
       "      <td>0.229392</td>\n",
       "      <td>0.180818</td>\n",
       "      <td>-257.559</td>\n",
       "    </tr>\n",
       "    <tr>\n",
       "      <td>1</td>\n",
       "      <td>Model 2</td>\n",
       "      <td>All features, aggregated categorical data</td>\n",
       "      <td>1.094879</td>\n",
       "      <td>0.191257</td>\n",
       "      <td>0.189309</td>\n",
       "      <td>0.227612</td>\n",
       "      <td>0.220113</td>\n",
       "      <td>-256.925</td>\n",
       "    </tr>\n",
       "    <tr>\n",
       "      <td>2</td>\n",
       "      <td>Model 3</td>\n",
       "      <td>Features based on Lasso, aggregated categorica...</td>\n",
       "      <td>1.105894</td>\n",
       "      <td>0.174903</td>\n",
       "      <td>0.173247</td>\n",
       "      <td>0.201822</td>\n",
       "      <td>0.195375</td>\n",
       "      <td>-263.460</td>\n",
       "    </tr>\n",
       "    <tr>\n",
       "      <td>3</td>\n",
       "      <td>Model 4</td>\n",
       "      <td>All features, dummy data, polynomial 1st degree</td>\n",
       "      <td>1.048626</td>\n",
       "      <td>0.258145</td>\n",
       "      <td>0.246830</td>\n",
       "      <td>0.229392</td>\n",
       "      <td>0.180120</td>\n",
       "      <td>-257.559</td>\n",
       "    </tr>\n",
       "  </tbody>\n",
       "</table>\n",
       "</div>"
      ],
      "text/plain": [
       "     Model                                        Description  \\\n",
       "0  Model 1                           All features, dummy data   \n",
       "1  Model 2          All features, aggregated categorical data   \n",
       "2  Model 3  Features based on Lasso, aggregated categorica...   \n",
       "3  Model 4    All features, dummy data, polynomial 1st degree   \n",
       "\n",
       "   Root Mean Squared Error (RMSE)  R-squared (training)  \\\n",
       "0                        1.048626              0.258145   \n",
       "1                        1.094879              0.191257   \n",
       "2                        1.105894              0.174903   \n",
       "3                        1.048626              0.258145   \n",
       "\n",
       "   Adjusted R-squared (training)  R-squared (test)  Adjusted R-squared (test)  \\\n",
       "0                       0.246983          0.229392                   0.180818   \n",
       "1                       0.189309          0.227612                   0.220113   \n",
       "2                       0.173247          0.201822                   0.195375   \n",
       "3                       0.246830          0.229392                   0.180120   \n",
       "\n",
       "   5-fold Cross Validation  \n",
       "0                 -257.559  \n",
       "1                 -256.925  \n",
       "2                 -263.460  \n",
       "3                 -257.559  "
      ]
     },
     "execution_count": 126,
     "metadata": {},
     "output_type": "execute_result"
    }
   ],
   "source": [
    "summary_df = summary_df.append({'Model' : 'Model 4', 'Description' : 'All features, dummy data, polynomial 1st degree' , 'Root Mean Squared Error (RMSE)' : result['train_rmse'], 'R-squared (training)' : result['r2_train'], 'Adjusted R-squared (training)': result['adjusted_r2_train'], 'R-squared (test)' : result['r2_test'], 'Adjusted R-squared (test)' : result['adjusted_r2_test'], '5-fold Cross Validation' : result['cv']} , ignore_index=True)\n",
    "summary_df"
   ]
  },
  {
   "cell_type": "code",
   "execution_count": null,
   "metadata": {},
   "outputs": [],
   "source": []
  },
  {
   "cell_type": "markdown",
   "metadata": {},
   "source": [
    "### Multiple Regression - 5 (all features, dummy data, polynomial 2nd degree)"
   ]
  },
  {
   "cell_type": "markdown",
   "metadata": {},
   "source": [
    "#### Set Target and Features"
   ]
  },
  {
   "cell_type": "code",
   "execution_count": 127,
   "metadata": {},
   "outputs": [],
   "source": [
    "target = df['Global_Sales']\n",
    "features = df[['metascore', 'userscore', 'years_ago', 'generation_lifespan', 'generation_flag', 'Units_Sold']]\n",
    "categorical = df[['Genre','ESRB_Rating','Company','Publisher']]\n",
    "categorical = pd.get_dummies(data=categorical, drop_first=True)\n",
    "features = pd.concat([features, categorical], axis=1)"
   ]
  },
  {
   "cell_type": "markdown",
   "metadata": {},
   "source": [
    "#### Run regression"
   ]
  },
  {
   "cell_type": "code",
   "execution_count": 129,
   "metadata": {
    "scrolled": false
   },
   "outputs": [],
   "source": [
    "result = run_regression(target, features, 2, False)"
   ]
  },
  {
   "cell_type": "markdown",
   "metadata": {},
   "source": [
    "#### Scatter and residual plots"
   ]
  },
  {
   "cell_type": "code",
   "execution_count": 130,
   "metadata": {},
   "outputs": [
    {
     "data": {
      "text/plain": [
       "Text(0, 0.5, 'Predictions')"
      ]
     },
     "execution_count": 130,
     "metadata": {},
     "output_type": "execute_result"
    },
    {
     "data": {
      "image/png": "[encoded data removed]",
      "text/plain": [
       "<Figure size 432x288 with 1 Axes>"
      ]
     },
     "metadata": {
      "needs_background": "light"
     },
     "output_type": "display_data"
    }
   ],
   "source": [
    "plt.scatter(result['y_test'], result['y_test_pred'], alpha=0.3)\n",
    "\n",
    "plt.xlabel(\"True Values\")\n",
    "plt.ylabel(\"Predictions\")"
   ]
  },
  {
   "cell_type": "code",
   "execution_count": 131,
   "metadata": {},
   "outputs": [
    {
     "data": {
      "text/plain": [
       "<matplotlib.axes._subplots.AxesSubplot at 0x1c2c16f310>"
      ]
     },
     "execution_count": 131,
     "metadata": {},
     "output_type": "execute_result"
    },
    {
     "data": {
      "image/png": "[encoded data removed]",
      "text/plain": [
       "<Figure size 432x288 with 1 Axes>"
      ]
     },
     "metadata": {
      "needs_background": "light"
     },
     "output_type": "display_data"
    }
   ],
   "source": [
    "sns.residplot(result['y_test_pred'], result['y_test'], lowess=True, color=\"g\")"
   ]
  },
  {
   "cell_type": "code",
   "execution_count": 132,
   "metadata": {},
   "outputs": [
    {
     "data": {
      "image/png": "[encoded data removed]",
      "text/plain": [
       "<Figure size 432x288 with 1 Axes>"
      ]
     },
     "metadata": {
      "needs_background": "light"
     },
     "output_type": "display_data"
    }
   ],
   "source": [
    "sns.kdeplot(result['y_test_pred'], label = \"Predictions\")\n",
    "sns.kdeplot(result['y_test'], label = \"Test\")\n",
    "sns.kdeplot(result['y_train'], label = \"Train\")\n",
    "\n",
    "plt.xlabel(\"Global Sales\"); plt.ylabel(\"Density\");\n",
    "plt.title(\"Test, Train Values and Predictions\");"
   ]
  },
  {
   "cell_type": "markdown",
   "metadata": {},
   "source": [
    "#### Updated summary table of all models"
   ]
  },
  {
   "cell_type": "code",
   "execution_count": 133,
   "metadata": {
    "scrolled": true
   },
   "outputs": [
    {
     "data": {
      "text/html": [
       "<div>\n",
       "<style scoped>\n",
       "    .dataframe tbody tr th:only-of-type {\n",
       "        vertical-align: middle;\n",
       "    }\n",
       "\n",
       "    .dataframe tbody tr th {\n",
       "        vertical-align: top;\n",
       "    }\n",
       "\n",
       "    .dataframe thead th {\n",
       "        text-align: right;\n",
       "    }\n",
       "</style>\n",
       "<table border=\"1\" class=\"dataframe\">\n",
       "  <thead>\n",
       "    <tr style=\"text-align: right;\">\n",
       "      <th></th>\n",
       "      <th>Model</th>\n",
       "      <th>Description</th>\n",
       "      <th>Root Mean Squared Error (RMSE)</th>\n",
       "      <th>R-squared (training)</th>\n",
       "      <th>Adjusted R-squared (training)</th>\n",
       "      <th>R-squared (test)</th>\n",
       "      <th>Adjusted R-squared (test)</th>\n",
       "      <th>5-fold Cross Validation</th>\n",
       "    </tr>\n",
       "  </thead>\n",
       "  <tbody>\n",
       "    <tr>\n",
       "      <td>0</td>\n",
       "      <td>Model 1</td>\n",
       "      <td>All features, dummy data</td>\n",
       "      <td>1.048626</td>\n",
       "      <td>0.258145</td>\n",
       "      <td>0.246983</td>\n",
       "      <td>2.293918e-01</td>\n",
       "      <td>1.808185e-01</td>\n",
       "      <td>-257.559</td>\n",
       "    </tr>\n",
       "    <tr>\n",
       "      <td>1</td>\n",
       "      <td>Model 2</td>\n",
       "      <td>All features, aggregated categorical data</td>\n",
       "      <td>1.094879</td>\n",
       "      <td>0.191257</td>\n",
       "      <td>0.189309</td>\n",
       "      <td>2.276115e-01</td>\n",
       "      <td>2.201126e-01</td>\n",
       "      <td>-256.925</td>\n",
       "    </tr>\n",
       "    <tr>\n",
       "      <td>2</td>\n",
       "      <td>Model 3</td>\n",
       "      <td>Features based on Lasso, aggregated categorica...</td>\n",
       "      <td>1.105894</td>\n",
       "      <td>0.174903</td>\n",
       "      <td>0.173247</td>\n",
       "      <td>2.018219e-01</td>\n",
       "      <td>1.953746e-01</td>\n",
       "      <td>-263.460</td>\n",
       "    </tr>\n",
       "    <tr>\n",
       "      <td>3</td>\n",
       "      <td>Model 4</td>\n",
       "      <td>All features, dummy data, polynomial 1st degree</td>\n",
       "      <td>1.048626</td>\n",
       "      <td>0.258145</td>\n",
       "      <td>0.246830</td>\n",
       "      <td>2.293918e-01</td>\n",
       "      <td>1.801201e-01</td>\n",
       "      <td>-257.559</td>\n",
       "    </tr>\n",
       "    <tr>\n",
       "      <td>4</td>\n",
       "      <td>Model 5</td>\n",
       "      <td>All features, dummy data, polynomial 2md degree</td>\n",
       "      <td>0.733596</td>\n",
       "      <td>0.636929</td>\n",
       "      <td>0.153852</td>\n",
       "      <td>-2.583915e+07</td>\n",
       "      <td>2.012938e+07</td>\n",
       "      <td>-257.559</td>\n",
       "    </tr>\n",
       "  </tbody>\n",
       "</table>\n",
       "</div>"
      ],
      "text/plain": [
       "     Model                                        Description  \\\n",
       "0  Model 1                           All features, dummy data   \n",
       "1  Model 2          All features, aggregated categorical data   \n",
       "2  Model 3  Features based on Lasso, aggregated categorica...   \n",
       "3  Model 4    All features, dummy data, polynomial 1st degree   \n",
       "4  Model 5    All features, dummy data, polynomial 2md degree   \n",
       "\n",
       "   Root Mean Squared Error (RMSE)  R-squared (training)  \\\n",
       "0                        1.048626              0.258145   \n",
       "1                        1.094879              0.191257   \n",
       "2                        1.105894              0.174903   \n",
       "3                        1.048626              0.258145   \n",
       "4                        0.733596              0.636929   \n",
       "\n",
       "   Adjusted R-squared (training)  R-squared (test)  Adjusted R-squared (test)  \\\n",
       "0                       0.246983      2.293918e-01               1.808185e-01   \n",
       "1                       0.189309      2.276115e-01               2.201126e-01   \n",
       "2                       0.173247      2.018219e-01               1.953746e-01   \n",
       "3                       0.246830      2.293918e-01               1.801201e-01   \n",
       "4                       0.153852     -2.583915e+07               2.012938e+07   \n",
       "\n",
       "   5-fold Cross Validation  \n",
       "0                 -257.559  \n",
       "1                 -256.925  \n",
       "2                 -263.460  \n",
       "3                 -257.559  \n",
       "4                 -257.559  "
      ]
     },
     "execution_count": 133,
     "metadata": {},
     "output_type": "execute_result"
    }
   ],
   "source": [
    "summary_df = summary_df.append({'Model' : 'Model 5', 'Description' : 'All features, dummy data, polynomial 2md degree' , 'Root Mean Squared Error (RMSE)' : result['train_rmse'], 'R-squared (training)' : result['r2_train'], 'Adjusted R-squared (training)': result['adjusted_r2_train'], 'R-squared (test)' : result['r2_test'], 'Adjusted R-squared (test)' : result['adjusted_r2_test'], '5-fold Cross Validation' : result['cv']} , ignore_index=True)\n",
    "summary_df"
   ]
  },
  {
   "cell_type": "code",
   "execution_count": null,
   "metadata": {},
   "outputs": [],
   "source": []
  },
  {
   "cell_type": "markdown",
   "metadata": {},
   "source": [
    "### Multiple Regression - 6 (all features, aggregated categorical data, polynomial 1st degree)"
   ]
  },
  {
   "cell_type": "markdown",
   "metadata": {},
   "source": [
    "#### Set Target and Features"
   ]
  },
  {
   "cell_type": "code",
   "execution_count": 134,
   "metadata": {},
   "outputs": [],
   "source": [
    "target = df['Global_Sales']\n",
    "features = df[['metascore', 'userscore','years_ago', 'generation_lifespan', 'generation_flag', 'Units_Sold', 'Publisher_Metascore', 'Publisher_Userscore', 'Developer_Metascore', 'Developer_Userscore', 'Genre_Metascore', 'Genre_Userscore']]"
   ]
  },
  {
   "cell_type": "markdown",
   "metadata": {},
   "source": [
    "#### Run regression"
   ]
  },
  {
   "cell_type": "code",
   "execution_count": 136,
   "metadata": {
    "scrolled": false
   },
   "outputs": [],
   "source": [
    "result = run_regression(target, features, 1, False)"
   ]
  },
  {
   "cell_type": "markdown",
   "metadata": {},
   "source": [
    "#### Scatter and residual plots"
   ]
  },
  {
   "cell_type": "code",
   "execution_count": 137,
   "metadata": {},
   "outputs": [
    {
     "data": {
      "text/plain": [
       "Text(0, 0.5, 'Predictions')"
      ]
     },
     "execution_count": 137,
     "metadata": {},
     "output_type": "execute_result"
    },
    {
     "data": {
      "image/png": "[encoded data removed]",
      "text/plain": [
       "<Figure size 432x288 with 1 Axes>"
      ]
     },
     "metadata": {
      "needs_background": "light"
     },
     "output_type": "display_data"
    }
   ],
   "source": [
    "plt.scatter(result['y_test'], result['y_test_pred'], alpha=0.3)\n",
    "\n",
    "plt.xlabel(\"True Values\")\n",
    "plt.ylabel(\"Predictions\")"
   ]
  },
  {
   "cell_type": "code",
   "execution_count": 138,
   "metadata": {},
   "outputs": [
    {
     "data": {
      "text/plain": [
       "<matplotlib.axes._subplots.AxesSubplot at 0x1c281a9110>"
      ]
     },
     "execution_count": 138,
     "metadata": {},
     "output_type": "execute_result"
    },
    {
     "data": {
      "image/png": "[encoded data removed]",
      "text/plain": [
       "<Figure size 432x288 with 1 Axes>"
      ]
     },
     "metadata": {
      "needs_background": "light"
     },
     "output_type": "display_data"
    }
   ],
   "source": [
    "sns.residplot(result['y_test_pred'], result['y_test'], lowess=True, color=\"g\")"
   ]
  },
  {
   "cell_type": "code",
   "execution_count": 139,
   "metadata": {},
   "outputs": [
    {
     "data": {
      "image/png": "[encoded data removed]",
      "text/plain": [
       "<Figure size 432x288 with 1 Axes>"
      ]
     },
     "metadata": {
      "needs_background": "light"
     },
     "output_type": "display_data"
    }
   ],
   "source": [
    "sns.kdeplot(result['y_test_pred'], label = \"Predictions\")\n",
    "sns.kdeplot(result['y_test'], label = \"Test\")\n",
    "sns.kdeplot(result['y_train'], label = \"Train\")\n",
    "\n",
    "plt.xlabel(\"Global Sales\"); plt.ylabel(\"Density\");\n",
    "plt.title(\"Test, Train Values and Predictions\");"
   ]
  },
  {
   "cell_type": "markdown",
   "metadata": {},
   "source": [
    "#### Updated summary table of all models"
   ]
  },
  {
   "cell_type": "code",
   "execution_count": 140,
   "metadata": {
    "scrolled": true
   },
   "outputs": [
    {
     "data": {
      "text/html": [
       "<div>\n",
       "<style scoped>\n",
       "    .dataframe tbody tr th:only-of-type {\n",
       "        vertical-align: middle;\n",
       "    }\n",
       "\n",
       "    .dataframe tbody tr th {\n",
       "        vertical-align: top;\n",
       "    }\n",
       "\n",
       "    .dataframe thead th {\n",
       "        text-align: right;\n",
       "    }\n",
       "</style>\n",
       "<table border=\"1\" class=\"dataframe\">\n",
       "  <thead>\n",
       "    <tr style=\"text-align: right;\">\n",
       "      <th></th>\n",
       "      <th>Model</th>\n",
       "      <th>Description</th>\n",
       "      <th>Root Mean Squared Error (RMSE)</th>\n",
       "      <th>R-squared (training)</th>\n",
       "      <th>Adjusted R-squared (training)</th>\n",
       "      <th>R-squared (test)</th>\n",
       "      <th>Adjusted R-squared (test)</th>\n",
       "      <th>5-fold Cross Validation</th>\n",
       "    </tr>\n",
       "  </thead>\n",
       "  <tbody>\n",
       "    <tr>\n",
       "      <td>0</td>\n",
       "      <td>Model 1</td>\n",
       "      <td>All features, dummy data</td>\n",
       "      <td>1.048626</td>\n",
       "      <td>0.258145</td>\n",
       "      <td>0.246983</td>\n",
       "      <td>2.293918e-01</td>\n",
       "      <td>1.808185e-01</td>\n",
       "      <td>-257.559</td>\n",
       "    </tr>\n",
       "    <tr>\n",
       "      <td>1</td>\n",
       "      <td>Model 2</td>\n",
       "      <td>All features, aggregated categorical data</td>\n",
       "      <td>1.094879</td>\n",
       "      <td>0.191257</td>\n",
       "      <td>0.189309</td>\n",
       "      <td>2.276115e-01</td>\n",
       "      <td>2.201126e-01</td>\n",
       "      <td>-256.925</td>\n",
       "    </tr>\n",
       "    <tr>\n",
       "      <td>2</td>\n",
       "      <td>Model 3</td>\n",
       "      <td>Features based on Lasso, aggregated categorica...</td>\n",
       "      <td>1.105894</td>\n",
       "      <td>0.174903</td>\n",
       "      <td>0.173247</td>\n",
       "      <td>2.018219e-01</td>\n",
       "      <td>1.953746e-01</td>\n",
       "      <td>-263.460</td>\n",
       "    </tr>\n",
       "    <tr>\n",
       "      <td>3</td>\n",
       "      <td>Model 4</td>\n",
       "      <td>All features, dummy data, polynomial 1st degree</td>\n",
       "      <td>1.048626</td>\n",
       "      <td>0.258145</td>\n",
       "      <td>0.246830</td>\n",
       "      <td>2.293918e-01</td>\n",
       "      <td>1.801201e-01</td>\n",
       "      <td>-257.559</td>\n",
       "    </tr>\n",
       "    <tr>\n",
       "      <td>4</td>\n",
       "      <td>Model 5</td>\n",
       "      <td>All features, dummy data, polynomial 2md degree</td>\n",
       "      <td>0.733596</td>\n",
       "      <td>0.636929</td>\n",
       "      <td>0.153852</td>\n",
       "      <td>-2.583915e+07</td>\n",
       "      <td>2.012938e+07</td>\n",
       "      <td>-257.559</td>\n",
       "    </tr>\n",
       "    <tr>\n",
       "      <td>5</td>\n",
       "      <td>Model 6</td>\n",
       "      <td>All features, aggregated categorical data, pol...</td>\n",
       "      <td>1.094879</td>\n",
       "      <td>0.191257</td>\n",
       "      <td>0.189146</td>\n",
       "      <td>2.276115e-01</td>\n",
       "      <td>2.194811e-01</td>\n",
       "      <td>-256.925</td>\n",
       "    </tr>\n",
       "  </tbody>\n",
       "</table>\n",
       "</div>"
      ],
      "text/plain": [
       "     Model                                        Description  \\\n",
       "0  Model 1                           All features, dummy data   \n",
       "1  Model 2          All features, aggregated categorical data   \n",
       "2  Model 3  Features based on Lasso, aggregated categorica...   \n",
       "3  Model 4    All features, dummy data, polynomial 1st degree   \n",
       "4  Model 5    All features, dummy data, polynomial 2md degree   \n",
       "5  Model 6  All features, aggregated categorical data, pol...   \n",
       "\n",
       "   Root Mean Squared Error (RMSE)  R-squared (training)  \\\n",
       "0                        1.048626              0.258145   \n",
       "1                        1.094879              0.191257   \n",
       "2                        1.105894              0.174903   \n",
       "3                        1.048626              0.258145   \n",
       "4                        0.733596              0.636929   \n",
       "5                        1.094879              0.191257   \n",
       "\n",
       "   Adjusted R-squared (training)  R-squared (test)  Adjusted R-squared (test)  \\\n",
       "0                       0.246983      2.293918e-01               1.808185e-01   \n",
       "1                       0.189309      2.276115e-01               2.201126e-01   \n",
       "2                       0.173247      2.018219e-01               1.953746e-01   \n",
       "3                       0.246830      2.293918e-01               1.801201e-01   \n",
       "4                       0.153852     -2.583915e+07               2.012938e+07   \n",
       "5                       0.189146      2.276115e-01               2.194811e-01   \n",
       "\n",
       "   5-fold Cross Validation  \n",
       "0                 -257.559  \n",
       "1                 -256.925  \n",
       "2                 -263.460  \n",
       "3                 -257.559  \n",
       "4                 -257.559  \n",
       "5                 -256.925  "
      ]
     },
     "execution_count": 140,
     "metadata": {},
     "output_type": "execute_result"
    }
   ],
   "source": [
    "summary_df = summary_df.append({'Model' : 'Model 6', 'Description' : 'All features, aggregated categorical data, polynomial 1st degree' , 'Root Mean Squared Error (RMSE)' : result['train_rmse'], 'R-squared (training)' : result['r2_train'], 'Adjusted R-squared (training)': result['adjusted_r2_train'], 'R-squared (test)' : result['r2_test'], 'Adjusted R-squared (test)' : result['adjusted_r2_test'], '5-fold Cross Validation' : result['cv']} , ignore_index=True)\n",
    "summary_df"
   ]
  },
  {
   "cell_type": "code",
   "execution_count": null,
   "metadata": {},
   "outputs": [],
   "source": []
  },
  {
   "cell_type": "markdown",
   "metadata": {},
   "source": [
    "### Multiple Regression - 7 (all features, aggregated categorical data, polynomial 2nd degree)"
   ]
  },
  {
   "cell_type": "markdown",
   "metadata": {},
   "source": [
    "#### Set Target and Features"
   ]
  },
  {
   "cell_type": "code",
   "execution_count": 141,
   "metadata": {},
   "outputs": [],
   "source": [
    "target = df['Global_Sales']\n",
    "features = df[['metascore', 'userscore','years_ago', 'generation_lifespan', 'generation_flag', 'Units_Sold', 'Publisher_Metascore', 'Publisher_Userscore', 'Developer_Metascore', 'Developer_Userscore', 'Genre_Metascore', 'Genre_Userscore']]"
   ]
  },
  {
   "cell_type": "markdown",
   "metadata": {},
   "source": [
    "#### Run regression"
   ]
  },
  {
   "cell_type": "code",
   "execution_count": 143,
   "metadata": {
    "scrolled": false
   },
   "outputs": [],
   "source": [
    "result = run_regression(target, features, 2, False)"
   ]
  },
  {
   "cell_type": "markdown",
   "metadata": {},
   "source": [
    "#### Scatter and residual plots"
   ]
  },
  {
   "cell_type": "code",
   "execution_count": 144,
   "metadata": {},
   "outputs": [
    {
     "data": {
      "text/plain": [
       "Text(0, 0.5, 'Predictions')"
      ]
     },
     "execution_count": 144,
     "metadata": {},
     "output_type": "execute_result"
    },
    {
     "data": {
      "image/png": "[encoded data removed]",
      "text/plain": [
       "<Figure size 432x288 with 1 Axes>"
      ]
     },
     "metadata": {
      "needs_background": "light"
     },
     "output_type": "display_data"
    }
   ],
   "source": [
    "plt.scatter(result['y_test'], result['y_test_pred'], alpha=0.3)\n",
    "\n",
    "plt.xlabel(\"True Values\")\n",
    "plt.ylabel(\"Predictions\")"
   ]
  },
  {
   "cell_type": "code",
   "execution_count": 145,
   "metadata": {},
   "outputs": [
    {
     "data": {
      "text/plain": [
       "<matplotlib.axes._subplots.AxesSubplot at 0x1c2a87b1d0>"
      ]
     },
     "execution_count": 145,
     "metadata": {},
     "output_type": "execute_result"
    },
    {
     "data": {
      "image/png": "[encoded data removed]",
      "text/plain": [
       "<Figure size 432x288 with 1 Axes>"
      ]
     },
     "metadata": {
      "needs_background": "light"
     },
     "output_type": "display_data"
    }
   ],
   "source": [
    "sns.residplot(result['y_test_pred'], result['y_test'], lowess=True, color=\"g\")"
   ]
  },
  {
   "cell_type": "code",
   "execution_count": 146,
   "metadata": {},
   "outputs": [
    {
     "data": {
      "image/png": "[encoded data removed]",
      "text/plain": [
       "<Figure size 432x288 with 1 Axes>"
      ]
     },
     "metadata": {
      "needs_background": "light"
     },
     "output_type": "display_data"
    }
   ],
   "source": [
    "sns.kdeplot(result['y_test_pred'], label = \"Predictions\")\n",
    "sns.kdeplot(result['y_test'], label = \"Test\")\n",
    "sns.kdeplot(result['y_train'], label = \"Train\")\n",
    "\n",
    "plt.xlabel(\"Global Sales\"); plt.ylabel(\"Density\");\n",
    "plt.title(\"Test, Train Values and Predictions\");"
   ]
  },
  {
   "cell_type": "markdown",
   "metadata": {},
   "source": [
    "#### Updated summary table of all models"
   ]
  },
  {
   "cell_type": "code",
   "execution_count": 147,
   "metadata": {
    "scrolled": true
   },
   "outputs": [
    {
     "data": {
      "text/html": [
       "<div>\n",
       "<style scoped>\n",
       "    .dataframe tbody tr th:only-of-type {\n",
       "        vertical-align: middle;\n",
       "    }\n",
       "\n",
       "    .dataframe tbody tr th {\n",
       "        vertical-align: top;\n",
       "    }\n",
       "\n",
       "    .dataframe thead th {\n",
       "        text-align: right;\n",
       "    }\n",
       "</style>\n",
       "<table border=\"1\" class=\"dataframe\">\n",
       "  <thead>\n",
       "    <tr style=\"text-align: right;\">\n",
       "      <th></th>\n",
       "      <th>Model</th>\n",
       "      <th>Description</th>\n",
       "      <th>Root Mean Squared Error (RMSE)</th>\n",
       "      <th>R-squared (training)</th>\n",
       "      <th>Adjusted R-squared (training)</th>\n",
       "      <th>R-squared (test)</th>\n",
       "      <th>Adjusted R-squared (test)</th>\n",
       "      <th>5-fold Cross Validation</th>\n",
       "    </tr>\n",
       "  </thead>\n",
       "  <tbody>\n",
       "    <tr>\n",
       "      <td>0</td>\n",
       "      <td>Model 1</td>\n",
       "      <td>All features, dummy data</td>\n",
       "      <td>1.048626</td>\n",
       "      <td>0.258145</td>\n",
       "      <td>0.246983</td>\n",
       "      <td>2.293918e-01</td>\n",
       "      <td>1.808185e-01</td>\n",
       "      <td>-257.559</td>\n",
       "    </tr>\n",
       "    <tr>\n",
       "      <td>1</td>\n",
       "      <td>Model 2</td>\n",
       "      <td>All features, aggregated categorical data</td>\n",
       "      <td>1.094879</td>\n",
       "      <td>0.191257</td>\n",
       "      <td>0.189309</td>\n",
       "      <td>2.276115e-01</td>\n",
       "      <td>2.201126e-01</td>\n",
       "      <td>-256.925</td>\n",
       "    </tr>\n",
       "    <tr>\n",
       "      <td>2</td>\n",
       "      <td>Model 3</td>\n",
       "      <td>Features based on Lasso, aggregated categorica...</td>\n",
       "      <td>1.105894</td>\n",
       "      <td>0.174903</td>\n",
       "      <td>0.173247</td>\n",
       "      <td>2.018219e-01</td>\n",
       "      <td>1.953746e-01</td>\n",
       "      <td>-263.460</td>\n",
       "    </tr>\n",
       "    <tr>\n",
       "      <td>3</td>\n",
       "      <td>Model 4</td>\n",
       "      <td>All features, dummy data, polynomial 1st degree</td>\n",
       "      <td>1.048626</td>\n",
       "      <td>0.258145</td>\n",
       "      <td>0.246830</td>\n",
       "      <td>2.293918e-01</td>\n",
       "      <td>1.801201e-01</td>\n",
       "      <td>-257.559</td>\n",
       "    </tr>\n",
       "    <tr>\n",
       "      <td>4</td>\n",
       "      <td>Model 5</td>\n",
       "      <td>All features, dummy data, polynomial 2md degree</td>\n",
       "      <td>0.733596</td>\n",
       "      <td>0.636929</td>\n",
       "      <td>0.153852</td>\n",
       "      <td>-2.583915e+07</td>\n",
       "      <td>2.012938e+07</td>\n",
       "      <td>-257.559</td>\n",
       "    </tr>\n",
       "    <tr>\n",
       "      <td>5</td>\n",
       "      <td>Model 6</td>\n",
       "      <td>All features, aggregated categorical data, pol...</td>\n",
       "      <td>1.094879</td>\n",
       "      <td>0.191257</td>\n",
       "      <td>0.189146</td>\n",
       "      <td>2.276115e-01</td>\n",
       "      <td>2.194811e-01</td>\n",
       "      <td>-256.925</td>\n",
       "    </tr>\n",
       "    <tr>\n",
       "      <td>6</td>\n",
       "      <td>Model 7</td>\n",
       "      <td>All features, aggregated categorical data, pol...</td>\n",
       "      <td>0.945681</td>\n",
       "      <td>0.396653</td>\n",
       "      <td>0.385450</td>\n",
       "      <td>3.753745e-01</td>\n",
       "      <td>3.262466e-01</td>\n",
       "      <td>-256.925</td>\n",
       "    </tr>\n",
       "  </tbody>\n",
       "</table>\n",
       "</div>"
      ],
      "text/plain": [
       "     Model                                        Description  \\\n",
       "0  Model 1                           All features, dummy data   \n",
       "1  Model 2          All features, aggregated categorical data   \n",
       "2  Model 3  Features based on Lasso, aggregated categorica...   \n",
       "3  Model 4    All features, dummy data, polynomial 1st degree   \n",
       "4  Model 5    All features, dummy data, polynomial 2md degree   \n",
       "5  Model 6  All features, aggregated categorical data, pol...   \n",
       "6  Model 7  All features, aggregated categorical data, pol...   \n",
       "\n",
       "   Root Mean Squared Error (RMSE)  R-squared (training)  \\\n",
       "0                        1.048626              0.258145   \n",
       "1                        1.094879              0.191257   \n",
       "2                        1.105894              0.174903   \n",
       "3                        1.048626              0.258145   \n",
       "4                        0.733596              0.636929   \n",
       "5                        1.094879              0.191257   \n",
       "6                        0.945681              0.396653   \n",
       "\n",
       "   Adjusted R-squared (training)  R-squared (test)  Adjusted R-squared (test)  \\\n",
       "0                       0.246983      2.293918e-01               1.808185e-01   \n",
       "1                       0.189309      2.276115e-01               2.201126e-01   \n",
       "2                       0.173247      2.018219e-01               1.953746e-01   \n",
       "3                       0.246830      2.293918e-01               1.801201e-01   \n",
       "4                       0.153852     -2.583915e+07               2.012938e+07   \n",
       "5                       0.189146      2.276115e-01               2.194811e-01   \n",
       "6                       0.385450      3.753745e-01               3.262466e-01   \n",
       "\n",
       "   5-fold Cross Validation  \n",
       "0                 -257.559  \n",
       "1                 -256.925  \n",
       "2                 -263.460  \n",
       "3                 -257.559  \n",
       "4                 -257.559  \n",
       "5                 -256.925  \n",
       "6                 -256.925  "
      ]
     },
     "execution_count": 147,
     "metadata": {},
     "output_type": "execute_result"
    }
   ],
   "source": [
    "summary_df = summary_df.append({'Model' : 'Model 7', 'Description' : 'All features, aggregated categorical data, polynomial 2md degree' , 'Root Mean Squared Error (RMSE)' : result['train_rmse'], 'R-squared (training)' : result['r2_train'], 'Adjusted R-squared (training)': result['adjusted_r2_train'], 'R-squared (test)' : result['r2_test'], 'Adjusted R-squared (test)' : result['adjusted_r2_test'], '5-fold Cross Validation' : result['cv']} , ignore_index=True)\n",
    "summary_df"
   ]
  },
  {
   "cell_type": "code",
   "execution_count": null,
   "metadata": {},
   "outputs": [],
   "source": []
  },
  {
   "cell_type": "markdown",
   "metadata": {},
   "source": [
    "### Multiple Regression - 8 (basic features, basic aggregated categorical data)"
   ]
  },
  {
   "cell_type": "markdown",
   "metadata": {},
   "source": [
    "#### Set Target and Features"
   ]
  },
  {
   "cell_type": "code",
   "execution_count": 148,
   "metadata": {},
   "outputs": [],
   "source": [
    "target = df['Global_Sales']\n",
    "features = df[['metascore', 'userscore', 'Units_Sold']]\n",
    "categorical = df[['Genre','ESRB_Rating','Company']]\n",
    "categorical = pd.get_dummies(data=categorical, drop_first=True)\n",
    "features = pd.concat([features, categorical], axis=1)"
   ]
  },
  {
   "cell_type": "markdown",
   "metadata": {},
   "source": [
    "#### Run regression"
   ]
  },
  {
   "cell_type": "code",
   "execution_count": 149,
   "metadata": {
    "scrolled": false
   },
   "outputs": [],
   "source": [
    "result = run_regression(target, features, 0, False)"
   ]
  },
  {
   "cell_type": "markdown",
   "metadata": {},
   "source": [
    "#### Scatter and residual plots"
   ]
  },
  {
   "cell_type": "code",
   "execution_count": 150,
   "metadata": {},
   "outputs": [
    {
     "data": {
      "text/plain": [
       "Text(0, 0.5, 'Predictions')"
      ]
     },
     "execution_count": 150,
     "metadata": {},
     "output_type": "execute_result"
    },
    {
     "data": {
      "image/png": "[encoded data removed]",
      "text/plain": [
       "<Figure size 432x288 with 1 Axes>"
      ]
     },
     "metadata": {
      "needs_background": "light"
     },
     "output_type": "display_data"
    }
   ],
   "source": [
    "plt.scatter(result['y_test'], result['y_test_pred'], alpha=0.3)\n",
    "\n",
    "plt.xlabel(\"True Values\")\n",
    "plt.ylabel(\"Predictions\")"
   ]
  },
  {
   "cell_type": "code",
   "execution_count": 151,
   "metadata": {},
   "outputs": [
    {
     "data": {
      "text/plain": [
       "<matplotlib.axes._subplots.AxesSubplot at 0x1c277f6650>"
      ]
     },
     "execution_count": 151,
     "metadata": {},
     "output_type": "execute_result"
    },
    {
     "data": {
      "image/png": "[encoded data removed]",
      "text/plain": [
       "<Figure size 432x288 with 1 Axes>"
      ]
     },
     "metadata": {
      "needs_background": "light"
     },
     "output_type": "display_data"
    }
   ],
   "source": [
    "sns.residplot(result['y_test_pred'], result['y_test'], lowess=True, color=\"g\")"
   ]
  },
  {
   "cell_type": "code",
   "execution_count": 152,
   "metadata": {},
   "outputs": [
    {
     "data": {
      "image/png": "[encoded data removed]",
      "text/plain": [
       "<Figure size 432x288 with 1 Axes>"
      ]
     },
     "metadata": {
      "needs_background": "light"
     },
     "output_type": "display_data"
    }
   ],
   "source": [
    "sns.kdeplot(result['y_test_pred'], label = \"Predictions\")\n",
    "sns.kdeplot(result['y_test'], label = \"Test\")\n",
    "sns.kdeplot(result['y_train'], label = \"Train\")\n",
    "\n",
    "plt.xlabel(\"Global Sales\"); plt.ylabel(\"Density\");\n",
    "plt.title(\"Test, Train Values and Predictions\");"
   ]
  },
  {
   "cell_type": "markdown",
   "metadata": {},
   "source": [
    "#### Updated summary table of all models"
   ]
  },
  {
   "cell_type": "code",
   "execution_count": 153,
   "metadata": {
    "scrolled": false
   },
   "outputs": [
    {
     "data": {
      "text/html": [
       "<div>\n",
       "<style scoped>\n",
       "    .dataframe tbody tr th:only-of-type {\n",
       "        vertical-align: middle;\n",
       "    }\n",
       "\n",
       "    .dataframe tbody tr th {\n",
       "        vertical-align: top;\n",
       "    }\n",
       "\n",
       "    .dataframe thead th {\n",
       "        text-align: right;\n",
       "    }\n",
       "</style>\n",
       "<table border=\"1\" class=\"dataframe\">\n",
       "  <thead>\n",
       "    <tr style=\"text-align: right;\">\n",
       "      <th></th>\n",
       "      <th>Model</th>\n",
       "      <th>Description</th>\n",
       "      <th>Root Mean Squared Error (RMSE)</th>\n",
       "      <th>R-squared (training)</th>\n",
       "      <th>Adjusted R-squared (training)</th>\n",
       "      <th>R-squared (test)</th>\n",
       "      <th>Adjusted R-squared (test)</th>\n",
       "      <th>5-fold Cross Validation</th>\n",
       "    </tr>\n",
       "  </thead>\n",
       "  <tbody>\n",
       "    <tr>\n",
       "      <td>0</td>\n",
       "      <td>Model 1</td>\n",
       "      <td>All features, dummy data</td>\n",
       "      <td>1.048626</td>\n",
       "      <td>0.258145</td>\n",
       "      <td>0.246983</td>\n",
       "      <td>2.293918e-01</td>\n",
       "      <td>1.808185e-01</td>\n",
       "      <td>-257.559</td>\n",
       "    </tr>\n",
       "    <tr>\n",
       "      <td>1</td>\n",
       "      <td>Model 2</td>\n",
       "      <td>All features, aggregated categorical data</td>\n",
       "      <td>1.094879</td>\n",
       "      <td>0.191257</td>\n",
       "      <td>0.189309</td>\n",
       "      <td>2.276115e-01</td>\n",
       "      <td>2.201126e-01</td>\n",
       "      <td>-256.925</td>\n",
       "    </tr>\n",
       "    <tr>\n",
       "      <td>2</td>\n",
       "      <td>Model 3</td>\n",
       "      <td>Features based on Lasso, aggregated categorica...</td>\n",
       "      <td>1.105894</td>\n",
       "      <td>0.174903</td>\n",
       "      <td>0.173247</td>\n",
       "      <td>2.018219e-01</td>\n",
       "      <td>1.953746e-01</td>\n",
       "      <td>-263.460</td>\n",
       "    </tr>\n",
       "    <tr>\n",
       "      <td>3</td>\n",
       "      <td>Model 4</td>\n",
       "      <td>All features, dummy data, polynomial 1st degree</td>\n",
       "      <td>1.048626</td>\n",
       "      <td>0.258145</td>\n",
       "      <td>0.246830</td>\n",
       "      <td>2.293918e-01</td>\n",
       "      <td>1.801201e-01</td>\n",
       "      <td>-257.559</td>\n",
       "    </tr>\n",
       "    <tr>\n",
       "      <td>4</td>\n",
       "      <td>Model 5</td>\n",
       "      <td>All features, dummy data, polynomial 2md degree</td>\n",
       "      <td>0.733596</td>\n",
       "      <td>0.636929</td>\n",
       "      <td>0.153852</td>\n",
       "      <td>-2.583915e+07</td>\n",
       "      <td>2.012938e+07</td>\n",
       "      <td>-257.559</td>\n",
       "    </tr>\n",
       "    <tr>\n",
       "      <td>5</td>\n",
       "      <td>Model 6</td>\n",
       "      <td>All features, aggregated categorical data, pol...</td>\n",
       "      <td>1.094879</td>\n",
       "      <td>0.191257</td>\n",
       "      <td>0.189146</td>\n",
       "      <td>2.276115e-01</td>\n",
       "      <td>2.194811e-01</td>\n",
       "      <td>-256.925</td>\n",
       "    </tr>\n",
       "    <tr>\n",
       "      <td>6</td>\n",
       "      <td>Model 7</td>\n",
       "      <td>All features, aggregated categorical data, pol...</td>\n",
       "      <td>0.945681</td>\n",
       "      <td>0.396653</td>\n",
       "      <td>0.385450</td>\n",
       "      <td>3.753745e-01</td>\n",
       "      <td>3.262466e-01</td>\n",
       "      <td>-256.925</td>\n",
       "    </tr>\n",
       "    <tr>\n",
       "      <td>7</td>\n",
       "      <td>Model 8</td>\n",
       "      <td>Basic features, basic aggregated categorical data</td>\n",
       "      <td>1.103853</td>\n",
       "      <td>0.177946</td>\n",
       "      <td>0.173974</td>\n",
       "      <td>2.111184e-01</td>\n",
       "      <td>1.956501e-01</td>\n",
       "      <td>-279.369</td>\n",
       "    </tr>\n",
       "  </tbody>\n",
       "</table>\n",
       "</div>"
      ],
      "text/plain": [
       "     Model                                        Description  \\\n",
       "0  Model 1                           All features, dummy data   \n",
       "1  Model 2          All features, aggregated categorical data   \n",
       "2  Model 3  Features based on Lasso, aggregated categorica...   \n",
       "3  Model 4    All features, dummy data, polynomial 1st degree   \n",
       "4  Model 5    All features, dummy data, polynomial 2md degree   \n",
       "5  Model 6  All features, aggregated categorical data, pol...   \n",
       "6  Model 7  All features, aggregated categorical data, pol...   \n",
       "7  Model 8  Basic features, basic aggregated categorical data   \n",
       "\n",
       "   Root Mean Squared Error (RMSE)  R-squared (training)  \\\n",
       "0                        1.048626              0.258145   \n",
       "1                        1.094879              0.191257   \n",
       "2                        1.105894              0.174903   \n",
       "3                        1.048626              0.258145   \n",
       "4                        0.733596              0.636929   \n",
       "5                        1.094879              0.191257   \n",
       "6                        0.945681              0.396653   \n",
       "7                        1.103853              0.177946   \n",
       "\n",
       "   Adjusted R-squared (training)  R-squared (test)  Adjusted R-squared (test)  \\\n",
       "0                       0.246983      2.293918e-01               1.808185e-01   \n",
       "1                       0.189309      2.276115e-01               2.201126e-01   \n",
       "2                       0.173247      2.018219e-01               1.953746e-01   \n",
       "3                       0.246830      2.293918e-01               1.801201e-01   \n",
       "4                       0.153852     -2.583915e+07               2.012938e+07   \n",
       "5                       0.189146      2.276115e-01               2.194811e-01   \n",
       "6                       0.385450      3.753745e-01               3.262466e-01   \n",
       "7                       0.173974      2.111184e-01               1.956501e-01   \n",
       "\n",
       "   5-fold Cross Validation  \n",
       "0                 -257.559  \n",
       "1                 -256.925  \n",
       "2                 -263.460  \n",
       "3                 -257.559  \n",
       "4                 -257.559  \n",
       "5                 -256.925  \n",
       "6                 -256.925  \n",
       "7                 -279.369  "
      ]
     },
     "execution_count": 153,
     "metadata": {},
     "output_type": "execute_result"
    }
   ],
   "source": [
    "summary_df = summary_df.append({'Model' : 'Model 8', 'Description' : 'Basic features, basic aggregated categorical data' , 'Root Mean Squared Error (RMSE)' : result['train_rmse'], 'R-squared (training)' : result['r2_train'], 'Adjusted R-squared (training)': result['adjusted_r2_train'], 'R-squared (test)' : result['r2_test'], 'Adjusted R-squared (test)' : result['adjusted_r2_test'], '5-fold Cross Validation' : result['cv']} , ignore_index=True)\n",
    "summary_df"
   ]
  },
  {
   "cell_type": "markdown",
   "metadata": {},
   "source": [
    "### Multiple Regression - 9 (metascore, userscore and units sold only)"
   ]
  },
  {
   "cell_type": "markdown",
   "metadata": {},
   "source": [
    "#### Set Target and Features"
   ]
  },
  {
   "cell_type": "code",
   "execution_count": 154,
   "metadata": {},
   "outputs": [],
   "source": [
    "target = df['Global_Sales']\n",
    "features = df[['metascore', 'userscore', 'Units_Sold']]\n",
    "# categorical = df[['Company']]\n",
    "# categorical = pd.get_dummies(data=categorical, drop_first=True)\n",
    "# features = pd.concat([features, categorical], axis=1)"
   ]
  },
  {
   "cell_type": "markdown",
   "metadata": {},
   "source": [
    "#### Run regression"
   ]
  },
  {
   "cell_type": "code",
   "execution_count": 155,
   "metadata": {
    "scrolled": false
   },
   "outputs": [],
   "source": [
    "result = run_regression(target, features, 0, False)"
   ]
  },
  {
   "cell_type": "markdown",
   "metadata": {},
   "source": [
    "#### Scatter and residual plots"
   ]
  },
  {
   "cell_type": "code",
   "execution_count": 156,
   "metadata": {},
   "outputs": [
    {
     "data": {
      "text/plain": [
       "Text(0, 0.5, 'Predictions')"
      ]
     },
     "execution_count": 156,
     "metadata": {},
     "output_type": "execute_result"
    },
    {
     "data": {
      "image/png": "[encoded data removed]",
      "text/plain": [
       "<Figure size 432x288 with 1 Axes>"
      ]
     },
     "metadata": {
      "needs_background": "light"
     },
     "output_type": "display_data"
    }
   ],
   "source": [
    "plt.scatter(result['y_test'], result['y_test_pred'], alpha=0.3)\n",
    "\n",
    "plt.xlabel(\"True Values\")\n",
    "plt.ylabel(\"Predictions\")"
   ]
  },
  {
   "cell_type": "code",
   "execution_count": 157,
   "metadata": {},
   "outputs": [
    {
     "data": {
      "text/plain": [
       "<matplotlib.axes._subplots.AxesSubplot at 0x1c2c52ca90>"
      ]
     },
     "execution_count": 157,
     "metadata": {},
     "output_type": "execute_result"
    },
    {
     "data": {
      "image/png": "[encoded data removed]",
      "text/plain": [
       "<Figure size 432x288 with 1 Axes>"
      ]
     },
     "metadata": {
      "needs_background": "light"
     },
     "output_type": "display_data"
    }
   ],
   "source": [
    "sns.residplot(result['y_test_pred'], result['y_test'], lowess=True, color=\"g\")"
   ]
  },
  {
   "cell_type": "code",
   "execution_count": 158,
   "metadata": {},
   "outputs": [
    {
     "data": {
      "image/png": "[encoded data removed]",
      "text/plain": [
       "<Figure size 432x288 with 1 Axes>"
      ]
     },
     "metadata": {
      "needs_background": "light"
     },
     "output_type": "display_data"
    }
   ],
   "source": [
    "sns.kdeplot(result['y_test_pred'], label = \"Predictions\")\n",
    "sns.kdeplot(result['y_test'], label = \"Test\")\n",
    "sns.kdeplot(result['y_train'], label = \"Train\")\n",
    "\n",
    "plt.xlabel(\"Global Sales\"); plt.ylabel(\"Density\");\n",
    "plt.title(\"Test, Train Values and Predictions\");"
   ]
  },
  {
   "cell_type": "markdown",
   "metadata": {},
   "source": [
    "#### Updated summary table of all models"
   ]
  },
  {
   "cell_type": "code",
   "execution_count": 72,
   "metadata": {
    "scrolled": true
   },
   "outputs": [
    {
     "data": {
      "text/html": [
       "<div>\n",
       "<style scoped>\n",
       "    .dataframe tbody tr th:only-of-type {\n",
       "        vertical-align: middle;\n",
       "    }\n",
       "\n",
       "    .dataframe tbody tr th {\n",
       "        vertical-align: top;\n",
       "    }\n",
       "\n",
       "    .dataframe thead th {\n",
       "        text-align: right;\n",
       "    }\n",
       "</style>\n",
       "<table border=\"1\" class=\"dataframe\">\n",
       "  <thead>\n",
       "    <tr style=\"text-align: right;\">\n",
       "      <th></th>\n",
       "      <th>Model</th>\n",
       "      <th>Description</th>\n",
       "      <th>Root Mean Squared Error (RMSE)</th>\n",
       "      <th>R-squared (training)</th>\n",
       "      <th>Adjusted R-squared (training)</th>\n",
       "      <th>R-squared (test)</th>\n",
       "      <th>Adjusted R-squared (test)</th>\n",
       "      <th>5-fold Cross Validation</th>\n",
       "    </tr>\n",
       "  </thead>\n",
       "  <tbody>\n",
       "    <tr>\n",
       "      <td>0</td>\n",
       "      <td>Model 1</td>\n",
       "      <td>All features, dummy data</td>\n",
       "      <td>1.054068</td>\n",
       "      <td>0.250425</td>\n",
       "      <td>0.239300</td>\n",
       "      <td>2.175333e-01</td>\n",
       "      <td>1.689205e-01</td>\n",
       "      <td>-257.473</td>\n",
       "    </tr>\n",
       "    <tr>\n",
       "      <td>1</td>\n",
       "      <td>Model 2</td>\n",
       "      <td>All features, aggregated categorical data</td>\n",
       "      <td>1.103406</td>\n",
       "      <td>0.178612</td>\n",
       "      <td>0.176798</td>\n",
       "      <td>2.117670e-01</td>\n",
       "      <td>2.047577e-01</td>\n",
       "      <td>-257.850</td>\n",
       "    </tr>\n",
       "    <tr>\n",
       "      <td>2</td>\n",
       "      <td>Model 3</td>\n",
       "      <td>Features based on Lasso, aggregated categorica...</td>\n",
       "      <td>1.125223</td>\n",
       "      <td>0.145808</td>\n",
       "      <td>0.144266</td>\n",
       "      <td>1.718553e-01</td>\n",
       "      <td>1.658397e-01</td>\n",
       "      <td>-293.291</td>\n",
       "    </tr>\n",
       "    <tr>\n",
       "      <td>3</td>\n",
       "      <td>Model 4</td>\n",
       "      <td>All features, dummy data, polynomial 1st degree</td>\n",
       "      <td>1.054068</td>\n",
       "      <td>0.250425</td>\n",
       "      <td>0.239146</td>\n",
       "      <td>2.175333e-01</td>\n",
       "      <td>1.682126e-01</td>\n",
       "      <td>-257.473</td>\n",
       "    </tr>\n",
       "    <tr>\n",
       "      <td>4</td>\n",
       "      <td>Model 5</td>\n",
       "      <td>All features, dummy data, polynomial 2md degree</td>\n",
       "      <td>0.751828</td>\n",
       "      <td>0.618658</td>\n",
       "      <td>0.141335</td>\n",
       "      <td>-1.217161e+09</td>\n",
       "      <td>9.947719e+08</td>\n",
       "      <td>-257.473</td>\n",
       "    </tr>\n",
       "    <tr>\n",
       "      <td>5</td>\n",
       "      <td>Model 6</td>\n",
       "      <td>All features, aggregated categorical data, pol...</td>\n",
       "      <td>1.103406</td>\n",
       "      <td>0.178612</td>\n",
       "      <td>0.176632</td>\n",
       "      <td>2.117670e-01</td>\n",
       "      <td>2.041143e-01</td>\n",
       "      <td>-257.850</td>\n",
       "    </tr>\n",
       "    <tr>\n",
       "      <td>6</td>\n",
       "      <td>Model 7</td>\n",
       "      <td>All features, aggregated categorical data, pol...</td>\n",
       "      <td>0.968323</td>\n",
       "      <td>0.367416</td>\n",
       "      <td>0.357375</td>\n",
       "      <td>3.442978e-01</td>\n",
       "      <td>3.005843e-01</td>\n",
       "      <td>-257.850</td>\n",
       "    </tr>\n",
       "    <tr>\n",
       "      <td>7</td>\n",
       "      <td>Model 8</td>\n",
       "      <td>Basic features, basic aggregated categorical data</td>\n",
       "      <td>1.110616</td>\n",
       "      <td>0.167842</td>\n",
       "      <td>0.163822</td>\n",
       "      <td>1.966854e-01</td>\n",
       "      <td>1.809341e-01</td>\n",
       "      <td>-283.440</td>\n",
       "    </tr>\n",
       "    <tr>\n",
       "      <td>8</td>\n",
       "      <td>Model 9</td>\n",
       "      <td>metascore and userscore only</td>\n",
       "      <td>1.149901</td>\n",
       "      <td>0.107930</td>\n",
       "      <td>0.107573</td>\n",
       "      <td>1.482305e-01</td>\n",
       "      <td>1.468633e-01</td>\n",
       "      <td>-322.082</td>\n",
       "    </tr>\n",
       "  </tbody>\n",
       "</table>\n",
       "</div>"
      ],
      "text/plain": [
       "     Model                                        Description  \\\n",
       "0  Model 1                           All features, dummy data   \n",
       "1  Model 2          All features, aggregated categorical data   \n",
       "2  Model 3  Features based on Lasso, aggregated categorica...   \n",
       "3  Model 4    All features, dummy data, polynomial 1st degree   \n",
       "4  Model 5    All features, dummy data, polynomial 2md degree   \n",
       "5  Model 6  All features, aggregated categorical data, pol...   \n",
       "6  Model 7  All features, aggregated categorical data, pol...   \n",
       "7  Model 8  Basic features, basic aggregated categorical data   \n",
       "8  Model 9                       metascore and userscore only   \n",
       "\n",
       "   Root Mean Squared Error (RMSE)  R-squared (training)  \\\n",
       "0                        1.054068              0.250425   \n",
       "1                        1.103406              0.178612   \n",
       "2                        1.125223              0.145808   \n",
       "3                        1.054068              0.250425   \n",
       "4                        0.751828              0.618658   \n",
       "5                        1.103406              0.178612   \n",
       "6                        0.968323              0.367416   \n",
       "7                        1.110616              0.167842   \n",
       "8                        1.149901              0.107930   \n",
       "\n",
       "   Adjusted R-squared (training)  R-squared (test)  Adjusted R-squared (test)  \\\n",
       "0                       0.239300      2.175333e-01               1.689205e-01   \n",
       "1                       0.176798      2.117670e-01               2.047577e-01   \n",
       "2                       0.144266      1.718553e-01               1.658397e-01   \n",
       "3                       0.239146      2.175333e-01               1.682126e-01   \n",
       "4                       0.141335     -1.217161e+09               9.947719e+08   \n",
       "5                       0.176632      2.117670e-01               2.041143e-01   \n",
       "6                       0.357375      3.442978e-01               3.005843e-01   \n",
       "7                       0.163822      1.966854e-01               1.809341e-01   \n",
       "8                       0.107573      1.482305e-01               1.468633e-01   \n",
       "\n",
       "   5-fold Cross Validation  \n",
       "0                 -257.473  \n",
       "1                 -257.850  \n",
       "2                 -293.291  \n",
       "3                 -257.473  \n",
       "4                 -257.473  \n",
       "5                 -257.850  \n",
       "6                 -257.850  \n",
       "7                 -283.440  \n",
       "8                 -322.082  "
      ]
     },
     "execution_count": 72,
     "metadata": {},
     "output_type": "execute_result"
    }
   ],
   "source": [
    "summary_df = summary_df.append({'Model' : 'Model 9', 'Description' : 'metascore and userscore only' , 'Root Mean Squared Error (RMSE)' : result['train_rmse'], 'R-squared (training)' : result['r2_train'], 'Adjusted R-squared (training)': result['adjusted_r2_train'], 'R-squared (test)' : result['r2_test'], 'Adjusted R-squared (test)' : result['adjusted_r2_test'], '5-fold Cross Validation' : result['cv']} , ignore_index=True)\n",
    "summary_df"
   ]
  },
  {
   "cell_type": "markdown",
   "metadata": {},
   "source": [
    "### Multiple Regression - 10 (basic features, basic aggregated categorical data, polynomial 1st degree)"
   ]
  },
  {
   "cell_type": "markdown",
   "metadata": {},
   "source": [
    "#### Set Target and Features"
   ]
  },
  {
   "cell_type": "code",
   "execution_count": 159,
   "metadata": {},
   "outputs": [],
   "source": [
    "target = df['Global_Sales']\n",
    "features = df[['metascore', 'userscore', 'Units_Sold']]\n",
    "categorical = df[['Genre','ESRB_Rating','Company']]\n",
    "categorical = pd.get_dummies(data=categorical, drop_first=True)\n",
    "features = pd.concat([features, categorical], axis=1)"
   ]
  },
  {
   "cell_type": "markdown",
   "metadata": {},
   "source": [
    "#### Run regression"
   ]
  },
  {
   "cell_type": "code",
   "execution_count": 160,
   "metadata": {
    "scrolled": false
   },
   "outputs": [],
   "source": [
    "result = run_regression(target, features, 1, False)"
   ]
  },
  {
   "cell_type": "markdown",
   "metadata": {},
   "source": [
    "#### Scatter and residual plots"
   ]
  },
  {
   "cell_type": "code",
   "execution_count": 161,
   "metadata": {},
   "outputs": [
    {
     "data": {
      "text/plain": [
       "Text(0, 0.5, 'Predictions')"
      ]
     },
     "execution_count": 161,
     "metadata": {},
     "output_type": "execute_result"
    },
    {
     "data": {
      "image/png": "[encoded data removed]",
      "text/plain": [
       "<Figure size 432x288 with 1 Axes>"
      ]
     },
     "metadata": {
      "needs_background": "light"
     },
     "output_type": "display_data"
    }
   ],
   "source": [
    "plt.scatter(result['y_test'], result['y_test_pred'], alpha=0.3)\n",
    "\n",
    "plt.xlabel(\"True Values\")\n",
    "plt.ylabel(\"Predictions\")"
   ]
  },
  {
   "cell_type": "code",
   "execution_count": 162,
   "metadata": {},
   "outputs": [
    {
     "data": {
      "text/plain": [
       "<matplotlib.axes._subplots.AxesSubplot at 0x1c2dad9a90>"
      ]
     },
     "execution_count": 162,
     "metadata": {},
     "output_type": "execute_result"
    },
    {
     "data": {
      "image/png": "[encoded data removed]",
      "text/plain": [
       "<Figure size 432x288 with 1 Axes>"
      ]
     },
     "metadata": {
      "needs_background": "light"
     },
     "output_type": "display_data"
    }
   ],
   "source": [
    "sns.residplot(result['y_test_pred'], result['y_test'], lowess=True, color=\"g\")"
   ]
  },
  {
   "cell_type": "code",
   "execution_count": 163,
   "metadata": {},
   "outputs": [
    {
     "data": {
      "image/png": "[encoded data removed]",
      "text/plain": [
       "<Figure size 432x288 with 1 Axes>"
      ]
     },
     "metadata": {
      "needs_background": "light"
     },
     "output_type": "display_data"
    }
   ],
   "source": [
    "sns.kdeplot(result['y_test_pred'], label = \"Predictions\")\n",
    "sns.kdeplot(result['y_test'], label = \"Test\")\n",
    "sns.kdeplot(result['y_train'], label = \"Train\")\n",
    "\n",
    "plt.xlabel(\"Global Sales\"); plt.ylabel(\"Density\");\n",
    "plt.title(\"Test, Train Values and Predictions\");"
   ]
  },
  {
   "cell_type": "markdown",
   "metadata": {},
   "source": [
    "#### Updated summary table of all models"
   ]
  },
  {
   "cell_type": "code",
   "execution_count": 164,
   "metadata": {
    "scrolled": true
   },
   "outputs": [
    {
     "data": {
      "text/html": [
       "<div>\n",
       "<style scoped>\n",
       "    .dataframe tbody tr th:only-of-type {\n",
       "        vertical-align: middle;\n",
       "    }\n",
       "\n",
       "    .dataframe tbody tr th {\n",
       "        vertical-align: top;\n",
       "    }\n",
       "\n",
       "    .dataframe thead th {\n",
       "        text-align: right;\n",
       "    }\n",
       "</style>\n",
       "<table border=\"1\" class=\"dataframe\">\n",
       "  <thead>\n",
       "    <tr style=\"text-align: right;\">\n",
       "      <th></th>\n",
       "      <th>Model</th>\n",
       "      <th>Description</th>\n",
       "      <th>Root Mean Squared Error (RMSE)</th>\n",
       "      <th>R-squared (training)</th>\n",
       "      <th>Adjusted R-squared (training)</th>\n",
       "      <th>R-squared (test)</th>\n",
       "      <th>Adjusted R-squared (test)</th>\n",
       "      <th>5-fold Cross Validation</th>\n",
       "    </tr>\n",
       "  </thead>\n",
       "  <tbody>\n",
       "    <tr>\n",
       "      <td>0</td>\n",
       "      <td>Model 1</td>\n",
       "      <td>All features, dummy data</td>\n",
       "      <td>1.048626</td>\n",
       "      <td>0.258145</td>\n",
       "      <td>0.246983</td>\n",
       "      <td>2.293918e-01</td>\n",
       "      <td>1.808185e-01</td>\n",
       "      <td>-257.559</td>\n",
       "    </tr>\n",
       "    <tr>\n",
       "      <td>1</td>\n",
       "      <td>Model 2</td>\n",
       "      <td>All features, aggregated categorical data</td>\n",
       "      <td>1.094879</td>\n",
       "      <td>0.191257</td>\n",
       "      <td>0.189309</td>\n",
       "      <td>2.276115e-01</td>\n",
       "      <td>2.201126e-01</td>\n",
       "      <td>-256.925</td>\n",
       "    </tr>\n",
       "    <tr>\n",
       "      <td>2</td>\n",
       "      <td>Model 3</td>\n",
       "      <td>Features based on Lasso, aggregated categorica...</td>\n",
       "      <td>1.105894</td>\n",
       "      <td>0.174903</td>\n",
       "      <td>0.173247</td>\n",
       "      <td>2.018219e-01</td>\n",
       "      <td>1.953746e-01</td>\n",
       "      <td>-263.460</td>\n",
       "    </tr>\n",
       "    <tr>\n",
       "      <td>3</td>\n",
       "      <td>Model 4</td>\n",
       "      <td>All features, dummy data, polynomial 1st degree</td>\n",
       "      <td>1.048626</td>\n",
       "      <td>0.258145</td>\n",
       "      <td>0.246830</td>\n",
       "      <td>2.293918e-01</td>\n",
       "      <td>1.801201e-01</td>\n",
       "      <td>-257.559</td>\n",
       "    </tr>\n",
       "    <tr>\n",
       "      <td>4</td>\n",
       "      <td>Model 5</td>\n",
       "      <td>All features, dummy data, polynomial 2md degree</td>\n",
       "      <td>0.733596</td>\n",
       "      <td>0.636929</td>\n",
       "      <td>0.153852</td>\n",
       "      <td>-2.583915e+07</td>\n",
       "      <td>2.012938e+07</td>\n",
       "      <td>-257.559</td>\n",
       "    </tr>\n",
       "    <tr>\n",
       "      <td>5</td>\n",
       "      <td>Model 6</td>\n",
       "      <td>All features, aggregated categorical data, pol...</td>\n",
       "      <td>1.094879</td>\n",
       "      <td>0.191257</td>\n",
       "      <td>0.189146</td>\n",
       "      <td>2.276115e-01</td>\n",
       "      <td>2.194811e-01</td>\n",
       "      <td>-256.925</td>\n",
       "    </tr>\n",
       "    <tr>\n",
       "      <td>6</td>\n",
       "      <td>Model 7</td>\n",
       "      <td>All features, aggregated categorical data, pol...</td>\n",
       "      <td>0.945681</td>\n",
       "      <td>0.396653</td>\n",
       "      <td>0.385450</td>\n",
       "      <td>3.753745e-01</td>\n",
       "      <td>3.262466e-01</td>\n",
       "      <td>-256.925</td>\n",
       "    </tr>\n",
       "    <tr>\n",
       "      <td>7</td>\n",
       "      <td>Model 8</td>\n",
       "      <td>Basic features, basic aggregated categorical data</td>\n",
       "      <td>1.103853</td>\n",
       "      <td>0.177946</td>\n",
       "      <td>0.173974</td>\n",
       "      <td>2.111184e-01</td>\n",
       "      <td>1.956501e-01</td>\n",
       "      <td>-279.369</td>\n",
       "    </tr>\n",
       "    <tr>\n",
       "      <td>8</td>\n",
       "      <td>Model 10</td>\n",
       "      <td>Basic features, basic aggregated categorical d...</td>\n",
       "      <td>1.103853</td>\n",
       "      <td>0.177946</td>\n",
       "      <td>0.173808</td>\n",
       "      <td>2.111184e-01</td>\n",
       "      <td>1.949924e-01</td>\n",
       "      <td>-279.369</td>\n",
       "    </tr>\n",
       "  </tbody>\n",
       "</table>\n",
       "</div>"
      ],
      "text/plain": [
       "      Model                                        Description  \\\n",
       "0   Model 1                           All features, dummy data   \n",
       "1   Model 2          All features, aggregated categorical data   \n",
       "2   Model 3  Features based on Lasso, aggregated categorica...   \n",
       "3   Model 4    All features, dummy data, polynomial 1st degree   \n",
       "4   Model 5    All features, dummy data, polynomial 2md degree   \n",
       "5   Model 6  All features, aggregated categorical data, pol...   \n",
       "6   Model 7  All features, aggregated categorical data, pol...   \n",
       "7   Model 8  Basic features, basic aggregated categorical data   \n",
       "8  Model 10  Basic features, basic aggregated categorical d...   \n",
       "\n",
       "   Root Mean Squared Error (RMSE)  R-squared (training)  \\\n",
       "0                        1.048626              0.258145   \n",
       "1                        1.094879              0.191257   \n",
       "2                        1.105894              0.174903   \n",
       "3                        1.048626              0.258145   \n",
       "4                        0.733596              0.636929   \n",
       "5                        1.094879              0.191257   \n",
       "6                        0.945681              0.396653   \n",
       "7                        1.103853              0.177946   \n",
       "8                        1.103853              0.177946   \n",
       "\n",
       "   Adjusted R-squared (training)  R-squared (test)  Adjusted R-squared (test)  \\\n",
       "0                       0.246983      2.293918e-01               1.808185e-01   \n",
       "1                       0.189309      2.276115e-01               2.201126e-01   \n",
       "2                       0.173247      2.018219e-01               1.953746e-01   \n",
       "3                       0.246830      2.293918e-01               1.801201e-01   \n",
       "4                       0.153852     -2.583915e+07               2.012938e+07   \n",
       "5                       0.189146      2.276115e-01               2.194811e-01   \n",
       "6                       0.385450      3.753745e-01               3.262466e-01   \n",
       "7                       0.173974      2.111184e-01               1.956501e-01   \n",
       "8                       0.173808      2.111184e-01               1.949924e-01   \n",
       "\n",
       "   5-fold Cross Validation  \n",
       "0                 -257.559  \n",
       "1                 -256.925  \n",
       "2                 -263.460  \n",
       "3                 -257.559  \n",
       "4                 -257.559  \n",
       "5                 -256.925  \n",
       "6                 -256.925  \n",
       "7                 -279.369  \n",
       "8                 -279.369  "
      ]
     },
     "execution_count": 164,
     "metadata": {},
     "output_type": "execute_result"
    }
   ],
   "source": [
    "summary_df = summary_df.append({'Model' : 'Model 10', 'Description' : 'Basic features, basic aggregated categorical data, polynomial 1st degree' , 'Root Mean Squared Error (RMSE)' : result['train_rmse'], 'R-squared (training)' : result['r2_train'], 'Adjusted R-squared (training)': result['adjusted_r2_train'], 'R-squared (test)' : result['r2_test'], 'Adjusted R-squared (test)' : result['adjusted_r2_test'], '5-fold Cross Validation' : result['cv']} , ignore_index=True)\n",
    "summary_df"
   ]
  },
  {
   "cell_type": "markdown",
   "metadata": {},
   "source": [
    "### Multiple Regression - 10 (basic features, basic aggregated categorical data, polynomial 1st degree)"
   ]
  },
  {
   "cell_type": "markdown",
   "metadata": {},
   "source": [
    "#### Set Target and Features"
   ]
  },
  {
   "cell_type": "code",
   "execution_count": 165,
   "metadata": {},
   "outputs": [],
   "source": [
    "target = df['Global_Sales']\n",
    "features = df[['metascore', 'userscore', 'Units_Sold']]\n",
    "categorical = df[['Genre','ESRB_Rating','Company']]\n",
    "categorical = pd.get_dummies(data=categorical, drop_first=True)\n",
    "features = pd.concat([features, categorical], axis=1)"
   ]
  },
  {
   "cell_type": "markdown",
   "metadata": {},
   "source": [
    "#### Run regression"
   ]
  },
  {
   "cell_type": "code",
   "execution_count": 167,
   "metadata": {
    "scrolled": false
   },
   "outputs": [],
   "source": [
    "result = run_regression(target, features, 2, False)"
   ]
  },
  {
   "cell_type": "markdown",
   "metadata": {},
   "source": [
    "#### Scatter and residual plots"
   ]
  },
  {
   "cell_type": "code",
   "execution_count": 168,
   "metadata": {},
   "outputs": [
    {
     "data": {
      "text/plain": [
       "Text(0, 0.5, 'Predictions')"
      ]
     },
     "execution_count": 168,
     "metadata": {},
     "output_type": "execute_result"
    },
    {
     "data": {
      "image/png": "[encoded data removed]",
      "text/plain": [
       "<Figure size 432x288 with 1 Axes>"
      ]
     },
     "metadata": {
      "needs_background": "light"
     },
     "output_type": "display_data"
    }
   ],
   "source": [
    "plt.scatter(result['y_test'], result['y_test_pred'], alpha=0.3)\n",
    "\n",
    "plt.xlabel(\"True Values\")\n",
    "plt.ylabel(\"Predictions\")"
   ]
  },
  {
   "cell_type": "code",
   "execution_count": 169,
   "metadata": {},
   "outputs": [
    {
     "data": {
      "text/plain": [
       "<matplotlib.axes._subplots.AxesSubplot at 0x1c2e8c9610>"
      ]
     },
     "execution_count": 169,
     "metadata": {},
     "output_type": "execute_result"
    },
    {
     "data": {
      "image/png": "[encoded data removed]",
      "text/plain": [
       "<Figure size 432x288 with 1 Axes>"
      ]
     },
     "metadata": {
      "needs_background": "light"
     },
     "output_type": "display_data"
    }
   ],
   "source": [
    "sns.residplot(result['y_test_pred'], result['y_test'], lowess=True, color=\"g\")"
   ]
  },
  {
   "cell_type": "code",
   "execution_count": 170,
   "metadata": {},
   "outputs": [
    {
     "data": {
      "image/png": "[encoded data removed]",
      "text/plain": [
       "<Figure size 432x288 with 1 Axes>"
      ]
     },
     "metadata": {
      "needs_background": "light"
     },
     "output_type": "display_data"
    }
   ],
   "source": [
    "sns.kdeplot(result['y_test_pred'], label = \"Predictions\")\n",
    "sns.kdeplot(result['y_test'], label = \"Test\")\n",
    "sns.kdeplot(result['y_train'], label = \"Train\")\n",
    "\n",
    "plt.xlabel(\"Global Sales\"); plt.ylabel(\"Density\");\n",
    "plt.title(\"Test, Train Values and Predictions\");"
   ]
  },
  {
   "cell_type": "markdown",
   "metadata": {},
   "source": [
    "#### Updated summary table of all models"
   ]
  },
  {
   "cell_type": "code",
   "execution_count": 171,
   "metadata": {
    "scrolled": true
   },
   "outputs": [
    {
     "data": {
      "text/html": [
       "<div>\n",
       "<style scoped>\n",
       "    .dataframe tbody tr th:only-of-type {\n",
       "        vertical-align: middle;\n",
       "    }\n",
       "\n",
       "    .dataframe tbody tr th {\n",
       "        vertical-align: top;\n",
       "    }\n",
       "\n",
       "    .dataframe thead th {\n",
       "        text-align: right;\n",
       "    }\n",
       "</style>\n",
       "<table border=\"1\" class=\"dataframe\">\n",
       "  <thead>\n",
       "    <tr style=\"text-align: right;\">\n",
       "      <th></th>\n",
       "      <th>Model</th>\n",
       "      <th>Description</th>\n",
       "      <th>Root Mean Squared Error (RMSE)</th>\n",
       "      <th>R-squared (training)</th>\n",
       "      <th>Adjusted R-squared (training)</th>\n",
       "      <th>R-squared (test)</th>\n",
       "      <th>Adjusted R-squared (test)</th>\n",
       "      <th>5-fold Cross Validation</th>\n",
       "    </tr>\n",
       "  </thead>\n",
       "  <tbody>\n",
       "    <tr>\n",
       "      <td>0</td>\n",
       "      <td>Model 1</td>\n",
       "      <td>All features, dummy data</td>\n",
       "      <td>1.048626</td>\n",
       "      <td>0.258145</td>\n",
       "      <td>0.246983</td>\n",
       "      <td>2.293918e-01</td>\n",
       "      <td>1.808185e-01</td>\n",
       "      <td>-257.559</td>\n",
       "    </tr>\n",
       "    <tr>\n",
       "      <td>1</td>\n",
       "      <td>Model 2</td>\n",
       "      <td>All features, aggregated categorical data</td>\n",
       "      <td>1.094879</td>\n",
       "      <td>0.191257</td>\n",
       "      <td>0.189309</td>\n",
       "      <td>2.276115e-01</td>\n",
       "      <td>2.201126e-01</td>\n",
       "      <td>-256.925</td>\n",
       "    </tr>\n",
       "    <tr>\n",
       "      <td>2</td>\n",
       "      <td>Model 3</td>\n",
       "      <td>Features based on Lasso, aggregated categorica...</td>\n",
       "      <td>1.105894</td>\n",
       "      <td>0.174903</td>\n",
       "      <td>0.173247</td>\n",
       "      <td>2.018219e-01</td>\n",
       "      <td>1.953746e-01</td>\n",
       "      <td>-263.460</td>\n",
       "    </tr>\n",
       "    <tr>\n",
       "      <td>3</td>\n",
       "      <td>Model 4</td>\n",
       "      <td>All features, dummy data, polynomial 1st degree</td>\n",
       "      <td>1.048626</td>\n",
       "      <td>0.258145</td>\n",
       "      <td>0.246830</td>\n",
       "      <td>2.293918e-01</td>\n",
       "      <td>1.801201e-01</td>\n",
       "      <td>-257.559</td>\n",
       "    </tr>\n",
       "    <tr>\n",
       "      <td>4</td>\n",
       "      <td>Model 5</td>\n",
       "      <td>All features, dummy data, polynomial 2md degree</td>\n",
       "      <td>0.733596</td>\n",
       "      <td>0.636929</td>\n",
       "      <td>0.153852</td>\n",
       "      <td>-2.583915e+07</td>\n",
       "      <td>2.012938e+07</td>\n",
       "      <td>-257.559</td>\n",
       "    </tr>\n",
       "    <tr>\n",
       "      <td>5</td>\n",
       "      <td>Model 6</td>\n",
       "      <td>All features, aggregated categorical data, pol...</td>\n",
       "      <td>1.094879</td>\n",
       "      <td>0.191257</td>\n",
       "      <td>0.189146</td>\n",
       "      <td>2.276115e-01</td>\n",
       "      <td>2.194811e-01</td>\n",
       "      <td>-256.925</td>\n",
       "    </tr>\n",
       "    <tr>\n",
       "      <td>6</td>\n",
       "      <td>Model 7</td>\n",
       "      <td>All features, aggregated categorical data, pol...</td>\n",
       "      <td>0.945681</td>\n",
       "      <td>0.396653</td>\n",
       "      <td>0.385450</td>\n",
       "      <td>3.753745e-01</td>\n",
       "      <td>3.262466e-01</td>\n",
       "      <td>-256.925</td>\n",
       "    </tr>\n",
       "    <tr>\n",
       "      <td>7</td>\n",
       "      <td>Model 8</td>\n",
       "      <td>Basic features, basic aggregated categorical data</td>\n",
       "      <td>1.103853</td>\n",
       "      <td>0.177946</td>\n",
       "      <td>0.173974</td>\n",
       "      <td>2.111184e-01</td>\n",
       "      <td>1.956501e-01</td>\n",
       "      <td>-279.369</td>\n",
       "    </tr>\n",
       "    <tr>\n",
       "      <td>8</td>\n",
       "      <td>Model 10</td>\n",
       "      <td>Basic features, basic aggregated categorical d...</td>\n",
       "      <td>1.103853</td>\n",
       "      <td>0.177946</td>\n",
       "      <td>0.173808</td>\n",
       "      <td>2.111184e-01</td>\n",
       "      <td>1.949924e-01</td>\n",
       "      <td>-279.369</td>\n",
       "    </tr>\n",
       "    <tr>\n",
       "      <td>9</td>\n",
       "      <td>Model 11</td>\n",
       "      <td>Basic features, basic aggregated categorical d...</td>\n",
       "      <td>0.956735</td>\n",
       "      <td>0.382465</td>\n",
       "      <td>0.339461</td>\n",
       "      <td>3.704974e-01</td>\n",
       "      <td>1.488416e-01</td>\n",
       "      <td>-279.369</td>\n",
       "    </tr>\n",
       "  </tbody>\n",
       "</table>\n",
       "</div>"
      ],
      "text/plain": [
       "      Model                                        Description  \\\n",
       "0   Model 1                           All features, dummy data   \n",
       "1   Model 2          All features, aggregated categorical data   \n",
       "2   Model 3  Features based on Lasso, aggregated categorica...   \n",
       "3   Model 4    All features, dummy data, polynomial 1st degree   \n",
       "4   Model 5    All features, dummy data, polynomial 2md degree   \n",
       "5   Model 6  All features, aggregated categorical data, pol...   \n",
       "6   Model 7  All features, aggregated categorical data, pol...   \n",
       "7   Model 8  Basic features, basic aggregated categorical data   \n",
       "8  Model 10  Basic features, basic aggregated categorical d...   \n",
       "9  Model 11  Basic features, basic aggregated categorical d...   \n",
       "\n",
       "   Root Mean Squared Error (RMSE)  R-squared (training)  \\\n",
       "0                        1.048626              0.258145   \n",
       "1                        1.094879              0.191257   \n",
       "2                        1.105894              0.174903   \n",
       "3                        1.048626              0.258145   \n",
       "4                        0.733596              0.636929   \n",
       "5                        1.094879              0.191257   \n",
       "6                        0.945681              0.396653   \n",
       "7                        1.103853              0.177946   \n",
       "8                        1.103853              0.177946   \n",
       "9                        0.956735              0.382465   \n",
       "\n",
       "   Adjusted R-squared (training)  R-squared (test)  Adjusted R-squared (test)  \\\n",
       "0                       0.246983      2.293918e-01               1.808185e-01   \n",
       "1                       0.189309      2.276115e-01               2.201126e-01   \n",
       "2                       0.173247      2.018219e-01               1.953746e-01   \n",
       "3                       0.246830      2.293918e-01               1.801201e-01   \n",
       "4                       0.153852     -2.583915e+07               2.012938e+07   \n",
       "5                       0.189146      2.276115e-01               2.194811e-01   \n",
       "6                       0.385450      3.753745e-01               3.262466e-01   \n",
       "7                       0.173974      2.111184e-01               1.956501e-01   \n",
       "8                       0.173808      2.111184e-01               1.949924e-01   \n",
       "9                       0.339461      3.704974e-01               1.488416e-01   \n",
       "\n",
       "   5-fold Cross Validation  \n",
       "0                 -257.559  \n",
       "1                 -256.925  \n",
       "2                 -263.460  \n",
       "3                 -257.559  \n",
       "4                 -257.559  \n",
       "5                 -256.925  \n",
       "6                 -256.925  \n",
       "7                 -279.369  \n",
       "8                 -279.369  \n",
       "9                 -279.369  "
      ]
     },
     "execution_count": 171,
     "metadata": {},
     "output_type": "execute_result"
    }
   ],
   "source": [
    "summary_df = summary_df.append({'Model' : 'Model 11', 'Description' : 'Basic features, basic aggregated categorical data, polynomial 2nd degree' , 'Root Mean Squared Error (RMSE)' : result['train_rmse'], 'R-squared (training)' : result['r2_train'], 'Adjusted R-squared (training)': result['adjusted_r2_train'], 'R-squared (test)' : result['r2_test'], 'Adjusted R-squared (test)' : result['adjusted_r2_test'], '5-fold Cross Validation' : result['cv']} , ignore_index=True)\n",
    "summary_df"
   ]
  },
  {
   "cell_type": "code",
   "execution_count": null,
   "metadata": {},
   "outputs": [],
   "source": []
  }
 ],
 "metadata": {
  "kernelspec": {
   "display_name": "Python 3",
   "language": "python",
   "name": "python3"
  },
  "language_info": {
   "codemirror_mode": {
    "name": "ipython",
    "version": 3
   },
   "file_extension": ".py",
   "mimetype": "text/x-python",
   "name": "python",
   "nbconvert_exporter": "python",
   "pygments_lexer": "ipython3",
   "version": "3.7.4"
  }
 },
 "nbformat": 4,
 "nbformat_minor": 2
}
