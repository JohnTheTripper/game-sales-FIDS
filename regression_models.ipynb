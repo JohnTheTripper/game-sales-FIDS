{
 "cells": [
  {
   "cell_type": "markdown",
   "metadata": {},
   "source": [
    "# Multiple Linear Regression"
   ]
  },
  {
   "cell_type": "markdown",
   "metadata": {},
   "source": [
    "## Import the relevant libraries"
   ]
  },
  {
   "cell_type": "code",
   "execution_count": 1,
   "metadata": {},
   "outputs": [],
   "source": [
    "import numpy as np\n",
    "import pandas as pd \n",
    "from sklearn.model_selection import train_test_split\n",
    "from sklearn.linear_model import LinearRegression\n",
    "from sklearn import metrics\n",
    "from sklearn.model_selection import cross_val_score\n",
    "from sklearn.feature_selection import f_regression\n",
    "from sklearn.preprocessing import PolynomialFeatures\n",
    "from sklearn.metrics import mean_squared_error, r2_score\n",
    "import matplotlib.pyplot as plt\n",
    "import seaborn as sns\n",
    "sns.set()\n",
    "from sklearn.preprocessing import StandardScaler\n",
    "from sklearn.linear_model import Lasso\n",
    "\n",
    "import statsmodels.api as sm\n",
    "from statsmodels.formula.api import ols\n",
    "\n",
    "%matplotlib inline\n",
    "\n",
    "import warnings\n",
    "warnings.filterwarnings('ignore')\n",
    "#pd.set_option('display.float_format', lambda x: '%.3f' % x)"
   ]
  },
  {
   "cell_type": "markdown",
   "metadata": {},
   "source": [
    "## Load the data"
   ]
  },
  {
   "cell_type": "code",
   "execution_count": 2,
   "metadata": {},
   "outputs": [
    {
     "data": {
      "text/html": [
       "<div>\n",
       "<style scoped>\n",
       "    .dataframe tbody tr th:only-of-type {\n",
       "        vertical-align: middle;\n",
       "    }\n",
       "\n",
       "    .dataframe tbody tr th {\n",
       "        vertical-align: top;\n",
       "    }\n",
       "\n",
       "    .dataframe thead th {\n",
       "        text-align: right;\n",
       "    }\n",
       "</style>\n",
       "<table border=\"1\" class=\"dataframe\">\n",
       "  <thead>\n",
       "    <tr style=\"text-align: right;\">\n",
       "      <th></th>\n",
       "      <th>Rank</th>\n",
       "      <th>Name</th>\n",
       "      <th>Genre</th>\n",
       "      <th>ESRB_Rating</th>\n",
       "      <th>Platform</th>\n",
       "      <th>Publisher</th>\n",
       "      <th>Developer</th>\n",
       "      <th>Global_Sales</th>\n",
       "      <th>NA_Sales</th>\n",
       "      <th>PAL_Sales</th>\n",
       "      <th>...</th>\n",
       "      <th>months_ago</th>\n",
       "      <th>Company</th>\n",
       "      <th>generation_lifespan</th>\n",
       "      <th>generation_flag</th>\n",
       "      <th>Publisher_Metascore</th>\n",
       "      <th>Publisher_Userscore</th>\n",
       "      <th>Developer_Metascore</th>\n",
       "      <th>Developer_Userscore</th>\n",
       "      <th>Genre_Metascore</th>\n",
       "      <th>Genre_Userscore</th>\n",
       "    </tr>\n",
       "  </thead>\n",
       "  <tbody>\n",
       "    <tr>\n",
       "      <td>0</td>\n",
       "      <td>20</td>\n",
       "      <td>Grand Theft Auto V</td>\n",
       "      <td>Action</td>\n",
       "      <td>M</td>\n",
       "      <td>PS3</td>\n",
       "      <td>Rockstar Games</td>\n",
       "      <td>Others</td>\n",
       "      <td>20.32</td>\n",
       "      <td>6.37</td>\n",
       "      <td>9.85</td>\n",
       "      <td>...</td>\n",
       "      <td>79</td>\n",
       "      <td>Sony</td>\n",
       "      <td>0.975904</td>\n",
       "      <td>0.0</td>\n",
       "      <td>82.900000</td>\n",
       "      <td>7.860000</td>\n",
       "      <td>69.102153</td>\n",
       "      <td>7.097440</td>\n",
       "      <td>66.628349</td>\n",
       "      <td>7.088764</td>\n",
       "    </tr>\n",
       "    <tr>\n",
       "      <td>1</td>\n",
       "      <td>21</td>\n",
       "      <td>Grand Theft Auto V</td>\n",
       "      <td>Action</td>\n",
       "      <td>M</td>\n",
       "      <td>PS4</td>\n",
       "      <td>Rockstar Games</td>\n",
       "      <td>Others</td>\n",
       "      <td>19.39</td>\n",
       "      <td>6.06</td>\n",
       "      <td>9.71</td>\n",
       "      <td>...</td>\n",
       "      <td>65</td>\n",
       "      <td>Sony</td>\n",
       "      <td>0.142857</td>\n",
       "      <td>0.0</td>\n",
       "      <td>82.900000</td>\n",
       "      <td>7.860000</td>\n",
       "      <td>69.102153</td>\n",
       "      <td>7.097440</td>\n",
       "      <td>66.628349</td>\n",
       "      <td>7.088764</td>\n",
       "    </tr>\n",
       "    <tr>\n",
       "      <td>2</td>\n",
       "      <td>31</td>\n",
       "      <td>Grand Theft Auto: Vice City</td>\n",
       "      <td>Action</td>\n",
       "      <td>M</td>\n",
       "      <td>PS2</td>\n",
       "      <td>Rockstar Games</td>\n",
       "      <td>Others</td>\n",
       "      <td>16.15</td>\n",
       "      <td>8.41</td>\n",
       "      <td>5.49</td>\n",
       "      <td>...</td>\n",
       "      <td>210</td>\n",
       "      <td>Sony</td>\n",
       "      <td>0.375000</td>\n",
       "      <td>0.0</td>\n",
       "      <td>82.900000</td>\n",
       "      <td>7.860000</td>\n",
       "      <td>69.102153</td>\n",
       "      <td>7.097440</td>\n",
       "      <td>66.628349</td>\n",
       "      <td>7.088764</td>\n",
       "    </tr>\n",
       "    <tr>\n",
       "      <td>3</td>\n",
       "      <td>33</td>\n",
       "      <td>Grand Theft Auto V</td>\n",
       "      <td>Action</td>\n",
       "      <td>M</td>\n",
       "      <td>X360</td>\n",
       "      <td>Rockstar Games</td>\n",
       "      <td>Others</td>\n",
       "      <td>15.86</td>\n",
       "      <td>9.06</td>\n",
       "      <td>5.33</td>\n",
       "      <td>...</td>\n",
       "      <td>79</td>\n",
       "      <td>Microsoft</td>\n",
       "      <td>0.978947</td>\n",
       "      <td>0.0</td>\n",
       "      <td>82.900000</td>\n",
       "      <td>7.860000</td>\n",
       "      <td>69.102153</td>\n",
       "      <td>7.097440</td>\n",
       "      <td>66.628349</td>\n",
       "      <td>7.088764</td>\n",
       "    </tr>\n",
       "    <tr>\n",
       "      <td>4</td>\n",
       "      <td>41</td>\n",
       "      <td>Call of Duty: Modern Warfare 3</td>\n",
       "      <td>Shooter</td>\n",
       "      <td>M</td>\n",
       "      <td>X360</td>\n",
       "      <td>Activision</td>\n",
       "      <td>Infinity Ward</td>\n",
       "      <td>14.82</td>\n",
       "      <td>9.07</td>\n",
       "      <td>4.29</td>\n",
       "      <td>...</td>\n",
       "      <td>101</td>\n",
       "      <td>Microsoft</td>\n",
       "      <td>0.747368</td>\n",
       "      <td>0.0</td>\n",
       "      <td>70.563107</td>\n",
       "      <td>6.830097</td>\n",
       "      <td>82.863636</td>\n",
       "      <td>5.077273</td>\n",
       "      <td>70.479064</td>\n",
       "      <td>6.974507</td>\n",
       "    </tr>\n",
       "    <tr>\n",
       "      <td>5</td>\n",
       "      <td>42</td>\n",
       "      <td>Call of Duty: Black Ops</td>\n",
       "      <td>Shooter</td>\n",
       "      <td>M</td>\n",
       "      <td>X360</td>\n",
       "      <td>Activision</td>\n",
       "      <td>Treyarch</td>\n",
       "      <td>14.74</td>\n",
       "      <td>9.76</td>\n",
       "      <td>3.73</td>\n",
       "      <td>...</td>\n",
       "      <td>113</td>\n",
       "      <td>Microsoft</td>\n",
       "      <td>0.621053</td>\n",
       "      <td>0.0</td>\n",
       "      <td>70.563107</td>\n",
       "      <td>6.830097</td>\n",
       "      <td>76.789474</td>\n",
       "      <td>7.107895</td>\n",
       "      <td>70.479064</td>\n",
       "      <td>6.974507</td>\n",
       "    </tr>\n",
       "    <tr>\n",
       "      <td>6</td>\n",
       "      <td>46</td>\n",
       "      <td>Red Dead Redemption 2</td>\n",
       "      <td>Action-Adventure</td>\n",
       "      <td>M</td>\n",
       "      <td>PS4</td>\n",
       "      <td>Rockstar Games</td>\n",
       "      <td>Others</td>\n",
       "      <td>13.94</td>\n",
       "      <td>5.26</td>\n",
       "      <td>6.21</td>\n",
       "      <td>...</td>\n",
       "      <td>18</td>\n",
       "      <td>Sony</td>\n",
       "      <td>0.702381</td>\n",
       "      <td>0.0</td>\n",
       "      <td>82.900000</td>\n",
       "      <td>7.860000</td>\n",
       "      <td>69.102153</td>\n",
       "      <td>7.097440</td>\n",
       "      <td>73.584071</td>\n",
       "      <td>6.911504</td>\n",
       "    </tr>\n",
       "    <tr>\n",
       "      <td>7</td>\n",
       "      <td>47</td>\n",
       "      <td>Call of Duty: Black Ops II</td>\n",
       "      <td>Shooter</td>\n",
       "      <td>M</td>\n",
       "      <td>X360</td>\n",
       "      <td>Activision</td>\n",
       "      <td>Treyarch</td>\n",
       "      <td>13.86</td>\n",
       "      <td>8.27</td>\n",
       "      <td>4.32</td>\n",
       "      <td>...</td>\n",
       "      <td>89</td>\n",
       "      <td>Microsoft</td>\n",
       "      <td>0.873684</td>\n",
       "      <td>0.0</td>\n",
       "      <td>70.563107</td>\n",
       "      <td>6.830097</td>\n",
       "      <td>76.789474</td>\n",
       "      <td>7.107895</td>\n",
       "      <td>70.479064</td>\n",
       "      <td>6.974507</td>\n",
       "    </tr>\n",
       "    <tr>\n",
       "      <td>8</td>\n",
       "      <td>48</td>\n",
       "      <td>Call of Duty: Black Ops II</td>\n",
       "      <td>Shooter</td>\n",
       "      <td>M</td>\n",
       "      <td>PS3</td>\n",
       "      <td>Activision</td>\n",
       "      <td>Treyarch</td>\n",
       "      <td>13.80</td>\n",
       "      <td>4.99</td>\n",
       "      <td>5.88</td>\n",
       "      <td>...</td>\n",
       "      <td>89</td>\n",
       "      <td>Sony</td>\n",
       "      <td>0.855422</td>\n",
       "      <td>0.0</td>\n",
       "      <td>70.563107</td>\n",
       "      <td>6.830097</td>\n",
       "      <td>76.789474</td>\n",
       "      <td>7.107895</td>\n",
       "      <td>70.479064</td>\n",
       "      <td>6.974507</td>\n",
       "    </tr>\n",
       "    <tr>\n",
       "      <td>9</td>\n",
       "      <td>50</td>\n",
       "      <td>Call of Duty: Modern Warfare 2</td>\n",
       "      <td>Shooter</td>\n",
       "      <td>M</td>\n",
       "      <td>X360</td>\n",
       "      <td>Activision</td>\n",
       "      <td>Infinity Ward</td>\n",
       "      <td>13.53</td>\n",
       "      <td>8.54</td>\n",
       "      <td>3.63</td>\n",
       "      <td>...</td>\n",
       "      <td>125</td>\n",
       "      <td>Microsoft</td>\n",
       "      <td>0.494737</td>\n",
       "      <td>0.0</td>\n",
       "      <td>70.563107</td>\n",
       "      <td>6.830097</td>\n",
       "      <td>82.863636</td>\n",
       "      <td>5.077273</td>\n",
       "      <td>70.479064</td>\n",
       "      <td>6.974507</td>\n",
       "    </tr>\n",
       "  </tbody>\n",
       "</table>\n",
       "<p>10 rows × 29 columns</p>\n",
       "</div>"
      ],
      "text/plain": [
       "   Rank                            Name             Genre ESRB_Rating  \\\n",
       "0    20              Grand Theft Auto V            Action           M   \n",
       "1    21              Grand Theft Auto V            Action           M   \n",
       "2    31     Grand Theft Auto: Vice City            Action           M   \n",
       "3    33              Grand Theft Auto V            Action           M   \n",
       "4    41  Call of Duty: Modern Warfare 3           Shooter           M   \n",
       "5    42         Call of Duty: Black Ops           Shooter           M   \n",
       "6    46           Red Dead Redemption 2  Action-Adventure           M   \n",
       "7    47      Call of Duty: Black Ops II           Shooter           M   \n",
       "8    48      Call of Duty: Black Ops II           Shooter           M   \n",
       "9    50  Call of Duty: Modern Warfare 2           Shooter           M   \n",
       "\n",
       "  Platform       Publisher      Developer  Global_Sales  NA_Sales  PAL_Sales  \\\n",
       "0      PS3  Rockstar Games         Others         20.32      6.37       9.85   \n",
       "1      PS4  Rockstar Games         Others         19.39      6.06       9.71   \n",
       "2      PS2  Rockstar Games         Others         16.15      8.41       5.49   \n",
       "3     X360  Rockstar Games         Others         15.86      9.06       5.33   \n",
       "4     X360      Activision  Infinity Ward         14.82      9.07       4.29   \n",
       "5     X360      Activision       Treyarch         14.74      9.76       3.73   \n",
       "6      PS4  Rockstar Games         Others         13.94      5.26       6.21   \n",
       "7     X360      Activision       Treyarch         13.86      8.27       4.32   \n",
       "8      PS3      Activision       Treyarch         13.80      4.99       5.88   \n",
       "9     X360      Activision  Infinity Ward         13.53      8.54       3.63   \n",
       "\n",
       "   ...  months_ago    Company  generation_lifespan  generation_flag  \\\n",
       "0  ...          79       Sony             0.975904              0.0   \n",
       "1  ...          65       Sony             0.142857              0.0   \n",
       "2  ...         210       Sony             0.375000              0.0   \n",
       "3  ...          79  Microsoft             0.978947              0.0   \n",
       "4  ...         101  Microsoft             0.747368              0.0   \n",
       "5  ...         113  Microsoft             0.621053              0.0   \n",
       "6  ...          18       Sony             0.702381              0.0   \n",
       "7  ...          89  Microsoft             0.873684              0.0   \n",
       "8  ...          89       Sony             0.855422              0.0   \n",
       "9  ...         125  Microsoft             0.494737              0.0   \n",
       "\n",
       "   Publisher_Metascore Publisher_Userscore  Developer_Metascore  \\\n",
       "0            82.900000            7.860000            69.102153   \n",
       "1            82.900000            7.860000            69.102153   \n",
       "2            82.900000            7.860000            69.102153   \n",
       "3            82.900000            7.860000            69.102153   \n",
       "4            70.563107            6.830097            82.863636   \n",
       "5            70.563107            6.830097            76.789474   \n",
       "6            82.900000            7.860000            69.102153   \n",
       "7            70.563107            6.830097            76.789474   \n",
       "8            70.563107            6.830097            76.789474   \n",
       "9            70.563107            6.830097            82.863636   \n",
       "\n",
       "  Developer_Userscore  Genre_Metascore  Genre_Userscore  \n",
       "0            7.097440        66.628349         7.088764  \n",
       "1            7.097440        66.628349         7.088764  \n",
       "2            7.097440        66.628349         7.088764  \n",
       "3            7.097440        66.628349         7.088764  \n",
       "4            5.077273        70.479064         6.974507  \n",
       "5            7.107895        70.479064         6.974507  \n",
       "6            7.097440        73.584071         6.911504  \n",
       "7            7.107895        70.479064         6.974507  \n",
       "8            7.107895        70.479064         6.974507  \n",
       "9            5.077273        70.479064         6.974507  \n",
       "\n",
       "[10 rows x 29 columns]"
      ]
     },
     "execution_count": 2,
     "metadata": {},
     "output_type": "execute_result"
    }
   ],
   "source": [
    "df = pd.read_csv('games_df.csv')\n",
    "\n",
    "del df[\"Unnamed: 0\"]\n",
    "df.head(10)"
   ]
  },
  {
   "cell_type": "code",
   "execution_count": 3,
   "metadata": {},
   "outputs": [
    {
     "data": {
      "text/html": [
       "<div>\n",
       "<style scoped>\n",
       "    .dataframe tbody tr th:only-of-type {\n",
       "        vertical-align: middle;\n",
       "    }\n",
       "\n",
       "    .dataframe tbody tr th {\n",
       "        vertical-align: top;\n",
       "    }\n",
       "\n",
       "    .dataframe thead th {\n",
       "        text-align: right;\n",
       "    }\n",
       "</style>\n",
       "<table border=\"1\" class=\"dataframe\">\n",
       "  <thead>\n",
       "    <tr style=\"text-align: right;\">\n",
       "      <th></th>\n",
       "      <th>Rank</th>\n",
       "      <th>Global_Sales</th>\n",
       "      <th>NA_Sales</th>\n",
       "      <th>PAL_Sales</th>\n",
       "      <th>JP_Sales</th>\n",
       "      <th>Other_Sales</th>\n",
       "      <th>Year</th>\n",
       "      <th>metascore</th>\n",
       "      <th>userscore</th>\n",
       "      <th>years_ago</th>\n",
       "      <th>month_num</th>\n",
       "      <th>months_ago</th>\n",
       "      <th>generation_lifespan</th>\n",
       "      <th>generation_flag</th>\n",
       "      <th>Publisher_Metascore</th>\n",
       "      <th>Publisher_Userscore</th>\n",
       "      <th>Developer_Metascore</th>\n",
       "      <th>Developer_Userscore</th>\n",
       "      <th>Genre_Metascore</th>\n",
       "      <th>Genre_Userscore</th>\n",
       "    </tr>\n",
       "  </thead>\n",
       "  <tbody>\n",
       "    <tr>\n",
       "      <td>count</td>\n",
       "      <td>6242.000000</td>\n",
       "      <td>6242.000000</td>\n",
       "      <td>5824.000000</td>\n",
       "      <td>5699.000000</td>\n",
       "      <td>1929.000000</td>\n",
       "      <td>6141.000000</td>\n",
       "      <td>6242.000000</td>\n",
       "      <td>6242.000000</td>\n",
       "      <td>6242.000000</td>\n",
       "      <td>6242.000000</td>\n",
       "      <td>6242.000000</td>\n",
       "      <td>6242.000000</td>\n",
       "      <td>6242.000000</td>\n",
       "      <td>6242.000000</td>\n",
       "      <td>6242.000000</td>\n",
       "      <td>6242.000000</td>\n",
       "      <td>6242.000000</td>\n",
       "      <td>6242.000000</td>\n",
       "      <td>6242.000000</td>\n",
       "      <td>6242.000000</td>\n",
       "    </tr>\n",
       "    <tr>\n",
       "      <td>mean</td>\n",
       "      <td>7960.043896</td>\n",
       "      <td>0.642241</td>\n",
       "      <td>0.358480</td>\n",
       "      <td>0.223746</td>\n",
       "      <td>0.102234</td>\n",
       "      <td>0.072872</td>\n",
       "      <td>2008.035405</td>\n",
       "      <td>70.595002</td>\n",
       "      <td>7.135421</td>\n",
       "      <td>11.971804</td>\n",
       "      <td>7.332906</td>\n",
       "      <td>140.328741</td>\n",
       "      <td>0.516602</td>\n",
       "      <td>0.132650</td>\n",
       "      <td>70.595002</td>\n",
       "      <td>7.135421</td>\n",
       "      <td>70.595002</td>\n",
       "      <td>7.135421</td>\n",
       "      <td>70.595002</td>\n",
       "      <td>7.135421</td>\n",
       "    </tr>\n",
       "    <tr>\n",
       "      <td>std</td>\n",
       "      <td>5214.566423</td>\n",
       "      <td>1.223215</td>\n",
       "      <td>0.643239</td>\n",
       "      <td>0.525887</td>\n",
       "      <td>0.162095</td>\n",
       "      <td>0.174725</td>\n",
       "      <td>4.676991</td>\n",
       "      <td>13.100307</td>\n",
       "      <td>1.381198</td>\n",
       "      <td>4.663883</td>\n",
       "      <td>3.302275</td>\n",
       "      <td>55.695882</td>\n",
       "      <td>0.277226</td>\n",
       "      <td>0.339223</td>\n",
       "      <td>4.151322</td>\n",
       "      <td>0.326779</td>\n",
       "      <td>4.076497</td>\n",
       "      <td>0.249686</td>\n",
       "      <td>2.794023</td>\n",
       "      <td>0.150820</td>\n",
       "    </tr>\n",
       "    <tr>\n",
       "      <td>min</td>\n",
       "      <td>20.000000</td>\n",
       "      <td>0.010000</td>\n",
       "      <td>0.000000</td>\n",
       "      <td>0.000000</td>\n",
       "      <td>0.000000</td>\n",
       "      <td>0.000000</td>\n",
       "      <td>1996.000000</td>\n",
       "      <td>17.000000</td>\n",
       "      <td>0.400000</td>\n",
       "      <td>2.000000</td>\n",
       "      <td>1.000000</td>\n",
       "      <td>18.000000</td>\n",
       "      <td>0.000000</td>\n",
       "      <td>0.000000</td>\n",
       "      <td>59.920000</td>\n",
       "      <td>6.204167</td>\n",
       "      <td>57.185185</td>\n",
       "      <td>5.077273</td>\n",
       "      <td>66.628349</td>\n",
       "      <td>6.911504</td>\n",
       "    </tr>\n",
       "    <tr>\n",
       "      <td>25%</td>\n",
       "      <td>3501.500000</td>\n",
       "      <td>0.110000</td>\n",
       "      <td>0.070000</td>\n",
       "      <td>0.020000</td>\n",
       "      <td>0.020000</td>\n",
       "      <td>0.010000</td>\n",
       "      <td>2004.000000</td>\n",
       "      <td>63.000000</td>\n",
       "      <td>6.500000</td>\n",
       "      <td>9.000000</td>\n",
       "      <td>4.000000</td>\n",
       "      <td>106.000000</td>\n",
       "      <td>0.312500</td>\n",
       "      <td>0.000000</td>\n",
       "      <td>67.160000</td>\n",
       "      <td>6.876464</td>\n",
       "      <td>69.102153</td>\n",
       "      <td>7.097440</td>\n",
       "      <td>68.475410</td>\n",
       "      <td>7.045746</td>\n",
       "    </tr>\n",
       "    <tr>\n",
       "      <td>50%</td>\n",
       "      <td>7200.000000</td>\n",
       "      <td>0.270000</td>\n",
       "      <td>0.160000</td>\n",
       "      <td>0.070000</td>\n",
       "      <td>0.050000</td>\n",
       "      <td>0.020000</td>\n",
       "      <td>2008.000000</td>\n",
       "      <td>73.000000</td>\n",
       "      <td>7.500000</td>\n",
       "      <td>12.000000</td>\n",
       "      <td>8.000000</td>\n",
       "      <td>147.000000</td>\n",
       "      <td>0.516602</td>\n",
       "      <td>0.000000</td>\n",
       "      <td>70.222222</td>\n",
       "      <td>7.060317</td>\n",
       "      <td>69.102153</td>\n",
       "      <td>7.097440</td>\n",
       "      <td>70.479064</td>\n",
       "      <td>7.088764</td>\n",
       "    </tr>\n",
       "    <tr>\n",
       "      <td>75%</td>\n",
       "      <td>12018.500000</td>\n",
       "      <td>0.670000</td>\n",
       "      <td>0.370000</td>\n",
       "      <td>0.210000</td>\n",
       "      <td>0.120000</td>\n",
       "      <td>0.070000</td>\n",
       "      <td>2011.000000</td>\n",
       "      <td>80.000000</td>\n",
       "      <td>8.100000</td>\n",
       "      <td>16.000000</td>\n",
       "      <td>10.000000</td>\n",
       "      <td>185.000000</td>\n",
       "      <td>0.686747</td>\n",
       "      <td>0.000000</td>\n",
       "      <td>73.655773</td>\n",
       "      <td>7.321359</td>\n",
       "      <td>69.102153</td>\n",
       "      <td>7.097440</td>\n",
       "      <td>72.519939</td>\n",
       "      <td>7.250746</td>\n",
       "    </tr>\n",
       "    <tr>\n",
       "      <td>max</td>\n",
       "      <td>19859.000000</td>\n",
       "      <td>20.320000</td>\n",
       "      <td>9.760000</td>\n",
       "      <td>9.850000</td>\n",
       "      <td>2.170000</td>\n",
       "      <td>3.120000</td>\n",
       "      <td>2020.000000</td>\n",
       "      <td>98.000000</td>\n",
       "      <td>9.400000</td>\n",
       "      <td>24.000000</td>\n",
       "      <td>12.000000</td>\n",
       "      <td>289.000000</td>\n",
       "      <td>1.590909</td>\n",
       "      <td>1.000000</td>\n",
       "      <td>82.900000</td>\n",
       "      <td>8.064000</td>\n",
       "      <td>84.838710</td>\n",
       "      <td>8.104545</td>\n",
       "      <td>75.491713</td>\n",
       "      <td>7.450460</td>\n",
       "    </tr>\n",
       "  </tbody>\n",
       "</table>\n",
       "</div>"
      ],
      "text/plain": [
       "               Rank  Global_Sales     NA_Sales    PAL_Sales     JP_Sales  \\\n",
       "count   6242.000000   6242.000000  5824.000000  5699.000000  1929.000000   \n",
       "mean    7960.043896      0.642241     0.358480     0.223746     0.102234   \n",
       "std     5214.566423      1.223215     0.643239     0.525887     0.162095   \n",
       "min       20.000000      0.010000     0.000000     0.000000     0.000000   \n",
       "25%     3501.500000      0.110000     0.070000     0.020000     0.020000   \n",
       "50%     7200.000000      0.270000     0.160000     0.070000     0.050000   \n",
       "75%    12018.500000      0.670000     0.370000     0.210000     0.120000   \n",
       "max    19859.000000     20.320000     9.760000     9.850000     2.170000   \n",
       "\n",
       "       Other_Sales         Year    metascore    userscore    years_ago  \\\n",
       "count  6141.000000  6242.000000  6242.000000  6242.000000  6242.000000   \n",
       "mean      0.072872  2008.035405    70.595002     7.135421    11.971804   \n",
       "std       0.174725     4.676991    13.100307     1.381198     4.663883   \n",
       "min       0.000000  1996.000000    17.000000     0.400000     2.000000   \n",
       "25%       0.010000  2004.000000    63.000000     6.500000     9.000000   \n",
       "50%       0.020000  2008.000000    73.000000     7.500000    12.000000   \n",
       "75%       0.070000  2011.000000    80.000000     8.100000    16.000000   \n",
       "max       3.120000  2020.000000    98.000000     9.400000    24.000000   \n",
       "\n",
       "         month_num   months_ago  generation_lifespan  generation_flag  \\\n",
       "count  6242.000000  6242.000000          6242.000000      6242.000000   \n",
       "mean      7.332906   140.328741             0.516602         0.132650   \n",
       "std       3.302275    55.695882             0.277226         0.339223   \n",
       "min       1.000000    18.000000             0.000000         0.000000   \n",
       "25%       4.000000   106.000000             0.312500         0.000000   \n",
       "50%       8.000000   147.000000             0.516602         0.000000   \n",
       "75%      10.000000   185.000000             0.686747         0.000000   \n",
       "max      12.000000   289.000000             1.590909         1.000000   \n",
       "\n",
       "       Publisher_Metascore  Publisher_Userscore  Developer_Metascore  \\\n",
       "count          6242.000000          6242.000000          6242.000000   \n",
       "mean             70.595002             7.135421            70.595002   \n",
       "std               4.151322             0.326779             4.076497   \n",
       "min              59.920000             6.204167            57.185185   \n",
       "25%              67.160000             6.876464            69.102153   \n",
       "50%              70.222222             7.060317            69.102153   \n",
       "75%              73.655773             7.321359            69.102153   \n",
       "max              82.900000             8.064000            84.838710   \n",
       "\n",
       "       Developer_Userscore  Genre_Metascore  Genre_Userscore  \n",
       "count          6242.000000      6242.000000      6242.000000  \n",
       "mean              7.135421        70.595002         7.135421  \n",
       "std               0.249686         2.794023         0.150820  \n",
       "min               5.077273        66.628349         6.911504  \n",
       "25%               7.097440        68.475410         7.045746  \n",
       "50%               7.097440        70.479064         7.088764  \n",
       "75%               7.097440        72.519939         7.250746  \n",
       "max               8.104545        75.491713         7.450460  "
      ]
     },
     "execution_count": 3,
     "metadata": {},
     "output_type": "execute_result"
    }
   ],
   "source": [
    "df.describe()"
   ]
  },
  {
   "cell_type": "code",
   "execution_count": 4,
   "metadata": {},
   "outputs": [
    {
     "data": {
      "text/plain": [
       "(6242, 29)"
      ]
     },
     "execution_count": 4,
     "metadata": {},
     "output_type": "execute_result"
    }
   ],
   "source": [
    "df.shape"
   ]
  },
  {
   "cell_type": "code",
   "execution_count": 5,
   "metadata": {
    "scrolled": true
   },
   "outputs": [
    {
     "data": {
      "text/plain": [
       "Index(['Rank', 'Name', 'Genre', 'ESRB_Rating', 'Platform', 'Publisher',\n",
       "       'Developer', 'Global_Sales', 'NA_Sales', 'PAL_Sales', 'JP_Sales',\n",
       "       'Other_Sales', 'Year', 'metascore', 'userscore', 'date', 'years_ago',\n",
       "       'month_abbrev', 'month_num', 'months_ago', 'Company',\n",
       "       'generation_lifespan', 'generation_flag', 'Publisher_Metascore',\n",
       "       'Publisher_Userscore', 'Developer_Metascore', 'Developer_Userscore',\n",
       "       'Genre_Metascore', 'Genre_Userscore'],\n",
       "      dtype='object')"
      ]
     },
     "execution_count": 5,
     "metadata": {},
     "output_type": "execute_result"
    }
   ],
   "source": [
    "df.columns"
   ]
  },
  {
   "cell_type": "markdown",
   "metadata": {},
   "source": [
    "## Manage Categorical Variables"
   ]
  },
  {
   "cell_type": "code",
   "execution_count": 6,
   "metadata": {},
   "outputs": [],
   "source": [
    "categorical = df[['Genre','ESRB_Rating','Company','Publisher']]"
   ]
  },
  {
   "cell_type": "code",
   "execution_count": 7,
   "metadata": {},
   "outputs": [],
   "source": [
    "categorical_df = pd.get_dummies(data=categorical, drop_first=True)"
   ]
  },
  {
   "cell_type": "code",
   "execution_count": 8,
   "metadata": {
    "scrolled": true
   },
   "outputs": [
    {
     "data": {
      "text/html": [
       "<div>\n",
       "<style scoped>\n",
       "    .dataframe tbody tr th:only-of-type {\n",
       "        vertical-align: middle;\n",
       "    }\n",
       "\n",
       "    .dataframe tbody tr th {\n",
       "        vertical-align: top;\n",
       "    }\n",
       "\n",
       "    .dataframe thead th {\n",
       "        text-align: right;\n",
       "    }\n",
       "</style>\n",
       "<table border=\"1\" class=\"dataframe\">\n",
       "  <thead>\n",
       "    <tr style=\"text-align: right;\">\n",
       "      <th></th>\n",
       "      <th>Genre_Action-Adventure</th>\n",
       "      <th>Genre_Adventure</th>\n",
       "      <th>Genre_Fighting</th>\n",
       "      <th>Genre_Misc</th>\n",
       "      <th>Genre_Others</th>\n",
       "      <th>Genre_Platform</th>\n",
       "      <th>Genre_Puzzle</th>\n",
       "      <th>Genre_Racing</th>\n",
       "      <th>Genre_Role-Playing</th>\n",
       "      <th>Genre_Shooter</th>\n",
       "      <th>...</th>\n",
       "      <th>Publisher_SouthPeak Interactive</th>\n",
       "      <th>Publisher_Square Enix</th>\n",
       "      <th>Publisher_THQ</th>\n",
       "      <th>Publisher_Tecmo</th>\n",
       "      <th>Publisher_Tecmo Koei</th>\n",
       "      <th>Publisher_Ubisoft</th>\n",
       "      <th>Publisher_VU Games</th>\n",
       "      <th>Publisher_Warner Bros. Interactive</th>\n",
       "      <th>Publisher_Warner Bros. Interactive Entertainment</th>\n",
       "      <th>Publisher_Xseed Games</th>\n",
       "    </tr>\n",
       "  </thead>\n",
       "  <tbody>\n",
       "    <tr>\n",
       "      <td>count</td>\n",
       "      <td>6242.000000</td>\n",
       "      <td>6242.000000</td>\n",
       "      <td>6242.000000</td>\n",
       "      <td>6242.000000</td>\n",
       "      <td>6242.000000</td>\n",
       "      <td>6242.000000</td>\n",
       "      <td>6242.000000</td>\n",
       "      <td>6242.000000</td>\n",
       "      <td>6242.000000</td>\n",
       "      <td>6242.000000</td>\n",
       "      <td>...</td>\n",
       "      <td>6242.000000</td>\n",
       "      <td>6242.000000</td>\n",
       "      <td>6242.000000</td>\n",
       "      <td>6242.000000</td>\n",
       "      <td>6242.000000</td>\n",
       "      <td>6242.000000</td>\n",
       "      <td>6242.000000</td>\n",
       "      <td>6242.000000</td>\n",
       "      <td>6242.000000</td>\n",
       "      <td>6242.000000</td>\n",
       "    </tr>\n",
       "    <tr>\n",
       "      <td>mean</td>\n",
       "      <td>0.018103</td>\n",
       "      <td>0.059276</td>\n",
       "      <td>0.053669</td>\n",
       "      <td>0.048863</td>\n",
       "      <td>0.011375</td>\n",
       "      <td>0.059596</td>\n",
       "      <td>0.021147</td>\n",
       "      <td>0.078500</td>\n",
       "      <td>0.104454</td>\n",
       "      <td>0.130087</td>\n",
       "      <td>...</td>\n",
       "      <td>0.004005</td>\n",
       "      <td>0.016661</td>\n",
       "      <td>0.038930</td>\n",
       "      <td>0.004326</td>\n",
       "      <td>0.010093</td>\n",
       "      <td>0.062961</td>\n",
       "      <td>0.008491</td>\n",
       "      <td>0.009933</td>\n",
       "      <td>0.007850</td>\n",
       "      <td>0.007369</td>\n",
       "    </tr>\n",
       "    <tr>\n",
       "      <td>std</td>\n",
       "      <td>0.133335</td>\n",
       "      <td>0.236159</td>\n",
       "      <td>0.225381</td>\n",
       "      <td>0.215598</td>\n",
       "      <td>0.106052</td>\n",
       "      <td>0.236756</td>\n",
       "      <td>0.143886</td>\n",
       "      <td>0.268979</td>\n",
       "      <td>0.305873</td>\n",
       "      <td>0.336426</td>\n",
       "      <td>...</td>\n",
       "      <td>0.063164</td>\n",
       "      <td>0.128009</td>\n",
       "      <td>0.193443</td>\n",
       "      <td>0.065632</td>\n",
       "      <td>0.099963</td>\n",
       "      <td>0.242912</td>\n",
       "      <td>0.091761</td>\n",
       "      <td>0.099175</td>\n",
       "      <td>0.088259</td>\n",
       "      <td>0.085535</td>\n",
       "    </tr>\n",
       "    <tr>\n",
       "      <td>min</td>\n",
       "      <td>0.000000</td>\n",
       "      <td>0.000000</td>\n",
       "      <td>0.000000</td>\n",
       "      <td>0.000000</td>\n",
       "      <td>0.000000</td>\n",
       "      <td>0.000000</td>\n",
       "      <td>0.000000</td>\n",
       "      <td>0.000000</td>\n",
       "      <td>0.000000</td>\n",
       "      <td>0.000000</td>\n",
       "      <td>...</td>\n",
       "      <td>0.000000</td>\n",
       "      <td>0.000000</td>\n",
       "      <td>0.000000</td>\n",
       "      <td>0.000000</td>\n",
       "      <td>0.000000</td>\n",
       "      <td>0.000000</td>\n",
       "      <td>0.000000</td>\n",
       "      <td>0.000000</td>\n",
       "      <td>0.000000</td>\n",
       "      <td>0.000000</td>\n",
       "    </tr>\n",
       "    <tr>\n",
       "      <td>25%</td>\n",
       "      <td>0.000000</td>\n",
       "      <td>0.000000</td>\n",
       "      <td>0.000000</td>\n",
       "      <td>0.000000</td>\n",
       "      <td>0.000000</td>\n",
       "      <td>0.000000</td>\n",
       "      <td>0.000000</td>\n",
       "      <td>0.000000</td>\n",
       "      <td>0.000000</td>\n",
       "      <td>0.000000</td>\n",
       "      <td>...</td>\n",
       "      <td>0.000000</td>\n",
       "      <td>0.000000</td>\n",
       "      <td>0.000000</td>\n",
       "      <td>0.000000</td>\n",
       "      <td>0.000000</td>\n",
       "      <td>0.000000</td>\n",
       "      <td>0.000000</td>\n",
       "      <td>0.000000</td>\n",
       "      <td>0.000000</td>\n",
       "      <td>0.000000</td>\n",
       "    </tr>\n",
       "    <tr>\n",
       "      <td>50%</td>\n",
       "      <td>0.000000</td>\n",
       "      <td>0.000000</td>\n",
       "      <td>0.000000</td>\n",
       "      <td>0.000000</td>\n",
       "      <td>0.000000</td>\n",
       "      <td>0.000000</td>\n",
       "      <td>0.000000</td>\n",
       "      <td>0.000000</td>\n",
       "      <td>0.000000</td>\n",
       "      <td>0.000000</td>\n",
       "      <td>...</td>\n",
       "      <td>0.000000</td>\n",
       "      <td>0.000000</td>\n",
       "      <td>0.000000</td>\n",
       "      <td>0.000000</td>\n",
       "      <td>0.000000</td>\n",
       "      <td>0.000000</td>\n",
       "      <td>0.000000</td>\n",
       "      <td>0.000000</td>\n",
       "      <td>0.000000</td>\n",
       "      <td>0.000000</td>\n",
       "    </tr>\n",
       "    <tr>\n",
       "      <td>75%</td>\n",
       "      <td>0.000000</td>\n",
       "      <td>0.000000</td>\n",
       "      <td>0.000000</td>\n",
       "      <td>0.000000</td>\n",
       "      <td>0.000000</td>\n",
       "      <td>0.000000</td>\n",
       "      <td>0.000000</td>\n",
       "      <td>0.000000</td>\n",
       "      <td>0.000000</td>\n",
       "      <td>0.000000</td>\n",
       "      <td>...</td>\n",
       "      <td>0.000000</td>\n",
       "      <td>0.000000</td>\n",
       "      <td>0.000000</td>\n",
       "      <td>0.000000</td>\n",
       "      <td>0.000000</td>\n",
       "      <td>0.000000</td>\n",
       "      <td>0.000000</td>\n",
       "      <td>0.000000</td>\n",
       "      <td>0.000000</td>\n",
       "      <td>0.000000</td>\n",
       "    </tr>\n",
       "    <tr>\n",
       "      <td>max</td>\n",
       "      <td>1.000000</td>\n",
       "      <td>1.000000</td>\n",
       "      <td>1.000000</td>\n",
       "      <td>1.000000</td>\n",
       "      <td>1.000000</td>\n",
       "      <td>1.000000</td>\n",
       "      <td>1.000000</td>\n",
       "      <td>1.000000</td>\n",
       "      <td>1.000000</td>\n",
       "      <td>1.000000</td>\n",
       "      <td>...</td>\n",
       "      <td>1.000000</td>\n",
       "      <td>1.000000</td>\n",
       "      <td>1.000000</td>\n",
       "      <td>1.000000</td>\n",
       "      <td>1.000000</td>\n",
       "      <td>1.000000</td>\n",
       "      <td>1.000000</td>\n",
       "      <td>1.000000</td>\n",
       "      <td>1.000000</td>\n",
       "      <td>1.000000</td>\n",
       "    </tr>\n",
       "  </tbody>\n",
       "</table>\n",
       "<p>8 rows × 68 columns</p>\n",
       "</div>"
      ],
      "text/plain": [
       "       Genre_Action-Adventure  Genre_Adventure  Genre_Fighting   Genre_Misc  \\\n",
       "count             6242.000000      6242.000000     6242.000000  6242.000000   \n",
       "mean                 0.018103         0.059276        0.053669     0.048863   \n",
       "std                  0.133335         0.236159        0.225381     0.215598   \n",
       "min                  0.000000         0.000000        0.000000     0.000000   \n",
       "25%                  0.000000         0.000000        0.000000     0.000000   \n",
       "50%                  0.000000         0.000000        0.000000     0.000000   \n",
       "75%                  0.000000         0.000000        0.000000     0.000000   \n",
       "max                  1.000000         1.000000        1.000000     1.000000   \n",
       "\n",
       "       Genre_Others  Genre_Platform  Genre_Puzzle  Genre_Racing  \\\n",
       "count   6242.000000     6242.000000   6242.000000   6242.000000   \n",
       "mean       0.011375        0.059596      0.021147      0.078500   \n",
       "std        0.106052        0.236756      0.143886      0.268979   \n",
       "min        0.000000        0.000000      0.000000      0.000000   \n",
       "25%        0.000000        0.000000      0.000000      0.000000   \n",
       "50%        0.000000        0.000000      0.000000      0.000000   \n",
       "75%        0.000000        0.000000      0.000000      0.000000   \n",
       "max        1.000000        1.000000      1.000000      1.000000   \n",
       "\n",
       "       Genre_Role-Playing  Genre_Shooter  ...  \\\n",
       "count         6242.000000    6242.000000  ...   \n",
       "mean             0.104454       0.130087  ...   \n",
       "std              0.305873       0.336426  ...   \n",
       "min              0.000000       0.000000  ...   \n",
       "25%              0.000000       0.000000  ...   \n",
       "50%              0.000000       0.000000  ...   \n",
       "75%              0.000000       0.000000  ...   \n",
       "max              1.000000       1.000000  ...   \n",
       "\n",
       "       Publisher_SouthPeak Interactive  Publisher_Square Enix  Publisher_THQ  \\\n",
       "count                      6242.000000            6242.000000    6242.000000   \n",
       "mean                          0.004005               0.016661       0.038930   \n",
       "std                           0.063164               0.128009       0.193443   \n",
       "min                           0.000000               0.000000       0.000000   \n",
       "25%                           0.000000               0.000000       0.000000   \n",
       "50%                           0.000000               0.000000       0.000000   \n",
       "75%                           0.000000               0.000000       0.000000   \n",
       "max                           1.000000               1.000000       1.000000   \n",
       "\n",
       "       Publisher_Tecmo  Publisher_Tecmo Koei  Publisher_Ubisoft  \\\n",
       "count      6242.000000           6242.000000        6242.000000   \n",
       "mean          0.004326              0.010093           0.062961   \n",
       "std           0.065632              0.099963           0.242912   \n",
       "min           0.000000              0.000000           0.000000   \n",
       "25%           0.000000              0.000000           0.000000   \n",
       "50%           0.000000              0.000000           0.000000   \n",
       "75%           0.000000              0.000000           0.000000   \n",
       "max           1.000000              1.000000           1.000000   \n",
       "\n",
       "       Publisher_VU Games  Publisher_Warner Bros. Interactive  \\\n",
       "count         6242.000000                         6242.000000   \n",
       "mean             0.008491                            0.009933   \n",
       "std              0.091761                            0.099175   \n",
       "min              0.000000                            0.000000   \n",
       "25%              0.000000                            0.000000   \n",
       "50%              0.000000                            0.000000   \n",
       "75%              0.000000                            0.000000   \n",
       "max              1.000000                            1.000000   \n",
       "\n",
       "       Publisher_Warner Bros. Interactive Entertainment  Publisher_Xseed Games  \n",
       "count                                       6242.000000            6242.000000  \n",
       "mean                                           0.007850               0.007369  \n",
       "std                                            0.088259               0.085535  \n",
       "min                                            0.000000               0.000000  \n",
       "25%                                            0.000000               0.000000  \n",
       "50%                                            0.000000               0.000000  \n",
       "75%                                            0.000000               0.000000  \n",
       "max                                            1.000000               1.000000  \n",
       "\n",
       "[8 rows x 68 columns]"
      ]
     },
     "execution_count": 8,
     "metadata": {},
     "output_type": "execute_result"
    }
   ],
   "source": [
    "categorical_df.describe()"
   ]
  },
  {
   "cell_type": "markdown",
   "metadata": {},
   "source": [
    "## Declare the dependent and independent variables"
   ]
  },
  {
   "cell_type": "code",
   "execution_count": 9,
   "metadata": {},
   "outputs": [
    {
     "data": {
      "text/plain": [
       "Index(['Rank', 'Name', 'Genre', 'ESRB_Rating', 'Platform', 'Publisher',\n",
       "       'Developer', 'Global_Sales', 'NA_Sales', 'PAL_Sales', 'JP_Sales',\n",
       "       'Other_Sales', 'Year', 'metascore', 'userscore', 'date', 'years_ago',\n",
       "       'month_abbrev', 'month_num', 'months_ago', 'Company',\n",
       "       'generation_lifespan', 'generation_flag', 'Publisher_Metascore',\n",
       "       'Publisher_Userscore', 'Developer_Metascore', 'Developer_Userscore',\n",
       "       'Genre_Metascore', 'Genre_Userscore'],\n",
       "      dtype='object')"
      ]
     },
     "execution_count": 9,
     "metadata": {},
     "output_type": "execute_result"
    }
   ],
   "source": [
    "df.columns"
   ]
  },
  {
   "cell_type": "code",
   "execution_count": 10,
   "metadata": {},
   "outputs": [],
   "source": [
    "target = df['Global_Sales']\n",
    "features = df[['metascore', 'userscore', 'years_ago', 'generation_lifespan', 'generation_flag']]\n",
    "categorical = df[['Genre','ESRB_Rating','Company','Publisher']]\n",
    "categorical_df = pd.get_dummies(data=categorical, drop_first=True)\n",
    "#features = pd.concat([features, categorical], axis=1)"
   ]
  },
  {
   "cell_type": "markdown",
   "metadata": {},
   "source": [
    "## Standardization / Scaling and Comparing Weights"
   ]
  },
  {
   "cell_type": "code",
   "execution_count": 11,
   "metadata": {},
   "outputs": [],
   "source": [
    "scaler = StandardScaler()"
   ]
  },
  {
   "cell_type": "code",
   "execution_count": 12,
   "metadata": {},
   "outputs": [],
   "source": [
    "features_scaled = []\n",
    "for var in features:\n",
    "    new_col = var +\"_scaled\"\n",
    "    df[new_col] = scaler.fit_transform(df[[var]])\n",
    "    features_scaled.append(new_col)"
   ]
  },
  {
   "cell_type": "code",
   "execution_count": 13,
   "metadata": {},
   "outputs": [
    {
     "data": {
      "text/plain": [
       "['metascore_scaled',\n",
       " 'userscore_scaled',\n",
       " 'years_ago_scaled',\n",
       " 'generation_lifespan_scaled',\n",
       " 'generation_flag_scaled']"
      ]
     },
     "execution_count": 13,
     "metadata": {},
     "output_type": "execute_result"
    }
   ],
   "source": [
    "features_scaled"
   ]
  },
  {
   "cell_type": "code",
   "execution_count": 14,
   "metadata": {},
   "outputs": [],
   "source": [
    "categorical = df[['Genre','ESRB_Rating','Company','Publisher']]\n",
    "categorical_df = pd.get_dummies(data=categorical, drop_first=True)"
   ]
  },
  {
   "cell_type": "code",
   "execution_count": 15,
   "metadata": {
    "scrolled": false
   },
   "outputs": [
    {
     "data": {
      "text/html": [
       "<table class=\"simpletable\">\n",
       "<caption>OLS Regression Results</caption>\n",
       "<tr>\n",
       "  <th>Dep. Variable:</th>      <td>Global_Sales</td>   <th>  R-squared:         </th> <td>   0.248</td> \n",
       "</tr>\n",
       "<tr>\n",
       "  <th>Model:</th>                   <td>OLS</td>       <th>  Adj. R-squared:    </th> <td>   0.239</td> \n",
       "</tr>\n",
       "<tr>\n",
       "  <th>Method:</th>             <td>Least Squares</td>  <th>  F-statistic:       </th> <td>   27.79</td> \n",
       "</tr>\n",
       "<tr>\n",
       "  <th>Date:</th>             <td>Thu, 26 Mar 2020</td> <th>  Prob (F-statistic):</th> <td>5.75e-320</td>\n",
       "</tr>\n",
       "<tr>\n",
       "  <th>Time:</th>                 <td>09:13:06</td>     <th>  Log-Likelihood:    </th> <td> -9226.6</td> \n",
       "</tr>\n",
       "<tr>\n",
       "  <th>No. Observations:</th>      <td>  6242</td>      <th>  AIC:               </th> <td>1.860e+04</td>\n",
       "</tr>\n",
       "<tr>\n",
       "  <th>Df Residuals:</th>          <td>  6168</td>      <th>  BIC:               </th> <td>1.910e+04</td>\n",
       "</tr>\n",
       "<tr>\n",
       "  <th>Df Model:</th>              <td>    73</td>      <th>                     </th>     <td> </td>    \n",
       "</tr>\n",
       "<tr>\n",
       "  <th>Covariance Type:</th>      <td>nonrobust</td>    <th>                     </th>     <td> </td>    \n",
       "</tr>\n",
       "</table>\n",
       "<table class=\"simpletable\">\n",
       "<tr>\n",
       "                             <td></td>                               <th>coef</th>     <th>std err</th>      <th>t</th>      <th>P>|t|</th>  <th>[0.025</th>    <th>0.975]</th>  \n",
       "</tr>\n",
       "<tr>\n",
       "  <th>Intercept</th>                                              <td>    0.5108</td> <td>    0.138</td> <td>    3.709</td> <td> 0.000</td> <td>    0.241</td> <td>    0.781</td>\n",
       "</tr>\n",
       "<tr>\n",
       "  <th>C(Genre)[T.Action-Adventure]</th>                           <td>    0.0191</td> <td>    0.110</td> <td>    0.173</td> <td> 0.862</td> <td>   -0.197</td> <td>    0.235</td>\n",
       "</tr>\n",
       "<tr>\n",
       "  <th>C(Genre)[T.Adventure]</th>                                  <td>   -0.1771</td> <td>    0.065</td> <td>   -2.709</td> <td> 0.007</td> <td>   -0.305</td> <td>   -0.049</td>\n",
       "</tr>\n",
       "<tr>\n",
       "  <th>C(Genre)[T.Fighting]</th>                                   <td>    0.0056</td> <td>    0.071</td> <td>    0.079</td> <td> 0.937</td> <td>   -0.133</td> <td>    0.144</td>\n",
       "</tr>\n",
       "<tr>\n",
       "  <th>C(Genre)[T.Misc]</th>                                       <td>    0.0045</td> <td>    0.072</td> <td>    0.063</td> <td> 0.950</td> <td>   -0.137</td> <td>    0.146</td>\n",
       "</tr>\n",
       "<tr>\n",
       "  <th>C(Genre)[T.Others]</th>                                     <td>   -0.2522</td> <td>    0.135</td> <td>   -1.866</td> <td> 0.062</td> <td>   -0.517</td> <td>    0.013</td>\n",
       "</tr>\n",
       "<tr>\n",
       "  <th>C(Genre)[T.Platform]</th>                                   <td>   -0.0914</td> <td>    0.069</td> <td>   -1.317</td> <td> 0.188</td> <td>   -0.228</td> <td>    0.045</td>\n",
       "</tr>\n",
       "<tr>\n",
       "  <th>C(Genre)[T.Puzzle]</th>                                     <td>   -0.3085</td> <td>    0.105</td> <td>   -2.937</td> <td> 0.003</td> <td>   -0.514</td> <td>   -0.103</td>\n",
       "</tr>\n",
       "<tr>\n",
       "  <th>C(Genre)[T.Racing]</th>                                     <td>   -0.1464</td> <td>    0.065</td> <td>   -2.236</td> <td> 0.025</td> <td>   -0.275</td> <td>   -0.018</td>\n",
       "</tr>\n",
       "<tr>\n",
       "  <th>C(Genre)[T.Role-Playing]</th>                               <td>   -0.0723</td> <td>    0.058</td> <td>   -1.243</td> <td> 0.214</td> <td>   -0.186</td> <td>    0.042</td>\n",
       "</tr>\n",
       "<tr>\n",
       "  <th>C(Genre)[T.Shooter]</th>                                    <td>    0.0573</td> <td>    0.052</td> <td>    1.108</td> <td> 0.268</td> <td>   -0.044</td> <td>    0.159</td>\n",
       "</tr>\n",
       "<tr>\n",
       "  <th>C(Genre)[T.Simulation]</th>                                 <td>    0.0208</td> <td>    0.077</td> <td>    0.270</td> <td> 0.787</td> <td>   -0.130</td> <td>    0.172</td>\n",
       "</tr>\n",
       "<tr>\n",
       "  <th>C(Genre)[T.Sports]</th>                                     <td>   -0.1840</td> <td>    0.067</td> <td>   -2.766</td> <td> 0.006</td> <td>   -0.314</td> <td>   -0.054</td>\n",
       "</tr>\n",
       "<tr>\n",
       "  <th>C(Genre)[T.Strategy]</th>                                   <td>   -0.1923</td> <td>    0.078</td> <td>   -2.471</td> <td> 0.013</td> <td>   -0.345</td> <td>   -0.040</td>\n",
       "</tr>\n",
       "<tr>\n",
       "  <th>C(ESRB_Rating)[T.E10]</th>                                  <td>   -0.1632</td> <td>    0.051</td> <td>   -3.184</td> <td> 0.001</td> <td>   -0.264</td> <td>   -0.063</td>\n",
       "</tr>\n",
       "<tr>\n",
       "  <th>C(ESRB_Rating)[T.M]</th>                                    <td>    0.1643</td> <td>    0.056</td> <td>    2.935</td> <td> 0.003</td> <td>    0.055</td> <td>    0.274</td>\n",
       "</tr>\n",
       "<tr>\n",
       "  <th>C(ESRB_Rating)[T.RP]</th>                                   <td>   -0.3091</td> <td>    0.314</td> <td>   -0.985</td> <td> 0.325</td> <td>   -0.924</td> <td>    0.306</td>\n",
       "</tr>\n",
       "<tr>\n",
       "  <th>C(ESRB_Rating)[T.T]</th>                                    <td>   -0.1158</td> <td>    0.045</td> <td>   -2.574</td> <td> 0.010</td> <td>   -0.204</td> <td>   -0.028</td>\n",
       "</tr>\n",
       "<tr>\n",
       "  <th>C(Company)[T.Nintendo]</th>                                 <td>    0.0455</td> <td>    0.044</td> <td>    1.031</td> <td> 0.303</td> <td>   -0.041</td> <td>    0.132</td>\n",
       "</tr>\n",
       "<tr>\n",
       "  <th>C(Company)[T.PC]</th>                                       <td>   -0.3538</td> <td>    0.091</td> <td>   -3.883</td> <td> 0.000</td> <td>   -0.532</td> <td>   -0.175</td>\n",
       "</tr>\n",
       "<tr>\n",
       "  <th>C(Company)[T.Sega]</th>                                     <td>   -0.1567</td> <td>    0.325</td> <td>   -0.482</td> <td> 0.630</td> <td>   -0.794</td> <td>    0.480</td>\n",
       "</tr>\n",
       "<tr>\n",
       "  <th>C(Company)[T.Sony]</th>                                     <td>    0.2784</td> <td>    0.037</td> <td>    7.608</td> <td> 0.000</td> <td>    0.207</td> <td>    0.350</td>\n",
       "</tr>\n",
       "<tr>\n",
       "  <th>C(Publisher)[T.2K Sports]</th>                              <td>    0.0741</td> <td>    0.172</td> <td>    0.432</td> <td> 0.666</td> <td>   -0.262</td> <td>    0.411</td>\n",
       "</tr>\n",
       "<tr>\n",
       "  <th>C(Publisher)[T.505 Games]</th>                              <td>   -0.3145</td> <td>    0.200</td> <td>   -1.575</td> <td> 0.115</td> <td>   -0.706</td> <td>    0.077</td>\n",
       "</tr>\n",
       "<tr>\n",
       "  <th>C(Publisher)[T.Acclaim Entertainment]</th>                  <td>   -0.0345</td> <td>    0.182</td> <td>   -0.189</td> <td> 0.850</td> <td>   -0.392</td> <td>    0.323</td>\n",
       "</tr>\n",
       "<tr>\n",
       "  <th>C(Publisher)[T.Activision]</th>                             <td>    0.5959</td> <td>    0.135</td> <td>    4.423</td> <td> 0.000</td> <td>    0.332</td> <td>    0.860</td>\n",
       "</tr>\n",
       "<tr>\n",
       "  <th>C(Publisher)[T.Agetec]</th>                                 <td>   -0.1604</td> <td>    0.250</td> <td>   -0.643</td> <td> 0.520</td> <td>   -0.650</td> <td>    0.329</td>\n",
       "</tr>\n",
       "<tr>\n",
       "  <th>C(Publisher)[T.Aksys Games]</th>                            <td>   -0.4530</td> <td>    0.229</td> <td>   -1.977</td> <td> 0.048</td> <td>   -0.902</td> <td>   -0.004</td>\n",
       "</tr>\n",
       "<tr>\n",
       "  <th>C(Publisher)[T.Atari]</th>                                  <td>    0.0800</td> <td>    0.157</td> <td>    0.509</td> <td> 0.611</td> <td>   -0.228</td> <td>    0.388</td>\n",
       "</tr>\n",
       "<tr>\n",
       "  <th>C(Publisher)[T.Atlus]</th>                                  <td>   -0.3447</td> <td>    0.159</td> <td>   -2.171</td> <td> 0.030</td> <td>   -0.656</td> <td>   -0.033</td>\n",
       "</tr>\n",
       "<tr>\n",
       "  <th>C(Publisher)[T.Bethesda Softworks]</th>                     <td>    0.5319</td> <td>    0.181</td> <td>    2.942</td> <td> 0.003</td> <td>    0.178</td> <td>    0.886</td>\n",
       "</tr>\n",
       "<tr>\n",
       "  <th>C(Publisher)[T.Capcom]</th>                                 <td>   -0.1776</td> <td>    0.145</td> <td>   -1.223</td> <td> 0.221</td> <td>   -0.462</td> <td>    0.107</td>\n",
       "</tr>\n",
       "<tr>\n",
       "  <th>C(Publisher)[T.Codemasters]</th>                            <td>   -0.1222</td> <td>    0.167</td> <td>   -0.730</td> <td> 0.465</td> <td>   -0.450</td> <td>    0.206</td>\n",
       "</tr>\n",
       "<tr>\n",
       "  <th>C(Publisher)[T.D3 Publisher]</th>                           <td>   -0.0322</td> <td>    0.221</td> <td>   -0.146</td> <td> 0.884</td> <td>   -0.465</td> <td>    0.400</td>\n",
       "</tr>\n",
       "<tr>\n",
       "  <th>C(Publisher)[T.Deep Silver]</th>                            <td>   -0.1888</td> <td>    0.199</td> <td>   -0.951</td> <td> 0.342</td> <td>   -0.578</td> <td>    0.200</td>\n",
       "</tr>\n",
       "<tr>\n",
       "  <th>C(Publisher)[T.Disney Interactive Studios]</th>             <td>    0.2355</td> <td>    0.198</td> <td>    1.189</td> <td> 0.235</td> <td>   -0.153</td> <td>    0.624</td>\n",
       "</tr>\n",
       "<tr>\n",
       "  <th>C(Publisher)[T.EA Sports]</th>                              <td>    0.2928</td> <td>    0.144</td> <td>    2.039</td> <td> 0.042</td> <td>    0.011</td> <td>    0.574</td>\n",
       "</tr>\n",
       "<tr>\n",
       "  <th>C(Publisher)[T.EA Sports BIG]</th>                          <td>    0.0948</td> <td>    0.214</td> <td>    0.442</td> <td> 0.659</td> <td>   -0.326</td> <td>    0.515</td>\n",
       "</tr>\n",
       "<tr>\n",
       "  <th>C(Publisher)[T.Eidos Interactive]</th>                      <td>   -0.0877</td> <td>    0.160</td> <td>   -0.547</td> <td> 0.584</td> <td>   -0.402</td> <td>    0.227</td>\n",
       "</tr>\n",
       "<tr>\n",
       "  <th>C(Publisher)[T.Electronic Arts]</th>                        <td>    0.4134</td> <td>    0.133</td> <td>    3.102</td> <td> 0.002</td> <td>    0.152</td> <td>    0.675</td>\n",
       "</tr>\n",
       "<tr>\n",
       "  <th>C(Publisher)[T.KOEI]</th>                                   <td>   -0.0346</td> <td>    0.187</td> <td>   -0.185</td> <td> 0.854</td> <td>   -0.402</td> <td>    0.333</td>\n",
       "</tr>\n",
       "<tr>\n",
       "  <th>C(Publisher)[T.Konami]</th>                                 <td>    0.0508</td> <td>    0.145</td> <td>    0.350</td> <td> 0.726</td> <td>   -0.234</td> <td>    0.336</td>\n",
       "</tr>\n",
       "<tr>\n",
       "  <th>C(Publisher)[T.Konami Digital Entertainment]</th>           <td>   -0.4493</td> <td>    0.201</td> <td>   -2.237</td> <td> 0.025</td> <td>   -0.843</td> <td>   -0.056</td>\n",
       "</tr>\n",
       "<tr>\n",
       "  <th>C(Publisher)[T.LucasArts]</th>                              <td>    0.5440</td> <td>    0.171</td> <td>    3.182</td> <td> 0.001</td> <td>    0.209</td> <td>    0.879</td>\n",
       "</tr>\n",
       "<tr>\n",
       "  <th>C(Publisher)[T.Majesco]</th>                                <td>    0.0453</td> <td>    0.187</td> <td>    0.242</td> <td> 0.809</td> <td>   -0.322</td> <td>    0.413</td>\n",
       "</tr>\n",
       "<tr>\n",
       "  <th>C(Publisher)[T.Microsoft Game Studios]</th>                 <td>    0.5344</td> <td>    0.180</td> <td>    2.964</td> <td> 0.003</td> <td>    0.181</td> <td>    0.888</td>\n",
       "</tr>\n",
       "<tr>\n",
       "  <th>C(Publisher)[T.Microsoft Studios]</th>                      <td>    0.7099</td> <td>    0.221</td> <td>    3.215</td> <td> 0.001</td> <td>    0.277</td> <td>    1.143</td>\n",
       "</tr>\n",
       "<tr>\n",
       "  <th>C(Publisher)[T.Midway Games]</th>                           <td>   -0.0565</td> <td>    0.164</td> <td>   -0.345</td> <td> 0.730</td> <td>   -0.378</td> <td>    0.264</td>\n",
       "</tr>\n",
       "<tr>\n",
       "  <th>C(Publisher)[T.NIS America]</th>                            <td>   -0.4108</td> <td>    0.174</td> <td>   -2.364</td> <td> 0.018</td> <td>   -0.751</td> <td>   -0.070</td>\n",
       "</tr>\n",
       "<tr>\n",
       "  <th>C(Publisher)[T.Namco]</th>                                  <td>    0.0905</td> <td>    0.174</td> <td>    0.520</td> <td> 0.603</td> <td>   -0.251</td> <td>    0.432</td>\n",
       "</tr>\n",
       "<tr>\n",
       "  <th>C(Publisher)[T.Namco Bandai]</th>                           <td>    0.0600</td> <td>    0.166</td> <td>    0.362</td> <td> 0.717</td> <td>   -0.265</td> <td>    0.385</td>\n",
       "</tr>\n",
       "<tr>\n",
       "  <th>C(Publisher)[T.Namco Bandai Games]</th>                     <td>   -0.2200</td> <td>    0.194</td> <td>   -1.133</td> <td> 0.257</td> <td>   -0.601</td> <td>    0.161</td>\n",
       "</tr>\n",
       "<tr>\n",
       "  <th>C(Publisher)[T.Nintendo]</th>                               <td>    0.0977</td> <td>    0.153</td> <td>    0.639</td> <td> 0.523</td> <td>   -0.202</td> <td>    0.397</td>\n",
       "</tr>\n",
       "<tr>\n",
       "  <th>C(Publisher)[T.Others]</th>                                 <td>   -0.0708</td> <td>    0.128</td> <td>   -0.551</td> <td> 0.582</td> <td>   -0.323</td> <td>    0.181</td>\n",
       "</tr>\n",
       "<tr>\n",
       "  <th>C(Publisher)[T.Rockstar Games]</th>                         <td>    2.1715</td> <td>    0.179</td> <td>   12.122</td> <td> 0.000</td> <td>    1.820</td> <td>    2.523</td>\n",
       "</tr>\n",
       "<tr>\n",
       "  <th>C(Publisher)[T.Sega]</th>                                   <td>    0.0203</td> <td>    0.140</td> <td>    0.145</td> <td> 0.885</td> <td>   -0.255</td> <td>    0.296</td>\n",
       "</tr>\n",
       "<tr>\n",
       "  <th>C(Publisher)[T.Sierra Entertainment]</th>                   <td>   -0.0664</td> <td>    0.215</td> <td>   -0.309</td> <td> 0.757</td> <td>   -0.487</td> <td>    0.355</td>\n",
       "</tr>\n",
       "<tr>\n",
       "  <th>C(Publisher)[T.Sony Computer Entertainment]</th>            <td>    0.2197</td> <td>    0.144</td> <td>    1.530</td> <td> 0.126</td> <td>   -0.062</td> <td>    0.501</td>\n",
       "</tr>\n",
       "<tr>\n",
       "  <th>C(Publisher)[T.Sony Interactive Entertainment]</th>         <td>   -0.3627</td> <td>    0.247</td> <td>   -1.471</td> <td> 0.141</td> <td>   -0.846</td> <td>    0.121</td>\n",
       "</tr>\n",
       "<tr>\n",
       "  <th>C(Publisher)[T.SouthPeak Interactive]</th>                  <td>   -0.0086</td> <td>    0.247</td> <td>   -0.035</td> <td> 0.972</td> <td>   -0.492</td> <td>    0.475</td>\n",
       "</tr>\n",
       "<tr>\n",
       "  <th>C(Publisher)[T.Square Enix]</th>                            <td>    0.0636</td> <td>    0.164</td> <td>    0.388</td> <td> 0.698</td> <td>   -0.258</td> <td>    0.385</td>\n",
       "</tr>\n",
       "<tr>\n",
       "  <th>C(Publisher)[T.THQ]</th>                                    <td>    0.1491</td> <td>    0.142</td> <td>    1.049</td> <td> 0.294</td> <td>   -0.129</td> <td>    0.428</td>\n",
       "</tr>\n",
       "<tr>\n",
       "  <th>C(Publisher)[T.Tecmo]</th>                                  <td>   -0.3088</td> <td>    0.241</td> <td>   -1.281</td> <td> 0.200</td> <td>   -0.781</td> <td>    0.164</td>\n",
       "</tr>\n",
       "<tr>\n",
       "  <th>C(Publisher)[T.Tecmo Koei]</th>                             <td>   -0.3693</td> <td>    0.185</td> <td>   -1.997</td> <td> 0.046</td> <td>   -0.732</td> <td>   -0.007</td>\n",
       "</tr>\n",
       "<tr>\n",
       "  <th>C(Publisher)[T.Ubisoft]</th>                                <td>    0.2330</td> <td>    0.135</td> <td>    1.729</td> <td> 0.084</td> <td>   -0.031</td> <td>    0.497</td>\n",
       "</tr>\n",
       "<tr>\n",
       "  <th>C(Publisher)[T.VU Games]</th>                               <td>    0.1132</td> <td>    0.193</td> <td>    0.586</td> <td> 0.558</td> <td>   -0.265</td> <td>    0.492</td>\n",
       "</tr>\n",
       "<tr>\n",
       "  <th>C(Publisher)[T.Warner Bros. Interactive]</th>               <td>    0.6011</td> <td>    0.184</td> <td>    3.269</td> <td> 0.001</td> <td>    0.241</td> <td>    0.961</td>\n",
       "</tr>\n",
       "<tr>\n",
       "  <th>C(Publisher)[T.Warner Bros. Interactive Entertainment]</th> <td>    0.2317</td> <td>    0.200</td> <td>    1.158</td> <td> 0.247</td> <td>   -0.161</td> <td>    0.624</td>\n",
       "</tr>\n",
       "<tr>\n",
       "  <th>C(Publisher)[T.Xseed Games]</th>                            <td>   -0.3196</td> <td>    0.202</td> <td>   -1.580</td> <td> 0.114</td> <td>   -0.716</td> <td>    0.077</td>\n",
       "</tr>\n",
       "<tr>\n",
       "  <th>metascore_scaled</th>                                       <td>    0.4490</td> <td>    0.018</td> <td>   24.483</td> <td> 0.000</td> <td>    0.413</td> <td>    0.485</td>\n",
       "</tr>\n",
       "<tr>\n",
       "  <th>userscore_scaled</th>                                       <td>   -0.1862</td> <td>    0.018</td> <td>  -10.304</td> <td> 0.000</td> <td>   -0.222</td> <td>   -0.151</td>\n",
       "</tr>\n",
       "<tr>\n",
       "  <th>years_ago_scaled</th>                                       <td>   -0.0814</td> <td>    0.018</td> <td>   -4.427</td> <td> 0.000</td> <td>   -0.117</td> <td>   -0.045</td>\n",
       "</tr>\n",
       "<tr>\n",
       "  <th>generation_lifespan_scaled</th>                             <td>   -0.0114</td> <td>    0.014</td> <td>   -0.813</td> <td> 0.416</td> <td>   -0.039</td> <td>    0.016</td>\n",
       "</tr>\n",
       "<tr>\n",
       "  <th>generation_flag_scaled</th>                                 <td>   -0.0970</td> <td>    0.024</td> <td>   -4.098</td> <td> 0.000</td> <td>   -0.143</td> <td>   -0.051</td>\n",
       "</tr>\n",
       "</table>\n",
       "<table class=\"simpletable\">\n",
       "<tr>\n",
       "  <th>Omnibus:</th>       <td>6724.150</td> <th>  Durbin-Watson:     </th>  <td>   0.431</td> \n",
       "</tr>\n",
       "<tr>\n",
       "  <th>Prob(Omnibus):</th>  <td> 0.000</td>  <th>  Jarque-Bera (JB):  </th> <td>698942.907</td>\n",
       "</tr>\n",
       "<tr>\n",
       "  <th>Skew:</th>           <td> 5.343</td>  <th>  Prob(JB):          </th>  <td>    0.00</td> \n",
       "</tr>\n",
       "<tr>\n",
       "  <th>Kurtosis:</th>       <td>53.726</td>  <th>  Cond. No.          </th>  <td>    81.2</td> \n",
       "</tr>\n",
       "</table><br/><br/>Warnings:<br/>[1] Standard Errors assume that the covariance matrix of the errors is correctly specified."
      ],
      "text/plain": [
       "<class 'statsmodels.iolib.summary.Summary'>\n",
       "\"\"\"\n",
       "                            OLS Regression Results                            \n",
       "==============================================================================\n",
       "Dep. Variable:           Global_Sales   R-squared:                       0.248\n",
       "Model:                            OLS   Adj. R-squared:                  0.239\n",
       "Method:                 Least Squares   F-statistic:                     27.79\n",
       "Date:                Thu, 26 Mar 2020   Prob (F-statistic):          5.75e-320\n",
       "Time:                        09:13:06   Log-Likelihood:                -9226.6\n",
       "No. Observations:                6242   AIC:                         1.860e+04\n",
       "Df Residuals:                    6168   BIC:                         1.910e+04\n",
       "Df Model:                          73                                         \n",
       "Covariance Type:            nonrobust                                         \n",
       "==========================================================================================================================\n",
       "                                                             coef    std err          t      P>|t|      [0.025      0.975]\n",
       "--------------------------------------------------------------------------------------------------------------------------\n",
       "Intercept                                                  0.5108      0.138      3.709      0.000       0.241       0.781\n",
       "C(Genre)[T.Action-Adventure]                               0.0191      0.110      0.173      0.862      -0.197       0.235\n",
       "C(Genre)[T.Adventure]                                     -0.1771      0.065     -2.709      0.007      -0.305      -0.049\n",
       "C(Genre)[T.Fighting]                                       0.0056      0.071      0.079      0.937      -0.133       0.144\n",
       "C(Genre)[T.Misc]                                           0.0045      0.072      0.063      0.950      -0.137       0.146\n",
       "C(Genre)[T.Others]                                        -0.2522      0.135     -1.866      0.062      -0.517       0.013\n",
       "C(Genre)[T.Platform]                                      -0.0914      0.069     -1.317      0.188      -0.228       0.045\n",
       "C(Genre)[T.Puzzle]                                        -0.3085      0.105     -2.937      0.003      -0.514      -0.103\n",
       "C(Genre)[T.Racing]                                        -0.1464      0.065     -2.236      0.025      -0.275      -0.018\n",
       "C(Genre)[T.Role-Playing]                                  -0.0723      0.058     -1.243      0.214      -0.186       0.042\n",
       "C(Genre)[T.Shooter]                                        0.0573      0.052      1.108      0.268      -0.044       0.159\n",
       "C(Genre)[T.Simulation]                                     0.0208      0.077      0.270      0.787      -0.130       0.172\n",
       "C(Genre)[T.Sports]                                        -0.1840      0.067     -2.766      0.006      -0.314      -0.054\n",
       "C(Genre)[T.Strategy]                                      -0.1923      0.078     -2.471      0.013      -0.345      -0.040\n",
       "C(ESRB_Rating)[T.E10]                                     -0.1632      0.051     -3.184      0.001      -0.264      -0.063\n",
       "C(ESRB_Rating)[T.M]                                        0.1643      0.056      2.935      0.003       0.055       0.274\n",
       "C(ESRB_Rating)[T.RP]                                      -0.3091      0.314     -0.985      0.325      -0.924       0.306\n",
       "C(ESRB_Rating)[T.T]                                       -0.1158      0.045     -2.574      0.010      -0.204      -0.028\n",
       "C(Company)[T.Nintendo]                                     0.0455      0.044      1.031      0.303      -0.041       0.132\n",
       "C(Company)[T.PC]                                          -0.3538      0.091     -3.883      0.000      -0.532      -0.175\n",
       "C(Company)[T.Sega]                                        -0.1567      0.325     -0.482      0.630      -0.794       0.480\n",
       "C(Company)[T.Sony]                                         0.2784      0.037      7.608      0.000       0.207       0.350\n",
       "C(Publisher)[T.2K Sports]                                  0.0741      0.172      0.432      0.666      -0.262       0.411\n",
       "C(Publisher)[T.505 Games]                                 -0.3145      0.200     -1.575      0.115      -0.706       0.077\n",
       "C(Publisher)[T.Acclaim Entertainment]                     -0.0345      0.182     -0.189      0.850      -0.392       0.323\n",
       "C(Publisher)[T.Activision]                                 0.5959      0.135      4.423      0.000       0.332       0.860\n",
       "C(Publisher)[T.Agetec]                                    -0.1604      0.250     -0.643      0.520      -0.650       0.329\n",
       "C(Publisher)[T.Aksys Games]                               -0.4530      0.229     -1.977      0.048      -0.902      -0.004\n",
       "C(Publisher)[T.Atari]                                      0.0800      0.157      0.509      0.611      -0.228       0.388\n",
       "C(Publisher)[T.Atlus]                                     -0.3447      0.159     -2.171      0.030      -0.656      -0.033\n",
       "C(Publisher)[T.Bethesda Softworks]                         0.5319      0.181      2.942      0.003       0.178       0.886\n",
       "C(Publisher)[T.Capcom]                                    -0.1776      0.145     -1.223      0.221      -0.462       0.107\n",
       "C(Publisher)[T.Codemasters]                               -0.1222      0.167     -0.730      0.465      -0.450       0.206\n",
       "C(Publisher)[T.D3 Publisher]                              -0.0322      0.221     -0.146      0.884      -0.465       0.400\n",
       "C(Publisher)[T.Deep Silver]                               -0.1888      0.199     -0.951      0.342      -0.578       0.200\n",
       "C(Publisher)[T.Disney Interactive Studios]                 0.2355      0.198      1.189      0.235      -0.153       0.624\n",
       "C(Publisher)[T.EA Sports]                                  0.2928      0.144      2.039      0.042       0.011       0.574\n",
       "C(Publisher)[T.EA Sports BIG]                              0.0948      0.214      0.442      0.659      -0.326       0.515\n",
       "C(Publisher)[T.Eidos Interactive]                         -0.0877      0.160     -0.547      0.584      -0.402       0.227\n",
       "C(Publisher)[T.Electronic Arts]                            0.4134      0.133      3.102      0.002       0.152       0.675\n",
       "C(Publisher)[T.KOEI]                                      -0.0346      0.187     -0.185      0.854      -0.402       0.333\n",
       "C(Publisher)[T.Konami]                                     0.0508      0.145      0.350      0.726      -0.234       0.336\n",
       "C(Publisher)[T.Konami Digital Entertainment]              -0.4493      0.201     -2.237      0.025      -0.843      -0.056\n",
       "C(Publisher)[T.LucasArts]                                  0.5440      0.171      3.182      0.001       0.209       0.879\n",
       "C(Publisher)[T.Majesco]                                    0.0453      0.187      0.242      0.809      -0.322       0.413\n",
       "C(Publisher)[T.Microsoft Game Studios]                     0.5344      0.180      2.964      0.003       0.181       0.888\n",
       "C(Publisher)[T.Microsoft Studios]                          0.7099      0.221      3.215      0.001       0.277       1.143\n",
       "C(Publisher)[T.Midway Games]                              -0.0565      0.164     -0.345      0.730      -0.378       0.264\n",
       "C(Publisher)[T.NIS America]                               -0.4108      0.174     -2.364      0.018      -0.751      -0.070\n",
       "C(Publisher)[T.Namco]                                      0.0905      0.174      0.520      0.603      -0.251       0.432\n",
       "C(Publisher)[T.Namco Bandai]                               0.0600      0.166      0.362      0.717      -0.265       0.385\n",
       "C(Publisher)[T.Namco Bandai Games]                        -0.2200      0.194     -1.133      0.257      -0.601       0.161\n",
       "C(Publisher)[T.Nintendo]                                   0.0977      0.153      0.639      0.523      -0.202       0.397\n",
       "C(Publisher)[T.Others]                                    -0.0708      0.128     -0.551      0.582      -0.323       0.181\n",
       "C(Publisher)[T.Rockstar Games]                             2.1715      0.179     12.122      0.000       1.820       2.523\n",
       "C(Publisher)[T.Sega]                                       0.0203      0.140      0.145      0.885      -0.255       0.296\n",
       "C(Publisher)[T.Sierra Entertainment]                      -0.0664      0.215     -0.309      0.757      -0.487       0.355\n",
       "C(Publisher)[T.Sony Computer Entertainment]                0.2197      0.144      1.530      0.126      -0.062       0.501\n",
       "C(Publisher)[T.Sony Interactive Entertainment]            -0.3627      0.247     -1.471      0.141      -0.846       0.121\n",
       "C(Publisher)[T.SouthPeak Interactive]                     -0.0086      0.247     -0.035      0.972      -0.492       0.475\n",
       "C(Publisher)[T.Square Enix]                                0.0636      0.164      0.388      0.698      -0.258       0.385\n",
       "C(Publisher)[T.THQ]                                        0.1491      0.142      1.049      0.294      -0.129       0.428\n",
       "C(Publisher)[T.Tecmo]                                     -0.3088      0.241     -1.281      0.200      -0.781       0.164\n",
       "C(Publisher)[T.Tecmo Koei]                                -0.3693      0.185     -1.997      0.046      -0.732      -0.007\n",
       "C(Publisher)[T.Ubisoft]                                    0.2330      0.135      1.729      0.084      -0.031       0.497\n",
       "C(Publisher)[T.VU Games]                                   0.1132      0.193      0.586      0.558      -0.265       0.492\n",
       "C(Publisher)[T.Warner Bros. Interactive]                   0.6011      0.184      3.269      0.001       0.241       0.961\n",
       "C(Publisher)[T.Warner Bros. Interactive Entertainment]     0.2317      0.200      1.158      0.247      -0.161       0.624\n",
       "C(Publisher)[T.Xseed Games]                               -0.3196      0.202     -1.580      0.114      -0.716       0.077\n",
       "metascore_scaled                                           0.4490      0.018     24.483      0.000       0.413       0.485\n",
       "userscore_scaled                                          -0.1862      0.018    -10.304      0.000      -0.222      -0.151\n",
       "years_ago_scaled                                          -0.0814      0.018     -4.427      0.000      -0.117      -0.045\n",
       "generation_lifespan_scaled                                -0.0114      0.014     -0.813      0.416      -0.039       0.016\n",
       "generation_flag_scaled                                    -0.0970      0.024     -4.098      0.000      -0.143      -0.051\n",
       "==============================================================================\n",
       "Omnibus:                     6724.150   Durbin-Watson:                   0.431\n",
       "Prob(Omnibus):                  0.000   Jarque-Bera (JB):           698942.907\n",
       "Skew:                           5.343   Prob(JB):                         0.00\n",
       "Kurtosis:                      53.726   Cond. No.                         81.2\n",
       "==============================================================================\n",
       "\n",
       "Warnings:\n",
       "[1] Standard Errors assume that the covariance matrix of the errors is correctly specified.\n",
       "\"\"\""
      ]
     },
     "execution_count": 15,
     "metadata": {},
     "output_type": "execute_result"
    }
   ],
   "source": [
    "fit = ols('Global_Sales ~ metascore_scaled + userscore_scaled + years_ago_scaled + generation_lifespan_scaled + generation_flag_scaled + C(Genre) + C(ESRB_Rating) + C(Company) + C(Publisher)', data=df).fit() \n",
    "fit.summary()"
   ]
  },
  {
   "cell_type": "code",
   "execution_count": 16,
   "metadata": {},
   "outputs": [
    {
     "data": {
      "text/plain": [
       "array([ 0.03065178, -0.09757957, -0.00760187, -0.        , -0.1270537 ,\n",
       "        0.04153871, -0.        ,  0.01198806, -0.        , -0.035636  ,\n",
       "       -0.        ])"
      ]
     },
     "execution_count": 16,
     "metadata": {},
     "output_type": "execute_result"
    }
   ],
   "source": [
    "target = df['Global_Sales']\n",
    "features = df[['metascore', 'userscore','years_ago', 'generation_lifespan', 'generation_flag', 'Publisher_Metascore', 'Publisher_Userscore', 'Developer_Metascore', 'Developer_Userscore', 'Genre_Metascore', 'Genre_Userscore']]\n",
    "# categorical = df[['Genre','ESRB_Rating','Company','Publisher']]\n",
    "# categorical = pd.get_dummies(data=categorical, drop_first=True)\n",
    "# features = pd.concat([features, categorical], axis=1)\n",
    "lasso = Lasso(alpha = 0.05).fit(features,target)\n",
    "lasso.coef_"
   ]
  },
  {
   "cell_type": "markdown",
   "metadata": {},
   "source": [
    "## Functions for reuse"
   ]
  },
  {
   "cell_type": "code",
   "execution_count": 17,
   "metadata": {},
   "outputs": [],
   "source": [
    "def run_regression(target, features, degree):\n",
    "    \n",
    "    '''\n",
    "    This function automatically runs a multiple regression test based on the\n",
    "    inputted target and features. This automatically splits train and test \n",
    "    data. The function also automatically does polynomial regression based\n",
    "    on degree inputted. This function can output the following values based \n",
    "    on the test:\n",
    "    \n",
    "    - Coefficients and Intercept values\n",
    "    - P values\n",
    "    - R2 score for test and train data\n",
    "    - Adjusted R2 score for test and train data\n",
    "    - Different error metrics: MAE, MSE and RMSE\n",
    "    - Cross-validation score\n",
    "    \n",
    "    Parameters: \n",
    "        Target: The dependent variable that the user wishes to predict\n",
    "        Features: The independent variables to be used to predict target\n",
    "          \n",
    "    Returns: \n",
    "        This returns a dictionary of the values discussed above\n",
    "    \n",
    "    '''\n",
    "    if degree > 0:\n",
    "\n",
    "    \n",
    "        ### Train, Test Split of all observations ###\n",
    "        X_train, X_test, y_train, y_test = train_test_split(features, target, random_state=42,test_size=0.2)\n",
    "\n",
    "\n",
    "        ### Polynomial regression ###\n",
    "        poly = PolynomialFeatures(degree=degree)\n",
    "        X_train = poly.fit_transform(X_train)\n",
    "        X_test = poly.fit_transform(X_test)\n",
    "\n",
    "        ### Run linear regression on the training data ###\n",
    "        reg = LinearRegression()\n",
    "        reg.fit(X_train,y_train)\n",
    "        coef_train = reg.coef_\n",
    "        intercept_train = reg.intercept_\n",
    "        p_values = f_regression(X_train,y_train)[1]\n",
    "\n",
    "        ### Get r2 and adjusted r2 score of training ###\n",
    "        r2_train = reg.score(X_train, y_train)\n",
    "\n",
    "        n = X_train.shape[0]\n",
    "        p = X_train.shape[1]\n",
    "        adjusted_r2_train = 1-(1-r2_train)*(n-1)/(n-p-1)\n",
    "\n",
    "        ### Get error values for training ###\n",
    "        y_train_pred = reg.predict(X_train)\n",
    "\n",
    "        train_mae = metrics.mean_absolute_error(y_train, y_train_pred)\n",
    "        train_mse = metrics.mean_squared_error(y_train, y_train_pred)\n",
    "        train_rmse = np.sqrt(metrics.mean_squared_error(y_train, y_train_pred))\n",
    "\n",
    "        ### Run linear regression on the testing data ###\n",
    "        reg.score(X_test, y_test)\n",
    "\n",
    "        ### Get r2 and adjusted r2 score of testing ###\n",
    "        r2_test = reg.score(X_test, y_test)\n",
    "        n = X_test.shape[0]\n",
    "        p = X_test.shape[1]\n",
    "\n",
    "        adjusted_r2_test = 1-(1-r2_test)*(n-1)/(n-p-1)\n",
    "\n",
    "        ### Get error values for testing ###\n",
    "        y_test_pred = reg.predict(X_test)\n",
    "\n",
    "        test_mae = metrics.mean_absolute_error(y_test, y_test_pred)\n",
    "        test_mse = metrics.mean_squared_error(y_test, y_test_pred)\n",
    "        test_rmse = np.sqrt(metrics.mean_squared_error(y_test, y_test_pred))\n",
    "\n",
    "        ### Get five-fold cross-validation score ###\n",
    "        cv = float(format(cross_val_score(reg,features,target,cv=5).mean(),'.3f'))\n",
    "\n",
    "        return {'coef_train': coef_train, 'intercept_train': intercept_train, 'p_values': p_values, 'r2_train': r2_train, 'adjusted_r2_train': adjusted_r2_train ,'train_rmse': train_rmse, 'r2_test': r2_test, 'adjusted_r2_test': adjusted_r2_test ,'test_rmse': test_rmse, 'cv': cv, 'X_train': X_train, 'X_test': X_test, 'y_train': y_train, 'y_test': y_test, 'y_test_pred': y_test_pred}\n",
    "    \n",
    "    else:\n",
    "        ### Train, Test Split of all observations ###\n",
    "        X_train, X_test, y_train, y_test = train_test_split(features, target, random_state=42,test_size=0.2)\n",
    "\n",
    "        ### Run linear regression on the training data ###\n",
    "        reg = LinearRegression()\n",
    "        reg.fit(X_train,y_train)\n",
    "        coef_train = reg.coef_\n",
    "        intercept_train = reg.intercept_\n",
    "        p_values = f_regression(X_train,y_train)[1]\n",
    "\n",
    "        ### Get r2 and adjusted r2 score of training ###\n",
    "        r2_train = reg.score(X_train, y_train)\n",
    "\n",
    "        n = X_train.shape[0]\n",
    "        p = X_train.shape[1]\n",
    "        adjusted_r2_train = 1-(1-r2_train)*(n-1)/(n-p-1)\n",
    "\n",
    "        ### Get error values for training ###\n",
    "        y_train_pred = reg.predict(X_train)\n",
    "\n",
    "        train_mae = metrics.mean_absolute_error(y_train, y_train_pred)\n",
    "        train_mse = metrics.mean_squared_error(y_train, y_train_pred)\n",
    "        train_rmse = np.sqrt(metrics.mean_squared_error(y_train, y_train_pred))\n",
    "\n",
    "        ### Run linear regression on the testing data ###\n",
    "        reg.score(X_test, y_test)\n",
    "\n",
    "        ### Get r2 and adjusted r2 score of testing ###\n",
    "        r2_test = reg.score(X_test, y_test)\n",
    "        n = X_test.shape[0]\n",
    "        p = X_test.shape[1]\n",
    "\n",
    "        adjusted_r2_test = 1-(1-r2_test)*(n-1)/(n-p-1)\n",
    "\n",
    "        ### Get error values for testing ###\n",
    "        y_test_pred = reg.predict(X_test)\n",
    "\n",
    "        test_mae = metrics.mean_absolute_error(y_test, y_test_pred)\n",
    "        test_mse = metrics.mean_squared_error(y_test, y_test_pred)\n",
    "        test_rmse = np.sqrt(metrics.mean_squared_error(y_test, y_test_pred))\n",
    "\n",
    "        ### Get five-fold cross-validation score ###\n",
    "        cv = float(format(cross_val_score(reg,features,target,cv=5).mean(),'.3f'))\n",
    "        \n",
    "        return {'coef_train': coef_train, 'intercept_train': intercept_train, 'p_values': p_values, 'r2_train': r2_train, 'adjusted_r2_train': adjusted_r2_train ,'train_rmse': train_rmse, 'r2_test': r2_test, 'adjusted_r2_test': adjusted_r2_test ,'test_rmse': test_rmse, 'cv': cv, 'X_train': X_train, 'X_test': X_test, 'y_train': y_train, 'y_test': y_test, 'y_test_pred': y_test_pred}"
   ]
  },
  {
   "cell_type": "markdown",
   "metadata": {},
   "source": [
    "## Create summary table"
   ]
  },
  {
   "cell_type": "code",
   "execution_count": 18,
   "metadata": {},
   "outputs": [
    {
     "data": {
      "text/html": [
       "<div>\n",
       "<style scoped>\n",
       "    .dataframe tbody tr th:only-of-type {\n",
       "        vertical-align: middle;\n",
       "    }\n",
       "\n",
       "    .dataframe tbody tr th {\n",
       "        vertical-align: top;\n",
       "    }\n",
       "\n",
       "    .dataframe thead th {\n",
       "        text-align: right;\n",
       "    }\n",
       "</style>\n",
       "<table border=\"1\" class=\"dataframe\">\n",
       "  <thead>\n",
       "    <tr style=\"text-align: right;\">\n",
       "      <th></th>\n",
       "      <th>Model</th>\n",
       "      <th>Description</th>\n",
       "      <th>Root Mean Squared Error (RMSE)</th>\n",
       "      <th>R-squared (training)</th>\n",
       "      <th>Adjusted R-squared (training)</th>\n",
       "      <th>R-squared (test)</th>\n",
       "      <th>Adjusted R-squared (test)</th>\n",
       "      <th>5-fold Cross Validation</th>\n",
       "    </tr>\n",
       "  </thead>\n",
       "  <tbody>\n",
       "  </tbody>\n",
       "</table>\n",
       "</div>"
      ],
      "text/plain": [
       "Empty DataFrame\n",
       "Columns: [Model, Description, Root Mean Squared Error (RMSE), R-squared (training), Adjusted R-squared (training), R-squared (test), Adjusted R-squared (test), 5-fold Cross Validation]\n",
       "Index: []"
      ]
     },
     "execution_count": 18,
     "metadata": {},
     "output_type": "execute_result"
    }
   ],
   "source": [
    "summary_df = pd.DataFrame(columns=['Model', 'Description','Root Mean Squared Error (RMSE)', 'R-squared (training)', 'Adjusted R-squared (training)','R-squared (test)', 'Adjusted R-squared (test)', '5-fold Cross Validation'])\n",
    "summary_df"
   ]
  },
  {
   "cell_type": "markdown",
   "metadata": {},
   "source": [
    "## Multiple Linear Regression Models"
   ]
  },
  {
   "cell_type": "markdown",
   "metadata": {},
   "source": [
    "### Multiple Regression - 1 (all features, dummy data)"
   ]
  },
  {
   "cell_type": "markdown",
   "metadata": {},
   "source": [
    "#### Set Target and Features"
   ]
  },
  {
   "cell_type": "code",
   "execution_count": 19,
   "metadata": {},
   "outputs": [],
   "source": [
    "target = df['Global_Sales']\n",
    "features = df[['metascore', 'userscore', 'years_ago', 'generation_lifespan', 'generation_flag']]\n",
    "categorical = df[['Genre','ESRB_Rating','Company','Publisher']]\n",
    "categorical = pd.get_dummies(data=categorical, drop_first=True)\n",
    "features = pd.concat([features, categorical], axis=1)"
   ]
  },
  {
   "cell_type": "markdown",
   "metadata": {},
   "source": [
    "#### Run regression"
   ]
  },
  {
   "cell_type": "code",
   "execution_count": 20,
   "metadata": {
    "scrolled": false
   },
   "outputs": [],
   "source": [
    "result = run_regression(target, features, 0)"
   ]
  },
  {
   "cell_type": "markdown",
   "metadata": {},
   "source": [
    "#### Scatter and residual plots"
   ]
  },
  {
   "cell_type": "code",
   "execution_count": 21,
   "metadata": {},
   "outputs": [
    {
     "data": {
      "text/plain": [
       "Text(0, 0.5, 'Predictions')"
      ]
     },
     "execution_count": 21,
     "metadata": {},
     "output_type": "execute_result"
    },
    {
     "data": {
      "image/png": "[encoded data removed]",
      "text/plain": [
       "<Figure size 432x288 with 1 Axes>"
      ]
     },
     "metadata": {
      "needs_background": "light"
     },
     "output_type": "display_data"
    }
   ],
   "source": [
    "plt.scatter(result['y_test'], result['y_test_pred'], alpha=0.3)\n",
    "\n",
    "plt.xlabel(\"True Values\")\n",
    "plt.ylabel(\"Predictions\")"
   ]
  },
  {
   "cell_type": "code",
   "execution_count": 22,
   "metadata": {},
   "outputs": [
    {
     "data": {
      "text/plain": [
       "<matplotlib.axes._subplots.AxesSubplot at 0x1c18a1f550>"
      ]
     },
     "execution_count": 22,
     "metadata": {},
     "output_type": "execute_result"
    },
    {
     "data": {
      "image/png": "[encoded data removed]",
      "text/plain": [
       "<Figure size 432x288 with 1 Axes>"
      ]
     },
     "metadata": {
      "needs_background": "light"
     },
     "output_type": "display_data"
    }
   ],
   "source": [
    "sns.residplot(result['y_test_pred'], result['y_test'], lowess=True, color=\"g\")"
   ]
  },
  {
   "cell_type": "code",
   "execution_count": 23,
   "metadata": {},
   "outputs": [
    {
     "data": {
      "image/png": "[encoded data removed]",
      "text/plain": [
       "<Figure size 432x288 with 1 Axes>"
      ]
     },
     "metadata": {
      "needs_background": "light"
     },
     "output_type": "display_data"
    }
   ],
   "source": [
    "sns.kdeplot(result['y_test_pred'], label = \"Predictions\")\n",
    "sns.kdeplot(result['y_test'], label = \"Test\")\n",
    "sns.kdeplot(result['y_train'], label = \"Train\")\n",
    "\n",
    "plt.xlabel(\"Global Sales\"); plt.ylabel(\"Density\");\n",
    "plt.title(\"Test, Train Values and Predictions\");"
   ]
  },
  {
   "cell_type": "markdown",
   "metadata": {},
   "source": [
    "#### Updated summary table of all models"
   ]
  },
  {
   "cell_type": "code",
   "execution_count": 24,
   "metadata": {
    "scrolled": true
   },
   "outputs": [
    {
     "data": {
      "text/html": [
       "<div>\n",
       "<style scoped>\n",
       "    .dataframe tbody tr th:only-of-type {\n",
       "        vertical-align: middle;\n",
       "    }\n",
       "\n",
       "    .dataframe tbody tr th {\n",
       "        vertical-align: top;\n",
       "    }\n",
       "\n",
       "    .dataframe thead th {\n",
       "        text-align: right;\n",
       "    }\n",
       "</style>\n",
       "<table border=\"1\" class=\"dataframe\">\n",
       "  <thead>\n",
       "    <tr style=\"text-align: right;\">\n",
       "      <th></th>\n",
       "      <th>Model</th>\n",
       "      <th>Description</th>\n",
       "      <th>Root Mean Squared Error (RMSE)</th>\n",
       "      <th>R-squared (training)</th>\n",
       "      <th>Adjusted R-squared (training)</th>\n",
       "      <th>R-squared (test)</th>\n",
       "      <th>Adjusted R-squared (test)</th>\n",
       "      <th>5-fold Cross Validation</th>\n",
       "    </tr>\n",
       "  </thead>\n",
       "  <tbody>\n",
       "    <tr>\n",
       "      <td>0</td>\n",
       "      <td>Model 1</td>\n",
       "      <td>All features, dummy data</td>\n",
       "      <td>1.054068</td>\n",
       "      <td>0.250425</td>\n",
       "      <td>0.2393</td>\n",
       "      <td>0.217533</td>\n",
       "      <td>0.168921</td>\n",
       "      <td>-257.473</td>\n",
       "    </tr>\n",
       "  </tbody>\n",
       "</table>\n",
       "</div>"
      ],
      "text/plain": [
       "     Model               Description  Root Mean Squared Error (RMSE)  \\\n",
       "0  Model 1  All features, dummy data                        1.054068   \n",
       "\n",
       "   R-squared (training)  Adjusted R-squared (training)  R-squared (test)  \\\n",
       "0              0.250425                         0.2393          0.217533   \n",
       "\n",
       "   Adjusted R-squared (test)  5-fold Cross Validation  \n",
       "0                   0.168921                 -257.473  "
      ]
     },
     "execution_count": 24,
     "metadata": {},
     "output_type": "execute_result"
    }
   ],
   "source": [
    "summary_df = summary_df.append({'Model' : 'Model 1', 'Description' : 'All features, dummy data' , 'Root Mean Squared Error (RMSE)' : result['train_rmse'], 'R-squared (training)' : result['r2_train'], 'Adjusted R-squared (training)': result['adjusted_r2_train'], 'R-squared (test)' : result['r2_test'], 'Adjusted R-squared (test)' : result['adjusted_r2_test'], '5-fold Cross Validation' : result['cv']} , ignore_index=True)\n",
    "summary_df"
   ]
  },
  {
   "cell_type": "markdown",
   "metadata": {},
   "source": [
    "### Multiple Regression - 2 (all features, aggregated categorical data)"
   ]
  },
  {
   "cell_type": "markdown",
   "metadata": {},
   "source": [
    "#### Set Target and Features"
   ]
  },
  {
   "cell_type": "code",
   "execution_count": 25,
   "metadata": {},
   "outputs": [],
   "source": [
    "target = df['Global_Sales']\n",
    "features = df[['metascore', 'userscore','years_ago', 'generation_lifespan', 'generation_flag', 'Publisher_Metascore', 'Publisher_Userscore', 'Developer_Metascore', 'Developer_Userscore', 'Genre_Metascore', 'Genre_Userscore']]"
   ]
  },
  {
   "cell_type": "markdown",
   "metadata": {},
   "source": [
    "#### Run regression"
   ]
  },
  {
   "cell_type": "code",
   "execution_count": 26,
   "metadata": {
    "scrolled": false
   },
   "outputs": [],
   "source": [
    "result = run_regression(target, features, 0)"
   ]
  },
  {
   "cell_type": "markdown",
   "metadata": {},
   "source": [
    "#### Scatter and residual plots"
   ]
  },
  {
   "cell_type": "code",
   "execution_count": 27,
   "metadata": {},
   "outputs": [
    {
     "data": {
      "text/plain": [
       "Text(0, 0.5, 'Predictions')"
      ]
     },
     "execution_count": 27,
     "metadata": {},
     "output_type": "execute_result"
    },
    {
     "data": {
      "image/png": "[encoded data removed]",
      "text/plain": [
       "<Figure size 432x288 with 1 Axes>"
      ]
     },
     "metadata": {
      "needs_background": "light"
     },
     "output_type": "display_data"
    }
   ],
   "source": [
    "plt.scatter(result['y_test'], result['y_test_pred'], alpha=0.3)\n",
    "\n",
    "plt.xlabel(\"True Values\")\n",
    "plt.ylabel(\"Predictions\")"
   ]
  },
  {
   "cell_type": "code",
   "execution_count": 28,
   "metadata": {},
   "outputs": [
    {
     "data": {
      "text/plain": [
       "<matplotlib.axes._subplots.AxesSubplot at 0x1c19733c10>"
      ]
     },
     "execution_count": 28,
     "metadata": {},
     "output_type": "execute_result"
    },
    {
     "data": {
      "image/png": "[encoded data removed]",
      "text/plain": [
       "<Figure size 432x288 with 1 Axes>"
      ]
     },
     "metadata": {
      "needs_background": "light"
     },
     "output_type": "display_data"
    }
   ],
   "source": [
    "sns.residplot(result['y_test_pred'], result['y_test'], lowess=True, color=\"g\")"
   ]
  },
  {
   "cell_type": "code",
   "execution_count": 29,
   "metadata": {},
   "outputs": [
    {
     "data": {
      "image/png": "[encoded data removed]",
      "text/plain": [
       "<Figure size 432x288 with 1 Axes>"
      ]
     },
     "metadata": {
      "needs_background": "light"
     },
     "output_type": "display_data"
    }
   ],
   "source": [
    "sns.kdeplot(result['y_test_pred'], label = \"Predictions\")\n",
    "sns.kdeplot(result['y_test'], label = \"Test\")\n",
    "sns.kdeplot(result['y_train'], label = \"Train\")\n",
    "\n",
    "plt.xlabel(\"Global Sales\"); plt.ylabel(\"Density\");\n",
    "plt.title(\"Test, Train Values and Predictions\");"
   ]
  },
  {
   "cell_type": "markdown",
   "metadata": {},
   "source": [
    "#### Updated summary table of all models"
   ]
  },
  {
   "cell_type": "code",
   "execution_count": 30,
   "metadata": {
    "scrolled": true
   },
   "outputs": [
    {
     "data": {
      "text/html": [
       "<div>\n",
       "<style scoped>\n",
       "    .dataframe tbody tr th:only-of-type {\n",
       "        vertical-align: middle;\n",
       "    }\n",
       "\n",
       "    .dataframe tbody tr th {\n",
       "        vertical-align: top;\n",
       "    }\n",
       "\n",
       "    .dataframe thead th {\n",
       "        text-align: right;\n",
       "    }\n",
       "</style>\n",
       "<table border=\"1\" class=\"dataframe\">\n",
       "  <thead>\n",
       "    <tr style=\"text-align: right;\">\n",
       "      <th></th>\n",
       "      <th>Model</th>\n",
       "      <th>Description</th>\n",
       "      <th>Root Mean Squared Error (RMSE)</th>\n",
       "      <th>R-squared (training)</th>\n",
       "      <th>Adjusted R-squared (training)</th>\n",
       "      <th>R-squared (test)</th>\n",
       "      <th>Adjusted R-squared (test)</th>\n",
       "      <th>5-fold Cross Validation</th>\n",
       "    </tr>\n",
       "  </thead>\n",
       "  <tbody>\n",
       "    <tr>\n",
       "      <td>0</td>\n",
       "      <td>Model 1</td>\n",
       "      <td>All features, dummy data</td>\n",
       "      <td>1.054068</td>\n",
       "      <td>0.250425</td>\n",
       "      <td>0.239300</td>\n",
       "      <td>0.217533</td>\n",
       "      <td>0.168921</td>\n",
       "      <td>-257.473</td>\n",
       "    </tr>\n",
       "    <tr>\n",
       "      <td>1</td>\n",
       "      <td>Model 2</td>\n",
       "      <td>All features, aggregated categorical data</td>\n",
       "      <td>1.103406</td>\n",
       "      <td>0.178612</td>\n",
       "      <td>0.176798</td>\n",
       "      <td>0.211767</td>\n",
       "      <td>0.204758</td>\n",
       "      <td>-257.850</td>\n",
       "    </tr>\n",
       "  </tbody>\n",
       "</table>\n",
       "</div>"
      ],
      "text/plain": [
       "     Model                                Description  \\\n",
       "0  Model 1                   All features, dummy data   \n",
       "1  Model 2  All features, aggregated categorical data   \n",
       "\n",
       "   Root Mean Squared Error (RMSE)  R-squared (training)  \\\n",
       "0                        1.054068              0.250425   \n",
       "1                        1.103406              0.178612   \n",
       "\n",
       "   Adjusted R-squared (training)  R-squared (test)  Adjusted R-squared (test)  \\\n",
       "0                       0.239300          0.217533                   0.168921   \n",
       "1                       0.176798          0.211767                   0.204758   \n",
       "\n",
       "   5-fold Cross Validation  \n",
       "0                 -257.473  \n",
       "1                 -257.850  "
      ]
     },
     "execution_count": 30,
     "metadata": {},
     "output_type": "execute_result"
    }
   ],
   "source": [
    "summary_df = summary_df.append({'Model' : 'Model 2', 'Description' : 'All features, aggregated categorical data' , 'Root Mean Squared Error (RMSE)' : result['train_rmse'], 'R-squared (training)' : result['r2_train'], 'Adjusted R-squared (training)': result['adjusted_r2_train'], 'R-squared (test)' : result['r2_test'], 'Adjusted R-squared (test)' : result['adjusted_r2_test'], '5-fold Cross Validation' : result['cv']} , ignore_index=True)\n",
    "summary_df"
   ]
  },
  {
   "cell_type": "code",
   "execution_count": null,
   "metadata": {},
   "outputs": [],
   "source": []
  },
  {
   "cell_type": "markdown",
   "metadata": {},
   "source": [
    "### Multiple Regression - 3 (features based on Lasso, aggregated categorical data)"
   ]
  },
  {
   "cell_type": "markdown",
   "metadata": {},
   "source": [
    "#### Set Target and Features"
   ]
  },
  {
   "cell_type": "code",
   "execution_count": 31,
   "metadata": {},
   "outputs": [],
   "source": [
    "target = df['Global_Sales']\n",
    "features = df[['metascore','years_ago', 'generation_lifespan', 'Publisher_Metascore', 'Publisher_Userscore', 'Developer_Metascore', 'Developer_Userscore', 'Genre_Metascore', 'Genre_Userscore']]"
   ]
  },
  {
   "cell_type": "markdown",
   "metadata": {},
   "source": [
    "#### Run regression"
   ]
  },
  {
   "cell_type": "code",
   "execution_count": 32,
   "metadata": {
    "scrolled": false
   },
   "outputs": [],
   "source": [
    "result = run_regression(target, features, 0)"
   ]
  },
  {
   "cell_type": "markdown",
   "metadata": {},
   "source": [
    "#### Scatter and residual plots"
   ]
  },
  {
   "cell_type": "code",
   "execution_count": 33,
   "metadata": {},
   "outputs": [
    {
     "data": {
      "text/plain": [
       "Text(0, 0.5, 'Predictions')"
      ]
     },
     "execution_count": 33,
     "metadata": {},
     "output_type": "execute_result"
    },
    {
     "data": {
      "image/png": "[encoded data removed]",
      "text/plain": [
       "<Figure size 432x288 with 1 Axes>"
      ]
     },
     "metadata": {
      "needs_background": "light"
     },
     "output_type": "display_data"
    }
   ],
   "source": [
    "plt.scatter(result['y_test'], result['y_test_pred'], alpha=0.3)\n",
    "\n",
    "plt.xlabel(\"True Values\")\n",
    "plt.ylabel(\"Predictions\")"
   ]
  },
  {
   "cell_type": "code",
   "execution_count": 34,
   "metadata": {},
   "outputs": [
    {
     "data": {
      "text/plain": [
       "<matplotlib.axes._subplots.AxesSubplot at 0x1c19ac0c10>"
      ]
     },
     "execution_count": 34,
     "metadata": {},
     "output_type": "execute_result"
    },
    {
     "data": {
      "image/png": "[encoded data removed]",
      "text/plain": [
       "<Figure size 432x288 with 1 Axes>"
      ]
     },
     "metadata": {
      "needs_background": "light"
     },
     "output_type": "display_data"
    }
   ],
   "source": [
    "sns.residplot(result['y_test_pred'], result['y_test'], lowess=True, color=\"g\")"
   ]
  },
  {
   "cell_type": "code",
   "execution_count": 35,
   "metadata": {},
   "outputs": [
    {
     "data": {
      "image/png": "[encoded data removed]",
      "text/plain": [
       "<Figure size 432x288 with 1 Axes>"
      ]
     },
     "metadata": {
      "needs_background": "light"
     },
     "output_type": "display_data"
    }
   ],
   "source": [
    "sns.kdeplot(result['y_test_pred'], label = \"Predictions\")\n",
    "sns.kdeplot(result['y_test'], label = \"Test\")\n",
    "sns.kdeplot(result['y_train'], label = \"Train\")\n",
    "\n",
    "plt.xlabel(\"Global Sales\"); plt.ylabel(\"Density\");\n",
    "plt.title(\"Test, Train Values and Predictions\");"
   ]
  },
  {
   "cell_type": "markdown",
   "metadata": {},
   "source": [
    "#### Updated summary table of all models"
   ]
  },
  {
   "cell_type": "code",
   "execution_count": 36,
   "metadata": {
    "scrolled": true
   },
   "outputs": [
    {
     "data": {
      "text/html": [
       "<div>\n",
       "<style scoped>\n",
       "    .dataframe tbody tr th:only-of-type {\n",
       "        vertical-align: middle;\n",
       "    }\n",
       "\n",
       "    .dataframe tbody tr th {\n",
       "        vertical-align: top;\n",
       "    }\n",
       "\n",
       "    .dataframe thead th {\n",
       "        text-align: right;\n",
       "    }\n",
       "</style>\n",
       "<table border=\"1\" class=\"dataframe\">\n",
       "  <thead>\n",
       "    <tr style=\"text-align: right;\">\n",
       "      <th></th>\n",
       "      <th>Model</th>\n",
       "      <th>Description</th>\n",
       "      <th>Root Mean Squared Error (RMSE)</th>\n",
       "      <th>R-squared (training)</th>\n",
       "      <th>Adjusted R-squared (training)</th>\n",
       "      <th>R-squared (test)</th>\n",
       "      <th>Adjusted R-squared (test)</th>\n",
       "      <th>5-fold Cross Validation</th>\n",
       "    </tr>\n",
       "  </thead>\n",
       "  <tbody>\n",
       "    <tr>\n",
       "      <td>0</td>\n",
       "      <td>Model 1</td>\n",
       "      <td>All features, dummy data</td>\n",
       "      <td>1.054068</td>\n",
       "      <td>0.250425</td>\n",
       "      <td>0.239300</td>\n",
       "      <td>0.217533</td>\n",
       "      <td>0.168921</td>\n",
       "      <td>-257.473</td>\n",
       "    </tr>\n",
       "    <tr>\n",
       "      <td>1</td>\n",
       "      <td>Model 2</td>\n",
       "      <td>All features, aggregated categorical data</td>\n",
       "      <td>1.103406</td>\n",
       "      <td>0.178612</td>\n",
       "      <td>0.176798</td>\n",
       "      <td>0.211767</td>\n",
       "      <td>0.204758</td>\n",
       "      <td>-257.850</td>\n",
       "    </tr>\n",
       "    <tr>\n",
       "      <td>2</td>\n",
       "      <td>Model 3</td>\n",
       "      <td>Features based on Lasso, aggregated categorica...</td>\n",
       "      <td>1.125223</td>\n",
       "      <td>0.145808</td>\n",
       "      <td>0.144266</td>\n",
       "      <td>0.171855</td>\n",
       "      <td>0.165840</td>\n",
       "      <td>-293.291</td>\n",
       "    </tr>\n",
       "  </tbody>\n",
       "</table>\n",
       "</div>"
      ],
      "text/plain": [
       "     Model                                        Description  \\\n",
       "0  Model 1                           All features, dummy data   \n",
       "1  Model 2          All features, aggregated categorical data   \n",
       "2  Model 3  Features based on Lasso, aggregated categorica...   \n",
       "\n",
       "   Root Mean Squared Error (RMSE)  R-squared (training)  \\\n",
       "0                        1.054068              0.250425   \n",
       "1                        1.103406              0.178612   \n",
       "2                        1.125223              0.145808   \n",
       "\n",
       "   Adjusted R-squared (training)  R-squared (test)  Adjusted R-squared (test)  \\\n",
       "0                       0.239300          0.217533                   0.168921   \n",
       "1                       0.176798          0.211767                   0.204758   \n",
       "2                       0.144266          0.171855                   0.165840   \n",
       "\n",
       "   5-fold Cross Validation  \n",
       "0                 -257.473  \n",
       "1                 -257.850  \n",
       "2                 -293.291  "
      ]
     },
     "execution_count": 36,
     "metadata": {},
     "output_type": "execute_result"
    }
   ],
   "source": [
    "summary_df = summary_df.append({'Model' : 'Model 3', 'Description' : 'Features based on Lasso, aggregated categorical data' , 'Root Mean Squared Error (RMSE)' : result['train_rmse'], 'R-squared (training)' : result['r2_train'], 'Adjusted R-squared (training)': result['adjusted_r2_train'], 'R-squared (test)' : result['r2_test'], 'Adjusted R-squared (test)' : result['adjusted_r2_test'], '5-fold Cross Validation' : result['cv']} , ignore_index=True)\n",
    "summary_df"
   ]
  },
  {
   "cell_type": "code",
   "execution_count": null,
   "metadata": {},
   "outputs": [],
   "source": []
  },
  {
   "cell_type": "markdown",
   "metadata": {},
   "source": [
    "### Multiple Regression - 4 (all features, dummy data, polynomial 1st degree)"
   ]
  },
  {
   "cell_type": "markdown",
   "metadata": {},
   "source": [
    "#### Set Target and Features"
   ]
  },
  {
   "cell_type": "code",
   "execution_count": 37,
   "metadata": {},
   "outputs": [],
   "source": [
    "target = df['Global_Sales']\n",
    "features = df[['metascore', 'userscore', 'years_ago', 'generation_lifespan', 'generation_flag']]\n",
    "categorical = df[['Genre','ESRB_Rating','Company','Publisher']]\n",
    "categorical = pd.get_dummies(data=categorical, drop_first=True)\n",
    "features = pd.concat([features, categorical], axis=1)"
   ]
  },
  {
   "cell_type": "markdown",
   "metadata": {},
   "source": [
    "#### Run regression"
   ]
  },
  {
   "cell_type": "code",
   "execution_count": 38,
   "metadata": {
    "scrolled": false
   },
   "outputs": [],
   "source": [
    "result = run_regression(target, features, 1)"
   ]
  },
  {
   "cell_type": "markdown",
   "metadata": {},
   "source": [
    "#### Scatter and residual plots"
   ]
  },
  {
   "cell_type": "code",
   "execution_count": 39,
   "metadata": {},
   "outputs": [
    {
     "data": {
      "text/plain": [
       "Text(0, 0.5, 'Predictions')"
      ]
     },
     "execution_count": 39,
     "metadata": {},
     "output_type": "execute_result"
    },
    {
     "data": {
      "image/png": "[encoded data removed]",
      "text/plain": [
       "<Figure size 432x288 with 1 Axes>"
      ]
     },
     "metadata": {
      "needs_background": "light"
     },
     "output_type": "display_data"
    }
   ],
   "source": [
    "plt.scatter(result['y_test'], result['y_test_pred'], alpha=0.3)\n",
    "\n",
    "plt.xlabel(\"True Values\")\n",
    "plt.ylabel(\"Predictions\")"
   ]
  },
  {
   "cell_type": "code",
   "execution_count": 40,
   "metadata": {},
   "outputs": [
    {
     "data": {
      "text/plain": [
       "<matplotlib.axes._subplots.AxesSubplot at 0x1c19b17bd0>"
      ]
     },
     "execution_count": 40,
     "metadata": {},
     "output_type": "execute_result"
    },
    {
     "data": {
      "image/png": "[encoded data removed]",
      "text/plain": [
       "<Figure size 432x288 with 1 Axes>"
      ]
     },
     "metadata": {
      "needs_background": "light"
     },
     "output_type": "display_data"
    }
   ],
   "source": [
    "sns.residplot(result['y_test_pred'], result['y_test'], lowess=True, color=\"g\")"
   ]
  },
  {
   "cell_type": "code",
   "execution_count": 41,
   "metadata": {},
   "outputs": [
    {
     "data": {
      "image/png": "[encoded data removed]",
      "text/plain": [
       "<Figure size 432x288 with 1 Axes>"
      ]
     },
     "metadata": {
      "needs_background": "light"
     },
     "output_type": "display_data"
    }
   ],
   "source": [
    "sns.kdeplot(result['y_test_pred'], label = \"Predictions\")\n",
    "sns.kdeplot(result['y_test'], label = \"Test\")\n",
    "sns.kdeplot(result['y_train'], label = \"Train\")\n",
    "\n",
    "plt.xlabel(\"Global Sales\"); plt.ylabel(\"Density\");\n",
    "plt.title(\"Test, Train Values and Predictions\");"
   ]
  },
  {
   "cell_type": "markdown",
   "metadata": {},
   "source": [
    "#### Updated summary table of all models"
   ]
  },
  {
   "cell_type": "code",
   "execution_count": 42,
   "metadata": {
    "scrolled": true
   },
   "outputs": [
    {
     "data": {
      "text/html": [
       "<div>\n",
       "<style scoped>\n",
       "    .dataframe tbody tr th:only-of-type {\n",
       "        vertical-align: middle;\n",
       "    }\n",
       "\n",
       "    .dataframe tbody tr th {\n",
       "        vertical-align: top;\n",
       "    }\n",
       "\n",
       "    .dataframe thead th {\n",
       "        text-align: right;\n",
       "    }\n",
       "</style>\n",
       "<table border=\"1\" class=\"dataframe\">\n",
       "  <thead>\n",
       "    <tr style=\"text-align: right;\">\n",
       "      <th></th>\n",
       "      <th>Model</th>\n",
       "      <th>Description</th>\n",
       "      <th>Root Mean Squared Error (RMSE)</th>\n",
       "      <th>R-squared (training)</th>\n",
       "      <th>Adjusted R-squared (training)</th>\n",
       "      <th>R-squared (test)</th>\n",
       "      <th>Adjusted R-squared (test)</th>\n",
       "      <th>5-fold Cross Validation</th>\n",
       "    </tr>\n",
       "  </thead>\n",
       "  <tbody>\n",
       "    <tr>\n",
       "      <td>0</td>\n",
       "      <td>Model 1</td>\n",
       "      <td>All features, dummy data</td>\n",
       "      <td>1.054068</td>\n",
       "      <td>0.250425</td>\n",
       "      <td>0.239300</td>\n",
       "      <td>0.217533</td>\n",
       "      <td>0.168921</td>\n",
       "      <td>-257.473</td>\n",
       "    </tr>\n",
       "    <tr>\n",
       "      <td>1</td>\n",
       "      <td>Model 2</td>\n",
       "      <td>All features, aggregated categorical data</td>\n",
       "      <td>1.103406</td>\n",
       "      <td>0.178612</td>\n",
       "      <td>0.176798</td>\n",
       "      <td>0.211767</td>\n",
       "      <td>0.204758</td>\n",
       "      <td>-257.850</td>\n",
       "    </tr>\n",
       "    <tr>\n",
       "      <td>2</td>\n",
       "      <td>Model 3</td>\n",
       "      <td>Features based on Lasso, aggregated categorica...</td>\n",
       "      <td>1.125223</td>\n",
       "      <td>0.145808</td>\n",
       "      <td>0.144266</td>\n",
       "      <td>0.171855</td>\n",
       "      <td>0.165840</td>\n",
       "      <td>-293.291</td>\n",
       "    </tr>\n",
       "    <tr>\n",
       "      <td>3</td>\n",
       "      <td>Model 4</td>\n",
       "      <td>All features, dummy data, polynomial 1st degree</td>\n",
       "      <td>1.054068</td>\n",
       "      <td>0.250425</td>\n",
       "      <td>0.239146</td>\n",
       "      <td>0.217533</td>\n",
       "      <td>0.168213</td>\n",
       "      <td>-257.473</td>\n",
       "    </tr>\n",
       "  </tbody>\n",
       "</table>\n",
       "</div>"
      ],
      "text/plain": [
       "     Model                                        Description  \\\n",
       "0  Model 1                           All features, dummy data   \n",
       "1  Model 2          All features, aggregated categorical data   \n",
       "2  Model 3  Features based on Lasso, aggregated categorica...   \n",
       "3  Model 4    All features, dummy data, polynomial 1st degree   \n",
       "\n",
       "   Root Mean Squared Error (RMSE)  R-squared (training)  \\\n",
       "0                        1.054068              0.250425   \n",
       "1                        1.103406              0.178612   \n",
       "2                        1.125223              0.145808   \n",
       "3                        1.054068              0.250425   \n",
       "\n",
       "   Adjusted R-squared (training)  R-squared (test)  Adjusted R-squared (test)  \\\n",
       "0                       0.239300          0.217533                   0.168921   \n",
       "1                       0.176798          0.211767                   0.204758   \n",
       "2                       0.144266          0.171855                   0.165840   \n",
       "3                       0.239146          0.217533                   0.168213   \n",
       "\n",
       "   5-fold Cross Validation  \n",
       "0                 -257.473  \n",
       "1                 -257.850  \n",
       "2                 -293.291  \n",
       "3                 -257.473  "
      ]
     },
     "execution_count": 42,
     "metadata": {},
     "output_type": "execute_result"
    }
   ],
   "source": [
    "summary_df = summary_df.append({'Model' : 'Model 4', 'Description' : 'All features, dummy data, polynomial 1st degree' , 'Root Mean Squared Error (RMSE)' : result['train_rmse'], 'R-squared (training)' : result['r2_train'], 'Adjusted R-squared (training)': result['adjusted_r2_train'], 'R-squared (test)' : result['r2_test'], 'Adjusted R-squared (test)' : result['adjusted_r2_test'], '5-fold Cross Validation' : result['cv']} , ignore_index=True)\n",
    "summary_df"
   ]
  },
  {
   "cell_type": "code",
   "execution_count": null,
   "metadata": {},
   "outputs": [],
   "source": []
  },
  {
   "cell_type": "markdown",
   "metadata": {},
   "source": [
    "### Multiple Regression - 5 (all features, dummy data, polynomial 2nd degree)"
   ]
  },
  {
   "cell_type": "markdown",
   "metadata": {},
   "source": [
    "#### Set Target and Features"
   ]
  },
  {
   "cell_type": "code",
   "execution_count": 43,
   "metadata": {},
   "outputs": [],
   "source": [
    "target = df['Global_Sales']\n",
    "features = df[['metascore', 'userscore', 'years_ago', 'generation_lifespan', 'generation_flag']]\n",
    "categorical = df[['Genre','ESRB_Rating','Company','Publisher']]\n",
    "categorical = pd.get_dummies(data=categorical, drop_first=True)\n",
    "features = pd.concat([features, categorical], axis=1)"
   ]
  },
  {
   "cell_type": "markdown",
   "metadata": {},
   "source": [
    "#### Run regression"
   ]
  },
  {
   "cell_type": "code",
   "execution_count": 44,
   "metadata": {
    "scrolled": false
   },
   "outputs": [],
   "source": [
    "result = run_regression(target, features, 2)"
   ]
  },
  {
   "cell_type": "markdown",
   "metadata": {},
   "source": [
    "#### Scatter and residual plots"
   ]
  },
  {
   "cell_type": "code",
   "execution_count": 45,
   "metadata": {},
   "outputs": [
    {
     "data": {
      "text/plain": [
       "Text(0, 0.5, 'Predictions')"
      ]
     },
     "execution_count": 45,
     "metadata": {},
     "output_type": "execute_result"
    },
    {
     "data": {
      "image/png": "[encoded data removed]",
      "text/plain": [
       "<Figure size 432x288 with 1 Axes>"
      ]
     },
     "metadata": {
      "needs_background": "light"
     },
     "output_type": "display_data"
    }
   ],
   "source": [
    "plt.scatter(result['y_test'], result['y_test_pred'], alpha=0.3)\n",
    "\n",
    "plt.xlabel(\"True Values\")\n",
    "plt.ylabel(\"Predictions\")"
   ]
  },
  {
   "cell_type": "code",
   "execution_count": 46,
   "metadata": {},
   "outputs": [
    {
     "data": {
      "text/plain": [
       "<matplotlib.axes._subplots.AxesSubplot at 0x1c1a312e90>"
      ]
     },
     "execution_count": 46,
     "metadata": {},
     "output_type": "execute_result"
    },
    {
     "data": {
      "image/png": "[encoded data removed]",
      "text/plain": [
       "<Figure size 432x288 with 1 Axes>"
      ]
     },
     "metadata": {
      "needs_background": "light"
     },
     "output_type": "display_data"
    }
   ],
   "source": [
    "sns.residplot(result['y_test_pred'], result['y_test'], lowess=True, color=\"g\")"
   ]
  },
  {
   "cell_type": "code",
   "execution_count": 47,
   "metadata": {},
   "outputs": [
    {
     "data": {
      "image/png": "[encoded data removed]",
      "text/plain": [
       "<Figure size 432x288 with 1 Axes>"
      ]
     },
     "metadata": {
      "needs_background": "light"
     },
     "output_type": "display_data"
    }
   ],
   "source": [
    "sns.kdeplot(result['y_test_pred'], label = \"Predictions\")\n",
    "sns.kdeplot(result['y_test'], label = \"Test\")\n",
    "sns.kdeplot(result['y_train'], label = \"Train\")\n",
    "\n",
    "plt.xlabel(\"Global Sales\"); plt.ylabel(\"Density\");\n",
    "plt.title(\"Test, Train Values and Predictions\");"
   ]
  },
  {
   "cell_type": "markdown",
   "metadata": {},
   "source": [
    "#### Updated summary table of all models"
   ]
  },
  {
   "cell_type": "code",
   "execution_count": 48,
   "metadata": {
    "scrolled": true
   },
   "outputs": [
    {
     "data": {
      "text/html": [
       "<div>\n",
       "<style scoped>\n",
       "    .dataframe tbody tr th:only-of-type {\n",
       "        vertical-align: middle;\n",
       "    }\n",
       "\n",
       "    .dataframe tbody tr th {\n",
       "        vertical-align: top;\n",
       "    }\n",
       "\n",
       "    .dataframe thead th {\n",
       "        text-align: right;\n",
       "    }\n",
       "</style>\n",
       "<table border=\"1\" class=\"dataframe\">\n",
       "  <thead>\n",
       "    <tr style=\"text-align: right;\">\n",
       "      <th></th>\n",
       "      <th>Model</th>\n",
       "      <th>Description</th>\n",
       "      <th>Root Mean Squared Error (RMSE)</th>\n",
       "      <th>R-squared (training)</th>\n",
       "      <th>Adjusted R-squared (training)</th>\n",
       "      <th>R-squared (test)</th>\n",
       "      <th>Adjusted R-squared (test)</th>\n",
       "      <th>5-fold Cross Validation</th>\n",
       "    </tr>\n",
       "  </thead>\n",
       "  <tbody>\n",
       "    <tr>\n",
       "      <td>0</td>\n",
       "      <td>Model 1</td>\n",
       "      <td>All features, dummy data</td>\n",
       "      <td>1.054068</td>\n",
       "      <td>0.250425</td>\n",
       "      <td>0.239300</td>\n",
       "      <td>2.175333e-01</td>\n",
       "      <td>1.689205e-01</td>\n",
       "      <td>-257.473</td>\n",
       "    </tr>\n",
       "    <tr>\n",
       "      <td>1</td>\n",
       "      <td>Model 2</td>\n",
       "      <td>All features, aggregated categorical data</td>\n",
       "      <td>1.103406</td>\n",
       "      <td>0.178612</td>\n",
       "      <td>0.176798</td>\n",
       "      <td>2.117670e-01</td>\n",
       "      <td>2.047577e-01</td>\n",
       "      <td>-257.850</td>\n",
       "    </tr>\n",
       "    <tr>\n",
       "      <td>2</td>\n",
       "      <td>Model 3</td>\n",
       "      <td>Features based on Lasso, aggregated categorica...</td>\n",
       "      <td>1.125223</td>\n",
       "      <td>0.145808</td>\n",
       "      <td>0.144266</td>\n",
       "      <td>1.718553e-01</td>\n",
       "      <td>1.658397e-01</td>\n",
       "      <td>-293.291</td>\n",
       "    </tr>\n",
       "    <tr>\n",
       "      <td>3</td>\n",
       "      <td>Model 4</td>\n",
       "      <td>All features, dummy data, polynomial 1st degree</td>\n",
       "      <td>1.054068</td>\n",
       "      <td>0.250425</td>\n",
       "      <td>0.239146</td>\n",
       "      <td>2.175333e-01</td>\n",
       "      <td>1.682126e-01</td>\n",
       "      <td>-257.473</td>\n",
       "    </tr>\n",
       "    <tr>\n",
       "      <td>4</td>\n",
       "      <td>Model 5</td>\n",
       "      <td>All features, dummy data, polynomial 2md degree</td>\n",
       "      <td>0.751828</td>\n",
       "      <td>0.618658</td>\n",
       "      <td>0.141335</td>\n",
       "      <td>-1.217161e+09</td>\n",
       "      <td>9.947719e+08</td>\n",
       "      <td>-257.473</td>\n",
       "    </tr>\n",
       "  </tbody>\n",
       "</table>\n",
       "</div>"
      ],
      "text/plain": [
       "     Model                                        Description  \\\n",
       "0  Model 1                           All features, dummy data   \n",
       "1  Model 2          All features, aggregated categorical data   \n",
       "2  Model 3  Features based on Lasso, aggregated categorica...   \n",
       "3  Model 4    All features, dummy data, polynomial 1st degree   \n",
       "4  Model 5    All features, dummy data, polynomial 2md degree   \n",
       "\n",
       "   Root Mean Squared Error (RMSE)  R-squared (training)  \\\n",
       "0                        1.054068              0.250425   \n",
       "1                        1.103406              0.178612   \n",
       "2                        1.125223              0.145808   \n",
       "3                        1.054068              0.250425   \n",
       "4                        0.751828              0.618658   \n",
       "\n",
       "   Adjusted R-squared (training)  R-squared (test)  Adjusted R-squared (test)  \\\n",
       "0                       0.239300      2.175333e-01               1.689205e-01   \n",
       "1                       0.176798      2.117670e-01               2.047577e-01   \n",
       "2                       0.144266      1.718553e-01               1.658397e-01   \n",
       "3                       0.239146      2.175333e-01               1.682126e-01   \n",
       "4                       0.141335     -1.217161e+09               9.947719e+08   \n",
       "\n",
       "   5-fold Cross Validation  \n",
       "0                 -257.473  \n",
       "1                 -257.850  \n",
       "2                 -293.291  \n",
       "3                 -257.473  \n",
       "4                 -257.473  "
      ]
     },
     "execution_count": 48,
     "metadata": {},
     "output_type": "execute_result"
    }
   ],
   "source": [
    "summary_df = summary_df.append({'Model' : 'Model 5', 'Description' : 'All features, dummy data, polynomial 2md degree' , 'Root Mean Squared Error (RMSE)' : result['train_rmse'], 'R-squared (training)' : result['r2_train'], 'Adjusted R-squared (training)': result['adjusted_r2_train'], 'R-squared (test)' : result['r2_test'], 'Adjusted R-squared (test)' : result['adjusted_r2_test'], '5-fold Cross Validation' : result['cv']} , ignore_index=True)\n",
    "summary_df"
   ]
  },
  {
   "cell_type": "code",
   "execution_count": null,
   "metadata": {},
   "outputs": [],
   "source": []
  },
  {
   "cell_type": "markdown",
   "metadata": {},
   "source": [
    "### Multiple Regression - 6 (all features, aggregated categorical data, polynomial 1st degree)"
   ]
  },
  {
   "cell_type": "markdown",
   "metadata": {},
   "source": [
    "#### Set Target and Features"
   ]
  },
  {
   "cell_type": "code",
   "execution_count": 49,
   "metadata": {},
   "outputs": [],
   "source": [
    "target = df['Global_Sales']\n",
    "features = df[['metascore', 'userscore','years_ago', 'generation_lifespan', 'generation_flag', 'Publisher_Metascore', 'Publisher_Userscore', 'Developer_Metascore', 'Developer_Userscore', 'Genre_Metascore', 'Genre_Userscore']]"
   ]
  },
  {
   "cell_type": "markdown",
   "metadata": {},
   "source": [
    "#### Run regression"
   ]
  },
  {
   "cell_type": "code",
   "execution_count": 50,
   "metadata": {
    "scrolled": false
   },
   "outputs": [],
   "source": [
    "result = run_regression(target, features, 1)"
   ]
  },
  {
   "cell_type": "markdown",
   "metadata": {},
   "source": [
    "#### Scatter and residual plots"
   ]
  },
  {
   "cell_type": "code",
   "execution_count": 51,
   "metadata": {},
   "outputs": [
    {
     "data": {
      "text/plain": [
       "Text(0, 0.5, 'Predictions')"
      ]
     },
     "execution_count": 51,
     "metadata": {},
     "output_type": "execute_result"
    },
    {
     "data": {
      "image/png": "[encoded data removed]",
      "text/plain": [
       "<Figure size 432x288 with 1 Axes>"
      ]
     },
     "metadata": {
      "needs_background": "light"
     },
     "output_type": "display_data"
    }
   ],
   "source": [
    "plt.scatter(result['y_test'], result['y_test_pred'], alpha=0.3)\n",
    "\n",
    "plt.xlabel(\"True Values\")\n",
    "plt.ylabel(\"Predictions\")"
   ]
  },
  {
   "cell_type": "code",
   "execution_count": 52,
   "metadata": {},
   "outputs": [
    {
     "data": {
      "text/plain": [
       "<matplotlib.axes._subplots.AxesSubplot at 0x1c18cc71d0>"
      ]
     },
     "execution_count": 52,
     "metadata": {},
     "output_type": "execute_result"
    },
    {
     "data": {
      "image/png": "[encoded data removed]",
      "text/plain": [
       "<Figure size 432x288 with 1 Axes>"
      ]
     },
     "metadata": {
      "needs_background": "light"
     },
     "output_type": "display_data"
    }
   ],
   "source": [
    "sns.residplot(result['y_test_pred'], result['y_test'], lowess=True, color=\"g\")"
   ]
  },
  {
   "cell_type": "code",
   "execution_count": 53,
   "metadata": {},
   "outputs": [
    {
     "data": {
      "image/png": "[encoded data removed]",
      "text/plain": [
       "<Figure size 432x288 with 1 Axes>"
      ]
     },
     "metadata": {
      "needs_background": "light"
     },
     "output_type": "display_data"
    }
   ],
   "source": [
    "sns.kdeplot(result['y_test_pred'], label = \"Predictions\")\n",
    "sns.kdeplot(result['y_test'], label = \"Test\")\n",
    "sns.kdeplot(result['y_train'], label = \"Train\")\n",
    "\n",
    "plt.xlabel(\"Global Sales\"); plt.ylabel(\"Density\");\n",
    "plt.title(\"Test, Train Values and Predictions\");"
   ]
  },
  {
   "cell_type": "markdown",
   "metadata": {},
   "source": [
    "#### Updated summary table of all models"
   ]
  },
  {
   "cell_type": "code",
   "execution_count": 54,
   "metadata": {
    "scrolled": true
   },
   "outputs": [
    {
     "data": {
      "text/html": [
       "<div>\n",
       "<style scoped>\n",
       "    .dataframe tbody tr th:only-of-type {\n",
       "        vertical-align: middle;\n",
       "    }\n",
       "\n",
       "    .dataframe tbody tr th {\n",
       "        vertical-align: top;\n",
       "    }\n",
       "\n",
       "    .dataframe thead th {\n",
       "        text-align: right;\n",
       "    }\n",
       "</style>\n",
       "<table border=\"1\" class=\"dataframe\">\n",
       "  <thead>\n",
       "    <tr style=\"text-align: right;\">\n",
       "      <th></th>\n",
       "      <th>Model</th>\n",
       "      <th>Description</th>\n",
       "      <th>Root Mean Squared Error (RMSE)</th>\n",
       "      <th>R-squared (training)</th>\n",
       "      <th>Adjusted R-squared (training)</th>\n",
       "      <th>R-squared (test)</th>\n",
       "      <th>Adjusted R-squared (test)</th>\n",
       "      <th>5-fold Cross Validation</th>\n",
       "    </tr>\n",
       "  </thead>\n",
       "  <tbody>\n",
       "    <tr>\n",
       "      <td>0</td>\n",
       "      <td>Model 1</td>\n",
       "      <td>All features, dummy data</td>\n",
       "      <td>1.054068</td>\n",
       "      <td>0.250425</td>\n",
       "      <td>0.239300</td>\n",
       "      <td>2.175333e-01</td>\n",
       "      <td>1.689205e-01</td>\n",
       "      <td>-257.473</td>\n",
       "    </tr>\n",
       "    <tr>\n",
       "      <td>1</td>\n",
       "      <td>Model 2</td>\n",
       "      <td>All features, aggregated categorical data</td>\n",
       "      <td>1.103406</td>\n",
       "      <td>0.178612</td>\n",
       "      <td>0.176798</td>\n",
       "      <td>2.117670e-01</td>\n",
       "      <td>2.047577e-01</td>\n",
       "      <td>-257.850</td>\n",
       "    </tr>\n",
       "    <tr>\n",
       "      <td>2</td>\n",
       "      <td>Model 3</td>\n",
       "      <td>Features based on Lasso, aggregated categorica...</td>\n",
       "      <td>1.125223</td>\n",
       "      <td>0.145808</td>\n",
       "      <td>0.144266</td>\n",
       "      <td>1.718553e-01</td>\n",
       "      <td>1.658397e-01</td>\n",
       "      <td>-293.291</td>\n",
       "    </tr>\n",
       "    <tr>\n",
       "      <td>3</td>\n",
       "      <td>Model 4</td>\n",
       "      <td>All features, dummy data, polynomial 1st degree</td>\n",
       "      <td>1.054068</td>\n",
       "      <td>0.250425</td>\n",
       "      <td>0.239146</td>\n",
       "      <td>2.175333e-01</td>\n",
       "      <td>1.682126e-01</td>\n",
       "      <td>-257.473</td>\n",
       "    </tr>\n",
       "    <tr>\n",
       "      <td>4</td>\n",
       "      <td>Model 5</td>\n",
       "      <td>All features, dummy data, polynomial 2md degree</td>\n",
       "      <td>0.751828</td>\n",
       "      <td>0.618658</td>\n",
       "      <td>0.141335</td>\n",
       "      <td>-1.217161e+09</td>\n",
       "      <td>9.947719e+08</td>\n",
       "      <td>-257.473</td>\n",
       "    </tr>\n",
       "    <tr>\n",
       "      <td>5</td>\n",
       "      <td>Model 6</td>\n",
       "      <td>All features, aggregated categorical data, pol...</td>\n",
       "      <td>1.103406</td>\n",
       "      <td>0.178612</td>\n",
       "      <td>0.176632</td>\n",
       "      <td>2.117670e-01</td>\n",
       "      <td>2.041143e-01</td>\n",
       "      <td>-257.850</td>\n",
       "    </tr>\n",
       "  </tbody>\n",
       "</table>\n",
       "</div>"
      ],
      "text/plain": [
       "     Model                                        Description  \\\n",
       "0  Model 1                           All features, dummy data   \n",
       "1  Model 2          All features, aggregated categorical data   \n",
       "2  Model 3  Features based on Lasso, aggregated categorica...   \n",
       "3  Model 4    All features, dummy data, polynomial 1st degree   \n",
       "4  Model 5    All features, dummy data, polynomial 2md degree   \n",
       "5  Model 6  All features, aggregated categorical data, pol...   \n",
       "\n",
       "   Root Mean Squared Error (RMSE)  R-squared (training)  \\\n",
       "0                        1.054068              0.250425   \n",
       "1                        1.103406              0.178612   \n",
       "2                        1.125223              0.145808   \n",
       "3                        1.054068              0.250425   \n",
       "4                        0.751828              0.618658   \n",
       "5                        1.103406              0.178612   \n",
       "\n",
       "   Adjusted R-squared (training)  R-squared (test)  Adjusted R-squared (test)  \\\n",
       "0                       0.239300      2.175333e-01               1.689205e-01   \n",
       "1                       0.176798      2.117670e-01               2.047577e-01   \n",
       "2                       0.144266      1.718553e-01               1.658397e-01   \n",
       "3                       0.239146      2.175333e-01               1.682126e-01   \n",
       "4                       0.141335     -1.217161e+09               9.947719e+08   \n",
       "5                       0.176632      2.117670e-01               2.041143e-01   \n",
       "\n",
       "   5-fold Cross Validation  \n",
       "0                 -257.473  \n",
       "1                 -257.850  \n",
       "2                 -293.291  \n",
       "3                 -257.473  \n",
       "4                 -257.473  \n",
       "5                 -257.850  "
      ]
     },
     "execution_count": 54,
     "metadata": {},
     "output_type": "execute_result"
    }
   ],
   "source": [
    "summary_df = summary_df.append({'Model' : 'Model 6', 'Description' : 'All features, aggregated categorical data, polynomial 1st degree' , 'Root Mean Squared Error (RMSE)' : result['train_rmse'], 'R-squared (training)' : result['r2_train'], 'Adjusted R-squared (training)': result['adjusted_r2_train'], 'R-squared (test)' : result['r2_test'], 'Adjusted R-squared (test)' : result['adjusted_r2_test'], '5-fold Cross Validation' : result['cv']} , ignore_index=True)\n",
    "summary_df"
   ]
  },
  {
   "cell_type": "code",
   "execution_count": null,
   "metadata": {},
   "outputs": [],
   "source": []
  },
  {
   "cell_type": "markdown",
   "metadata": {},
   "source": [
    "### Multiple Regression - 7 (all features, aggregated categorical data, polynomial 2nd degree)"
   ]
  },
  {
   "cell_type": "markdown",
   "metadata": {},
   "source": [
    "#### Set Target and Features"
   ]
  },
  {
   "cell_type": "code",
   "execution_count": 55,
   "metadata": {},
   "outputs": [],
   "source": [
    "target = df['Global_Sales']\n",
    "features = df[['metascore', 'userscore','years_ago', 'generation_lifespan', 'generation_flag', 'Publisher_Metascore', 'Publisher_Userscore', 'Developer_Metascore', 'Developer_Userscore', 'Genre_Metascore', 'Genre_Userscore']]"
   ]
  },
  {
   "cell_type": "markdown",
   "metadata": {},
   "source": [
    "#### Run regression"
   ]
  },
  {
   "cell_type": "code",
   "execution_count": 56,
   "metadata": {
    "scrolled": false
   },
   "outputs": [],
   "source": [
    "result = run_regression(target, features, 2)"
   ]
  },
  {
   "cell_type": "markdown",
   "metadata": {},
   "source": [
    "#### Scatter and residual plots"
   ]
  },
  {
   "cell_type": "code",
   "execution_count": 57,
   "metadata": {},
   "outputs": [
    {
     "data": {
      "text/plain": [
       "Text(0, 0.5, 'Predictions')"
      ]
     },
     "execution_count": 57,
     "metadata": {},
     "output_type": "execute_result"
    },
    {
     "data": {
      "image/png": "[encoded data removed]",
      "text/plain": [
       "<Figure size 432x288 with 1 Axes>"
      ]
     },
     "metadata": {
      "needs_background": "light"
     },
     "output_type": "display_data"
    }
   ],
   "source": [
    "plt.scatter(result['y_test'], result['y_test_pred'], alpha=0.3)\n",
    "\n",
    "plt.xlabel(\"True Values\")\n",
    "plt.ylabel(\"Predictions\")"
   ]
  },
  {
   "cell_type": "code",
   "execution_count": 58,
   "metadata": {},
   "outputs": [
    {
     "data": {
      "text/plain": [
       "<matplotlib.axes._subplots.AxesSubplot at 0x1c1bce9c50>"
      ]
     },
     "execution_count": 58,
     "metadata": {},
     "output_type": "execute_result"
    },
    {
     "data": {
      "image/png": "[encoded data removed]",
      "text/plain": [
       "<Figure size 432x288 with 1 Axes>"
      ]
     },
     "metadata": {
      "needs_background": "light"
     },
     "output_type": "display_data"
    }
   ],
   "source": [
    "sns.residplot(result['y_test_pred'], result['y_test'], lowess=True, color=\"g\")"
   ]
  },
  {
   "cell_type": "code",
   "execution_count": 59,
   "metadata": {},
   "outputs": [
    {
     "data": {
      "image/png": "[encoded data removed]",
      "text/plain": [
       "<Figure size 432x288 with 1 Axes>"
      ]
     },
     "metadata": {
      "needs_background": "light"
     },
     "output_type": "display_data"
    }
   ],
   "source": [
    "sns.kdeplot(result['y_test_pred'], label = \"Predictions\")\n",
    "sns.kdeplot(result['y_test'], label = \"Test\")\n",
    "sns.kdeplot(result['y_train'], label = \"Train\")\n",
    "\n",
    "plt.xlabel(\"Global Sales\"); plt.ylabel(\"Density\");\n",
    "plt.title(\"Test, Train Values and Predictions\");"
   ]
  },
  {
   "cell_type": "markdown",
   "metadata": {},
   "source": [
    "#### Updated summary table of all models"
   ]
  },
  {
   "cell_type": "code",
   "execution_count": 60,
   "metadata": {
    "scrolled": true
   },
   "outputs": [
    {
     "data": {
      "text/html": [
       "<div>\n",
       "<style scoped>\n",
       "    .dataframe tbody tr th:only-of-type {\n",
       "        vertical-align: middle;\n",
       "    }\n",
       "\n",
       "    .dataframe tbody tr th {\n",
       "        vertical-align: top;\n",
       "    }\n",
       "\n",
       "    .dataframe thead th {\n",
       "        text-align: right;\n",
       "    }\n",
       "</style>\n",
       "<table border=\"1\" class=\"dataframe\">\n",
       "  <thead>\n",
       "    <tr style=\"text-align: right;\">\n",
       "      <th></th>\n",
       "      <th>Model</th>\n",
       "      <th>Description</th>\n",
       "      <th>Root Mean Squared Error (RMSE)</th>\n",
       "      <th>R-squared (training)</th>\n",
       "      <th>Adjusted R-squared (training)</th>\n",
       "      <th>R-squared (test)</th>\n",
       "      <th>Adjusted R-squared (test)</th>\n",
       "      <th>5-fold Cross Validation</th>\n",
       "    </tr>\n",
       "  </thead>\n",
       "  <tbody>\n",
       "    <tr>\n",
       "      <td>0</td>\n",
       "      <td>Model 1</td>\n",
       "      <td>All features, dummy data</td>\n",
       "      <td>1.054068</td>\n",
       "      <td>0.250425</td>\n",
       "      <td>0.239300</td>\n",
       "      <td>2.175333e-01</td>\n",
       "      <td>1.689205e-01</td>\n",
       "      <td>-257.473</td>\n",
       "    </tr>\n",
       "    <tr>\n",
       "      <td>1</td>\n",
       "      <td>Model 2</td>\n",
       "      <td>All features, aggregated categorical data</td>\n",
       "      <td>1.103406</td>\n",
       "      <td>0.178612</td>\n",
       "      <td>0.176798</td>\n",
       "      <td>2.117670e-01</td>\n",
       "      <td>2.047577e-01</td>\n",
       "      <td>-257.850</td>\n",
       "    </tr>\n",
       "    <tr>\n",
       "      <td>2</td>\n",
       "      <td>Model 3</td>\n",
       "      <td>Features based on Lasso, aggregated categorica...</td>\n",
       "      <td>1.125223</td>\n",
       "      <td>0.145808</td>\n",
       "      <td>0.144266</td>\n",
       "      <td>1.718553e-01</td>\n",
       "      <td>1.658397e-01</td>\n",
       "      <td>-293.291</td>\n",
       "    </tr>\n",
       "    <tr>\n",
       "      <td>3</td>\n",
       "      <td>Model 4</td>\n",
       "      <td>All features, dummy data, polynomial 1st degree</td>\n",
       "      <td>1.054068</td>\n",
       "      <td>0.250425</td>\n",
       "      <td>0.239146</td>\n",
       "      <td>2.175333e-01</td>\n",
       "      <td>1.682126e-01</td>\n",
       "      <td>-257.473</td>\n",
       "    </tr>\n",
       "    <tr>\n",
       "      <td>4</td>\n",
       "      <td>Model 5</td>\n",
       "      <td>All features, dummy data, polynomial 2md degree</td>\n",
       "      <td>0.751828</td>\n",
       "      <td>0.618658</td>\n",
       "      <td>0.141335</td>\n",
       "      <td>-1.217161e+09</td>\n",
       "      <td>9.947719e+08</td>\n",
       "      <td>-257.473</td>\n",
       "    </tr>\n",
       "    <tr>\n",
       "      <td>5</td>\n",
       "      <td>Model 6</td>\n",
       "      <td>All features, aggregated categorical data, pol...</td>\n",
       "      <td>1.103406</td>\n",
       "      <td>0.178612</td>\n",
       "      <td>0.176632</td>\n",
       "      <td>2.117670e-01</td>\n",
       "      <td>2.041143e-01</td>\n",
       "      <td>-257.850</td>\n",
       "    </tr>\n",
       "    <tr>\n",
       "      <td>6</td>\n",
       "      <td>Model 7</td>\n",
       "      <td>All features, aggregated categorical data, pol...</td>\n",
       "      <td>0.968323</td>\n",
       "      <td>0.367416</td>\n",
       "      <td>0.357375</td>\n",
       "      <td>3.442978e-01</td>\n",
       "      <td>3.005843e-01</td>\n",
       "      <td>-257.850</td>\n",
       "    </tr>\n",
       "  </tbody>\n",
       "</table>\n",
       "</div>"
      ],
      "text/plain": [
       "     Model                                        Description  \\\n",
       "0  Model 1                           All features, dummy data   \n",
       "1  Model 2          All features, aggregated categorical data   \n",
       "2  Model 3  Features based on Lasso, aggregated categorica...   \n",
       "3  Model 4    All features, dummy data, polynomial 1st degree   \n",
       "4  Model 5    All features, dummy data, polynomial 2md degree   \n",
       "5  Model 6  All features, aggregated categorical data, pol...   \n",
       "6  Model 7  All features, aggregated categorical data, pol...   \n",
       "\n",
       "   Root Mean Squared Error (RMSE)  R-squared (training)  \\\n",
       "0                        1.054068              0.250425   \n",
       "1                        1.103406              0.178612   \n",
       "2                        1.125223              0.145808   \n",
       "3                        1.054068              0.250425   \n",
       "4                        0.751828              0.618658   \n",
       "5                        1.103406              0.178612   \n",
       "6                        0.968323              0.367416   \n",
       "\n",
       "   Adjusted R-squared (training)  R-squared (test)  Adjusted R-squared (test)  \\\n",
       "0                       0.239300      2.175333e-01               1.689205e-01   \n",
       "1                       0.176798      2.117670e-01               2.047577e-01   \n",
       "2                       0.144266      1.718553e-01               1.658397e-01   \n",
       "3                       0.239146      2.175333e-01               1.682126e-01   \n",
       "4                       0.141335     -1.217161e+09               9.947719e+08   \n",
       "5                       0.176632      2.117670e-01               2.041143e-01   \n",
       "6                       0.357375      3.442978e-01               3.005843e-01   \n",
       "\n",
       "   5-fold Cross Validation  \n",
       "0                 -257.473  \n",
       "1                 -257.850  \n",
       "2                 -293.291  \n",
       "3                 -257.473  \n",
       "4                 -257.473  \n",
       "5                 -257.850  \n",
       "6                 -257.850  "
      ]
     },
     "execution_count": 60,
     "metadata": {},
     "output_type": "execute_result"
    }
   ],
   "source": [
    "summary_df = summary_df.append({'Model' : 'Model 7', 'Description' : 'All features, aggregated categorical data, polynomial 2md degree' , 'Root Mean Squared Error (RMSE)' : result['train_rmse'], 'R-squared (training)' : result['r2_train'], 'Adjusted R-squared (training)': result['adjusted_r2_train'], 'R-squared (test)' : result['r2_test'], 'Adjusted R-squared (test)' : result['adjusted_r2_test'], '5-fold Cross Validation' : result['cv']} , ignore_index=True)\n",
    "summary_df"
   ]
  },
  {
   "cell_type": "code",
   "execution_count": null,
   "metadata": {},
   "outputs": [],
   "source": []
  },
  {
   "cell_type": "markdown",
   "metadata": {},
   "source": [
    "### Multiple Regression - 8 (basic features, basic aggregated categorical data)"
   ]
  },
  {
   "cell_type": "markdown",
   "metadata": {},
   "source": [
    "#### Set Target and Features"
   ]
  },
  {
   "cell_type": "code",
   "execution_count": 61,
   "metadata": {},
   "outputs": [],
   "source": [
    "target = df['Global_Sales']\n",
    "features = df[['metascore', 'userscore', 'years_ago']]\n",
    "categorical = df[['Genre','ESRB_Rating','Company']]\n",
    "categorical = pd.get_dummies(data=categorical, drop_first=True)\n",
    "features = pd.concat([features, categorical], axis=1)"
   ]
  },
  {
   "cell_type": "markdown",
   "metadata": {},
   "source": [
    "#### Run regression"
   ]
  },
  {
   "cell_type": "code",
   "execution_count": 62,
   "metadata": {
    "scrolled": false
   },
   "outputs": [],
   "source": [
    "result = run_regression(target, features, 0)"
   ]
  },
  {
   "cell_type": "markdown",
   "metadata": {},
   "source": [
    "#### Scatter and residual plots"
   ]
  },
  {
   "cell_type": "code",
   "execution_count": 63,
   "metadata": {},
   "outputs": [
    {
     "data": {
      "text/plain": [
       "Text(0, 0.5, 'Predictions')"
      ]
     },
     "execution_count": 63,
     "metadata": {},
     "output_type": "execute_result"
    },
    {
     "data": {
      "image/png": "[encoded data removed]",
      "text/plain": [
       "<Figure size 432x288 with 1 Axes>"
      ]
     },
     "metadata": {
      "needs_background": "light"
     },
     "output_type": "display_data"
    }
   ],
   "source": [
    "plt.scatter(result['y_test'], result['y_test_pred'], alpha=0.3)\n",
    "\n",
    "plt.xlabel(\"True Values\")\n",
    "plt.ylabel(\"Predictions\")"
   ]
  },
  {
   "cell_type": "code",
   "execution_count": 64,
   "metadata": {},
   "outputs": [
    {
     "data": {
      "text/plain": [
       "<matplotlib.axes._subplots.AxesSubplot at 0x1c19cb3210>"
      ]
     },
     "execution_count": 64,
     "metadata": {},
     "output_type": "execute_result"
    },
    {
     "data": {
      "image/png": "[encoded data removed]",
      "text/plain": [
       "<Figure size 432x288 with 1 Axes>"
      ]
     },
     "metadata": {
      "needs_background": "light"
     },
     "output_type": "display_data"
    }
   ],
   "source": [
    "sns.residplot(result['y_test_pred'], result['y_test'], lowess=True, color=\"g\")"
   ]
  },
  {
   "cell_type": "code",
   "execution_count": 65,
   "metadata": {},
   "outputs": [
    {
     "data": {
      "image/png": "[encoded data removed]",
      "text/plain": [
       "<Figure size 432x288 with 1 Axes>"
      ]
     },
     "metadata": {
      "needs_background": "light"
     },
     "output_type": "display_data"
    }
   ],
   "source": [
    "sns.kdeplot(result['y_test_pred'], label = \"Predictions\")\n",
    "sns.kdeplot(result['y_test'], label = \"Test\")\n",
    "sns.kdeplot(result['y_train'], label = \"Train\")\n",
    "\n",
    "plt.xlabel(\"Global Sales\"); plt.ylabel(\"Density\");\n",
    "plt.title(\"Test, Train Values and Predictions\");"
   ]
  },
  {
   "cell_type": "markdown",
   "metadata": {},
   "source": [
    "#### Updated summary table of all models"
   ]
  },
  {
   "cell_type": "code",
   "execution_count": 66,
   "metadata": {
    "scrolled": false
   },
   "outputs": [
    {
     "data": {
      "text/html": [
       "<div>\n",
       "<style scoped>\n",
       "    .dataframe tbody tr th:only-of-type {\n",
       "        vertical-align: middle;\n",
       "    }\n",
       "\n",
       "    .dataframe tbody tr th {\n",
       "        vertical-align: top;\n",
       "    }\n",
       "\n",
       "    .dataframe thead th {\n",
       "        text-align: right;\n",
       "    }\n",
       "</style>\n",
       "<table border=\"1\" class=\"dataframe\">\n",
       "  <thead>\n",
       "    <tr style=\"text-align: right;\">\n",
       "      <th></th>\n",
       "      <th>Model</th>\n",
       "      <th>Description</th>\n",
       "      <th>Root Mean Squared Error (RMSE)</th>\n",
       "      <th>R-squared (training)</th>\n",
       "      <th>Adjusted R-squared (training)</th>\n",
       "      <th>R-squared (test)</th>\n",
       "      <th>Adjusted R-squared (test)</th>\n",
       "      <th>5-fold Cross Validation</th>\n",
       "    </tr>\n",
       "  </thead>\n",
       "  <tbody>\n",
       "    <tr>\n",
       "      <td>0</td>\n",
       "      <td>Model 1</td>\n",
       "      <td>All features, dummy data</td>\n",
       "      <td>1.054068</td>\n",
       "      <td>0.250425</td>\n",
       "      <td>0.239300</td>\n",
       "      <td>2.175333e-01</td>\n",
       "      <td>1.689205e-01</td>\n",
       "      <td>-257.473</td>\n",
       "    </tr>\n",
       "    <tr>\n",
       "      <td>1</td>\n",
       "      <td>Model 2</td>\n",
       "      <td>All features, aggregated categorical data</td>\n",
       "      <td>1.103406</td>\n",
       "      <td>0.178612</td>\n",
       "      <td>0.176798</td>\n",
       "      <td>2.117670e-01</td>\n",
       "      <td>2.047577e-01</td>\n",
       "      <td>-257.850</td>\n",
       "    </tr>\n",
       "    <tr>\n",
       "      <td>2</td>\n",
       "      <td>Model 3</td>\n",
       "      <td>Features based on Lasso, aggregated categorica...</td>\n",
       "      <td>1.125223</td>\n",
       "      <td>0.145808</td>\n",
       "      <td>0.144266</td>\n",
       "      <td>1.718553e-01</td>\n",
       "      <td>1.658397e-01</td>\n",
       "      <td>-293.291</td>\n",
       "    </tr>\n",
       "    <tr>\n",
       "      <td>3</td>\n",
       "      <td>Model 4</td>\n",
       "      <td>All features, dummy data, polynomial 1st degree</td>\n",
       "      <td>1.054068</td>\n",
       "      <td>0.250425</td>\n",
       "      <td>0.239146</td>\n",
       "      <td>2.175333e-01</td>\n",
       "      <td>1.682126e-01</td>\n",
       "      <td>-257.473</td>\n",
       "    </tr>\n",
       "    <tr>\n",
       "      <td>4</td>\n",
       "      <td>Model 5</td>\n",
       "      <td>All features, dummy data, polynomial 2md degree</td>\n",
       "      <td>0.751828</td>\n",
       "      <td>0.618658</td>\n",
       "      <td>0.141335</td>\n",
       "      <td>-1.217161e+09</td>\n",
       "      <td>9.947719e+08</td>\n",
       "      <td>-257.473</td>\n",
       "    </tr>\n",
       "    <tr>\n",
       "      <td>5</td>\n",
       "      <td>Model 6</td>\n",
       "      <td>All features, aggregated categorical data, pol...</td>\n",
       "      <td>1.103406</td>\n",
       "      <td>0.178612</td>\n",
       "      <td>0.176632</td>\n",
       "      <td>2.117670e-01</td>\n",
       "      <td>2.041143e-01</td>\n",
       "      <td>-257.850</td>\n",
       "    </tr>\n",
       "    <tr>\n",
       "      <td>6</td>\n",
       "      <td>Model 7</td>\n",
       "      <td>All features, aggregated categorical data, pol...</td>\n",
       "      <td>0.968323</td>\n",
       "      <td>0.367416</td>\n",
       "      <td>0.357375</td>\n",
       "      <td>3.442978e-01</td>\n",
       "      <td>3.005843e-01</td>\n",
       "      <td>-257.850</td>\n",
       "    </tr>\n",
       "    <tr>\n",
       "      <td>7</td>\n",
       "      <td>Model 8</td>\n",
       "      <td>Basic features, basic aggregated categorical data</td>\n",
       "      <td>1.110616</td>\n",
       "      <td>0.167842</td>\n",
       "      <td>0.163822</td>\n",
       "      <td>1.966854e-01</td>\n",
       "      <td>1.809341e-01</td>\n",
       "      <td>-283.440</td>\n",
       "    </tr>\n",
       "  </tbody>\n",
       "</table>\n",
       "</div>"
      ],
      "text/plain": [
       "     Model                                        Description  \\\n",
       "0  Model 1                           All features, dummy data   \n",
       "1  Model 2          All features, aggregated categorical data   \n",
       "2  Model 3  Features based on Lasso, aggregated categorica...   \n",
       "3  Model 4    All features, dummy data, polynomial 1st degree   \n",
       "4  Model 5    All features, dummy data, polynomial 2md degree   \n",
       "5  Model 6  All features, aggregated categorical data, pol...   \n",
       "6  Model 7  All features, aggregated categorical data, pol...   \n",
       "7  Model 8  Basic features, basic aggregated categorical data   \n",
       "\n",
       "   Root Mean Squared Error (RMSE)  R-squared (training)  \\\n",
       "0                        1.054068              0.250425   \n",
       "1                        1.103406              0.178612   \n",
       "2                        1.125223              0.145808   \n",
       "3                        1.054068              0.250425   \n",
       "4                        0.751828              0.618658   \n",
       "5                        1.103406              0.178612   \n",
       "6                        0.968323              0.367416   \n",
       "7                        1.110616              0.167842   \n",
       "\n",
       "   Adjusted R-squared (training)  R-squared (test)  Adjusted R-squared (test)  \\\n",
       "0                       0.239300      2.175333e-01               1.689205e-01   \n",
       "1                       0.176798      2.117670e-01               2.047577e-01   \n",
       "2                       0.144266      1.718553e-01               1.658397e-01   \n",
       "3                       0.239146      2.175333e-01               1.682126e-01   \n",
       "4                       0.141335     -1.217161e+09               9.947719e+08   \n",
       "5                       0.176632      2.117670e-01               2.041143e-01   \n",
       "6                       0.357375      3.442978e-01               3.005843e-01   \n",
       "7                       0.163822      1.966854e-01               1.809341e-01   \n",
       "\n",
       "   5-fold Cross Validation  \n",
       "0                 -257.473  \n",
       "1                 -257.850  \n",
       "2                 -293.291  \n",
       "3                 -257.473  \n",
       "4                 -257.473  \n",
       "5                 -257.850  \n",
       "6                 -257.850  \n",
       "7                 -283.440  "
      ]
     },
     "execution_count": 66,
     "metadata": {},
     "output_type": "execute_result"
    }
   ],
   "source": [
    "summary_df = summary_df.append({'Model' : 'Model 8', 'Description' : 'Basic features, basic aggregated categorical data' , 'Root Mean Squared Error (RMSE)' : result['train_rmse'], 'R-squared (training)' : result['r2_train'], 'Adjusted R-squared (training)': result['adjusted_r2_train'], 'R-squared (test)' : result['r2_test'], 'Adjusted R-squared (test)' : result['adjusted_r2_test'], '5-fold Cross Validation' : result['cv']} , ignore_index=True)\n",
    "summary_df"
   ]
  },
  {
   "cell_type": "markdown",
   "metadata": {},
   "source": [
    "### Multiple Regression - 9 (metascore and userscore only)"
   ]
  },
  {
   "cell_type": "markdown",
   "metadata": {},
   "source": [
    "#### Set Target and Features"
   ]
  },
  {
   "cell_type": "code",
   "execution_count": 67,
   "metadata": {},
   "outputs": [],
   "source": [
    "target = df['Global_Sales']\n",
    "features = df[['metascore', 'userscore']]\n",
    "# categorical = df[['Company']]\n",
    "# categorical = pd.get_dummies(data=categorical, drop_first=True)\n",
    "# features = pd.concat([features, categorical], axis=1)"
   ]
  },
  {
   "cell_type": "markdown",
   "metadata": {},
   "source": [
    "#### Run regression"
   ]
  },
  {
   "cell_type": "code",
   "execution_count": 68,
   "metadata": {
    "scrolled": false
   },
   "outputs": [],
   "source": [
    "result = run_regression(target, features, 0)"
   ]
  },
  {
   "cell_type": "markdown",
   "metadata": {},
   "source": [
    "#### Scatter and residual plots"
   ]
  },
  {
   "cell_type": "code",
   "execution_count": 69,
   "metadata": {},
   "outputs": [
    {
     "data": {
      "text/plain": [
       "Text(0, 0.5, 'Predictions')"
      ]
     },
     "execution_count": 69,
     "metadata": {},
     "output_type": "execute_result"
    },
    {
     "data": {
      "image/png": "[encoded data removed]",
      "text/plain": [
       "<Figure size 432x288 with 1 Axes>"
      ]
     },
     "metadata": {
      "needs_background": "light"
     },
     "output_type": "display_data"
    }
   ],
   "source": [
    "plt.scatter(result['y_test'], result['y_test_pred'], alpha=0.3)\n",
    "\n",
    "plt.xlabel(\"True Values\")\n",
    "plt.ylabel(\"Predictions\")"
   ]
  },
  {
   "cell_type": "code",
   "execution_count": 70,
   "metadata": {},
   "outputs": [
    {
     "data": {
      "text/plain": [
       "<matplotlib.axes._subplots.AxesSubplot at 0x1c1c417e10>"
      ]
     },
     "execution_count": 70,
     "metadata": {},
     "output_type": "execute_result"
    },
    {
     "data": {
      "image/png": "[encoded data removed]",
      "text/plain": [
       "<Figure size 432x288 with 1 Axes>"
      ]
     },
     "metadata": {
      "needs_background": "light"
     },
     "output_type": "display_data"
    }
   ],
   "source": [
    "sns.residplot(result['y_test_pred'], result['y_test'], lowess=True, color=\"g\")"
   ]
  },
  {
   "cell_type": "code",
   "execution_count": 71,
   "metadata": {},
   "outputs": [
    {
     "data": {
      "image/png": "[encoded data removed]",
      "text/plain": [
       "<Figure size 432x288 with 1 Axes>"
      ]
     },
     "metadata": {
      "needs_background": "light"
     },
     "output_type": "display_data"
    }
   ],
   "source": [
    "sns.kdeplot(result['y_test_pred'], label = \"Predictions\")\n",
    "sns.kdeplot(result['y_test'], label = \"Test\")\n",
    "sns.kdeplot(result['y_train'], label = \"Train\")\n",
    "\n",
    "plt.xlabel(\"Global Sales\"); plt.ylabel(\"Density\");\n",
    "plt.title(\"Test, Train Values and Predictions\");"
   ]
  },
  {
   "cell_type": "markdown",
   "metadata": {},
   "source": [
    "#### Updated summary table of all models"
   ]
  },
  {
   "cell_type": "code",
   "execution_count": 72,
   "metadata": {
    "scrolled": true
   },
   "outputs": [
    {
     "data": {
      "text/html": [
       "<div>\n",
       "<style scoped>\n",
       "    .dataframe tbody tr th:only-of-type {\n",
       "        vertical-align: middle;\n",
       "    }\n",
       "\n",
       "    .dataframe tbody tr th {\n",
       "        vertical-align: top;\n",
       "    }\n",
       "\n",
       "    .dataframe thead th {\n",
       "        text-align: right;\n",
       "    }\n",
       "</style>\n",
       "<table border=\"1\" class=\"dataframe\">\n",
       "  <thead>\n",
       "    <tr style=\"text-align: right;\">\n",
       "      <th></th>\n",
       "      <th>Model</th>\n",
       "      <th>Description</th>\n",
       "      <th>Root Mean Squared Error (RMSE)</th>\n",
       "      <th>R-squared (training)</th>\n",
       "      <th>Adjusted R-squared (training)</th>\n",
       "      <th>R-squared (test)</th>\n",
       "      <th>Adjusted R-squared (test)</th>\n",
       "      <th>5-fold Cross Validation</th>\n",
       "    </tr>\n",
       "  </thead>\n",
       "  <tbody>\n",
       "    <tr>\n",
       "      <td>0</td>\n",
       "      <td>Model 1</td>\n",
       "      <td>All features, dummy data</td>\n",
       "      <td>1.054068</td>\n",
       "      <td>0.250425</td>\n",
       "      <td>0.239300</td>\n",
       "      <td>2.175333e-01</td>\n",
       "      <td>1.689205e-01</td>\n",
       "      <td>-257.473</td>\n",
       "    </tr>\n",
       "    <tr>\n",
       "      <td>1</td>\n",
       "      <td>Model 2</td>\n",
       "      <td>All features, aggregated categorical data</td>\n",
       "      <td>1.103406</td>\n",
       "      <td>0.178612</td>\n",
       "      <td>0.176798</td>\n",
       "      <td>2.117670e-01</td>\n",
       "      <td>2.047577e-01</td>\n",
       "      <td>-257.850</td>\n",
       "    </tr>\n",
       "    <tr>\n",
       "      <td>2</td>\n",
       "      <td>Model 3</td>\n",
       "      <td>Features based on Lasso, aggregated categorica...</td>\n",
       "      <td>1.125223</td>\n",
       "      <td>0.145808</td>\n",
       "      <td>0.144266</td>\n",
       "      <td>1.718553e-01</td>\n",
       "      <td>1.658397e-01</td>\n",
       "      <td>-293.291</td>\n",
       "    </tr>\n",
       "    <tr>\n",
       "      <td>3</td>\n",
       "      <td>Model 4</td>\n",
       "      <td>All features, dummy data, polynomial 1st degree</td>\n",
       "      <td>1.054068</td>\n",
       "      <td>0.250425</td>\n",
       "      <td>0.239146</td>\n",
       "      <td>2.175333e-01</td>\n",
       "      <td>1.682126e-01</td>\n",
       "      <td>-257.473</td>\n",
       "    </tr>\n",
       "    <tr>\n",
       "      <td>4</td>\n",
       "      <td>Model 5</td>\n",
       "      <td>All features, dummy data, polynomial 2md degree</td>\n",
       "      <td>0.751828</td>\n",
       "      <td>0.618658</td>\n",
       "      <td>0.141335</td>\n",
       "      <td>-1.217161e+09</td>\n",
       "      <td>9.947719e+08</td>\n",
       "      <td>-257.473</td>\n",
       "    </tr>\n",
       "    <tr>\n",
       "      <td>5</td>\n",
       "      <td>Model 6</td>\n",
       "      <td>All features, aggregated categorical data, pol...</td>\n",
       "      <td>1.103406</td>\n",
       "      <td>0.178612</td>\n",
       "      <td>0.176632</td>\n",
       "      <td>2.117670e-01</td>\n",
       "      <td>2.041143e-01</td>\n",
       "      <td>-257.850</td>\n",
       "    </tr>\n",
       "    <tr>\n",
       "      <td>6</td>\n",
       "      <td>Model 7</td>\n",
       "      <td>All features, aggregated categorical data, pol...</td>\n",
       "      <td>0.968323</td>\n",
       "      <td>0.367416</td>\n",
       "      <td>0.357375</td>\n",
       "      <td>3.442978e-01</td>\n",
       "      <td>3.005843e-01</td>\n",
       "      <td>-257.850</td>\n",
       "    </tr>\n",
       "    <tr>\n",
       "      <td>7</td>\n",
       "      <td>Model 8</td>\n",
       "      <td>Basic features, basic aggregated categorical data</td>\n",
       "      <td>1.110616</td>\n",
       "      <td>0.167842</td>\n",
       "      <td>0.163822</td>\n",
       "      <td>1.966854e-01</td>\n",
       "      <td>1.809341e-01</td>\n",
       "      <td>-283.440</td>\n",
       "    </tr>\n",
       "    <tr>\n",
       "      <td>8</td>\n",
       "      <td>Model 9</td>\n",
       "      <td>metascore and userscore only</td>\n",
       "      <td>1.149901</td>\n",
       "      <td>0.107930</td>\n",
       "      <td>0.107573</td>\n",
       "      <td>1.482305e-01</td>\n",
       "      <td>1.468633e-01</td>\n",
       "      <td>-322.082</td>\n",
       "    </tr>\n",
       "  </tbody>\n",
       "</table>\n",
       "</div>"
      ],
      "text/plain": [
       "     Model                                        Description  \\\n",
       "0  Model 1                           All features, dummy data   \n",
       "1  Model 2          All features, aggregated categorical data   \n",
       "2  Model 3  Features based on Lasso, aggregated categorica...   \n",
       "3  Model 4    All features, dummy data, polynomial 1st degree   \n",
       "4  Model 5    All features, dummy data, polynomial 2md degree   \n",
       "5  Model 6  All features, aggregated categorical data, pol...   \n",
       "6  Model 7  All features, aggregated categorical data, pol...   \n",
       "7  Model 8  Basic features, basic aggregated categorical data   \n",
       "8  Model 9                       metascore and userscore only   \n",
       "\n",
       "   Root Mean Squared Error (RMSE)  R-squared (training)  \\\n",
       "0                        1.054068              0.250425   \n",
       "1                        1.103406              0.178612   \n",
       "2                        1.125223              0.145808   \n",
       "3                        1.054068              0.250425   \n",
       "4                        0.751828              0.618658   \n",
       "5                        1.103406              0.178612   \n",
       "6                        0.968323              0.367416   \n",
       "7                        1.110616              0.167842   \n",
       "8                        1.149901              0.107930   \n",
       "\n",
       "   Adjusted R-squared (training)  R-squared (test)  Adjusted R-squared (test)  \\\n",
       "0                       0.239300      2.175333e-01               1.689205e-01   \n",
       "1                       0.176798      2.117670e-01               2.047577e-01   \n",
       "2                       0.144266      1.718553e-01               1.658397e-01   \n",
       "3                       0.239146      2.175333e-01               1.682126e-01   \n",
       "4                       0.141335     -1.217161e+09               9.947719e+08   \n",
       "5                       0.176632      2.117670e-01               2.041143e-01   \n",
       "6                       0.357375      3.442978e-01               3.005843e-01   \n",
       "7                       0.163822      1.966854e-01               1.809341e-01   \n",
       "8                       0.107573      1.482305e-01               1.468633e-01   \n",
       "\n",
       "   5-fold Cross Validation  \n",
       "0                 -257.473  \n",
       "1                 -257.850  \n",
       "2                 -293.291  \n",
       "3                 -257.473  \n",
       "4                 -257.473  \n",
       "5                 -257.850  \n",
       "6                 -257.850  \n",
       "7                 -283.440  \n",
       "8                 -322.082  "
      ]
     },
     "execution_count": 72,
     "metadata": {},
     "output_type": "execute_result"
    }
   ],
   "source": [
    "summary_df = summary_df.append({'Model' : 'Model 9', 'Description' : 'metascore and userscore only' , 'Root Mean Squared Error (RMSE)' : result['train_rmse'], 'R-squared (training)' : result['r2_train'], 'Adjusted R-squared (training)': result['adjusted_r2_train'], 'R-squared (test)' : result['r2_test'], 'Adjusted R-squared (test)' : result['adjusted_r2_test'], '5-fold Cross Validation' : result['cv']} , ignore_index=True)\n",
    "summary_df"
   ]
  },
  {
   "cell_type": "markdown",
   "metadata": {},
   "source": [
    "### Multiple Regression - 10 (basic features, basic aggregated categorical data, polynomial 1st degree)"
   ]
  },
  {
   "cell_type": "markdown",
   "metadata": {},
   "source": [
    "#### Set Target and Features"
   ]
  },
  {
   "cell_type": "code",
   "execution_count": 73,
   "metadata": {},
   "outputs": [],
   "source": [
    "target = df['Global_Sales']\n",
    "features = df[['metascore', 'userscore', 'years_ago']]\n",
    "categorical = df[['Genre','ESRB_Rating','Company']]\n",
    "categorical = pd.get_dummies(data=categorical, drop_first=True)\n",
    "features = pd.concat([features, categorical], axis=1)"
   ]
  },
  {
   "cell_type": "markdown",
   "metadata": {},
   "source": [
    "#### Run regression"
   ]
  },
  {
   "cell_type": "code",
   "execution_count": 74,
   "metadata": {
    "scrolled": false
   },
   "outputs": [],
   "source": [
    "result = run_regression(target, features, 1)"
   ]
  },
  {
   "cell_type": "markdown",
   "metadata": {},
   "source": [
    "#### Scatter and residual plots"
   ]
  },
  {
   "cell_type": "code",
   "execution_count": 75,
   "metadata": {},
   "outputs": [
    {
     "data": {
      "text/plain": [
       "Text(0, 0.5, 'Predictions')"
      ]
     },
     "execution_count": 75,
     "metadata": {},
     "output_type": "execute_result"
    },
    {
     "data": {
      "image/png": "[encoded data removed]",
      "text/plain": [
       "<Figure size 432x288 with 1 Axes>"
      ]
     },
     "metadata": {
      "needs_background": "light"
     },
     "output_type": "display_data"
    }
   ],
   "source": [
    "plt.scatter(result['y_test'], result['y_test_pred'], alpha=0.3)\n",
    "\n",
    "plt.xlabel(\"True Values\")\n",
    "plt.ylabel(\"Predictions\")"
   ]
  },
  {
   "cell_type": "code",
   "execution_count": 76,
   "metadata": {},
   "outputs": [
    {
     "data": {
      "text/plain": [
       "<matplotlib.axes._subplots.AxesSubplot at 0x1c1c679f50>"
      ]
     },
     "execution_count": 76,
     "metadata": {},
     "output_type": "execute_result"
    },
    {
     "data": {
      "image/png": "[encoded data removed]",
      "text/plain": [
       "<Figure size 432x288 with 1 Axes>"
      ]
     },
     "metadata": {
      "needs_background": "light"
     },
     "output_type": "display_data"
    }
   ],
   "source": [
    "sns.residplot(result['y_test_pred'], result['y_test'], lowess=True, color=\"g\")"
   ]
  },
  {
   "cell_type": "code",
   "execution_count": 77,
   "metadata": {},
   "outputs": [
    {
     "data": {
      "image/png": "[encoded data removed]",
      "text/plain": [
       "<Figure size 432x288 with 1 Axes>"
      ]
     },
     "metadata": {
      "needs_background": "light"
     },
     "output_type": "display_data"
    }
   ],
   "source": [
    "sns.kdeplot(result['y_test_pred'], label = \"Predictions\")\n",
    "sns.kdeplot(result['y_test'], label = \"Test\")\n",
    "sns.kdeplot(result['y_train'], label = \"Train\")\n",
    "\n",
    "plt.xlabel(\"Global Sales\"); plt.ylabel(\"Density\");\n",
    "plt.title(\"Test, Train Values and Predictions\");"
   ]
  },
  {
   "cell_type": "markdown",
   "metadata": {},
   "source": [
    "#### Updated summary table of all models"
   ]
  },
  {
   "cell_type": "code",
   "execution_count": 78,
   "metadata": {
    "scrolled": true
   },
   "outputs": [
    {
     "data": {
      "text/html": [
       "<div>\n",
       "<style scoped>\n",
       "    .dataframe tbody tr th:only-of-type {\n",
       "        vertical-align: middle;\n",
       "    }\n",
       "\n",
       "    .dataframe tbody tr th {\n",
       "        vertical-align: top;\n",
       "    }\n",
       "\n",
       "    .dataframe thead th {\n",
       "        text-align: right;\n",
       "    }\n",
       "</style>\n",
       "<table border=\"1\" class=\"dataframe\">\n",
       "  <thead>\n",
       "    <tr style=\"text-align: right;\">\n",
       "      <th></th>\n",
       "      <th>Model</th>\n",
       "      <th>Description</th>\n",
       "      <th>Root Mean Squared Error (RMSE)</th>\n",
       "      <th>R-squared (training)</th>\n",
       "      <th>Adjusted R-squared (training)</th>\n",
       "      <th>R-squared (test)</th>\n",
       "      <th>Adjusted R-squared (test)</th>\n",
       "      <th>5-fold Cross Validation</th>\n",
       "    </tr>\n",
       "  </thead>\n",
       "  <tbody>\n",
       "    <tr>\n",
       "      <td>0</td>\n",
       "      <td>Model 1</td>\n",
       "      <td>All features, dummy data</td>\n",
       "      <td>1.054068</td>\n",
       "      <td>0.250425</td>\n",
       "      <td>0.239300</td>\n",
       "      <td>2.175333e-01</td>\n",
       "      <td>1.689205e-01</td>\n",
       "      <td>-257.473</td>\n",
       "    </tr>\n",
       "    <tr>\n",
       "      <td>1</td>\n",
       "      <td>Model 2</td>\n",
       "      <td>All features, aggregated categorical data</td>\n",
       "      <td>1.103406</td>\n",
       "      <td>0.178612</td>\n",
       "      <td>0.176798</td>\n",
       "      <td>2.117670e-01</td>\n",
       "      <td>2.047577e-01</td>\n",
       "      <td>-257.850</td>\n",
       "    </tr>\n",
       "    <tr>\n",
       "      <td>2</td>\n",
       "      <td>Model 3</td>\n",
       "      <td>Features based on Lasso, aggregated categorica...</td>\n",
       "      <td>1.125223</td>\n",
       "      <td>0.145808</td>\n",
       "      <td>0.144266</td>\n",
       "      <td>1.718553e-01</td>\n",
       "      <td>1.658397e-01</td>\n",
       "      <td>-293.291</td>\n",
       "    </tr>\n",
       "    <tr>\n",
       "      <td>3</td>\n",
       "      <td>Model 4</td>\n",
       "      <td>All features, dummy data, polynomial 1st degree</td>\n",
       "      <td>1.054068</td>\n",
       "      <td>0.250425</td>\n",
       "      <td>0.239146</td>\n",
       "      <td>2.175333e-01</td>\n",
       "      <td>1.682126e-01</td>\n",
       "      <td>-257.473</td>\n",
       "    </tr>\n",
       "    <tr>\n",
       "      <td>4</td>\n",
       "      <td>Model 5</td>\n",
       "      <td>All features, dummy data, polynomial 2md degree</td>\n",
       "      <td>0.751828</td>\n",
       "      <td>0.618658</td>\n",
       "      <td>0.141335</td>\n",
       "      <td>-1.217161e+09</td>\n",
       "      <td>9.947719e+08</td>\n",
       "      <td>-257.473</td>\n",
       "    </tr>\n",
       "    <tr>\n",
       "      <td>5</td>\n",
       "      <td>Model 6</td>\n",
       "      <td>All features, aggregated categorical data, pol...</td>\n",
       "      <td>1.103406</td>\n",
       "      <td>0.178612</td>\n",
       "      <td>0.176632</td>\n",
       "      <td>2.117670e-01</td>\n",
       "      <td>2.041143e-01</td>\n",
       "      <td>-257.850</td>\n",
       "    </tr>\n",
       "    <tr>\n",
       "      <td>6</td>\n",
       "      <td>Model 7</td>\n",
       "      <td>All features, aggregated categorical data, pol...</td>\n",
       "      <td>0.968323</td>\n",
       "      <td>0.367416</td>\n",
       "      <td>0.357375</td>\n",
       "      <td>3.442978e-01</td>\n",
       "      <td>3.005843e-01</td>\n",
       "      <td>-257.850</td>\n",
       "    </tr>\n",
       "    <tr>\n",
       "      <td>7</td>\n",
       "      <td>Model 8</td>\n",
       "      <td>Basic features, basic aggregated categorical data</td>\n",
       "      <td>1.110616</td>\n",
       "      <td>0.167842</td>\n",
       "      <td>0.163822</td>\n",
       "      <td>1.966854e-01</td>\n",
       "      <td>1.809341e-01</td>\n",
       "      <td>-283.440</td>\n",
       "    </tr>\n",
       "    <tr>\n",
       "      <td>8</td>\n",
       "      <td>Model 9</td>\n",
       "      <td>metascore and userscore only</td>\n",
       "      <td>1.149901</td>\n",
       "      <td>0.107930</td>\n",
       "      <td>0.107573</td>\n",
       "      <td>1.482305e-01</td>\n",
       "      <td>1.468633e-01</td>\n",
       "      <td>-322.082</td>\n",
       "    </tr>\n",
       "    <tr>\n",
       "      <td>9</td>\n",
       "      <td>Model 10</td>\n",
       "      <td>Basic features, basic aggregated categorical d...</td>\n",
       "      <td>1.110616</td>\n",
       "      <td>0.167842</td>\n",
       "      <td>0.163654</td>\n",
       "      <td>1.966854e-01</td>\n",
       "      <td>1.802644e-01</td>\n",
       "      <td>-283.440</td>\n",
       "    </tr>\n",
       "  </tbody>\n",
       "</table>\n",
       "</div>"
      ],
      "text/plain": [
       "      Model                                        Description  \\\n",
       "0   Model 1                           All features, dummy data   \n",
       "1   Model 2          All features, aggregated categorical data   \n",
       "2   Model 3  Features based on Lasso, aggregated categorica...   \n",
       "3   Model 4    All features, dummy data, polynomial 1st degree   \n",
       "4   Model 5    All features, dummy data, polynomial 2md degree   \n",
       "5   Model 6  All features, aggregated categorical data, pol...   \n",
       "6   Model 7  All features, aggregated categorical data, pol...   \n",
       "7   Model 8  Basic features, basic aggregated categorical data   \n",
       "8   Model 9                       metascore and userscore only   \n",
       "9  Model 10  Basic features, basic aggregated categorical d...   \n",
       "\n",
       "   Root Mean Squared Error (RMSE)  R-squared (training)  \\\n",
       "0                        1.054068              0.250425   \n",
       "1                        1.103406              0.178612   \n",
       "2                        1.125223              0.145808   \n",
       "3                        1.054068              0.250425   \n",
       "4                        0.751828              0.618658   \n",
       "5                        1.103406              0.178612   \n",
       "6                        0.968323              0.367416   \n",
       "7                        1.110616              0.167842   \n",
       "8                        1.149901              0.107930   \n",
       "9                        1.110616              0.167842   \n",
       "\n",
       "   Adjusted R-squared (training)  R-squared (test)  Adjusted R-squared (test)  \\\n",
       "0                       0.239300      2.175333e-01               1.689205e-01   \n",
       "1                       0.176798      2.117670e-01               2.047577e-01   \n",
       "2                       0.144266      1.718553e-01               1.658397e-01   \n",
       "3                       0.239146      2.175333e-01               1.682126e-01   \n",
       "4                       0.141335     -1.217161e+09               9.947719e+08   \n",
       "5                       0.176632      2.117670e-01               2.041143e-01   \n",
       "6                       0.357375      3.442978e-01               3.005843e-01   \n",
       "7                       0.163822      1.966854e-01               1.809341e-01   \n",
       "8                       0.107573      1.482305e-01               1.468633e-01   \n",
       "9                       0.163654      1.966854e-01               1.802644e-01   \n",
       "\n",
       "   5-fold Cross Validation  \n",
       "0                 -257.473  \n",
       "1                 -257.850  \n",
       "2                 -293.291  \n",
       "3                 -257.473  \n",
       "4                 -257.473  \n",
       "5                 -257.850  \n",
       "6                 -257.850  \n",
       "7                 -283.440  \n",
       "8                 -322.082  \n",
       "9                 -283.440  "
      ]
     },
     "execution_count": 78,
     "metadata": {},
     "output_type": "execute_result"
    }
   ],
   "source": [
    "summary_df = summary_df.append({'Model' : 'Model 10', 'Description' : 'Basic features, basic aggregated categorical data, polynomial 1st degree' , 'Root Mean Squared Error (RMSE)' : result['train_rmse'], 'R-squared (training)' : result['r2_train'], 'Adjusted R-squared (training)': result['adjusted_r2_train'], 'R-squared (test)' : result['r2_test'], 'Adjusted R-squared (test)' : result['adjusted_r2_test'], '5-fold Cross Validation' : result['cv']} , ignore_index=True)\n",
    "summary_df"
   ]
  },
  {
   "cell_type": "markdown",
   "metadata": {},
   "source": [
    "### Multiple Regression - 10 (basic features, basic aggregated categorical data, polynomial 1st degree)"
   ]
  },
  {
   "cell_type": "markdown",
   "metadata": {},
   "source": [
    "#### Set Target and Features"
   ]
  },
  {
   "cell_type": "code",
   "execution_count": 79,
   "metadata": {},
   "outputs": [],
   "source": [
    "target = df['Global_Sales']\n",
    "features = df[['metascore', 'userscore', 'years_ago']]\n",
    "categorical = df[['Genre','ESRB_Rating','Company']]\n",
    "categorical = pd.get_dummies(data=categorical, drop_first=True)\n",
    "features = pd.concat([features, categorical], axis=1)"
   ]
  },
  {
   "cell_type": "markdown",
   "metadata": {},
   "source": [
    "#### Run regression"
   ]
  },
  {
   "cell_type": "code",
   "execution_count": 80,
   "metadata": {
    "scrolled": false
   },
   "outputs": [],
   "source": [
    "result = run_regression(target, features, 2)"
   ]
  },
  {
   "cell_type": "markdown",
   "metadata": {},
   "source": [
    "#### Scatter and residual plots"
   ]
  },
  {
   "cell_type": "code",
   "execution_count": 81,
   "metadata": {},
   "outputs": [
    {
     "data": {
      "text/plain": [
       "Text(0, 0.5, 'Predictions')"
      ]
     },
     "execution_count": 81,
     "metadata": {},
     "output_type": "execute_result"
    },
    {
     "data": {
      "image/png": "[encoded data removed]",
      "text/plain": [
       "<Figure size 432x288 with 1 Axes>"
      ]
     },
     "metadata": {
      "needs_background": "light"
     },
     "output_type": "display_data"
    }
   ],
   "source": [
    "plt.scatter(result['y_test'], result['y_test_pred'], alpha=0.3)\n",
    "\n",
    "plt.xlabel(\"True Values\")\n",
    "plt.ylabel(\"Predictions\")"
   ]
  },
  {
   "cell_type": "code",
   "execution_count": 82,
   "metadata": {},
   "outputs": [
    {
     "data": {
      "text/plain": [
       "<matplotlib.axes._subplots.AxesSubplot at 0x1c1a303910>"
      ]
     },
     "execution_count": 82,
     "metadata": {},
     "output_type": "execute_result"
    },
    {
     "data": {
      "image/png": "[encoded data removed]",
      "text/plain": [
       "<Figure size 432x288 with 1 Axes>"
      ]
     },
     "metadata": {
      "needs_background": "light"
     },
     "output_type": "display_data"
    }
   ],
   "source": [
    "sns.residplot(result['y_test_pred'], result['y_test'], lowess=True, color=\"g\")"
   ]
  },
  {
   "cell_type": "code",
   "execution_count": 83,
   "metadata": {},
   "outputs": [
    {
     "data": {
      "image/png": "[encoded data removed]",
      "text/plain": [
       "<Figure size 432x288 with 1 Axes>"
      ]
     },
     "metadata": {
      "needs_background": "light"
     },
     "output_type": "display_data"
    }
   ],
   "source": [
    "sns.kdeplot(result['y_test_pred'], label = \"Predictions\")\n",
    "sns.kdeplot(result['y_test'], label = \"Test\")\n",
    "sns.kdeplot(result['y_train'], label = \"Train\")\n",
    "\n",
    "plt.xlabel(\"Global Sales\"); plt.ylabel(\"Density\");\n",
    "plt.title(\"Test, Train Values and Predictions\");"
   ]
  },
  {
   "cell_type": "markdown",
   "metadata": {},
   "source": [
    "#### Updated summary table of all models"
   ]
  },
  {
   "cell_type": "code",
   "execution_count": 84,
   "metadata": {
    "scrolled": true
   },
   "outputs": [
    {
     "data": {
      "text/html": [
       "<div>\n",
       "<style scoped>\n",
       "    .dataframe tbody tr th:only-of-type {\n",
       "        vertical-align: middle;\n",
       "    }\n",
       "\n",
       "    .dataframe tbody tr th {\n",
       "        vertical-align: top;\n",
       "    }\n",
       "\n",
       "    .dataframe thead th {\n",
       "        text-align: right;\n",
       "    }\n",
       "</style>\n",
       "<table border=\"1\" class=\"dataframe\">\n",
       "  <thead>\n",
       "    <tr style=\"text-align: right;\">\n",
       "      <th></th>\n",
       "      <th>Model</th>\n",
       "      <th>Description</th>\n",
       "      <th>Root Mean Squared Error (RMSE)</th>\n",
       "      <th>R-squared (training)</th>\n",
       "      <th>Adjusted R-squared (training)</th>\n",
       "      <th>R-squared (test)</th>\n",
       "      <th>Adjusted R-squared (test)</th>\n",
       "      <th>5-fold Cross Validation</th>\n",
       "    </tr>\n",
       "  </thead>\n",
       "  <tbody>\n",
       "    <tr>\n",
       "      <td>0</td>\n",
       "      <td>Model 1</td>\n",
       "      <td>All features, dummy data</td>\n",
       "      <td>1.054068</td>\n",
       "      <td>0.250425</td>\n",
       "      <td>0.239300</td>\n",
       "      <td>2.175333e-01</td>\n",
       "      <td>1.689205e-01</td>\n",
       "      <td>-257.473</td>\n",
       "    </tr>\n",
       "    <tr>\n",
       "      <td>1</td>\n",
       "      <td>Model 2</td>\n",
       "      <td>All features, aggregated categorical data</td>\n",
       "      <td>1.103406</td>\n",
       "      <td>0.178612</td>\n",
       "      <td>0.176798</td>\n",
       "      <td>2.117670e-01</td>\n",
       "      <td>2.047577e-01</td>\n",
       "      <td>-257.850</td>\n",
       "    </tr>\n",
       "    <tr>\n",
       "      <td>2</td>\n",
       "      <td>Model 3</td>\n",
       "      <td>Features based on Lasso, aggregated categorica...</td>\n",
       "      <td>1.125223</td>\n",
       "      <td>0.145808</td>\n",
       "      <td>0.144266</td>\n",
       "      <td>1.718553e-01</td>\n",
       "      <td>1.658397e-01</td>\n",
       "      <td>-293.291</td>\n",
       "    </tr>\n",
       "    <tr>\n",
       "      <td>3</td>\n",
       "      <td>Model 4</td>\n",
       "      <td>All features, dummy data, polynomial 1st degree</td>\n",
       "      <td>1.054068</td>\n",
       "      <td>0.250425</td>\n",
       "      <td>0.239146</td>\n",
       "      <td>2.175333e-01</td>\n",
       "      <td>1.682126e-01</td>\n",
       "      <td>-257.473</td>\n",
       "    </tr>\n",
       "    <tr>\n",
       "      <td>4</td>\n",
       "      <td>Model 5</td>\n",
       "      <td>All features, dummy data, polynomial 2md degree</td>\n",
       "      <td>0.751828</td>\n",
       "      <td>0.618658</td>\n",
       "      <td>0.141335</td>\n",
       "      <td>-1.217161e+09</td>\n",
       "      <td>9.947719e+08</td>\n",
       "      <td>-257.473</td>\n",
       "    </tr>\n",
       "    <tr>\n",
       "      <td>5</td>\n",
       "      <td>Model 6</td>\n",
       "      <td>All features, aggregated categorical data, pol...</td>\n",
       "      <td>1.103406</td>\n",
       "      <td>0.178612</td>\n",
       "      <td>0.176632</td>\n",
       "      <td>2.117670e-01</td>\n",
       "      <td>2.041143e-01</td>\n",
       "      <td>-257.850</td>\n",
       "    </tr>\n",
       "    <tr>\n",
       "      <td>6</td>\n",
       "      <td>Model 7</td>\n",
       "      <td>All features, aggregated categorical data, pol...</td>\n",
       "      <td>0.968323</td>\n",
       "      <td>0.367416</td>\n",
       "      <td>0.357375</td>\n",
       "      <td>3.442978e-01</td>\n",
       "      <td>3.005843e-01</td>\n",
       "      <td>-257.850</td>\n",
       "    </tr>\n",
       "    <tr>\n",
       "      <td>7</td>\n",
       "      <td>Model 8</td>\n",
       "      <td>Basic features, basic aggregated categorical data</td>\n",
       "      <td>1.110616</td>\n",
       "      <td>0.167842</td>\n",
       "      <td>0.163822</td>\n",
       "      <td>1.966854e-01</td>\n",
       "      <td>1.809341e-01</td>\n",
       "      <td>-283.440</td>\n",
       "    </tr>\n",
       "    <tr>\n",
       "      <td>8</td>\n",
       "      <td>Model 9</td>\n",
       "      <td>metascore and userscore only</td>\n",
       "      <td>1.149901</td>\n",
       "      <td>0.107930</td>\n",
       "      <td>0.107573</td>\n",
       "      <td>1.482305e-01</td>\n",
       "      <td>1.468633e-01</td>\n",
       "      <td>-322.082</td>\n",
       "    </tr>\n",
       "    <tr>\n",
       "      <td>9</td>\n",
       "      <td>Model 10</td>\n",
       "      <td>Basic features, basic aggregated categorical d...</td>\n",
       "      <td>1.110616</td>\n",
       "      <td>0.167842</td>\n",
       "      <td>0.163654</td>\n",
       "      <td>1.966854e-01</td>\n",
       "      <td>1.802644e-01</td>\n",
       "      <td>-283.440</td>\n",
       "    </tr>\n",
       "    <tr>\n",
       "      <td>10</td>\n",
       "      <td>Model 11</td>\n",
       "      <td>Basic features, basic aggregated categorical d...</td>\n",
       "      <td>0.961733</td>\n",
       "      <td>0.375997</td>\n",
       "      <td>0.332543</td>\n",
       "      <td>3.631012e-01</td>\n",
       "      <td>1.388411e-01</td>\n",
       "      <td>-283.440</td>\n",
       "    </tr>\n",
       "  </tbody>\n",
       "</table>\n",
       "</div>"
      ],
      "text/plain": [
       "       Model                                        Description  \\\n",
       "0    Model 1                           All features, dummy data   \n",
       "1    Model 2          All features, aggregated categorical data   \n",
       "2    Model 3  Features based on Lasso, aggregated categorica...   \n",
       "3    Model 4    All features, dummy data, polynomial 1st degree   \n",
       "4    Model 5    All features, dummy data, polynomial 2md degree   \n",
       "5    Model 6  All features, aggregated categorical data, pol...   \n",
       "6    Model 7  All features, aggregated categorical data, pol...   \n",
       "7    Model 8  Basic features, basic aggregated categorical data   \n",
       "8    Model 9                       metascore and userscore only   \n",
       "9   Model 10  Basic features, basic aggregated categorical d...   \n",
       "10  Model 11  Basic features, basic aggregated categorical d...   \n",
       "\n",
       "    Root Mean Squared Error (RMSE)  R-squared (training)  \\\n",
       "0                         1.054068              0.250425   \n",
       "1                         1.103406              0.178612   \n",
       "2                         1.125223              0.145808   \n",
       "3                         1.054068              0.250425   \n",
       "4                         0.751828              0.618658   \n",
       "5                         1.103406              0.178612   \n",
       "6                         0.968323              0.367416   \n",
       "7                         1.110616              0.167842   \n",
       "8                         1.149901              0.107930   \n",
       "9                         1.110616              0.167842   \n",
       "10                        0.961733              0.375997   \n",
       "\n",
       "    Adjusted R-squared (training)  R-squared (test)  \\\n",
       "0                        0.239300      2.175333e-01   \n",
       "1                        0.176798      2.117670e-01   \n",
       "2                        0.144266      1.718553e-01   \n",
       "3                        0.239146      2.175333e-01   \n",
       "4                        0.141335     -1.217161e+09   \n",
       "5                        0.176632      2.117670e-01   \n",
       "6                        0.357375      3.442978e-01   \n",
       "7                        0.163822      1.966854e-01   \n",
       "8                        0.107573      1.482305e-01   \n",
       "9                        0.163654      1.966854e-01   \n",
       "10                       0.332543      3.631012e-01   \n",
       "\n",
       "    Adjusted R-squared (test)  5-fold Cross Validation  \n",
       "0                1.689205e-01                 -257.473  \n",
       "1                2.047577e-01                 -257.850  \n",
       "2                1.658397e-01                 -293.291  \n",
       "3                1.682126e-01                 -257.473  \n",
       "4                9.947719e+08                 -257.473  \n",
       "5                2.041143e-01                 -257.850  \n",
       "6                3.005843e-01                 -257.850  \n",
       "7                1.809341e-01                 -283.440  \n",
       "8                1.468633e-01                 -322.082  \n",
       "9                1.802644e-01                 -283.440  \n",
       "10               1.388411e-01                 -283.440  "
      ]
     },
     "execution_count": 84,
     "metadata": {},
     "output_type": "execute_result"
    }
   ],
   "source": [
    "summary_df = summary_df.append({'Model' : 'Model 11', 'Description' : 'Basic features, basic aggregated categorical data, polynomial 2nd degree' , 'Root Mean Squared Error (RMSE)' : result['train_rmse'], 'R-squared (training)' : result['r2_train'], 'Adjusted R-squared (training)': result['adjusted_r2_train'], 'R-squared (test)' : result['r2_test'], 'Adjusted R-squared (test)' : result['adjusted_r2_test'], '5-fold Cross Validation' : result['cv']} , ignore_index=True)\n",
    "summary_df"
   ]
  }
 ],
 "metadata": {
  "kernelspec": {
   "display_name": "Python 3",
   "language": "python",
   "name": "python3"
  },
  "language_info": {
   "codemirror_mode": {
    "name": "ipython",
    "version": 3
   },
   "file_extension": ".py",
   "mimetype": "text/x-python",
   "name": "python",
   "nbconvert_exporter": "python",
   "pygments_lexer": "ipython3",
   "version": "3.7.4"
  }
 },
 "nbformat": 4,
 "nbformat_minor": 2
}
